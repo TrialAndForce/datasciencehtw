{
 "cells": [
  {
   "cell_type": "markdown",
   "metadata": {},
   "source": [
    "<font size = \"7\"><bold> Python Notebook: Analysis of iOS-Apps:  </bold></font>\n",
    "<font size = \"6\"><bold> Authors: Max Wagner, Andrej Kazakov  </bold></font>\n",
    "\n",
    "<font size = \"6\"><bold> Dataset source:   </bold></font>\n",
    "<font size = \"4.5\"><bold> https://www.kaggle.com/ramamet4/app-store-apple-data-set-10k-apps/kernels  </bold></font>"
   ]
  },
  {
   "cell_type": "markdown",
   "metadata": {},
   "source": [
    "<font size = \"10\"><bold> 1) Import Libraries </bold></font>"
   ]
  },
  {
   "cell_type": "code",
   "execution_count": 471,
   "metadata": {},
   "outputs": [],
   "source": [
    "import pandas as pd\n",
    "import matplotlib.pyplot as plt\n",
    "import seaborn as sns\n",
    "import numpy as np\n",
    "import statistics as sts\n",
    "import statsmodels.formula.api as sm\n",
    "from scipy import stats\n",
    "%matplotlib inline"
   ]
  },
  {
   "cell_type": "markdown",
   "metadata": {},
   "source": [
    "<font size = \"10\"><bold> 2) Read Data </bold></font>"
   ]
  },
  {
   "cell_type": "code",
   "execution_count": 472,
   "metadata": {},
   "outputs": [],
   "source": [
    "dataset = pd.read_csv(r'C:\\Users\\andre\\Desktop\\HTW\\Semester 3\\DataScience\\Uebung\\Project\\iOS\\AppleStore.csv')"
   ]
  },
  {
   "cell_type": "markdown",
   "metadata": {},
   "source": [
    "<font size = \"10\"><bold> 3) Show first entries </bold></font>"
   ]
  },
  {
   "cell_type": "code",
   "execution_count": 473,
   "metadata": {},
   "outputs": [
    {
     "data": {
      "text/html": [
       "<div>\n",
       "<style scoped>\n",
       "    .dataframe tbody tr th:only-of-type {\n",
       "        vertical-align: middle;\n",
       "    }\n",
       "\n",
       "    .dataframe tbody tr th {\n",
       "        vertical-align: top;\n",
       "    }\n",
       "\n",
       "    .dataframe thead th {\n",
       "        text-align: right;\n",
       "    }\n",
       "</style>\n",
       "<table border=\"1\" class=\"dataframe\">\n",
       "  <thead>\n",
       "    <tr style=\"text-align: right;\">\n",
       "      <th></th>\n",
       "      <th>Unnamed: 0</th>\n",
       "      <th>id</th>\n",
       "      <th>track_name</th>\n",
       "      <th>size_bytes</th>\n",
       "      <th>currency</th>\n",
       "      <th>price</th>\n",
       "      <th>rating_count_tot</th>\n",
       "      <th>rating_count_ver</th>\n",
       "      <th>user_rating</th>\n",
       "      <th>user_rating_ver</th>\n",
       "      <th>ver</th>\n",
       "      <th>cont_rating</th>\n",
       "      <th>prime_genre</th>\n",
       "      <th>sup_devices.num</th>\n",
       "      <th>ipadSc_urls.num</th>\n",
       "      <th>lang.num</th>\n",
       "      <th>vpp_lic</th>\n",
       "    </tr>\n",
       "  </thead>\n",
       "  <tbody>\n",
       "    <tr>\n",
       "      <th>0</th>\n",
       "      <td>1</td>\n",
       "      <td>281656475</td>\n",
       "      <td>PAC-MAN Premium</td>\n",
       "      <td>100788224</td>\n",
       "      <td>USD</td>\n",
       "      <td>3.99</td>\n",
       "      <td>21292</td>\n",
       "      <td>26</td>\n",
       "      <td>4.0</td>\n",
       "      <td>4.5</td>\n",
       "      <td>6.3.5</td>\n",
       "      <td>4+</td>\n",
       "      <td>Games</td>\n",
       "      <td>38</td>\n",
       "      <td>5</td>\n",
       "      <td>10</td>\n",
       "      <td>1</td>\n",
       "    </tr>\n",
       "    <tr>\n",
       "      <th>1</th>\n",
       "      <td>2</td>\n",
       "      <td>281796108</td>\n",
       "      <td>Evernote - stay organized</td>\n",
       "      <td>158578688</td>\n",
       "      <td>USD</td>\n",
       "      <td>0.00</td>\n",
       "      <td>161065</td>\n",
       "      <td>26</td>\n",
       "      <td>4.0</td>\n",
       "      <td>3.5</td>\n",
       "      <td>8.2.2</td>\n",
       "      <td>4+</td>\n",
       "      <td>Productivity</td>\n",
       "      <td>37</td>\n",
       "      <td>5</td>\n",
       "      <td>23</td>\n",
       "      <td>1</td>\n",
       "    </tr>\n",
       "    <tr>\n",
       "      <th>2</th>\n",
       "      <td>3</td>\n",
       "      <td>281940292</td>\n",
       "      <td>WeatherBug - Local Weather, Radar, Maps, Alerts</td>\n",
       "      <td>100524032</td>\n",
       "      <td>USD</td>\n",
       "      <td>0.00</td>\n",
       "      <td>188583</td>\n",
       "      <td>2822</td>\n",
       "      <td>3.5</td>\n",
       "      <td>4.5</td>\n",
       "      <td>5.0.0</td>\n",
       "      <td>4+</td>\n",
       "      <td>Weather</td>\n",
       "      <td>37</td>\n",
       "      <td>5</td>\n",
       "      <td>3</td>\n",
       "      <td>1</td>\n",
       "    </tr>\n",
       "    <tr>\n",
       "      <th>3</th>\n",
       "      <td>4</td>\n",
       "      <td>282614216</td>\n",
       "      <td>eBay: Best App to Buy, Sell, Save! Online Shop...</td>\n",
       "      <td>128512000</td>\n",
       "      <td>USD</td>\n",
       "      <td>0.00</td>\n",
       "      <td>262241</td>\n",
       "      <td>649</td>\n",
       "      <td>4.0</td>\n",
       "      <td>4.5</td>\n",
       "      <td>5.10.0</td>\n",
       "      <td>12+</td>\n",
       "      <td>Shopping</td>\n",
       "      <td>37</td>\n",
       "      <td>5</td>\n",
       "      <td>9</td>\n",
       "      <td>1</td>\n",
       "    </tr>\n",
       "    <tr>\n",
       "      <th>4</th>\n",
       "      <td>5</td>\n",
       "      <td>282935706</td>\n",
       "      <td>Bible</td>\n",
       "      <td>92774400</td>\n",
       "      <td>USD</td>\n",
       "      <td>0.00</td>\n",
       "      <td>985920</td>\n",
       "      <td>5320</td>\n",
       "      <td>4.5</td>\n",
       "      <td>5.0</td>\n",
       "      <td>7.5.1</td>\n",
       "      <td>4+</td>\n",
       "      <td>Reference</td>\n",
       "      <td>37</td>\n",
       "      <td>5</td>\n",
       "      <td>45</td>\n",
       "      <td>1</td>\n",
       "    </tr>\n",
       "  </tbody>\n",
       "</table>\n",
       "</div>"
      ],
      "text/plain": [
       "   Unnamed: 0         id                                         track_name  \\\n",
       "0           1  281656475                                    PAC-MAN Premium   \n",
       "1           2  281796108                          Evernote - stay organized   \n",
       "2           3  281940292    WeatherBug - Local Weather, Radar, Maps, Alerts   \n",
       "3           4  282614216  eBay: Best App to Buy, Sell, Save! Online Shop...   \n",
       "4           5  282935706                                              Bible   \n",
       "\n",
       "   size_bytes currency  price  rating_count_tot  rating_count_ver  \\\n",
       "0   100788224      USD   3.99             21292                26   \n",
       "1   158578688      USD   0.00            161065                26   \n",
       "2   100524032      USD   0.00            188583              2822   \n",
       "3   128512000      USD   0.00            262241               649   \n",
       "4    92774400      USD   0.00            985920              5320   \n",
       "\n",
       "   user_rating  user_rating_ver     ver cont_rating   prime_genre  \\\n",
       "0          4.0              4.5   6.3.5          4+         Games   \n",
       "1          4.0              3.5   8.2.2          4+  Productivity   \n",
       "2          3.5              4.5   5.0.0          4+       Weather   \n",
       "3          4.0              4.5  5.10.0         12+      Shopping   \n",
       "4          4.5              5.0   7.5.1          4+     Reference   \n",
       "\n",
       "   sup_devices.num  ipadSc_urls.num  lang.num  vpp_lic  \n",
       "0               38                5        10        1  \n",
       "1               37                5        23        1  \n",
       "2               37                5         3        1  \n",
       "3               37                5         9        1  \n",
       "4               37                5        45        1  "
      ]
     },
     "execution_count": 473,
     "metadata": {},
     "output_type": "execute_result"
    }
   ],
   "source": [
    "dataset.head()"
   ]
  },
  {
   "cell_type": "markdown",
   "metadata": {},
   "source": [
    "<font size = \"20\"><bold> 4) Data Cleaning </bold></font>"
   ]
  },
  {
   "cell_type": "markdown",
   "metadata": {},
   "source": [
    "<font size = \"4\"><bold> 4.1) Drop Unnamed, id, ipad.., vpp_lic </bold></font>"
   ]
  },
  {
   "cell_type": "code",
   "execution_count": 474,
   "metadata": {},
   "outputs": [],
   "source": [
    "dataset.drop(dataset.columns[0], axis=1, inplace=True)\n",
    "#dataset.drop(columns=[\"id\",\"rating_count_ver\", \"user_rating_ver\", \"cont_rating\", \"sup_devices.num\", \"ipadSc_urls.num\", \"lang.num\", \"vpp_lic\"], inplace=True)\n",
    "dataset.drop(columns=[\"id\", \"ipadSc_urls.num\", \"vpp_lic\"], inplace = True)"
   ]
  },
  {
   "cell_type": "markdown",
   "metadata": {},
   "source": [
    "<font size = \"4\"><bold> 4.2) Check if there are any other currencies than USD </bold></font>"
   ]
  },
  {
   "cell_type": "code",
   "execution_count": 475,
   "metadata": {},
   "outputs": [],
   "source": [
    "for row in dataset[\"currency\"]:\n",
    "    if (row != \"USD\"):\n",
    "        print(row)"
   ]
  },
  {
   "cell_type": "markdown",
   "metadata": {},
   "source": [
    "<font size = \"4\"><bold> 4.2.1) No other currencies than USD, thus deleting the currency column as well </bold></font>"
   ]
  },
  {
   "cell_type": "code",
   "execution_count": 476,
   "metadata": {},
   "outputs": [],
   "source": [
    "dataset.drop(columns=[\"currency\"], inplace = True)"
   ]
  },
  {
   "cell_type": "markdown",
   "metadata": {},
   "source": [
    "<font size = \"4\"><bold> 4.3) Change size to megabytes by dividing each entry by 1000000 </bold></font>"
   ]
  },
  {
   "cell_type": "code",
   "execution_count": 477,
   "metadata": {},
   "outputs": [],
   "source": [
    "dataset[\"size_bytes\"] = np.where(dataset[\"size_bytes\"]>0, dataset[\"size_bytes\"]/1000000, dataset[\"size_bytes\"])"
   ]
  },
  {
   "cell_type": "markdown",
   "metadata": {},
   "source": [
    "<font size = \"4\"><bold> 4.4) add column notfreeApps</bold></font>"
   ]
  },
  {
   "cell_type": "code",
   "execution_count": 478,
   "metadata": {},
   "outputs": [],
   "source": [
    "dataset[\"not_free\"] = dataset[\"price\"].apply(lambda x: 1 if x > 0 else 0)"
   ]
  },
  {
   "cell_type": "markdown",
   "metadata": {},
   "source": [
    "<font size = \"4\"><bold> 4.4.1) add column freeApps \n",
    "source: https://www.kaggle.com/youhanlee/would-it-be-possible-to-predict-success-of-app</bold></font>"
   ]
  },
  {
   "cell_type": "code",
   "execution_count": 479,
   "metadata": {},
   "outputs": [
    {
     "data": {
      "image/png": "[encoded data removed]",
      "text/plain": [
       "<Figure size 432x288 with 1 Axes>"
      ]
     },
     "metadata": {
      "needs_background": "light"
     },
     "output_type": "display_data"
    }
   ],
   "source": [
    "dataset.not_free.value_counts().plot.bar()\n",
    "plt.xlabel(\"Free = 0, Paid = 1\")\n",
    "plt.ylabel(\"Amount\")\n",
    "plt.show()"
   ]
  },
  {
   "cell_type": "markdown",
   "metadata": {},
   "source": [
    "<font size = \"4\"><bold> 4.5) Change ver from String to numerical value </bold></font>"
   ]
  },
  {
   "cell_type": "code",
   "execution_count": 480,
   "metadata": {},
   "outputs": [],
   "source": [
    "# Transforms version numbers into String with only one <.>\n",
    "# ver = String\n",
    "def transform (ver):\n",
    "    p_counter = 0\n",
    "    for char in ver:\n",
    "        if char == \".\":\n",
    "            p_counter = p_counter+1\n",
    "    if p_counter == 1:\n",
    "        return ver\n",
    "    if p_counter == 2:\n",
    "        var_splitted = ver.split(\".\")\n",
    "        var_res = var_splitted[0]+\".\"+var_splitted[1]+var_splitted[2]\n",
    "        return var_res\n",
    "    elif p_counter == 3:\n",
    "        var_splitted = ver.split(\".\")\n",
    "        var_res = var_splitted[0]+\".\"+var_splitted[1]+var_splitted[2] + var_splitted[3]\n",
    "        return var_res\n",
    "    elif p_counter == 4:\n",
    "        var_splitted = ver.split(\".\")\n",
    "        var_res = var_splitted[0]+\".\"+var_splitted[1]+var_splitted[2] + var_splitted[3] + var_splitted[4]\n",
    "    \n",
    "\n",
    "tmp_ver_list = []\n",
    "for row in dataset[\"ver\"]:\n",
    "    try:\n",
    "        row_float = float(transform(row))\n",
    "        tmp_ver_list.append(row_float)\n",
    "    except ValueError:\n",
    "        row_float = float(\"nan\")\n",
    "        tmp_ver_list.append(row_float)\n",
    "    except TypeError:\n",
    "        row_float = float(\"nan\")\n",
    "        tmp_ver_list.append(row_float)\n",
    "dataset[\"ver\"] = tmp_ver_list"
   ]
  },
  {
   "cell_type": "markdown",
   "metadata": {},
   "source": [
    "<font size = \"4\"><bold> 4.6) Change cont rating to numerical value </bold></font>"
   ]
  },
  {
   "cell_type": "code",
   "execution_count": 481,
   "metadata": {},
   "outputs": [],
   "source": [
    "cont_rating_fixed = []\n",
    "for x in dataset.cont_rating:\n",
    "    tmp = int(x.split(\"+\")[0]) \n",
    "    cont_rating_fixed.append(tmp)\n",
    "\n",
    "dataset[\"cont_rating\"] = cont_rating_fixed"
   ]
  },
  {
   "cell_type": "markdown",
   "metadata": {},
   "source": [
    "<font size = \"4\"><bold> 4.7) Change col names to match it against the android col names </bold></font>"
   ]
  },
  {
   "cell_type": "code",
   "execution_count": 482,
   "metadata": {},
   "outputs": [],
   "source": [
    "dataset.rename(columns={\"track_name\": \"name_length\", \"size_bytes\": \"size\", \"rating_count_tot\": \"reviews\", \"user_rating\": \"rating\", \"ver\":\"version\", \"prime_genre\":\"category\", \"rating_count_ver\":\"current_reviews\", \"user_rating_ver\":\"current_rating\", \"sup_devices.num\":\"sup_devs\", \"lang.num\":\"languages\"}, inplace=True)"
   ]
  },
  {
   "cell_type": "markdown",
   "metadata": {},
   "source": [
    "<font size = \"4\"><bold> 4.8) Transforming 0 ratings to NaN  </bold></font>"
   ]
  },
  {
   "cell_type": "code",
   "execution_count": 483,
   "metadata": {},
   "outputs": [],
   "source": [
    "dataset[\"rating\"] = np.where(dataset[\"rating\"]==0, float(\"nan\"), dataset[\"rating\"])\n",
    "dataset[\"current_rating\"] = np.where(dataset[\"current_rating\"]==0, float(\"nan\"), dataset[\"current_rating\"])\n"
   ]
  },
  {
   "cell_type": "markdown",
   "metadata": {},
   "source": [
    "<font size = \"4\"><bold> 4.9) Change App Names to App Name Length  </bold></font>"
   ]
  },
  {
   "cell_type": "code",
   "execution_count": 484,
   "metadata": {},
   "outputs": [],
   "source": [
    "tmp_name_list = []\n",
    "for row in dataset.name_length:\n",
    "    tmp_name_list.append(len(row))\n",
    "dataset[\"name_length\"] = tmp_name_list"
   ]
  },
  {
   "cell_type": "markdown",
   "metadata": {},
   "source": [
    "<font size = \"4\"><bold> 4.10) Transform all version numbers >2500 to NaN due to faulty entries  </bold></font>"
   ]
  },
  {
   "cell_type": "code",
   "execution_count": 485,
   "metadata": {},
   "outputs": [],
   "source": [
    "dataset[\"version\"] = np.where(dataset[\"version\"]>2500, float(\"nan\"), dataset[\"version\"])"
   ]
  },
  {
   "cell_type": "markdown",
   "metadata": {},
   "source": [
    "<font size = \"10\"><bold> 5) Visualization / Descriptive Statistics </bold></font>"
   ]
  },
  {
   "cell_type": "markdown",
   "metadata": {},
   "source": [
    "<font size = \"4\"><bold> 5.1) app name length: Mean, Median   </bold></font>"
   ]
  },
  {
   "cell_type": "code",
   "execution_count": 486,
   "metadata": {},
   "outputs": [
    {
     "name": "stdout",
     "output_type": "stream",
     "text": [
      "21.0\n",
      "count    7197.000000\n",
      "mean       25.582465\n",
      "std        17.113720\n",
      "min         2.000000\n",
      "25%        13.000000\n",
      "50%        21.000000\n",
      "75%        35.000000\n",
      "max       232.000000\n",
      "Name: name_length, dtype: float64\n"
     ]
    },
    {
     "data": {
      "image/png": "[encoded data removed]",
      "text/plain": [
       "<Figure size 432x288 with 1 Axes>"
      ]
     },
     "metadata": {
      "needs_background": "light"
     },
     "output_type": "display_data"
    }
   ],
   "source": [
    "app_name_length_mean = dataset.name_length.mean()\n",
    "app_name_length_median = dataset.name_length.median()\n",
    "print(app_name_length_median)\n",
    "\n",
    "print(dataset.name_length.describe())\n",
    "plt.boxplot(dataset.name_length, 0, \"\");"
   ]
  },
  {
   "cell_type": "markdown",
   "metadata": {},
   "source": [
    "<font size = \"4\"><bold> 5.2.1) Category: bar chart frequency of apps per category  </bold></font>"
   ]
  },
  {
   "cell_type": "code",
   "execution_count": 487,
   "metadata": {},
   "outputs": [
    {
     "data": {
      "image/png": "[encoded data removed]",
      "text/plain": [
       "<Figure size 1440x720 with 1 Axes>"
      ]
     },
     "metadata": {
      "needs_background": "light"
     },
     "output_type": "display_data"
    },
    {
     "data": {
      "text/plain": [
       "Games                3862\n",
       "Entertainment         535\n",
       "Education             453\n",
       "Photo & Video         349\n",
       "Utilities             248\n",
       "Health & Fitness      180\n",
       "Productivity          178\n",
       "Social Networking     167\n",
       "Lifestyle             144\n",
       "Music                 138\n",
       "Shopping              122\n",
       "Sports                114\n",
       "Book                  112\n",
       "Finance               104\n",
       "Travel                 81\n",
       "News                   75\n",
       "Weather                72\n",
       "Reference              64\n",
       "Food & Drink           63\n",
       "Business               57\n",
       "Navigation             46\n",
       "Medical                23\n",
       "Catalogs               10\n",
       "Name: category, dtype: int64"
      ]
     },
     "execution_count": 487,
     "metadata": {},
     "output_type": "execute_result"
    }
   ],
   "source": [
    "dataset[\"category\"].value_counts().plot(kind=\"bar\", figsize=(20,10));\n",
    "plt.xlabel(\"Category\")\n",
    "plt.ylabel(\"Amount\")\n",
    "plt.show()\n",
    "dataset.category.value_counts()"
   ]
  },
  {
   "cell_type": "markdown",
   "metadata": {},
   "source": [
    "<font size = \"4\"><bold> 5.2.2) Stacked Barplot for paid vs free apps, top five categories only</bold></font>"
   ]
  },
  {
   "cell_type": "code",
   "execution_count": 488,
   "metadata": {},
   "outputs": [
    {
     "data": {
      "image/png": "[encoded data removed]",
      "text/plain": [
       "<Figure size 1440x720 with 1 Axes>"
      ]
     },
     "metadata": {
      "needs_background": "light"
     },
     "output_type": "display_data"
    }
   ],
   "source": [
    "tmp_df = dataset.groupby([\"category\", \"not_free\"]).count()\n",
    "\n",
    "tmp_df.drop([\"size\",\"price\",\"reviews\",\"current_reviews\",\"rating\",\"current_rating\",\"version\",\"cont_rating\",\"sup_devs\",\"languages\"], axis=1, inplace=True)\n",
    "\n",
    "N = 5\n",
    "appFree = (2257, 334, 132, 167, 109)\n",
    "appPaid = (1605, 201, 321, 182, 139)\n",
    "\n",
    "ind = np.arange(N)    # the x locations for the groups\n",
    "width = 0.35       # the width of the bars: can also be len(x) sequence\n",
    "\n",
    "fig, ax = plt.subplots(figsize=(20, 10))\n",
    "p1 = plt.bar(ind, appFree, width)\n",
    "p2 = plt.bar(ind, appPaid, width,\n",
    "             bottom=appFree)\n",
    "plt.ylabel('Amount')\n",
    "plt.xlabel('Category')\n",
    "plt.title('Amount of free/paid Apps for top 5 categories for iOS')\n",
    "plt.xticks(ind, ('Games', 'Entertainment', 'Education', 'Foto & Video', 'Utilities'))\n",
    "plt.legend((p1[0], p2[0]), ('Free', 'Paid'))\n",
    "\n",
    "\n",
    "plt.show()"
   ]
  },
  {
   "cell_type": "markdown",
   "metadata": {},
   "source": [
    "<font size = \"4\"><bold> 5.3.1) rating: modus, boxplot, multiple boxplots, describe   </bold></font>"
   ]
  },
  {
   "cell_type": "code",
   "execution_count": 489,
   "metadata": {},
   "outputs": [
    {
     "name": "stdout",
     "output_type": "stream",
     "text": [
      "4.5\n",
      "4.5\n",
      "4.5\n",
      "4.5\n",
      "4.5\n",
      "count    6268.000000\n",
      "mean        4.049697\n",
      "std         0.726943\n",
      "min         1.000000\n",
      "25%         4.000000\n",
      "50%         4.500000\n",
      "75%         4.500000\n",
      "max         5.000000\n",
      "Name: rating, dtype: float64\n"
     ]
    },
    {
     "data": {
      "image/png": "[encoded data removed]",
      "text/plain": [
       "<Figure size 432x288 with 1 Axes>"
      ]
     },
     "metadata": {
      "needs_background": "light"
     },
     "output_type": "display_data"
    }
   ],
   "source": [
    "rating_modus = sts.mode(dataset.rating)\n",
    "rating_modus_4 = sts.mode(dataset[dataset[\"cont_rating\"]==4].rating)\n",
    "rating_modus_9 = sts.mode(dataset[dataset[\"cont_rating\"]==9].rating)\n",
    "rating_modus_12 = sts.mode(dataset[dataset[\"cont_rating\"]==12].rating)\n",
    "rating_modus_17= sts.mode(dataset[dataset[\"cont_rating\"]==17].rating)\n",
    "print(rating_modus)\n",
    "print(rating_modus_4)\n",
    "print(rating_modus_9)\n",
    "print(rating_modus_12)\n",
    "print(rating_modus_17)\n",
    "\n",
    "tmp_rating = dataset.rating[~np.isnan(dataset.rating)]\n",
    "plt.boxplot(tmp_rating,0,\"\")\n",
    "print(dataset.rating.describe())"
   ]
  },
  {
   "cell_type": "code",
   "execution_count": 490,
   "metadata": {
    "scrolled": true
   },
   "outputs": [
    {
     "name": "stdout",
     "output_type": "stream",
     "text": [
      "count    6268.000000\n",
      "mean        4.049697\n",
      "std         0.726943\n",
      "min         1.000000\n",
      "25%         4.000000\n",
      "50%         4.500000\n",
      "75%         4.500000\n",
      "max         5.000000\n",
      "Name: rating, dtype: float64\n"
     ]
    },
    {
     "data": {
      "text/plain": [
       "Text(0.5, 1.0, 'iOS')"
      ]
     },
     "execution_count": 490,
     "metadata": {},
     "output_type": "execute_result"
    },
    {
     "data": {
      "image/png": "[encoded data removed]",
      "text/plain": [
       "<Figure size 432x288 with 1 Axes>"
      ]
     },
     "metadata": {
      "needs_background": "light"
     },
     "output_type": "display_data"
    }
   ],
   "source": [
    "print(dataset.rating.describe())\n",
    "\n",
    "g = sns.boxplot(x=\"cont_rating\", y=\"rating\", data=dataset, showfliers = False)\n",
    "sns.despine(offset=10, trim=True)\n",
    "g.set_title(\"iOS\")"
   ]
  },
  {
   "cell_type": "code",
   "execution_count": 491,
   "metadata": {},
   "outputs": [
    {
     "data": {
      "text/plain": [
       "count    3937.000000\n",
       "mean        4.019939\n",
       "std         0.747401\n",
       "min         1.000000\n",
       "25%         3.500000\n",
       "50%         4.000000\n",
       "75%         4.500000\n",
       "max         5.000000\n",
       "Name: rating, dtype: float64"
      ]
     },
     "execution_count": 491,
     "metadata": {},
     "output_type": "execute_result"
    }
   ],
   "source": [
    "dataset[dataset[\"cont_rating\"]==4].rating.describe()"
   ]
  },
  {
   "cell_type": "code",
   "execution_count": 492,
   "metadata": {},
   "outputs": [
    {
     "data": {
      "text/plain": [
       "count    886.000000\n",
       "mean       4.199210\n",
       "std        0.571537\n",
       "min        1.000000\n",
       "25%        4.000000\n",
       "50%        4.500000\n",
       "75%        4.500000\n",
       "max        5.000000\n",
       "Name: rating, dtype: float64"
      ]
     },
     "execution_count": 492,
     "metadata": {},
     "output_type": "execute_result"
    }
   ],
   "source": [
    "dataset[dataset[\"cont_rating\"]==9].rating.describe()"
   ]
  },
  {
   "cell_type": "code",
   "execution_count": 493,
   "metadata": {},
   "outputs": [
    {
     "data": {
      "text/plain": [
       "count    1004.000000\n",
       "mean        4.103088\n",
       "std         0.696509\n",
       "min         1.000000\n",
       "25%         4.000000\n",
       "50%         4.500000\n",
       "75%         4.500000\n",
       "max         5.000000\n",
       "Name: rating, dtype: float64"
      ]
     },
     "execution_count": 493,
     "metadata": {},
     "output_type": "execute_result"
    }
   ],
   "source": [
    "dataset[dataset[\"cont_rating\"]==12].rating.describe()"
   ]
  },
  {
   "cell_type": "code",
   "execution_count": 494,
   "metadata": {},
   "outputs": [
    {
     "data": {
      "text/plain": [
       "count    441.000000\n",
       "mean       3.893424\n",
       "std        0.826398\n",
       "min        1.000000\n",
       "25%        3.500000\n",
       "50%        4.000000\n",
       "75%        4.500000\n",
       "max        5.000000\n",
       "Name: rating, dtype: float64"
      ]
     },
     "execution_count": 494,
     "metadata": {},
     "output_type": "execute_result"
    }
   ],
   "source": [
    "dataset[dataset[\"cont_rating\"]==17].rating.describe()"
   ]
  },
  {
   "cell_type": "markdown",
   "metadata": {},
   "source": [
    "<font size = \"4\"><bold> 5.3.2) current rating: modus, boxplot, multiple boxplots, describe   </bold></font>"
   ]
  },
  {
   "cell_type": "code",
   "execution_count": 495,
   "metadata": {},
   "outputs": [
    {
     "name": "stdout",
     "output_type": "stream",
     "text": [
      "4.5\n",
      "4.5\n",
      "4.5\n",
      "4.5\n",
      "4.5\n",
      "count    5754.000000\n",
      "mean        4.069517\n",
      "std         0.879711\n",
      "min         1.000000\n",
      "25%         4.000000\n",
      "50%         4.500000\n",
      "75%         4.500000\n",
      "max         5.000000\n",
      "Name: current_rating, dtype: float64\n"
     ]
    },
    {
     "data": {
      "image/png": "[encoded data removed]",
      "text/plain": [
       "<Figure size 432x288 with 1 Axes>"
      ]
     },
     "metadata": {
      "needs_background": "light"
     },
     "output_type": "display_data"
    }
   ],
   "source": [
    "current_rating_modus = sts.mode(dataset.current_rating)\n",
    "current_rating_modus_4 = sts.mode(dataset[dataset[\"cont_rating\"]==4].current_rating)\n",
    "current_rating_modus_9 = sts.mode(dataset[dataset[\"cont_rating\"]==9].current_rating)\n",
    "current_rating_modus_12 = sts.mode(dataset[dataset[\"cont_rating\"]==12].current_rating)\n",
    "current_rating_modus_17= sts.mode(dataset[dataset[\"cont_rating\"]==17].current_rating)\n",
    "print(current_rating_modus)\n",
    "print(current_rating_modus_4)\n",
    "print(current_rating_modus_9)\n",
    "print(current_rating_modus_12)\n",
    "print(current_rating_modus_17)\n",
    "\n",
    "print(dataset.current_rating.describe())\n",
    "\n",
    "sns.boxplot(x=\"cont_rating\", y=\"current_rating\", data=dataset, showfliers = False)\n",
    "sns.despine(offset=10, trim=True)"
   ]
  },
  {
   "cell_type": "code",
   "execution_count": 496,
   "metadata": {},
   "outputs": [
    {
     "data": {
      "text/plain": [
       "count    3626.000000\n",
       "mean        4.052537\n",
       "std         0.909527\n",
       "min         1.000000\n",
       "25%         4.000000\n",
       "50%         4.500000\n",
       "75%         4.500000\n",
       "max         5.000000\n",
       "Name: current_rating, dtype: float64"
      ]
     },
     "execution_count": 496,
     "metadata": {},
     "output_type": "execute_result"
    }
   ],
   "source": [
    "dataset[dataset[\"cont_rating\"]==4].current_rating.describe()"
   ]
  },
  {
   "cell_type": "code",
   "execution_count": 497,
   "metadata": {},
   "outputs": [
    {
     "data": {
      "text/plain": [
       "count    857.000000\n",
       "mean       4.210618\n",
       "std        0.646462\n",
       "min        1.000000\n",
       "25%        4.000000\n",
       "50%        4.500000\n",
       "75%        4.500000\n",
       "max        5.000000\n",
       "Name: current_rating, dtype: float64"
      ]
     },
     "execution_count": 497,
     "metadata": {},
     "output_type": "execute_result"
    }
   ],
   "source": [
    "dataset[dataset[\"cont_rating\"]==9].current_rating.describe()"
   ]
  },
  {
   "cell_type": "code",
   "execution_count": 498,
   "metadata": {},
   "outputs": [
    {
     "data": {
      "text/plain": [
       "count    922.000000\n",
       "mean       4.092733\n",
       "std        0.821350\n",
       "min        1.000000\n",
       "25%        4.000000\n",
       "50%        4.500000\n",
       "75%        4.500000\n",
       "max        5.000000\n",
       "Name: current_rating, dtype: float64"
      ]
     },
     "execution_count": 498,
     "metadata": {},
     "output_type": "execute_result"
    }
   ],
   "source": [
    "dataset[dataset[\"cont_rating\"]==12].current_rating.describe()"
   ]
  },
  {
   "cell_type": "code",
   "execution_count": 499,
   "metadata": {},
   "outputs": [
    {
     "data": {
      "text/plain": [
       "count    349.000000\n",
       "mean       3.838109\n",
       "std        1.120733\n",
       "min        1.000000\n",
       "25%        3.500000\n",
       "50%        4.000000\n",
       "75%        4.500000\n",
       "max        5.000000\n",
       "Name: current_rating, dtype: float64"
      ]
     },
     "execution_count": 499,
     "metadata": {},
     "output_type": "execute_result"
    }
   ],
   "source": [
    "dataset[dataset[\"cont_rating\"]==17].current_rating.describe()"
   ]
  },
  {
   "cell_type": "markdown",
   "metadata": {},
   "source": [
    "<font size = \"4\"><bold> 5.4) reviews: mean, median  </bold></font>"
   ]
  },
  {
   "cell_type": "code",
   "execution_count": 500,
   "metadata": {},
   "outputs": [
    {
     "name": "stdout",
     "output_type": "stream",
     "text": [
      "12892.907183548701\n",
      "300.0\n",
      "count    7.197000e+03\n",
      "mean     1.289291e+04\n",
      "std      7.573941e+04\n",
      "min      0.000000e+00\n",
      "25%      2.800000e+01\n",
      "50%      3.000000e+02\n",
      "75%      2.793000e+03\n",
      "max      2.974676e+06\n",
      "Name: reviews, dtype: float64\n"
     ]
    },
    {
     "data": {
      "image/png": "[encoded data removed]",
      "text/plain": [
       "<Figure size 432x288 with 1 Axes>"
      ]
     },
     "metadata": {
      "needs_background": "light"
     },
     "output_type": "display_data"
    }
   ],
   "source": [
    "reviews_mean = dataset.reviews.mean()\n",
    "print(reviews_mean)\n",
    "reviews_median = dataset.reviews.median()\n",
    "print(reviews_median)\n",
    "\n",
    "plt.boxplot(dataset.reviews, 0, \"\")\n",
    "print(dataset.reviews.describe())"
   ]
  },
  {
   "cell_type": "markdown",
   "metadata": {},
   "source": [
    "<font size = \"4\"><bold> 5.5) size: boxplot </bold></font>"
   ]
  },
  {
   "cell_type": "code",
   "execution_count": 501,
   "metadata": {},
   "outputs": [
    {
     "data": {
      "text/plain": [
       "count    7197.000000\n",
       "mean      199.134454\n",
       "std       359.206914\n",
       "min         0.589824\n",
       "25%        46.922752\n",
       "50%        97.153024\n",
       "75%       181.924864\n",
       "max      4025.969664\n",
       "Name: size, dtype: float64"
      ]
     },
     "execution_count": 501,
     "metadata": {},
     "output_type": "execute_result"
    },
    {
     "data": {
      "image/png": "[encoded data removed]",
      "text/plain": [
       "<Figure size 432x288 with 1 Axes>"
      ]
     },
     "metadata": {
      "needs_background": "light"
     },
     "output_type": "display_data"
    }
   ],
   "source": [
    "plt.boxplot(dataset[\"size\"],0,\"\")\n",
    "dataset[\"size\"].describe()"
   ]
  },
  {
   "cell_type": "markdown",
   "metadata": {},
   "source": [
    "<font size = \"4\"><bold> 5.6) price: avg, std for the whole DS and once or the price >0</bold></font>"
   ]
  },
  {
   "cell_type": "code",
   "execution_count": 502,
   "metadata": {},
   "outputs": [
    {
     "name": "stdout",
     "output_type": "stream",
     "text": [
      "count    7197.000000\n",
      "mean        1.726218\n",
      "std         5.833006\n",
      "min         0.000000\n",
      "25%         0.000000\n",
      "50%         0.000000\n",
      "75%         1.990000\n",
      "max       299.990000\n",
      "Name: price, dtype: float64\n",
      "count    3141.000000\n",
      "mean        3.955298\n",
      "std         8.315882\n",
      "min         0.990000\n",
      "25%         1.990000\n",
      "50%         2.990000\n",
      "75%         4.990000\n",
      "max       299.990000\n",
      "Name: price, dtype: float64\n"
     ]
    },
    {
     "data": {
      "image/png": "[encoded data removed]",
      "text/plain": [
       "<Figure size 432x288 with 1 Axes>"
      ]
     },
     "metadata": {
      "needs_background": "light"
     },
     "output_type": "display_data"
    }
   ],
   "source": [
    "dataset_price_onlypaid = dataset[dataset[\"price\"]>0]\n",
    "\n",
    "plt.boxplot(dataset.price, 0, \"\");\n",
    "print(dataset.price.describe())\n",
    "\n",
    "#plt.boxplot(dataset_price_onlypaid.price, 0, \"\");\n",
    "print(dataset_price_onlypaid.price.describe())"
   ]
  },
  {
   "cell_type": "markdown",
   "metadata": {},
   "source": [
    "<font size = \"4\"><bold> 5.6) app version: avg, std  </bold></font>"
   ]
  },
  {
   "cell_type": "code",
   "execution_count": 503,
   "metadata": {},
   "outputs": [
    {
     "name": "stdout",
     "output_type": "stream",
     "text": [
      "4.213488360687231 57.033527628434115 1.52\n"
     ]
    },
    {
     "data": {
      "text/plain": [
       "count    7145.000000\n",
       "mean        4.213488\n",
       "std        57.033528\n",
       "min         0.000900\n",
       "25%         1.110000\n",
       "50%         1.520000\n",
       "75%         3.020000\n",
       "max      2017.600000\n",
       "Name: version, dtype: float64"
      ]
     },
     "execution_count": 503,
     "metadata": {},
     "output_type": "execute_result"
    },
    {
     "data": {
      "image/png": "[encoded data removed]",
      "text/plain": [
       "<Figure size 432x288 with 1 Axes>"
      ]
     },
     "metadata": {
      "needs_background": "light"
     },
     "output_type": "display_data"
    }
   ],
   "source": [
    "app_ver_mean = dataset.version.mean()\n",
    "app_ver_std = dataset.version.std()\n",
    "app_ver_med = dataset.version.median()\n",
    "\n",
    "tmp_version = dataset.version[~np.isnan(dataset.version)]\n",
    "\n",
    "print(app_ver_mean, app_ver_std, app_ver_med)\n",
    "# Manche Apps haben große Versionsnummern, zB NBA \n",
    "plt.boxplot(tmp_version, 0, \"\");\n",
    "dataset.version.describe()\n"
   ]
  },
  {
   "cell_type": "markdown",
   "metadata": {},
   "source": [
    "<font size = \"4\"><bold> 5.7) Current reviews</bold></font>"
   ]
  },
  {
   "cell_type": "code",
   "execution_count": 504,
   "metadata": {},
   "outputs": [
    {
     "data": {
      "text/plain": [
       "count      7197.000000\n",
       "mean        460.373906\n",
       "std        3920.455183\n",
       "min           0.000000\n",
       "25%           1.000000\n",
       "50%          23.000000\n",
       "75%         140.000000\n",
       "max      177050.000000\n",
       "Name: current_reviews, dtype: float64"
      ]
     },
     "execution_count": 504,
     "metadata": {},
     "output_type": "execute_result"
    },
    {
     "data": {
      "image/png": "[encoded data removed]",
      "text/plain": [
       "<Figure size 432x288 with 1 Axes>"
      ]
     },
     "metadata": {
      "needs_background": "light"
     },
     "output_type": "display_data"
    }
   ],
   "source": [
    "plt.boxplot(dataset.current_reviews, 0, \"\")\n",
    "dataset.current_reviews.describe()"
   ]
  },
  {
   "cell_type": "markdown",
   "metadata": {},
   "source": [
    "<font size = \"4\"><bold> 5.8) current Ratings</bold></font>"
   ]
  },
  {
   "cell_type": "code",
   "execution_count": 505,
   "metadata": {},
   "outputs": [
    {
     "name": "stdout",
     "output_type": "stream",
     "text": [
      "4.5\n",
      "count    5754.000000\n",
      "mean        4.069517\n",
      "std         0.879711\n",
      "min         1.000000\n",
      "25%         4.000000\n",
      "50%         4.500000\n",
      "75%         4.500000\n",
      "max         5.000000\n",
      "Name: current_rating, dtype: float64\n"
     ]
    },
    {
     "data": {
      "image/png": "[encoded data removed]",
      "text/plain": [
       "<Figure size 432x288 with 1 Axes>"
      ]
     },
     "metadata": {
      "needs_background": "light"
     },
     "output_type": "display_data"
    }
   ],
   "source": [
    "current_rating_modus = sts.mode(dataset.current_rating)\n",
    "print(current_rating_modus)\n",
    "tmp_current_rating = dataset.current_rating[~np.isnan(dataset.current_rating)]\n",
    "plt.boxplot(tmp_current_rating,0,\"\")\n",
    "print(dataset.current_rating.describe())"
   ]
  },
  {
   "cell_type": "markdown",
   "metadata": {},
   "source": [
    "<font size = \"4\"><bold> 5.9) Content Rating</bold></font>"
   ]
  },
  {
   "cell_type": "code",
   "execution_count": 506,
   "metadata": {},
   "outputs": [
    {
     "data": {
      "text/plain": [
       "count    7197.000000\n",
       "mean        7.093094\n",
       "std         4.329046\n",
       "min         4.000000\n",
       "25%         4.000000\n",
       "50%         4.000000\n",
       "75%         9.000000\n",
       "max        17.000000\n",
       "Name: cont_rating, dtype: float64"
      ]
     },
     "execution_count": 506,
     "metadata": {},
     "output_type": "execute_result"
    },
    {
     "data": {
      "image/png": "[encoded data removed]",
      "text/plain": [
       "<Figure size 432x288 with 1 Axes>"
      ]
     },
     "metadata": {
      "needs_background": "light"
     },
     "output_type": "display_data"
    }
   ],
   "source": [
    "plt.boxplot(dataset.cont_rating, 0, \"\")\n",
    "dataset.cont_rating.describe()"
   ]
  },
  {
   "cell_type": "markdown",
   "metadata": {},
   "source": [
    "<font size = \"4\"><bold> 5.10) Supported Devices</bold></font>"
   ]
  },
  {
   "cell_type": "code",
   "execution_count": 507,
   "metadata": {},
   "outputs": [
    {
     "data": {
      "text/plain": [
       "count    7197.000000\n",
       "mean       37.361817\n",
       "std         3.737715\n",
       "min         9.000000\n",
       "25%        37.000000\n",
       "50%        37.000000\n",
       "75%        38.000000\n",
       "max        47.000000\n",
       "Name: sup_devs, dtype: float64"
      ]
     },
     "execution_count": 507,
     "metadata": {},
     "output_type": "execute_result"
    },
    {
     "data": {
      "image/png": "[encoded data removed]",
      "text/plain": [
       "<Figure size 432x288 with 1 Axes>"
      ]
     },
     "metadata": {
      "needs_background": "light"
     },
     "output_type": "display_data"
    }
   ],
   "source": [
    "plt.boxplot(dataset.sup_devs, 0, \"\")\n",
    "dataset.sup_devs.describe()"
   ]
  },
  {
   "cell_type": "markdown",
   "metadata": {},
   "source": [
    "<font size = \"4\"><bold> 5.11) Languages</bold></font>"
   ]
  },
  {
   "cell_type": "code",
   "execution_count": 508,
   "metadata": {},
   "outputs": [
    {
     "data": {
      "text/plain": [
       "count    7197.000000\n",
       "mean        5.434903\n",
       "std         7.919593\n",
       "min         0.000000\n",
       "25%         1.000000\n",
       "50%         1.000000\n",
       "75%         8.000000\n",
       "max        75.000000\n",
       "Name: languages, dtype: float64"
      ]
     },
     "execution_count": 508,
     "metadata": {},
     "output_type": "execute_result"
    },
    {
     "data": {
      "image/png": "[encoded data removed]",
      "text/plain": [
       "<Figure size 432x288 with 1 Axes>"
      ]
     },
     "metadata": {
      "needs_background": "light"
     },
     "output_type": "display_data"
    }
   ],
   "source": [
    "plt.boxplot(dataset.languages, 0, \"\")\n",
    "dataset.languages.describe()"
   ]
  },
  {
   "cell_type": "markdown",
   "metadata": {},
   "source": [
    "<font size = \"4\"><bold> 5.2) Catplots for rating with reviews size and name_length</bold></font>"
   ]
  },
  {
   "cell_type": "code",
   "execution_count": 509,
   "metadata": {},
   "outputs": [
    {
     "data": {
      "image/png": "[encoded data removed]",
      "text/plain": [
       "<Figure size 360x360 with 1 Axes>"
      ]
     },
     "metadata": {
      "needs_background": "light"
     },
     "output_type": "display_data"
    }
   ],
   "source": [
    "g=sns.catplot(x=\"rating\", y=\"reviews\", data=dataset)\n",
    "sns.despine(offset=10, trim=True)"
   ]
  },
  {
   "cell_type": "code",
   "execution_count": 510,
   "metadata": {},
   "outputs": [
    {
     "data": {
      "image/png": "[encoded data removed]",
      "text/plain": [
       "<Figure size 360x360 with 1 Axes>"
      ]
     },
     "metadata": {
      "needs_background": "light"
     },
     "output_type": "display_data"
    }
   ],
   "source": [
    "sns.catplot(x=\"rating\", y=\"size\", data=dataset)\n",
    "sns.despine(offset=10, trim=True)"
   ]
  },
  {
   "cell_type": "code",
   "execution_count": 511,
   "metadata": {},
   "outputs": [
    {
     "data": {
      "image/png": "[encoded data removed]",
      "text/plain": [
       "<Figure size 360x360 with 1 Axes>"
      ]
     },
     "metadata": {
      "needs_background": "light"
     },
     "output_type": "display_data"
    }
   ],
   "source": [
    "sns.catplot(x=\"rating\", y=\"name_length\", data=dataset)\n",
    "sns.despine(offset=10, trim=True)"
   ]
  },
  {
   "cell_type": "markdown",
   "metadata": {},
   "source": [
    "<font size = \"4\"><bold> 5.3) content rating pie chart</bold></font>"
   ]
  },
  {
   "cell_type": "code",
   "execution_count": 512,
   "metadata": {},
   "outputs": [
    {
     "data": {
      "image/png": "[encoded data removed]",
      "text/plain": [
       "<Figure size 432x288 with 1 Axes>"
      ]
     },
     "metadata": {},
     "output_type": "display_data"
    }
   ],
   "source": [
    "dataset.cont_rating.value_counts().plot(kind=\"pie\", autopct=\"%.2f\", title=\"Distribution of content rating for iOS\");"
   ]
  },
  {
   "cell_type": "markdown",
   "metadata": {},
   "source": [
    "<font size = \"4\"><bold> 5.4) price/size & cont/size with scatterplot</bold></font>"
   ]
  },
  {
   "cell_type": "code",
   "execution_count": 513,
   "metadata": {},
   "outputs": [
    {
     "data": {
      "image/png": "[encoded data removed]",
      "text/plain": [
       "<Figure size 432x288 with 1 Axes>"
      ]
     },
     "metadata": {
      "needs_background": "light"
     },
     "output_type": "display_data"
    }
   ],
   "source": [
    "plt.scatter(dataset[dataset[\"price\"]<200].price, dataset[dataset[\"price\"]<200][\"size\"]);"
   ]
  },
  {
   "cell_type": "markdown",
   "metadata": {},
   "source": [
    "<font size = \"10\"><bold> 6) Cross Dataset Visualization</bold></font>"
   ]
  },
  {
   "cell_type": "markdown",
   "metadata": {},
   "source": [
    "<font size = \"10\"><bold> 7) Inductive Analysis</bold></font>"
   ]
  },
  {
   "cell_type": "markdown",
   "metadata": {},
   "source": [
    "<font size = \"4\"><bold> 7.1) Correlations</bold></font>"
   ]
  },
  {
   "cell_type": "code",
   "execution_count": 514,
   "metadata": {},
   "outputs": [
    {
     "data": {
      "text/html": [
       "<style  type=\"text/css\" >\n",
       "    #T_22027226_14ea_11e9_a47f_9cb6d0eefd48row0_col0 {\n",
       "            background-color:  #67000d;\n",
       "        }    #T_22027226_14ea_11e9_a47f_9cb6d0eefd48row0_col1 {\n",
       "            background-color:  #fdd5c4;\n",
       "        }    #T_22027226_14ea_11e9_a47f_9cb6d0eefd48row0_col2 {\n",
       "            background-color:  #fedbcc;\n",
       "        }    #T_22027226_14ea_11e9_a47f_9cb6d0eefd48row0_col3 {\n",
       "            background-color:  #ffece3;\n",
       "        }    #T_22027226_14ea_11e9_a47f_9cb6d0eefd48row0_col4 {\n",
       "            background-color:  #fff1ea;\n",
       "        }    #T_22027226_14ea_11e9_a47f_9cb6d0eefd48row0_col5 {\n",
       "            background-color:  #fff5f0;\n",
       "        }    #T_22027226_14ea_11e9_a47f_9cb6d0eefd48row0_col6 {\n",
       "            background-color:  #fff3ed;\n",
       "        }    #T_22027226_14ea_11e9_a47f_9cb6d0eefd48row0_col7 {\n",
       "            background-color:  #fff2eb;\n",
       "        }    #T_22027226_14ea_11e9_a47f_9cb6d0eefd48row0_col8 {\n",
       "            background-color:  #fff0e9;\n",
       "        }    #T_22027226_14ea_11e9_a47f_9cb6d0eefd48row0_col9 {\n",
       "            background-color:  #ffefe8;\n",
       "        }    #T_22027226_14ea_11e9_a47f_9cb6d0eefd48row0_col10 {\n",
       "            background-color:  #fee5d8;\n",
       "        }    #T_22027226_14ea_11e9_a47f_9cb6d0eefd48row0_col11 {\n",
       "            background-color:  #fdd5c4;\n",
       "        }    #T_22027226_14ea_11e9_a47f_9cb6d0eefd48row1_col0 {\n",
       "            background-color:  #fedfd0;\n",
       "        }    #T_22027226_14ea_11e9_a47f_9cb6d0eefd48row1_col1 {\n",
       "            background-color:  #67000d;\n",
       "        }    #T_22027226_14ea_11e9_a47f_9cb6d0eefd48row1_col2 {\n",
       "            background-color:  #fcb69b;\n",
       "        }    #T_22027226_14ea_11e9_a47f_9cb6d0eefd48row1_col3 {\n",
       "            background-color:  #fee5d9;\n",
       "        }    #T_22027226_14ea_11e9_a47f_9cb6d0eefd48row1_col4 {\n",
       "            background-color:  #ffefe8;\n",
       "        }    #T_22027226_14ea_11e9_a47f_9cb6d0eefd48row1_col5 {\n",
       "            background-color:  #ffece3;\n",
       "        }    #T_22027226_14ea_11e9_a47f_9cb6d0eefd48row1_col6 {\n",
       "            background-color:  #feeae0;\n",
       "        }    #T_22027226_14ea_11e9_a47f_9cb6d0eefd48row1_col7 {\n",
       "            background-color:  #fff2eb;\n",
       "        }    #T_22027226_14ea_11e9_a47f_9cb6d0eefd48row1_col8 {\n",
       "            background-color:  #fdcbb6;\n",
       "        }    #T_22027226_14ea_11e9_a47f_9cb6d0eefd48row1_col9 {\n",
       "            background-color:  #fff5f0;\n",
       "        }    #T_22027226_14ea_11e9_a47f_9cb6d0eefd48row1_col10 {\n",
       "            background-color:  #feeae0;\n",
       "        }    #T_22027226_14ea_11e9_a47f_9cb6d0eefd48row1_col11 {\n",
       "            background-color:  #fcbea5;\n",
       "        }    #T_22027226_14ea_11e9_a47f_9cb6d0eefd48row2_col0 {\n",
       "            background-color:  #fee3d6;\n",
       "        }    #T_22027226_14ea_11e9_a47f_9cb6d0eefd48row2_col1 {\n",
       "            background-color:  #fcb69b;\n",
       "        }    #T_22027226_14ea_11e9_a47f_9cb6d0eefd48row2_col2 {\n",
       "            background-color:  #67000d;\n",
       "        }    #T_22027226_14ea_11e9_a47f_9cb6d0eefd48row2_col3 {\n",
       "            background-color:  #ffece3;\n",
       "        }    #T_22027226_14ea_11e9_a47f_9cb6d0eefd48row2_col4 {\n",
       "            background-color:  #fff3ed;\n",
       "        }    #T_22027226_14ea_11e9_a47f_9cb6d0eefd48row2_col5 {\n",
       "            background-color:  #fff2eb;\n",
       "        }    #T_22027226_14ea_11e9_a47f_9cb6d0eefd48row2_col6 {\n",
       "            background-color:  #fff0e9;\n",
       "        }    #T_22027226_14ea_11e9_a47f_9cb6d0eefd48row2_col7 {\n",
       "            background-color:  #ffeee7;\n",
       "        }    #T_22027226_14ea_11e9_a47f_9cb6d0eefd48row2_col8 {\n",
       "            background-color:  #ffefe8;\n",
       "        }    #T_22027226_14ea_11e9_a47f_9cb6d0eefd48row2_col9 {\n",
       "            background-color:  #fff5f0;\n",
       "        }    #T_22027226_14ea_11e9_a47f_9cb6d0eefd48row2_col10 {\n",
       "            background-color:  #ffebe2;\n",
       "        }    #T_22027226_14ea_11e9_a47f_9cb6d0eefd48row2_col11 {\n",
       "            background-color:  #fc8b6b;\n",
       "        }    #T_22027226_14ea_11e9_a47f_9cb6d0eefd48row3_col0 {\n",
       "            background-color:  #fff0e8;\n",
       "        }    #T_22027226_14ea_11e9_a47f_9cb6d0eefd48row3_col1 {\n",
       "            background-color:  #fee3d6;\n",
       "        }    #T_22027226_14ea_11e9_a47f_9cb6d0eefd48row3_col2 {\n",
       "            background-color:  #feeae0;\n",
       "        }    #T_22027226_14ea_11e9_a47f_9cb6d0eefd48row3_col3 {\n",
       "            background-color:  #67000d;\n",
       "        }    #T_22027226_14ea_11e9_a47f_9cb6d0eefd48row3_col4 {\n",
       "            background-color:  #fdcdb9;\n",
       "        }    #T_22027226_14ea_11e9_a47f_9cb6d0eefd48row3_col5 {\n",
       "            background-color:  #ffece3;\n",
       "        }    #T_22027226_14ea_11e9_a47f_9cb6d0eefd48row3_col6 {\n",
       "            background-color:  #ffede5;\n",
       "        }    #T_22027226_14ea_11e9_a47f_9cb6d0eefd48row3_col7 {\n",
       "            background-color:  #ffeee7;\n",
       "        }    #T_22027226_14ea_11e9_a47f_9cb6d0eefd48row3_col8 {\n",
       "            background-color:  #fee8de;\n",
       "        }    #T_22027226_14ea_11e9_a47f_9cb6d0eefd48row3_col9 {\n",
       "            background-color:  #fee2d5;\n",
       "        }    #T_22027226_14ea_11e9_a47f_9cb6d0eefd48row3_col10 {\n",
       "            background-color:  #fdccb8;\n",
       "        }    #T_22027226_14ea_11e9_a47f_9cb6d0eefd48row3_col11 {\n",
       "            background-color:  #fff5f0;\n",
       "        }    #T_22027226_14ea_11e9_a47f_9cb6d0eefd48row4_col0 {\n",
       "            background-color:  #feeae1;\n",
       "        }    #T_22027226_14ea_11e9_a47f_9cb6d0eefd48row4_col1 {\n",
       "            background-color:  #fee3d6;\n",
       "        }    #T_22027226_14ea_11e9_a47f_9cb6d0eefd48row4_col2 {\n",
       "            background-color:  #fee7db;\n",
       "        }    #T_22027226_14ea_11e9_a47f_9cb6d0eefd48row4_col3 {\n",
       "            background-color:  #fcbea5;\n",
       "        }    #T_22027226_14ea_11e9_a47f_9cb6d0eefd48row4_col4 {\n",
       "            background-color:  #67000d;\n",
       "        }    #T_22027226_14ea_11e9_a47f_9cb6d0eefd48row4_col5 {\n",
       "            background-color:  #feeae1;\n",
       "        }    #T_22027226_14ea_11e9_a47f_9cb6d0eefd48row4_col6 {\n",
       "            background-color:  #feeae0;\n",
       "        }    #T_22027226_14ea_11e9_a47f_9cb6d0eefd48row4_col7 {\n",
       "            background-color:  #fff2ec;\n",
       "        }    #T_22027226_14ea_11e9_a47f_9cb6d0eefd48row4_col8 {\n",
       "            background-color:  #feeae0;\n",
       "        }    #T_22027226_14ea_11e9_a47f_9cb6d0eefd48row4_col9 {\n",
       "            background-color:  #fedccd;\n",
       "        }    #T_22027226_14ea_11e9_a47f_9cb6d0eefd48row4_col10 {\n",
       "            background-color:  #fee8de;\n",
       "        }    #T_22027226_14ea_11e9_a47f_9cb6d0eefd48row4_col11 {\n",
       "            background-color:  #feeae1;\n",
       "        }    #T_22027226_14ea_11e9_a47f_9cb6d0eefd48row5_col0 {\n",
       "            background-color:  #fee9df;\n",
       "        }    #T_22027226_14ea_11e9_a47f_9cb6d0eefd48row5_col1 {\n",
       "            background-color:  #fdd7c6;\n",
       "        }    #T_22027226_14ea_11e9_a47f_9cb6d0eefd48row5_col2 {\n",
       "            background-color:  #fee1d4;\n",
       "        }    #T_22027226_14ea_11e9_a47f_9cb6d0eefd48row5_col3 {\n",
       "            background-color:  #fedbcc;\n",
       "        }    #T_22027226_14ea_11e9_a47f_9cb6d0eefd48row5_col4 {\n",
       "            background-color:  #fee6da;\n",
       "        }    #T_22027226_14ea_11e9_a47f_9cb6d0eefd48row5_col5 {\n",
       "            background-color:  #67000d;\n",
       "        }    #T_22027226_14ea_11e9_a47f_9cb6d0eefd48row5_col6 {\n",
       "            background-color:  #d21f20;\n",
       "        }    #T_22027226_14ea_11e9_a47f_9cb6d0eefd48row5_col7 {\n",
       "            background-color:  #fff2eb;\n",
       "        }    #T_22027226_14ea_11e9_a47f_9cb6d0eefd48row5_col8 {\n",
       "            background-color:  #fee8de;\n",
       "        }    #T_22027226_14ea_11e9_a47f_9cb6d0eefd48row5_col9 {\n",
       "            background-color:  #fed9c9;\n",
       "        }    #T_22027226_14ea_11e9_a47f_9cb6d0eefd48row5_col10 {\n",
       "            background-color:  #fedaca;\n",
       "        }    #T_22027226_14ea_11e9_a47f_9cb6d0eefd48row5_col11 {\n",
       "            background-color:  #fee5d9;\n",
       "        }    #T_22027226_14ea_11e9_a47f_9cb6d0eefd48row6_col0 {\n",
       "            background-color:  #fee9df;\n",
       "        }    #T_22027226_14ea_11e9_a47f_9cb6d0eefd48row6_col1 {\n",
       "            background-color:  #fed8c7;\n",
       "        }    #T_22027226_14ea_11e9_a47f_9cb6d0eefd48row6_col2 {\n",
       "            background-color:  #fee2d5;\n",
       "        }    #T_22027226_14ea_11e9_a47f_9cb6d0eefd48row6_col3 {\n",
       "            background-color:  #fee0d2;\n",
       "        }    #T_22027226_14ea_11e9_a47f_9cb6d0eefd48row6_col4 {\n",
       "            background-color:  #fee7db;\n",
       "        }    #T_22027226_14ea_11e9_a47f_9cb6d0eefd48row6_col5 {\n",
       "            background-color:  #d32020;\n",
       "        }    #T_22027226_14ea_11e9_a47f_9cb6d0eefd48row6_col6 {\n",
       "            background-color:  #67000d;\n",
       "        }    #T_22027226_14ea_11e9_a47f_9cb6d0eefd48row6_col7 {\n",
       "            background-color:  #fff1ea;\n",
       "        }    #T_22027226_14ea_11e9_a47f_9cb6d0eefd48row6_col8 {\n",
       "            background-color:  #ffece4;\n",
       "        }    #T_22027226_14ea_11e9_a47f_9cb6d0eefd48row6_col9 {\n",
       "            background-color:  #fedccd;\n",
       "        }    #T_22027226_14ea_11e9_a47f_9cb6d0eefd48row6_col10 {\n",
       "            background-color:  #fedaca;\n",
       "        }    #T_22027226_14ea_11e9_a47f_9cb6d0eefd48row6_col11 {\n",
       "            background-color:  #fee6da;\n",
       "        }    #T_22027226_14ea_11e9_a47f_9cb6d0eefd48row7_col0 {\n",
       "            background-color:  #fee8de;\n",
       "        }    #T_22027226_14ea_11e9_a47f_9cb6d0eefd48row7_col1 {\n",
       "            background-color:  #fee3d7;\n",
       "        }    #T_22027226_14ea_11e9_a47f_9cb6d0eefd48row7_col2 {\n",
       "            background-color:  #fee1d3;\n",
       "        }    #T_22027226_14ea_11e9_a47f_9cb6d0eefd48row7_col3 {\n",
       "            background-color:  #fee3d6;\n",
       "        }    #T_22027226_14ea_11e9_a47f_9cb6d0eefd48row7_col4 {\n",
       "            background-color:  #fff0e9;\n",
       "        }    #T_22027226_14ea_11e9_a47f_9cb6d0eefd48row7_col5 {\n",
       "            background-color:  #fff4ef;\n",
       "        }    #T_22027226_14ea_11e9_a47f_9cb6d0eefd48row7_col6 {\n",
       "            background-color:  #fff2eb;\n",
       "        }    #T_22027226_14ea_11e9_a47f_9cb6d0eefd48row7_col7 {\n",
       "            background-color:  #67000d;\n",
       "        }    #T_22027226_14ea_11e9_a47f_9cb6d0eefd48row7_col8 {\n",
       "            background-color:  #fee8dd;\n",
       "        }    #T_22027226_14ea_11e9_a47f_9cb6d0eefd48row7_col9 {\n",
       "            background-color:  #fee7db;\n",
       "        }    #T_22027226_14ea_11e9_a47f_9cb6d0eefd48row7_col10 {\n",
       "            background-color:  #fee5d9;\n",
       "        }    #T_22027226_14ea_11e9_a47f_9cb6d0eefd48row7_col11 {\n",
       "            background-color:  #fee7dc;\n",
       "        }    #T_22027226_14ea_11e9_a47f_9cb6d0eefd48row8_col0 {\n",
       "            background-color:  #ffefe8;\n",
       "        }    #T_22027226_14ea_11e9_a47f_9cb6d0eefd48row8_col1 {\n",
       "            background-color:  #fcc1a8;\n",
       "        }    #T_22027226_14ea_11e9_a47f_9cb6d0eefd48row8_col2 {\n",
       "            background-color:  #fee8de;\n",
       "        }    #T_22027226_14ea_11e9_a47f_9cb6d0eefd48row8_col3 {\n",
       "            background-color:  #fee4d8;\n",
       "        }    #T_22027226_14ea_11e9_a47f_9cb6d0eefd48row8_col4 {\n",
       "            background-color:  #fff0e8;\n",
       "        }    #T_22027226_14ea_11e9_a47f_9cb6d0eefd48row8_col5 {\n",
       "            background-color:  #fff4ee;\n",
       "        }    #T_22027226_14ea_11e9_a47f_9cb6d0eefd48row8_col6 {\n",
       "            background-color:  #fff5f0;\n",
       "        }    #T_22027226_14ea_11e9_a47f_9cb6d0eefd48row8_col7 {\n",
       "            background-color:  #fff0e8;\n",
       "        }    #T_22027226_14ea_11e9_a47f_9cb6d0eefd48row8_col8 {\n",
       "            background-color:  #67000d;\n",
       "        }    #T_22027226_14ea_11e9_a47f_9cb6d0eefd48row8_col9 {\n",
       "            background-color:  #fee1d3;\n",
       "        }    #T_22027226_14ea_11e9_a47f_9cb6d0eefd48row8_col10 {\n",
       "            background-color:  #fff5f0;\n",
       "        }    #T_22027226_14ea_11e9_a47f_9cb6d0eefd48row8_col11 {\n",
       "            background-color:  #fff0e9;\n",
       "        }    #T_22027226_14ea_11e9_a47f_9cb6d0eefd48row9_col0 {\n",
       "            background-color:  #fff5f0;\n",
       "        }    #T_22027226_14ea_11e9_a47f_9cb6d0eefd48row9_col1 {\n",
       "            background-color:  #fff5f0;\n",
       "        }    #T_22027226_14ea_11e9_a47f_9cb6d0eefd48row9_col2 {\n",
       "            background-color:  #fff5f0;\n",
       "        }    #T_22027226_14ea_11e9_a47f_9cb6d0eefd48row9_col3 {\n",
       "            background-color:  #fee5d8;\n",
       "        }    #T_22027226_14ea_11e9_a47f_9cb6d0eefd48row9_col4 {\n",
       "            background-color:  #feeae0;\n",
       "        }    #T_22027226_14ea_11e9_a47f_9cb6d0eefd48row9_col5 {\n",
       "            background-color:  #ffede5;\n",
       "        }    #T_22027226_14ea_11e9_a47f_9cb6d0eefd48row9_col6 {\n",
       "            background-color:  #ffede5;\n",
       "        }    #T_22027226_14ea_11e9_a47f_9cb6d0eefd48row9_col7 {\n",
       "            background-color:  #fff5f0;\n",
       "        }    #T_22027226_14ea_11e9_a47f_9cb6d0eefd48row9_col8 {\n",
       "            background-color:  #fee7dc;\n",
       "        }    #T_22027226_14ea_11e9_a47f_9cb6d0eefd48row9_col9 {\n",
       "            background-color:  #67000d;\n",
       "        }    #T_22027226_14ea_11e9_a47f_9cb6d0eefd48row9_col10 {\n",
       "            background-color:  #fff1ea;\n",
       "        }    #T_22027226_14ea_11e9_a47f_9cb6d0eefd48row9_col11 {\n",
       "            background-color:  #fee8de;\n",
       "        }    #T_22027226_14ea_11e9_a47f_9cb6d0eefd48row10_col0 {\n",
       "            background-color:  #fee4d8;\n",
       "        }    #T_22027226_14ea_11e9_a47f_9cb6d0eefd48row10_col1 {\n",
       "            background-color:  #fee3d6;\n",
       "        }    #T_22027226_14ea_11e9_a47f_9cb6d0eefd48row10_col2 {\n",
       "            background-color:  #fee5d9;\n",
       "        }    #T_22027226_14ea_11e9_a47f_9cb6d0eefd48row10_col3 {\n",
       "            background-color:  #fdc5ae;\n",
       "        }    #T_22027226_14ea_11e9_a47f_9cb6d0eefd48row10_col4 {\n",
       "            background-color:  #ffeee6;\n",
       "        }    #T_22027226_14ea_11e9_a47f_9cb6d0eefd48row10_col5 {\n",
       "            background-color:  #fee7db;\n",
       "        }    #T_22027226_14ea_11e9_a47f_9cb6d0eefd48row10_col6 {\n",
       "            background-color:  #fee5d8;\n",
       "        }    #T_22027226_14ea_11e9_a47f_9cb6d0eefd48row10_col7 {\n",
       "            background-color:  #ffece4;\n",
       "        }    #T_22027226_14ea_11e9_a47f_9cb6d0eefd48row10_col8 {\n",
       "            background-color:  #fff5f0;\n",
       "        }    #T_22027226_14ea_11e9_a47f_9cb6d0eefd48row10_col9 {\n",
       "            background-color:  #feeae0;\n",
       "        }    #T_22027226_14ea_11e9_a47f_9cb6d0eefd48row10_col10 {\n",
       "            background-color:  #67000d;\n",
       "        }    #T_22027226_14ea_11e9_a47f_9cb6d0eefd48row10_col11 {\n",
       "            background-color:  #ffece4;\n",
       "        }    #T_22027226_14ea_11e9_a47f_9cb6d0eefd48row11_col0 {\n",
       "            background-color:  #fedbcc;\n",
       "        }    #T_22027226_14ea_11e9_a47f_9cb6d0eefd48row11_col1 {\n",
       "            background-color:  #fcbba1;\n",
       "        }    #T_22027226_14ea_11e9_a47f_9cb6d0eefd48row11_col2 {\n",
       "            background-color:  #fc8969;\n",
       "        }    #T_22027226_14ea_11e9_a47f_9cb6d0eefd48row11_col3 {\n",
       "            background-color:  #fff5f0;\n",
       "        }    #T_22027226_14ea_11e9_a47f_9cb6d0eefd48row11_col4 {\n",
       "            background-color:  #fff5f0;\n",
       "        }    #T_22027226_14ea_11e9_a47f_9cb6d0eefd48row11_col5 {\n",
       "            background-color:  #fff5f0;\n",
       "        }    #T_22027226_14ea_11e9_a47f_9cb6d0eefd48row11_col6 {\n",
       "            background-color:  #fff4ee;\n",
       "        }    #T_22027226_14ea_11e9_a47f_9cb6d0eefd48row11_col7 {\n",
       "            background-color:  #fff4ee;\n",
       "        }    #T_22027226_14ea_11e9_a47f_9cb6d0eefd48row11_col8 {\n",
       "            background-color:  #fff5f0;\n",
       "        }    #T_22027226_14ea_11e9_a47f_9cb6d0eefd48row11_col9 {\n",
       "            background-color:  #fee7db;\n",
       "        }    #T_22027226_14ea_11e9_a47f_9cb6d0eefd48row11_col10 {\n",
       "            background-color:  #fff1ea;\n",
       "        }    #T_22027226_14ea_11e9_a47f_9cb6d0eefd48row11_col11 {\n",
       "            background-color:  #67000d;\n",
       "        }</style>  \n",
       "<table id=\"T_22027226_14ea_11e9_a47f_9cb6d0eefd48\" > \n",
       "<thead>    <tr> \n",
       "        <th class=\"blank level0\" ></th> \n",
       "        <th class=\"col_heading level0 col0\" >name_length</th> \n",
       "        <th class=\"col_heading level0 col1\" >size</th> \n",
       "        <th class=\"col_heading level0 col2\" >price</th> \n",
       "        <th class=\"col_heading level0 col3\" >reviews</th> \n",
       "        <th class=\"col_heading level0 col4\" >current_reviews</th> \n",
       "        <th class=\"col_heading level0 col5\" >rating</th> \n",
       "        <th class=\"col_heading level0 col6\" >current_rating</th> \n",
       "        <th class=\"col_heading level0 col7\" >version</th> \n",
       "        <th class=\"col_heading level0 col8\" >cont_rating</th> \n",
       "        <th class=\"col_heading level0 col9\" >sup_devs</th> \n",
       "        <th class=\"col_heading level0 col10\" >languages</th> \n",
       "        <th class=\"col_heading level0 col11\" >not_free</th> \n",
       "    </tr></thead> \n",
       "<tbody>    <tr> \n",
       "        <th id=\"T_22027226_14ea_11e9_a47f_9cb6d0eefd48level0_row0\" class=\"row_heading level0 row0\" >name_length</th> \n",
       "        <td id=\"T_22027226_14ea_11e9_a47f_9cb6d0eefd48row0_col0\" class=\"data row0 col0\" >1</td> \n",
       "        <td id=\"T_22027226_14ea_11e9_a47f_9cb6d0eefd48row0_col1\" class=\"data row0 col1\" >0.0617407</td> \n",
       "        <td id=\"T_22027226_14ea_11e9_a47f_9cb6d0eefd48row0_col2\" class=\"data row0 col2\" >0.0424449</td> \n",
       "        <td id=\"T_22027226_14ea_11e9_a47f_9cb6d0eefd48row0_col3\" class=\"data row0 col3\" >-0.0395095</td> \n",
       "        <td id=\"T_22027226_14ea_11e9_a47f_9cb6d0eefd48row0_col4\" class=\"data row0 col4\" >-0.00659506</td> \n",
       "        <td id=\"T_22027226_14ea_11e9_a47f_9cb6d0eefd48row0_col5\" class=\"data row0 col5\" >-0.00109549</td> \n",
       "        <td id=\"T_22027226_14ea_11e9_a47f_9cb6d0eefd48row0_col6\" class=\"data row0 col6\" >0.000288389</td> \n",
       "        <td id=\"T_22027226_14ea_11e9_a47f_9cb6d0eefd48row0_col7\" class=\"data row0 col7\" >0.00271821</td> \n",
       "        <td id=\"T_22027226_14ea_11e9_a47f_9cb6d0eefd48row0_col8\" class=\"data row0 col8\" >-0.0392015</td> \n",
       "        <td id=\"T_22027226_14ea_11e9_a47f_9cb6d0eefd48row0_col9\" class=\"data row0 col9\" >-0.0773706</td> \n",
       "        <td id=\"T_22027226_14ea_11e9_a47f_9cb6d0eefd48row0_col10\" class=\"data row0 col10\" >0.0355869</td> \n",
       "        <td id=\"T_22027226_14ea_11e9_a47f_9cb6d0eefd48row0_col11\" class=\"data row0 col11\" >0.0764325</td> \n",
       "    </tr>    <tr> \n",
       "        <th id=\"T_22027226_14ea_11e9_a47f_9cb6d0eefd48level0_row1\" class=\"row_heading level0 row1\" >size</th> \n",
       "        <td id=\"T_22027226_14ea_11e9_a47f_9cb6d0eefd48row1_col0\" class=\"data row1 col0\" >0.0617407</td> \n",
       "        <td id=\"T_22027226_14ea_11e9_a47f_9cb6d0eefd48row1_col1\" class=\"data row1 col1\" >1</td> \n",
       "        <td id=\"T_22027226_14ea_11e9_a47f_9cb6d0eefd48row1_col2\" class=\"data row1 col2\" >0.182392</td> \n",
       "        <td id=\"T_22027226_14ea_11e9_a47f_9cb6d0eefd48row1_col3\" class=\"data row1 col3\" >0.00448632</td> \n",
       "        <td id=\"T_22027226_14ea_11e9_a47f_9cb6d0eefd48row1_col4\" class=\"data row1 col4\" >0.00633717</td> \n",
       "        <td id=\"T_22027226_14ea_11e9_a47f_9cb6d0eefd48row1_col5\" class=\"data row1 col5\" >0.0574022</td> \n",
       "        <td id=\"T_22027226_14ea_11e9_a47f_9cb6d0eefd48row1_col6\" class=\"data row1 col6\" >0.0560569</td> \n",
       "        <td id=\"T_22027226_14ea_11e9_a47f_9cb6d0eefd48row1_col7\" class=\"data row1 col7\" >0.000735388</td> \n",
       "        <td id=\"T_22027226_14ea_11e9_a47f_9cb6d0eefd48row1_col8\" class=\"data row1 col8\" >0.140541</td> \n",
       "        <td id=\"T_22027226_14ea_11e9_a47f_9cb6d0eefd48row1_col9\" class=\"data row1 col9\" >-0.118347</td> \n",
       "        <td id=\"T_22027226_14ea_11e9_a47f_9cb6d0eefd48row1_col10\" class=\"data row1 col10\" >0.00461435</td> \n",
       "        <td id=\"T_22027226_14ea_11e9_a47f_9cb6d0eefd48row1_col11\" class=\"data row1 col11\" >0.161979</td> \n",
       "    </tr>    <tr> \n",
       "        <th id=\"T_22027226_14ea_11e9_a47f_9cb6d0eefd48level0_row2\" class=\"row_heading level0 row2\" >price</th> \n",
       "        <td id=\"T_22027226_14ea_11e9_a47f_9cb6d0eefd48row2_col0\" class=\"data row2 col0\" >0.0424449</td> \n",
       "        <td id=\"T_22027226_14ea_11e9_a47f_9cb6d0eefd48row2_col1\" class=\"data row2 col1\" >0.182392</td> \n",
       "        <td id=\"T_22027226_14ea_11e9_a47f_9cb6d0eefd48row2_col2\" class=\"data row2 col2\" >1</td> \n",
       "        <td id=\"T_22027226_14ea_11e9_a47f_9cb6d0eefd48row2_col3\" class=\"data row2 col3\" >-0.0390442</td> \n",
       "        <td id=\"T_22027226_14ea_11e9_a47f_9cb6d0eefd48row2_col4\" class=\"data row2 col4\" >-0.0180118</td> \n",
       "        <td id=\"T_22027226_14ea_11e9_a47f_9cb6d0eefd48row2_col5\" class=\"data row2 col5\" >0.0192874</td> \n",
       "        <td id=\"T_22027226_14ea_11e9_a47f_9cb6d0eefd48row2_col6\" class=\"data row2 col6\" >0.014362</td> \n",
       "        <td id=\"T_22027226_14ea_11e9_a47f_9cb6d0eefd48row2_col7\" class=\"data row2 col7\" >0.0200287</td> \n",
       "        <td id=\"T_22027226_14ea_11e9_a47f_9cb6d0eefd48row2_col8\" class=\"data row2 col8\" >-0.0296658</td> \n",
       "        <td id=\"T_22027226_14ea_11e9_a47f_9cb6d0eefd48row2_col9\" class=\"data row2 col9\" >-0.115361</td> \n",
       "        <td id=\"T_22027226_14ea_11e9_a47f_9cb6d0eefd48row2_col10\" class=\"data row2 col10\" >-0.00671336</td> \n",
       "        <td id=\"T_22027226_14ea_11e9_a47f_9cb6d0eefd48row2_col11\" class=\"data row2 col11\" >0.336317</td> \n",
       "    </tr>    <tr> \n",
       "        <th id=\"T_22027226_14ea_11e9_a47f_9cb6d0eefd48level0_row3\" class=\"row_heading level0 row3\" >reviews</th> \n",
       "        <td id=\"T_22027226_14ea_11e9_a47f_9cb6d0eefd48row3_col0\" class=\"data row3 col0\" >-0.0395095</td> \n",
       "        <td id=\"T_22027226_14ea_11e9_a47f_9cb6d0eefd48row3_col1\" class=\"data row3 col1\" >0.00448632</td> \n",
       "        <td id=\"T_22027226_14ea_11e9_a47f_9cb6d0eefd48row3_col2\" class=\"data row3 col2\" >-0.0390442</td> \n",
       "        <td id=\"T_22027226_14ea_11e9_a47f_9cb6d0eefd48row3_col3\" class=\"data row3 col3\" >1</td> \n",
       "        <td id=\"T_22027226_14ea_11e9_a47f_9cb6d0eefd48row3_col4\" class=\"data row3 col4\" >0.163645</td> \n",
       "        <td id=\"T_22027226_14ea_11e9_a47f_9cb6d0eefd48row3_col5\" class=\"data row3 col5\" >0.0553418</td> \n",
       "        <td id=\"T_22027226_14ea_11e9_a47f_9cb6d0eefd48row3_col6\" class=\"data row3 col6\" >0.0369695</td> \n",
       "        <td id=\"T_22027226_14ea_11e9_a47f_9cb6d0eefd48row3_col7\" class=\"data row3 col7\" >0.0208428</td> \n",
       "        <td id=\"T_22027226_14ea_11e9_a47f_9cb6d0eefd48row3_col8\" class=\"data row3 col8\" >0.00913924</td> \n",
       "        <td id=\"T_22027226_14ea_11e9_a47f_9cb6d0eefd48row3_col9\" class=\"data row3 col9\" >0.00883232</td> \n",
       "        <td id=\"T_22027226_14ea_11e9_a47f_9cb6d0eefd48row3_col10\" class=\"data row3 col10\" >0.137675</td> \n",
       "        <td id=\"T_22027226_14ea_11e9_a47f_9cb6d0eefd48row3_col11\" class=\"data row3 col11\" >-0.102885</td> \n",
       "    </tr>    <tr> \n",
       "        <th id=\"T_22027226_14ea_11e9_a47f_9cb6d0eefd48level0_row4\" class=\"row_heading level0 row4\" >current_reviews</th> \n",
       "        <td id=\"T_22027226_14ea_11e9_a47f_9cb6d0eefd48row4_col0\" class=\"data row4 col0\" >-0.00659506</td> \n",
       "        <td id=\"T_22027226_14ea_11e9_a47f_9cb6d0eefd48row4_col1\" class=\"data row4 col1\" >0.00633717</td> \n",
       "        <td id=\"T_22027226_14ea_11e9_a47f_9cb6d0eefd48row4_col2\" class=\"data row4 col2\" >-0.0180118</td> \n",
       "        <td id=\"T_22027226_14ea_11e9_a47f_9cb6d0eefd48row4_col3\" class=\"data row4 col3\" >0.163645</td> \n",
       "        <td id=\"T_22027226_14ea_11e9_a47f_9cb6d0eefd48row4_col4\" class=\"data row4 col4\" >1</td> \n",
       "        <td id=\"T_22027226_14ea_11e9_a47f_9cb6d0eefd48row4_col5\" class=\"data row4 col5\" >0.0634079</td> \n",
       "        <td id=\"T_22027226_14ea_11e9_a47f_9cb6d0eefd48row4_col6\" class=\"data row4 col6\" >0.0573257</td> \n",
       "        <td id=\"T_22027226_14ea_11e9_a47f_9cb6d0eefd48row4_col7\" class=\"data row4 col7\" >-0.00028265</td> \n",
       "        <td id=\"T_22027226_14ea_11e9_a47f_9cb6d0eefd48row4_col8\" class=\"data row4 col8\" >0.00143473</td> \n",
       "        <td id=\"T_22027226_14ea_11e9_a47f_9cb6d0eefd48row4_col9\" class=\"data row4 col9\" >0.0379507</td> \n",
       "        <td id=\"T_22027226_14ea_11e9_a47f_9cb6d0eefd48row4_col10\" class=\"data row4 col10\" >0.0132869</td> \n",
       "        <td id=\"T_22027226_14ea_11e9_a47f_9cb6d0eefd48row4_col11\" class=\"data row4 col11\" >-0.031604</td> \n",
       "    </tr>    <tr> \n",
       "        <th id=\"T_22027226_14ea_11e9_a47f_9cb6d0eefd48level0_row5\" class=\"row_heading level0 row5\" >rating</th> \n",
       "        <td id=\"T_22027226_14ea_11e9_a47f_9cb6d0eefd48row5_col0\" class=\"data row5 col0\" >-0.00109549</td> \n",
       "        <td id=\"T_22027226_14ea_11e9_a47f_9cb6d0eefd48row5_col1\" class=\"data row5 col1\" >0.0574022</td> \n",
       "        <td id=\"T_22027226_14ea_11e9_a47f_9cb6d0eefd48row5_col2\" class=\"data row5 col2\" >0.0192874</td> \n",
       "        <td id=\"T_22027226_14ea_11e9_a47f_9cb6d0eefd48row5_col3\" class=\"data row5 col3\" >0.0553418</td> \n",
       "        <td id=\"T_22027226_14ea_11e9_a47f_9cb6d0eefd48row5_col4\" class=\"data row5 col4\" >0.0634079</td> \n",
       "        <td id=\"T_22027226_14ea_11e9_a47f_9cb6d0eefd48row5_col5\" class=\"data row5 col5\" >1</td> \n",
       "        <td id=\"T_22027226_14ea_11e9_a47f_9cb6d0eefd48row5_col6\" class=\"data row5 col6\" >0.719504</td> \n",
       "        <td id=\"T_22027226_14ea_11e9_a47f_9cb6d0eefd48row5_col7\" class=\"data row5 col7\" >0.00334474</td> \n",
       "        <td id=\"T_22027226_14ea_11e9_a47f_9cb6d0eefd48row5_col8\" class=\"data row5 col8\" >0.0103192</td> \n",
       "        <td id=\"T_22027226_14ea_11e9_a47f_9cb6d0eefd48row5_col9\" class=\"data row5 col9\" >0.048653</td> \n",
       "        <td id=\"T_22027226_14ea_11e9_a47f_9cb6d0eefd48row5_col10\" class=\"data row5 col10\" >0.0865073</td> \n",
       "        <td id=\"T_22027226_14ea_11e9_a47f_9cb6d0eefd48row5_col11\" class=\"data row5 col11\" >0.00181629</td> \n",
       "    </tr>    <tr> \n",
       "        <th id=\"T_22027226_14ea_11e9_a47f_9cb6d0eefd48level0_row6\" class=\"row_heading level0 row6\" >current_rating</th> \n",
       "        <td id=\"T_22027226_14ea_11e9_a47f_9cb6d0eefd48row6_col0\" class=\"data row6 col0\" >0.000288389</td> \n",
       "        <td id=\"T_22027226_14ea_11e9_a47f_9cb6d0eefd48row6_col1\" class=\"data row6 col1\" >0.0560569</td> \n",
       "        <td id=\"T_22027226_14ea_11e9_a47f_9cb6d0eefd48row6_col2\" class=\"data row6 col2\" >0.014362</td> \n",
       "        <td id=\"T_22027226_14ea_11e9_a47f_9cb6d0eefd48row6_col3\" class=\"data row6 col3\" >0.0369695</td> \n",
       "        <td id=\"T_22027226_14ea_11e9_a47f_9cb6d0eefd48row6_col4\" class=\"data row6 col4\" >0.0573257</td> \n",
       "        <td id=\"T_22027226_14ea_11e9_a47f_9cb6d0eefd48row6_col5\" class=\"data row6 col5\" >0.719504</td> \n",
       "        <td id=\"T_22027226_14ea_11e9_a47f_9cb6d0eefd48row6_col6\" class=\"data row6 col6\" >1</td> \n",
       "        <td id=\"T_22027226_14ea_11e9_a47f_9cb6d0eefd48row6_col7\" class=\"data row6 col7\" >0.00718425</td> \n",
       "        <td id=\"T_22027226_14ea_11e9_a47f_9cb6d0eefd48row6_col8\" class=\"data row6 col8\" >-0.0134085</td> \n",
       "        <td id=\"T_22027226_14ea_11e9_a47f_9cb6d0eefd48row6_col9\" class=\"data row6 col9\" >0.0347195</td> \n",
       "        <td id=\"T_22027226_14ea_11e9_a47f_9cb6d0eefd48row6_col10\" class=\"data row6 col10\" >0.0881177</td> \n",
       "        <td id=\"T_22027226_14ea_11e9_a47f_9cb6d0eefd48row6_col11\" class=\"data row6 col11\" >-0.0028155</td> \n",
       "    </tr>    <tr> \n",
       "        <th id=\"T_22027226_14ea_11e9_a47f_9cb6d0eefd48level0_row7\" class=\"row_heading level0 row7\" >version</th> \n",
       "        <td id=\"T_22027226_14ea_11e9_a47f_9cb6d0eefd48row7_col0\" class=\"data row7 col0\" >0.00271821</td> \n",
       "        <td id=\"T_22027226_14ea_11e9_a47f_9cb6d0eefd48row7_col1\" class=\"data row7 col1\" >0.000735388</td> \n",
       "        <td id=\"T_22027226_14ea_11e9_a47f_9cb6d0eefd48row7_col2\" class=\"data row7 col2\" >0.0200287</td> \n",
       "        <td id=\"T_22027226_14ea_11e9_a47f_9cb6d0eefd48row7_col3\" class=\"data row7 col3\" >0.0208428</td> \n",
       "        <td id=\"T_22027226_14ea_11e9_a47f_9cb6d0eefd48row7_col4\" class=\"data row7 col4\" >-0.00028265</td> \n",
       "        <td id=\"T_22027226_14ea_11e9_a47f_9cb6d0eefd48row7_col5\" class=\"data row7 col5\" >0.00334474</td> \n",
       "        <td id=\"T_22027226_14ea_11e9_a47f_9cb6d0eefd48row7_col6\" class=\"data row7 col6\" >0.00718425</td> \n",
       "        <td id=\"T_22027226_14ea_11e9_a47f_9cb6d0eefd48row7_col7\" class=\"data row7 col7\" >1</td> \n",
       "        <td id=\"T_22027226_14ea_11e9_a47f_9cb6d0eefd48row7_col8\" class=\"data row7 col8\" >0.0129952</td> \n",
       "        <td id=\"T_22027226_14ea_11e9_a47f_9cb6d0eefd48row7_col9\" class=\"data row7 col9\" >-0.0201335</td> \n",
       "        <td id=\"T_22027226_14ea_11e9_a47f_9cb6d0eefd48row7_col10\" class=\"data row7 col10\" >0.0349131</td> \n",
       "        <td id=\"T_22027226_14ea_11e9_a47f_9cb6d0eefd48row7_col11\" class=\"data row7 col11\" >-0.0114311</td> \n",
       "    </tr>    <tr> \n",
       "        <th id=\"T_22027226_14ea_11e9_a47f_9cb6d0eefd48level0_row8\" class=\"row_heading level0 row8\" >cont_rating</th> \n",
       "        <td id=\"T_22027226_14ea_11e9_a47f_9cb6d0eefd48row8_col0\" class=\"data row8 col0\" >-0.0392015</td> \n",
       "        <td id=\"T_22027226_14ea_11e9_a47f_9cb6d0eefd48row8_col1\" class=\"data row8 col1\" >0.140541</td> \n",
       "        <td id=\"T_22027226_14ea_11e9_a47f_9cb6d0eefd48row8_col2\" class=\"data row8 col2\" >-0.0296658</td> \n",
       "        <td id=\"T_22027226_14ea_11e9_a47f_9cb6d0eefd48row8_col3\" class=\"data row8 col3\" >0.00913924</td> \n",
       "        <td id=\"T_22027226_14ea_11e9_a47f_9cb6d0eefd48row8_col4\" class=\"data row8 col4\" >0.00143473</td> \n",
       "        <td id=\"T_22027226_14ea_11e9_a47f_9cb6d0eefd48row8_col5\" class=\"data row8 col5\" >0.0103192</td> \n",
       "        <td id=\"T_22027226_14ea_11e9_a47f_9cb6d0eefd48row8_col6\" class=\"data row8 col6\" >-0.0134085</td> \n",
       "        <td id=\"T_22027226_14ea_11e9_a47f_9cb6d0eefd48row8_col7\" class=\"data row8 col7\" >0.0129952</td> \n",
       "        <td id=\"T_22027226_14ea_11e9_a47f_9cb6d0eefd48row8_col8\" class=\"data row8 col8\" >1</td> \n",
       "        <td id=\"T_22027226_14ea_11e9_a47f_9cb6d0eefd48row8_col9\" class=\"data row8 col9\" >0.0200846</td> \n",
       "        <td id=\"T_22027226_14ea_11e9_a47f_9cb6d0eefd48row8_col10\" class=\"data row8 col10\" >-0.0695084</td> \n",
       "        <td id=\"T_22027226_14ea_11e9_a47f_9cb6d0eefd48row8_col11\" class=\"data row8 col11\" >-0.0708976</td> \n",
       "    </tr>    <tr> \n",
       "        <th id=\"T_22027226_14ea_11e9_a47f_9cb6d0eefd48level0_row9\" class=\"row_heading level0 row9\" >sup_devs</th> \n",
       "        <td id=\"T_22027226_14ea_11e9_a47f_9cb6d0eefd48row9_col0\" class=\"data row9 col0\" >-0.0773706</td> \n",
       "        <td id=\"T_22027226_14ea_11e9_a47f_9cb6d0eefd48row9_col1\" class=\"data row9 col1\" >-0.118347</td> \n",
       "        <td id=\"T_22027226_14ea_11e9_a47f_9cb6d0eefd48row9_col2\" class=\"data row9 col2\" >-0.115361</td> \n",
       "        <td id=\"T_22027226_14ea_11e9_a47f_9cb6d0eefd48row9_col3\" class=\"data row9 col3\" >0.00883232</td> \n",
       "        <td id=\"T_22027226_14ea_11e9_a47f_9cb6d0eefd48row9_col4\" class=\"data row9 col4\" >0.0379507</td> \n",
       "        <td id=\"T_22027226_14ea_11e9_a47f_9cb6d0eefd48row9_col5\" class=\"data row9 col5\" >0.048653</td> \n",
       "        <td id=\"T_22027226_14ea_11e9_a47f_9cb6d0eefd48row9_col6\" class=\"data row9 col6\" >0.0347195</td> \n",
       "        <td id=\"T_22027226_14ea_11e9_a47f_9cb6d0eefd48row9_col7\" class=\"data row9 col7\" >-0.0201335</td> \n",
       "        <td id=\"T_22027226_14ea_11e9_a47f_9cb6d0eefd48row9_col8\" class=\"data row9 col8\" >0.0200846</td> \n",
       "        <td id=\"T_22027226_14ea_11e9_a47f_9cb6d0eefd48row9_col9\" class=\"data row9 col9\" >1</td> \n",
       "        <td id=\"T_22027226_14ea_11e9_a47f_9cb6d0eefd48row9_col10\" class=\"data row9 col10\" >-0.0416811</td> \n",
       "        <td id=\"T_22027226_14ea_11e9_a47f_9cb6d0eefd48row9_col11\" class=\"data row9 col11\" >-0.0201999</td> \n",
       "    </tr>    <tr> \n",
       "        <th id=\"T_22027226_14ea_11e9_a47f_9cb6d0eefd48level0_row10\" class=\"row_heading level0 row10\" >languages</th> \n",
       "        <td id=\"T_22027226_14ea_11e9_a47f_9cb6d0eefd48row10_col0\" class=\"data row10 col0\" >0.0355869</td> \n",
       "        <td id=\"T_22027226_14ea_11e9_a47f_9cb6d0eefd48row10_col1\" class=\"data row10 col1\" >0.00461435</td> \n",
       "        <td id=\"T_22027226_14ea_11e9_a47f_9cb6d0eefd48row10_col2\" class=\"data row10 col2\" >-0.00671336</td> \n",
       "        <td id=\"T_22027226_14ea_11e9_a47f_9cb6d0eefd48row10_col3\" class=\"data row10 col3\" >0.137675</td> \n",
       "        <td id=\"T_22027226_14ea_11e9_a47f_9cb6d0eefd48row10_col4\" class=\"data row10 col4\" >0.0132869</td> \n",
       "        <td id=\"T_22027226_14ea_11e9_a47f_9cb6d0eefd48row10_col5\" class=\"data row10 col5\" >0.0865073</td> \n",
       "        <td id=\"T_22027226_14ea_11e9_a47f_9cb6d0eefd48row10_col6\" class=\"data row10 col6\" >0.0881177</td> \n",
       "        <td id=\"T_22027226_14ea_11e9_a47f_9cb6d0eefd48row10_col7\" class=\"data row10 col7\" >0.0349131</td> \n",
       "        <td id=\"T_22027226_14ea_11e9_a47f_9cb6d0eefd48row10_col8\" class=\"data row10 col8\" >-0.0695084</td> \n",
       "        <td id=\"T_22027226_14ea_11e9_a47f_9cb6d0eefd48row10_col9\" class=\"data row10 col9\" >-0.0416811</td> \n",
       "        <td id=\"T_22027226_14ea_11e9_a47f_9cb6d0eefd48row10_col10\" class=\"data row10 col10\" >1</td> \n",
       "        <td id=\"T_22027226_14ea_11e9_a47f_9cb6d0eefd48row10_col11\" class=\"data row10 col11\" >-0.0427035</td> \n",
       "    </tr>    <tr> \n",
       "        <th id=\"T_22027226_14ea_11e9_a47f_9cb6d0eefd48level0_row11\" class=\"row_heading level0 row11\" >not_free</th> \n",
       "        <td id=\"T_22027226_14ea_11e9_a47f_9cb6d0eefd48row11_col0\" class=\"data row11 col0\" >0.0764325</td> \n",
       "        <td id=\"T_22027226_14ea_11e9_a47f_9cb6d0eefd48row11_col1\" class=\"data row11 col1\" >0.161979</td> \n",
       "        <td id=\"T_22027226_14ea_11e9_a47f_9cb6d0eefd48row11_col2\" class=\"data row11 col2\" >0.336317</td> \n",
       "        <td id=\"T_22027226_14ea_11e9_a47f_9cb6d0eefd48row11_col3\" class=\"data row11 col3\" >-0.102885</td> \n",
       "        <td id=\"T_22027226_14ea_11e9_a47f_9cb6d0eefd48row11_col4\" class=\"data row11 col4\" >-0.031604</td> \n",
       "        <td id=\"T_22027226_14ea_11e9_a47f_9cb6d0eefd48row11_col5\" class=\"data row11 col5\" >0.00181629</td> \n",
       "        <td id=\"T_22027226_14ea_11e9_a47f_9cb6d0eefd48row11_col6\" class=\"data row11 col6\" >-0.0028155</td> \n",
       "        <td id=\"T_22027226_14ea_11e9_a47f_9cb6d0eefd48row11_col7\" class=\"data row11 col7\" >-0.0114311</td> \n",
       "        <td id=\"T_22027226_14ea_11e9_a47f_9cb6d0eefd48row11_col8\" class=\"data row11 col8\" >-0.0708976</td> \n",
       "        <td id=\"T_22027226_14ea_11e9_a47f_9cb6d0eefd48row11_col9\" class=\"data row11 col9\" >-0.0201999</td> \n",
       "        <td id=\"T_22027226_14ea_11e9_a47f_9cb6d0eefd48row11_col10\" class=\"data row11 col10\" >-0.0427035</td> \n",
       "        <td id=\"T_22027226_14ea_11e9_a47f_9cb6d0eefd48row11_col11\" class=\"data row11 col11\" >1</td> \n",
       "    </tr></tbody> \n",
       "</table> "
      ],
      "text/plain": [
       "<pandas.io.formats.style.Styler at 0x1645ae1a080>"
      ]
     },
     "execution_count": 514,
     "metadata": {},
     "output_type": "execute_result"
    }
   ],
   "source": [
    "corr = dataset.corr()\n",
    "corr.style.background_gradient(cmap=\"Reds\")"
   ]
  },
  {
   "cell_type": "markdown",
   "metadata": {},
   "source": [
    "<font size = \"4\"><bold> 7.2) Chi Squared independence tests </bold></font>"
   ]
  },
  {
   "cell_type": "markdown",
   "metadata": {},
   "source": [
    "Liegt p_value<=0.05 wird Nullhypothese verworfen und es liegt ein statistisch signifikanter  Zusammenhang vor. Liegt der p_value darüber, hat man keinen signifikanten Zusammenhang."
   ]
  },
  {
   "cell_type": "markdown",
   "metadata": {},
   "source": [
    "Hier wird mit einer copy vom dataset gearbeitet, bei der alle Reihen mit missing values entfernt worden sind (Voraussetzung für chi squared)."
   ]
  },
  {
   "cell_type": "code",
   "execution_count": 515,
   "metadata": {},
   "outputs": [],
   "source": [
    "##dataset_tmp = dataset\n",
    "\n",
    "#for x in dataset_tmp[\"version\"]:\n",
    " #   if np.isnan(x):\n",
    "  #      dataset_tmp.drop(row, inplace=True)\n",
    "\n",
    "#dataset_tmp.dropna(0, inplace=True)"
   ]
  },
  {
   "cell_type": "markdown",
   "metadata": {},
   "source": [
    "Test size <-> Rating, we'll not use any chi squared tests! For demonstration only"
   ]
  },
  {
   "cell_type": "code",
   "execution_count": 516,
   "metadata": {},
   "outputs": [],
   "source": [
    "#dataset_tmp.shape\n",
    "\n",
    "#obs = np.array([dataset_tmp[\"size\"], dataset_tmp[\"rating\"]])\n",
    "\n",
    "#stats.chi2_contingency(obs)[0:3]"
   ]
  },
  {
   "cell_type": "markdown",
   "metadata": {},
   "source": [
    "<font size = \"4\"><bold> 7.3) Regressions</bold></font>"
   ]
  },
  {
   "cell_type": "code",
   "execution_count": 517,
   "metadata": {},
   "outputs": [
    {
     "name": "stdout",
     "output_type": "stream",
     "text": [
      "                            OLS Regression Results                            \n",
      "==============================================================================\n",
      "Dep. Variable:                 rating   R-squared:                       0.536\n",
      "Model:                            OLS   Adj. R-squared:                  0.533\n",
      "Method:                 Least Squares   F-statistic:                     204.9\n",
      "Date:                Thu, 10 Jan 2019   Prob (F-statistic):               0.00\n",
      "Time:                        16:12:23   Log-Likelihood:                -3975.3\n",
      "No. Observations:                5712   AIC:                             8017.\n",
      "Df Residuals:                    5679   BIC:                             8236.\n",
      "Df Model:                          32                                         \n",
      "Covariance Type:            nonrobust                                         \n",
      "=================================================================================================\n",
      "                                    coef    std err          t      P>|t|      [0.025      0.975]\n",
      "-------------------------------------------------------------------------------------------------\n",
      "Intercept                         1.8111      0.099     18.309      0.000       1.617       2.005\n",
      "category[T.Business]             -0.1907      0.098     -1.938      0.053      -0.384       0.002\n",
      "category[T.Catalogs]             -0.0479      0.227     -0.210      0.833      -0.494       0.398\n",
      "category[T.Education]            -0.1367      0.071     -1.924      0.054      -0.276       0.003\n",
      "category[T.Entertainment]        -0.2829      0.070     -4.029      0.000      -0.421      -0.145\n",
      "category[T.Finance]              -0.3511      0.099     -3.555      0.000      -0.545      -0.158\n",
      "category[T.Food & Drink]         -0.1587      0.101     -1.566      0.117      -0.357       0.040\n",
      "category[T.Games]                -0.0498      0.066     -0.751      0.453      -0.180       0.080\n",
      "category[T.Health & Fitness]     -0.0614      0.078     -0.793      0.428      -0.213       0.090\n",
      "category[T.Lifestyle]            -0.3068      0.084     -3.672      0.000      -0.471      -0.143\n",
      "category[T.Medical]              -0.2455      0.131     -1.877      0.061      -0.502       0.011\n",
      "category[T.Music]                -0.1448      0.079     -1.834      0.067      -0.299       0.010\n",
      "category[T.Navigation]            0.0953      0.116      0.820      0.412      -0.133       0.323\n",
      "category[T.News]                 -0.1847      0.098     -1.885      0.060      -0.377       0.007\n",
      "category[T.Photo & Video]        -0.0899      0.072     -1.251      0.211      -0.231       0.051\n",
      "category[T.Productivity]         -0.0912      0.077     -1.190      0.234      -0.241       0.059\n",
      "category[T.Reference]             0.0058      0.096      0.061      0.951      -0.182       0.194\n",
      "category[T.Shopping]             -0.0753      0.086     -0.879      0.379      -0.243       0.093\n",
      "category[T.Social Networking]    -0.2778      0.081     -3.413      0.001      -0.437      -0.118\n",
      "category[T.Sports]               -0.4108      0.085     -4.830      0.000      -0.578      -0.244\n",
      "category[T.Travel]               -0.3187      0.093     -3.426      0.001      -0.501      -0.136\n",
      "category[T.Utilities]            -0.2104      0.075     -2.814      0.005      -0.357      -0.064\n",
      "category[T.Weather]              -0.2248      0.092     -2.447      0.014      -0.405      -0.045\n",
      "price                             0.0013      0.001      0.930      0.352      -0.001       0.004\n",
      "size                          -2.444e-05   1.97e-05     -1.238      0.216   -6.31e-05    1.43e-05\n",
      "reviews                        1.892e-07   7.84e-08      2.412      0.016    3.54e-08    3.43e-07\n",
      "name_length                   -8.371e-05      0.000     -0.225      0.822      -0.001       0.001\n",
      "version                           0.0001      0.000      1.217      0.224   -8.34e-05       0.000\n",
      "current_rating                    0.5569      0.008     73.153      0.000       0.542       0.572\n",
      "current_reviews                2.937e-06   1.49e-06      1.970      0.049    1.51e-08    5.86e-06\n",
      "languages                         0.0028      0.001      3.490      0.000       0.001       0.004\n",
      "sup_devs                          0.0012      0.002      0.701      0.484      -0.002       0.005\n",
      "cont_rating                       0.0054      0.002      3.195      0.001       0.002       0.009\n",
      "==============================================================================\n",
      "Omnibus:                      644.904   Durbin-Watson:                   1.936\n",
      "Prob(Omnibus):                  0.000   Jarque-Bera (JB):             3066.438\n",
      "Skew:                          -0.452   Prob(JB):                         0.00\n",
      "Kurtosis:                       6.474   Cond. No.                     4.38e+06\n",
      "==============================================================================\n",
      "\n",
      "Warnings:\n",
      "[1] Standard Errors assume that the covariance matrix of the errors is correctly specified.\n",
      "[2] The condition number is large, 4.38e+06. This might indicate that there are\n",
      "strong multicollinearity or other numerical problems.\n"
     ]
    },
    {
     "name": "stderr",
     "output_type": "stream",
     "text": [
      "C:\\Users\\andre\\Anaconda3\\lib\\site-packages\\scipy\\stats\\stats.py:1713: FutureWarning: Using a non-tuple sequence for multidimensional indexing is deprecated; use `arr[tuple(seq)]` instead of `arr[seq]`. In the future this will be interpreted as an array index, `arr[np.array(seq)]`, which will result either in an error or a different result.\n",
      "  return np.add.reduce(sorted[indexer] * weights, axis=axis) / sumval\n"
     ]
    },
    {
     "data": {
      "text/plain": [
       "<matplotlib.axes._subplots.AxesSubplot at 0x1645ae70940>"
      ]
     },
     "execution_count": 517,
     "metadata": {},
     "output_type": "execute_result"
    },
    {
     "data": {
      "image/png": "[encoded data removed]",
      "text/plain": [
       "<Figure size 432x288 with 1 Axes>"
      ]
     },
     "metadata": {
      "needs_background": "light"
     },
     "output_type": "display_data"
    }
   ],
   "source": [
    "result = sm.ols(formula=\"rating ~ price + size + reviews + name_length + version + category + current_rating + current_reviews + languages + sup_devs + cont_rating\", data=dataset).fit()\n",
    "print(result.summary())\n",
    "sns.regplot(x=\"reviews\", y=\"name_length\", data = dataset)"
   ]
  },
  {
   "cell_type": "code",
   "execution_count": 518,
   "metadata": {},
   "outputs": [
    {
     "name": "stderr",
     "output_type": "stream",
     "text": [
      "C:\\Users\\andre\\Anaconda3\\lib\\site-packages\\scipy\\stats\\stats.py:1713: FutureWarning: Using a non-tuple sequence for multidimensional indexing is deprecated; use `arr[tuple(seq)]` instead of `arr[seq]`. In the future this will be interpreted as an array index, `arr[np.array(seq)]`, which will result either in an error or a different result.\n",
      "  return np.add.reduce(sorted[indexer] * weights, axis=axis) / sumval\n"
     ]
    },
    {
     "data": {
      "text/plain": [
       "<matplotlib.axes._subplots.AxesSubplot at 0x1645796da90>"
      ]
     },
     "execution_count": 518,
     "metadata": {},
     "output_type": "execute_result"
    },
    {
     "data": {
      "image/png": "[encoded data removed]",
      "text/plain": [
       "<Figure size 432x288 with 1 Axes>"
      ]
     },
     "metadata": {
      "needs_background": "light"
     },
     "output_type": "display_data"
    }
   ],
   "source": [
    "sns.regplot(x=\"price\", y=\"size\", data = dataset[dataset.price<30])"
   ]
  },
  {
   "cell_type": "code",
   "execution_count": null,
   "metadata": {},
   "outputs": [],
   "source": []
  },
  {
   "cell_type": "markdown",
   "metadata": {},
   "source": [
    "<font size = \"8\"><bold> Regression only with games data</bold></font>"
   ]
  },
  {
   "cell_type": "code",
   "execution_count": 519,
   "metadata": {},
   "outputs": [],
   "source": [
    "dataset_games = dataset[dataset[\"category\"]==\"Games\"]"
   ]
  },
  {
   "cell_type": "code",
   "execution_count": 520,
   "metadata": {},
   "outputs": [
    {
     "name": "stdout",
     "output_type": "stream",
     "text": [
      "                            OLS Regression Results                            \n",
      "==============================================================================\n",
      "Dep. Variable:                 rating   R-squared:                       0.533\n",
      "Model:                            OLS   Adj. R-squared:                  0.532\n",
      "Method:                 Least Squares   F-statistic:                     368.3\n",
      "Date:                Thu, 10 Jan 2019   Prob (F-statistic):               0.00\n",
      "Time:                        16:12:25   Log-Likelihood:                -1641.8\n",
      "No. Observations:                3234   AIC:                             3306.\n",
      "Df Residuals:                    3223   BIC:                             3373.\n",
      "Df Model:                          10                                         \n",
      "Covariance Type:            nonrobust                                         \n",
      "===================================================================================\n",
      "                      coef    std err          t      P>|t|      [0.025      0.975]\n",
      "-----------------------------------------------------------------------------------\n",
      "Intercept           1.4837      0.092     16.071      0.000       1.303       1.665\n",
      "price               0.0017      0.003      0.521      0.602      -0.005       0.008\n",
      "size             -1.72e-05   1.88e-05     -0.916      0.360    -5.4e-05    1.96e-05\n",
      "reviews          3.577e-07   9.49e-08      3.770      0.000    1.72e-07    5.44e-07\n",
      "name_length        -0.0014      0.000     -3.055      0.002      -0.002      -0.000\n",
      "version          8.369e-05      0.000      0.590      0.555      -0.000       0.000\n",
      "current_rating      0.6136      0.010     58.981      0.000       0.593       0.634\n",
      "current_reviews  1.463e-06    1.5e-06      0.975      0.330   -1.48e-06    4.41e-06\n",
      "sup_devs            0.0028      0.002      1.385      0.166      -0.001       0.007\n",
      "languages           0.0042      0.001      3.696      0.000       0.002       0.006\n",
      "cont_rating         0.0049      0.002      2.489      0.013       0.001       0.009\n",
      "==============================================================================\n",
      "Omnibus:                      480.016   Durbin-Watson:                   1.927\n",
      "Prob(Omnibus):                  0.000   Jarque-Bera (JB):             3251.314\n",
      "Skew:                          -0.518   Prob(JB):                         0.00\n",
      "Kurtosis:                       7.801   Cond. No.                     1.02e+06\n",
      "==============================================================================\n",
      "\n",
      "Warnings:\n",
      "[1] Standard Errors assume that the covariance matrix of the errors is correctly specified.\n",
      "[2] The condition number is large, 1.02e+06. This might indicate that there are\n",
      "strong multicollinearity or other numerical problems.\n"
     ]
    }
   ],
   "source": [
    "result = sm.ols(formula=\"rating ~ price + size + reviews + name_length + version + current_rating + current_reviews + sup_devs + languages + cont_rating\", data=dataset_games).fit()\n",
    "print(result.summary())"
   ]
  },
  {
   "cell_type": "markdown",
   "metadata": {},
   "source": [
    "<font size = \"7\"><bold> Regression only with entertainment data</bold></font>"
   ]
  },
  {
   "cell_type": "code",
   "execution_count": 521,
   "metadata": {},
   "outputs": [],
   "source": [
    "dataset_entertainment = dataset[dataset[\"category\"]==\"Entertainment\"]"
   ]
  },
  {
   "cell_type": "code",
   "execution_count": 522,
   "metadata": {},
   "outputs": [
    {
     "name": "stdout",
     "output_type": "stream",
     "text": [
      "                            OLS Regression Results                            \n",
      "==============================================================================\n",
      "Dep. Variable:                 rating   R-squared:                       0.511\n",
      "Model:                            OLS   Adj. R-squared:                  0.499\n",
      "Method:                 Least Squares   F-statistic:                     42.36\n",
      "Date:                Thu, 10 Jan 2019   Prob (F-statistic):           5.16e-57\n",
      "Time:                        16:12:25   Log-Likelihood:                -377.35\n",
      "No. Observations:                 417   AIC:                             776.7\n",
      "Df Residuals:                     406   BIC:                             821.1\n",
      "Df Model:                          10                                         \n",
      "Covariance Type:            nonrobust                                         \n",
      "===================================================================================\n",
      "                      coef    std err          t      P>|t|      [0.025      0.975]\n",
      "-----------------------------------------------------------------------------------\n",
      "Intercept           2.0266      0.301      6.729      0.000       1.435       2.619\n",
      "price              -0.0132      0.022     -0.612      0.541      -0.055       0.029\n",
      "size                0.0001      0.000      0.690      0.490      -0.000       0.001\n",
      "reviews         -1.092e-06   1.03e-06     -1.056      0.291   -3.12e-06     9.4e-07\n",
      "name_length        -0.0013      0.002     -0.762      0.447      -0.005       0.002\n",
      "version             0.0001      0.000      0.332      0.740      -0.001       0.001\n",
      "current_rating      0.5408      0.028     19.059      0.000       0.485       0.597\n",
      "current_reviews  8.688e-05   7.72e-05      1.126      0.261   -6.48e-05       0.000\n",
      "sup_devs           -0.0108      0.007     -1.468      0.143      -0.025       0.004\n",
      "languages           0.0093      0.004      2.324      0.021       0.001       0.017\n",
      "cont_rating         0.0040      0.007      0.618      0.537      -0.009       0.017\n",
      "==============================================================================\n",
      "Omnibus:                       21.602   Durbin-Watson:                   1.961\n",
      "Prob(Omnibus):                  0.000   Jarque-Bera (JB):               47.770\n",
      "Skew:                          -0.243   Prob(JB):                     4.24e-11\n",
      "Kurtosis:                       4.585   Cond. No.                     3.27e+05\n",
      "==============================================================================\n",
      "\n",
      "Warnings:\n",
      "[1] Standard Errors assume that the covariance matrix of the errors is correctly specified.\n",
      "[2] The condition number is large, 3.27e+05. This might indicate that there are\n",
      "strong multicollinearity or other numerical problems.\n"
     ]
    }
   ],
   "source": [
    "result = sm.ols(formula=\"rating ~ price + size + reviews + name_length + version + current_rating + current_reviews + sup_devs + languages + cont_rating\", data=dataset_entertainment).fit()\n",
    "print(result.summary())"
   ]
  },
  {
   "cell_type": "markdown",
   "metadata": {},
   "source": [
    "<font size = \"7\"><bold> Regression only with education data </bold></font>"
   ]
  },
  {
   "cell_type": "code",
   "execution_count": 523,
   "metadata": {},
   "outputs": [],
   "source": [
    "dataset_education = dataset[dataset[\"category\"]==\"Education\"]"
   ]
  },
  {
   "cell_type": "code",
   "execution_count": 524,
   "metadata": {},
   "outputs": [
    {
     "name": "stdout",
     "output_type": "stream",
     "text": [
      "                            OLS Regression Results                            \n",
      "==============================================================================\n",
      "Dep. Variable:                 rating   R-squared:                       0.541\n",
      "Model:                            OLS   Adj. R-squared:                  0.527\n",
      "Method:                 Least Squares   F-statistic:                     38.67\n",
      "Date:                Thu, 10 Jan 2019   Prob (F-statistic):           9.37e-50\n",
      "Time:                        16:12:25   Log-Likelihood:                -225.92\n",
      "No. Observations:                 339   AIC:                             473.8\n",
      "Df Residuals:                     328   BIC:                             515.9\n",
      "Df Model:                          10                                         \n",
      "Covariance Type:            nonrobust                                         \n",
      "===================================================================================\n",
      "                      coef    std err          t      P>|t|      [0.025      0.975]\n",
      "-----------------------------------------------------------------------------------\n",
      "Intercept           1.2349      0.251      4.924      0.000       0.742       1.728\n",
      "price               0.0014      0.002      0.716      0.474      -0.002       0.005\n",
      "size               -0.0002      0.000     -1.411      0.159      -0.000    8.06e-05\n",
      "reviews          2.942e-06   2.44e-06      1.208      0.228   -1.85e-06    7.73e-06\n",
      "name_length        -0.0016      0.001     -1.252      0.212      -0.004       0.001\n",
      "version             0.0181      0.017      1.091      0.276      -0.015       0.051\n",
      "current_rating      0.5549      0.030     18.395      0.000       0.496       0.614\n",
      "current_reviews -1.393e-05   8.36e-06     -1.666      0.097   -3.04e-05    2.52e-06\n",
      "sup_devs            0.0168      0.006      2.964      0.003       0.006       0.028\n",
      "languages          -0.0012      0.002     -0.530      0.597      -0.006       0.003\n",
      "cont_rating        -0.0085      0.018     -0.462      0.644      -0.044       0.028\n",
      "==============================================================================\n",
      "Omnibus:                       26.260   Durbin-Watson:                   1.946\n",
      "Prob(Omnibus):                  0.000   Jarque-Bera (JB):               93.107\n",
      "Skew:                           0.162   Prob(JB):                     6.05e-21\n",
      "Kurtosis:                       5.547   Cond. No.                     1.32e+05\n",
      "==============================================================================\n",
      "\n",
      "Warnings:\n",
      "[1] Standard Errors assume that the covariance matrix of the errors is correctly specified.\n",
      "[2] The condition number is large, 1.32e+05. This might indicate that there are\n",
      "strong multicollinearity or other numerical problems.\n"
     ]
    }
   ],
   "source": [
    "result = sm.ols(formula=\"rating ~ price + size + reviews + name_length + version + current_rating + current_reviews + sup_devs + languages + cont_rating\", data=dataset_education).fit()\n",
    "print(result.summary())"
   ]
  },
  {
   "cell_type": "markdown",
   "metadata": {},
   "source": [
    "<font size = \"10\"><bold> Regression with only photo & video data</bold></font>\n"
   ]
  },
  {
   "cell_type": "code",
   "execution_count": 525,
   "metadata": {},
   "outputs": [],
   "source": [
    "dataset_photo_video = dataset[dataset[\"category\"]==\"Photo & Video\"]"
   ]
  },
  {
   "cell_type": "code",
   "execution_count": 526,
   "metadata": {},
   "outputs": [
    {
     "name": "stdout",
     "output_type": "stream",
     "text": [
      "                            OLS Regression Results                            \n",
      "==============================================================================\n",
      "Dep. Variable:                 rating   R-squared:                       0.605\n",
      "Model:                            OLS   Adj. R-squared:                  0.591\n",
      "Method:                 Least Squares   F-statistic:                     42.94\n",
      "Date:                Thu, 10 Jan 2019   Prob (F-statistic):           7.06e-51\n",
      "Time:                        16:12:25   Log-Likelihood:                -195.25\n",
      "No. Observations:                 291   AIC:                             412.5\n",
      "Df Residuals:                     280   BIC:                             452.9\n",
      "Df Model:                          10                                         \n",
      "Covariance Type:            nonrobust                                         \n",
      "===================================================================================\n",
      "                      coef    std err          t      P>|t|      [0.025      0.975]\n",
      "-----------------------------------------------------------------------------------\n",
      "Intercept           1.6672      0.356      4.678      0.000       0.966       2.369\n",
      "price              -0.0068      0.014     -0.480      0.632      -0.035       0.021\n",
      "size                0.0005      0.001      0.888      0.375      -0.001       0.002\n",
      "reviews          2.096e-07   2.35e-07      0.890      0.374   -2.54e-07    6.73e-07\n",
      "name_length         0.0025      0.001      1.705      0.089      -0.000       0.005\n",
      "version            -0.0100      0.014     -0.700      0.485      -0.038       0.018\n",
      "current_rating      0.5977      0.031     19.191      0.000       0.536       0.659\n",
      "current_reviews  1.438e-05    3.2e-05      0.449      0.654   -4.87e-05    7.74e-05\n",
      "sup_devs           -0.0035      0.009     -0.385      0.701      -0.021       0.014\n",
      "languages          -0.0010      0.003     -0.316      0.752      -0.007       0.005\n",
      "cont_rating         0.0069      0.009      0.761      0.447      -0.011       0.025\n",
      "==============================================================================\n",
      "Omnibus:                       49.585   Durbin-Watson:                   1.842\n",
      "Prob(Omnibus):                  0.000   Jarque-Bera (JB):              195.898\n",
      "Skew:                          -0.639   Prob(JB):                     2.89e-43\n",
      "Kurtosis:                       6.811   Cond. No.                     1.63e+06\n",
      "==============================================================================\n",
      "\n",
      "Warnings:\n",
      "[1] Standard Errors assume that the covariance matrix of the errors is correctly specified.\n",
      "[2] The condition number is large, 1.63e+06. This might indicate that there are\n",
      "strong multicollinearity or other numerical problems.\n"
     ]
    }
   ],
   "source": [
    "result = sm.ols(formula=\"rating ~ price + size + reviews + name_length + version + current_rating + current_reviews + sup_devs + languages + cont_rating\", data=dataset_photo_video).fit()\n",
    "print(result.summary())"
   ]
  },
  {
   "cell_type": "code",
   "execution_count": null,
   "metadata": {},
   "outputs": [],
   "source": []
  },
  {
   "cell_type": "markdown",
   "metadata": {},
   "source": [
    "<font size = \"10\"><bold> Regression with only utilitites data</bold></font>"
   ]
  },
  {
   "cell_type": "code",
   "execution_count": 527,
   "metadata": {},
   "outputs": [],
   "source": [
    "dataset_utilities = dataset[dataset[\"category\"]==\"Utilities\"]"
   ]
  },
  {
   "cell_type": "code",
   "execution_count": 528,
   "metadata": {},
   "outputs": [
    {
     "name": "stdout",
     "output_type": "stream",
     "text": [
      "                            OLS Regression Results                            \n",
      "==============================================================================\n",
      "Dep. Variable:                 rating   R-squared:                       0.495\n",
      "Model:                            OLS   Adj. R-squared:                  0.468\n",
      "Method:                 Least Squares   F-statistic:                     18.14\n",
      "Date:                Thu, 10 Jan 2019   Prob (F-statistic):           7.53e-23\n",
      "Time:                        16:12:25   Log-Likelihood:                -192.85\n",
      "No. Observations:                 196   AIC:                             407.7\n",
      "Df Residuals:                     185   BIC:                             443.8\n",
      "Df Model:                          10                                         \n",
      "Covariance Type:            nonrobust                                         \n",
      "===================================================================================\n",
      "                      coef    std err          t      P>|t|      [0.025      0.975]\n",
      "-----------------------------------------------------------------------------------\n",
      "Intercept           1.8935      0.566      3.343      0.001       0.776       3.011\n",
      "price              -0.0376      0.024     -1.598      0.112      -0.084       0.009\n",
      "size                0.0017      0.001      1.323      0.188      -0.001       0.004\n",
      "reviews         -9.293e-07   1.43e-06     -0.649      0.517   -3.76e-06     1.9e-06\n",
      "name_length         0.0044      0.003      1.600      0.111      -0.001       0.010\n",
      "version             0.0029      0.012      0.246      0.806      -0.020       0.026\n",
      "current_rating      0.5109      0.043     11.913      0.000       0.426       0.596\n",
      "current_reviews  4.742e-06    6.3e-06      0.752      0.453    -7.7e-06    1.72e-05\n",
      "sup_devs           -0.0045      0.014     -0.326      0.745      -0.032       0.023\n",
      "languages           0.0083      0.005      1.565      0.119      -0.002       0.019\n",
      "cont_rating        -0.0131      0.010     -1.325      0.187      -0.033       0.006\n",
      "==============================================================================\n",
      "Omnibus:                        9.833   Durbin-Watson:                   1.927\n",
      "Prob(Omnibus):                  0.007   Jarque-Bera (JB):               19.190\n",
      "Skew:                          -0.147   Prob(JB):                     6.81e-05\n",
      "Kurtosis:                       4.505   Cond. No.                     4.72e+05\n",
      "==============================================================================\n",
      "\n",
      "Warnings:\n",
      "[1] Standard Errors assume that the covariance matrix of the errors is correctly specified.\n",
      "[2] The condition number is large, 4.72e+05. This might indicate that there are\n",
      "strong multicollinearity or other numerical problems.\n"
     ]
    }
   ],
   "source": [
    "result = sm.ols(formula=\"rating ~ price + size + reviews + name_length + version + current_rating + current_reviews + sup_devs + languages + cont_rating\", data=dataset_utilities).fit()\n",
    "print(result.summary())"
   ]
  },
  {
   "cell_type": "code",
   "execution_count": null,
   "metadata": {},
   "outputs": [],
   "source": []
  },
  {
   "cell_type": "markdown",
   "metadata": {},
   "source": [
    "<font size = \"10\"><bold> Regression with only paid apps</bold></font>"
   ]
  },
  {
   "cell_type": "code",
   "execution_count": 529,
   "metadata": {},
   "outputs": [
    {
     "name": "stdout",
     "output_type": "stream",
     "text": [
      "                            OLS Regression Results                            \n",
      "==============================================================================\n",
      "Dep. Variable:                 rating   R-squared:                       0.577\n",
      "Model:                            OLS   Adj. R-squared:                  0.572\n",
      "Method:                 Least Squares   F-statistic:                     112.9\n",
      "Date:                Thu, 10 Jan 2019   Prob (F-statistic):               0.00\n",
      "Time:                        16:12:25   Log-Likelihood:                -1781.8\n",
      "No. Observations:                2682   AIC:                             3630.\n",
      "Df Residuals:                    2649   BIC:                             3824.\n",
      "Df Model:                          32                                         \n",
      "Covariance Type:            nonrobust                                         \n",
      "=================================================================================================\n",
      "                                    coef    std err          t      P>|t|      [0.025      0.975]\n",
      "-------------------------------------------------------------------------------------------------\n",
      "Intercept                         1.5924      0.126     12.686      0.000       1.346       1.839\n",
      "category[T.Business]             -0.2468      0.117     -2.103      0.036      -0.477      -0.017\n",
      "category[T.Catalogs]             -0.2944      0.481     -0.612      0.540      -1.237       0.648\n",
      "category[T.Education]            -0.1404      0.087     -1.611      0.107      -0.311       0.030\n",
      "category[T.Entertainment]        -0.2933      0.090     -3.267      0.001      -0.469      -0.117\n",
      "category[T.Finance]               0.1823      0.186      0.979      0.328      -0.183       0.547\n",
      "category[T.Food & Drink]          0.0588      0.155      0.379      0.704      -0.245       0.363\n",
      "category[T.Games]                -0.0997      0.083     -1.204      0.229      -0.262       0.063\n",
      "category[T.Health & Fitness]     -0.0204      0.096     -0.211      0.833      -0.210       0.169\n",
      "category[T.Lifestyle]            -0.3636      0.111     -3.279      0.001      -0.581      -0.146\n",
      "category[T.Medical]              -0.3113      0.154     -2.023      0.043      -0.613      -0.010\n",
      "category[T.Music]                -0.1098      0.102     -1.077      0.282      -0.310       0.090\n",
      "category[T.Navigation]            0.0730      0.141      0.517      0.605      -0.204       0.350\n",
      "category[T.News]                 -0.1630      0.165     -0.989      0.323      -0.486       0.160\n",
      "category[T.Photo & Video]        -0.1621      0.090     -1.801      0.072      -0.339       0.014\n",
      "category[T.Productivity]         -0.0770      0.094     -0.818      0.413      -0.262       0.108\n",
      "category[T.Reference]             0.1149      0.116      0.990      0.322      -0.113       0.343\n",
      "category[T.Shopping]             -0.2332      0.480     -0.486      0.627      -1.175       0.709\n",
      "category[T.Social Networking]    -0.4722      0.139     -3.395      0.001      -0.745      -0.199\n",
      "category[T.Sports]               -0.3933      0.123     -3.208      0.001      -0.634      -0.153\n",
      "category[T.Travel]               -0.4374      0.136     -3.213      0.001      -0.704      -0.170\n",
      "category[T.Utilities]            -0.2712      0.094     -2.899      0.004      -0.455      -0.088\n",
      "category[T.Weather]              -0.2684      0.114     -2.363      0.018      -0.491      -0.046\n",
      "price                             0.0018      0.002      1.180      0.238      -0.001       0.005\n",
      "size                          -1.375e-05   2.24e-05     -0.614      0.539   -5.77e-05    3.02e-05\n",
      "reviews                        1.006e-06   3.53e-07      2.849      0.004    3.14e-07     1.7e-06\n",
      "name_length                      -0.0009      0.000     -1.905      0.057      -0.002    2.66e-05\n",
      "version                           0.0001      0.000      0.605      0.545      -0.000       0.000\n",
      "current_rating                    0.5986      0.011     54.780      0.000       0.577       0.620\n",
      "current_reviews                -2.58e-08   2.52e-06     -0.010      0.992   -4.96e-06    4.91e-06\n",
      "sup_devs                          0.0036      0.002      1.776      0.076      -0.000       0.008\n",
      "languages                         0.0027      0.001      2.074      0.038       0.000       0.005\n",
      "cont_rating                       0.0051      0.003      1.976      0.048    3.85e-05       0.010\n",
      "==============================================================================\n",
      "Omnibus:                      308.005   Durbin-Watson:                   1.921\n",
      "Prob(Omnibus):                  0.000   Jarque-Bera (JB):             1887.075\n",
      "Skew:                          -0.357   Prob(JB):                         0.00\n",
      "Kurtosis:                       7.047   Cond. No.                     1.57e+06\n",
      "==============================================================================\n",
      "\n",
      "Warnings:\n",
      "[1] Standard Errors assume that the covariance matrix of the errors is correctly specified.\n",
      "[2] The condition number is large, 1.57e+06. This might indicate that there are\n",
      "strong multicollinearity or other numerical problems.\n"
     ]
    }
   ],
   "source": [
    "dataset_paid = dataset[dataset[\"not_free\"]==1]\n",
    "result = sm.ols(formula=\"rating ~ price + size + reviews + name_length + version + current_rating + current_reviews + sup_devs + languages + cont_rating + category\", data=dataset_paid).fit()\n",
    "print(result.summary())"
   ]
  },
  {
   "cell_type": "code",
   "execution_count": 530,
   "metadata": {},
   "outputs": [
    {
     "name": "stdout",
     "output_type": "stream",
     "text": [
      "                            OLS Regression Results                            \n",
      "==============================================================================\n",
      "Dep. Variable:                   size   R-squared:                       0.241\n",
      "Model:                            OLS   Adj. R-squared:                  0.231\n",
      "Method:                 Least Squares   F-statistic:                     26.23\n",
      "Date:                Thu, 10 Jan 2019   Prob (F-statistic):          1.48e-133\n",
      "Time:                        16:12:25   Log-Likelihood:                -19928.\n",
      "No. Observations:                2682   AIC:                         3.992e+04\n",
      "Df Residuals:                    2649   BIC:                         4.012e+04\n",
      "Df Model:                          32                                         \n",
      "Covariance Type:            nonrobust                                         \n",
      "=================================================================================================\n",
      "                                    coef    std err          t      P>|t|      [0.025      0.975]\n",
      "-------------------------------------------------------------------------------------------------\n",
      "Intercept                       889.1215    110.829      8.022      0.000     671.802    1106.441\n",
      "category[T.Business]           -419.4034    101.589     -4.128      0.000    -618.606    -220.201\n",
      "category[T.Catalogs]           -528.0297    417.070     -1.266      0.206   -1345.846     289.787\n",
      "category[T.Education]          -171.0082     75.578     -2.263      0.024    -319.207     -22.809\n",
      "category[T.Entertainment]      -280.8297     77.867     -3.607      0.000    -433.515    -128.144\n",
      "category[T.Finance]            -285.1959    161.506     -1.766      0.078    -601.887      31.495\n",
      "category[T.Food & Drink]       -409.1749    134.289     -3.047      0.002    -672.497    -145.853\n",
      "category[T.Games]                11.3788     71.859      0.158      0.874    -129.527     152.284\n",
      "category[T.Health & Fitness]   -356.8117     83.438     -4.276      0.000    -520.422    -193.202\n",
      "category[T.Lifestyle]          -313.3538     96.212     -3.257      0.001    -502.013    -124.695\n",
      "category[T.Medical]             -87.5699    133.562     -0.656      0.512    -349.466     174.326\n",
      "category[T.Music]              -329.0820     88.281     -3.728      0.000    -502.189    -155.975\n",
      "category[T.Navigation]         -425.1946    122.244     -3.478      0.001    -664.897    -185.492\n",
      "category[T.News]               -420.7843    142.792     -2.947      0.003    -700.779    -140.789\n",
      "category[T.Photo & Video]      -308.7169     77.892     -3.963      0.000    -461.453    -155.981\n",
      "category[T.Productivity]       -389.8338     81.322     -4.794      0.000    -549.295    -230.372\n",
      "category[T.Reference]          -298.2609    100.614     -2.964      0.003    -495.550    -100.972\n",
      "category[T.Shopping]           -249.4944    416.660     -0.599      0.549   -1066.506     567.517\n",
      "category[T.Social Networking]  -423.2014    120.651     -3.508      0.000    -659.780    -186.623\n",
      "category[T.Sports]             -374.4767    106.317     -3.522      0.000    -582.950    -166.003\n",
      "category[T.Travel]             -378.2387    118.134     -3.202      0.001    -609.883    -146.594\n",
      "category[T.Utilities]          -386.7715     80.928     -4.779      0.000    -545.460    -228.083\n",
      "category[T.Weather]            -330.9556     98.418     -3.363      0.001    -523.939    -137.972\n",
      "price                            11.9704      1.305      9.172      0.000       9.411      14.529\n",
      "rating                          -10.3505     16.856     -0.614      0.539     -43.403      22.702\n",
      "reviews                          -0.0006      0.000     -2.089      0.037      -0.001   -3.92e-05\n",
      "name_length                       3.0466      0.408      7.474      0.000       2.247       3.846\n",
      "version                          -0.0984      0.147     -0.670      0.503      -0.387       0.190\n",
      "current_rating                    0.3421     13.845      0.025      0.980     -26.806      27.490\n",
      "current_reviews                   0.0023      0.002      1.050      0.294      -0.002       0.007\n",
      "sup_devs                        -19.9325      1.739    -11.465      0.000     -23.342     -16.523\n",
      "languages                         2.7907      1.131      2.467      0.014       0.573       5.008\n",
      "cont_rating                      22.3440      2.215     10.088      0.000      18.001      26.687\n",
      "==============================================================================\n",
      "Omnibus:                     1853.527   Durbin-Watson:                   1.926\n",
      "Prob(Omnibus):                  0.000   Jarque-Bera (JB):            32534.969\n",
      "Skew:                           3.074   Prob(JB):                         0.00\n",
      "Kurtosis:                      18.916   Cond. No.                     1.57e+06\n",
      "==============================================================================\n",
      "\n",
      "Warnings:\n",
      "[1] Standard Errors assume that the covariance matrix of the errors is correctly specified.\n",
      "[2] The condition number is large, 1.57e+06. This might indicate that there are\n",
      "strong multicollinearity or other numerical problems.\n"
     ]
    }
   ],
   "source": [
    "dataset_paid = dataset[dataset[\"not_free\"]==1]\n",
    "result = sm.ols(formula=\"size ~ price + rating + reviews + name_length + version + current_rating + current_reviews + sup_devs + languages + cont_rating + category\", data=dataset_paid).fit()\n",
    "print(result.summary())"
   ]
  },
  {
   "cell_type": "code",
   "execution_count": 531,
   "metadata": {},
   "outputs": [
    {
     "name": "stdout",
     "output_type": "stream",
     "text": [
      "                            OLS Regression Results                            \n",
      "==============================================================================\n",
      "Dep. Variable:                reviews   R-squared:                       0.145\n",
      "Model:                            OLS   Adj. R-squared:                  0.134\n",
      "Method:                 Least Squares   F-statistic:                     14.00\n",
      "Date:                Thu, 10 Jan 2019   Prob (F-statistic):           2.09e-68\n",
      "Time:                        16:12:25   Log-Likelihood:                -31053.\n",
      "No. Observations:                2682   AIC:                         6.217e+04\n",
      "Df Residuals:                    2649   BIC:                         6.237e+04\n",
      "Df Model:                          32                                         \n",
      "Covariance Type:            nonrobust                                         \n",
      "=================================================================================================\n",
      "                                    coef    std err          t      P>|t|      [0.025      0.975]\n",
      "-------------------------------------------------------------------------------------------------\n",
      "Intercept                     -1419.8399   7101.445     -0.200      0.842   -1.53e+04    1.25e+04\n",
      "category[T.Business]           2576.2366   6452.283      0.399      0.690   -1.01e+04    1.52e+04\n",
      "category[T.Catalogs]            175.8980   2.64e+04      0.007      0.995   -5.16e+04     5.2e+04\n",
      "category[T.Education]          -583.9476   4789.625     -0.122      0.903   -9975.731    8807.836\n",
      "category[T.Entertainment]      1679.2451   4941.868      0.340      0.734   -8011.066    1.14e+04\n",
      "category[T.Finance]           -1926.5945   1.02e+04     -0.188      0.851    -2.2e+04    1.81e+04\n",
      "category[T.Food & Drink]       -606.5571   8516.988     -0.071      0.943   -1.73e+04    1.61e+04\n",
      "category[T.Games]              5048.6593   4548.502      1.110      0.267   -3870.317     1.4e+04\n",
      "category[T.Health & Fitness]   1270.2544   5300.760      0.240      0.811   -9123.793    1.17e+04\n",
      "category[T.Lifestyle]           271.5119   6103.566      0.044      0.965   -1.17e+04    1.22e+04\n",
      "category[T.Medical]            1921.8834   8456.669      0.227      0.820   -1.47e+04    1.85e+04\n",
      "category[T.Music]              1494.5432   5603.809      0.267      0.790   -9493.742    1.25e+04\n",
      "category[T.Navigation]         -153.2361   7757.131     -0.020      0.984   -1.54e+04    1.51e+04\n",
      "category[T.News]               2866.6413   9055.071      0.317      0.752   -1.49e+04    2.06e+04\n",
      "category[T.Photo & Video]       697.8429   4946.082      0.141      0.888   -9000.732    1.04e+04\n",
      "category[T.Productivity]        525.2882   5170.937      0.102      0.919   -9614.194    1.07e+04\n",
      "category[T.Reference]           667.9541   6380.581      0.105      0.917   -1.18e+04    1.32e+04\n",
      "category[T.Shopping]           1232.4637   2.64e+04      0.047      0.963   -5.05e+04     5.3e+04\n",
      "category[T.Social Networking]    78.0589   7656.336      0.010      0.992   -1.49e+04    1.51e+04\n",
      "category[T.Sports]              466.7355   6746.887      0.069      0.945   -1.28e+04    1.37e+04\n",
      "category[T.Travel]             -345.0568   7493.746     -0.046      0.963    -1.5e+04    1.43e+04\n",
      "category[T.Utilities]           850.4592   5145.724      0.165      0.869   -9239.584    1.09e+04\n",
      "category[T.Weather]            1649.4637   6244.222      0.264      0.792   -1.06e+04    1.39e+04\n",
      "price                           -40.9960     83.925     -0.488      0.625    -205.562     123.570\n",
      "size                             -2.5674      1.229     -2.089      0.037      -4.978      -0.157\n",
      "rating                         3036.1996   1065.637      2.849      0.004     946.636    5125.764\n",
      "name_length                     -46.5561     26.062     -1.786      0.074     -97.660       4.547\n",
      "version                           1.2516      9.310      0.134      0.893     -17.003      19.507\n",
      "current_rating                -1455.1322    876.092     -1.661      0.097   -3173.026     262.761\n",
      "current_reviews                   2.5482      0.129     19.742      0.000       2.295       2.801\n",
      "sup_devs                        -65.4855    112.764     -0.581      0.561    -286.599     155.628\n",
      "languages                       112.3197     71.656      1.567      0.117     -28.188     252.827\n",
      "cont_rating                     -46.4243    142.899     -0.325      0.745    -326.628     233.780\n",
      "==============================================================================\n",
      "Omnibus:                     5352.477   Durbin-Watson:                   1.937\n",
      "Prob(Omnibus):                  0.000   Jarque-Bera (JB):         11813464.264\n",
      "Skew:                          15.967   Prob(JB):                         0.00\n",
      "Kurtosis:                     326.564   Cond. No.                     2.18e+05\n",
      "==============================================================================\n",
      "\n",
      "Warnings:\n",
      "[1] Standard Errors assume that the covariance matrix of the errors is correctly specified.\n",
      "[2] The condition number is large, 2.18e+05. This might indicate that there are\n",
      "strong multicollinearity or other numerical problems.\n"
     ]
    }
   ],
   "source": [
    "dataset_paid = dataset[dataset[\"not_free\"]==1]\n",
    "result = sm.ols(formula=\"reviews ~ price + size + rating + name_length + version + current_rating + current_reviews + sup_devs + languages + cont_rating + category\", data=dataset_paid).fit()\n",
    "print(result.summary())"
   ]
  },
  {
   "cell_type": "markdown",
   "metadata": {},
   "source": [
    "<font size = \"10\"><bold> Regression with only free apps </bold></font>"
   ]
  },
  {
   "cell_type": "code",
   "execution_count": 532,
   "metadata": {},
   "outputs": [
    {
     "name": "stdout",
     "output_type": "stream",
     "text": [
      "                            OLS Regression Results                            \n",
      "==============================================================================\n",
      "Dep. Variable:                 rating   R-squared:                       0.513\n",
      "Model:                            OLS   Adj. R-squared:                  0.508\n",
      "Method:                 Least Squares   F-statistic:                     101.8\n",
      "Date:                Thu, 10 Jan 2019   Prob (F-statistic):               0.00\n",
      "Time:                        16:12:25   Log-Likelihood:                -2141.2\n",
      "No. Observations:                3030   AIC:                             4346.\n",
      "Df Residuals:                    2998   BIC:                             4539.\n",
      "Df Model:                          31                                         \n",
      "Covariance Type:            nonrobust                                         \n",
      "=================================================================================================\n",
      "                                    coef    std err          t      P>|t|      [0.025      0.975]\n",
      "-------------------------------------------------------------------------------------------------\n",
      "Intercept                         2.0566      0.162     12.726      0.000       1.740       2.373\n",
      "category[T.Business]             -0.0775      0.175     -0.443      0.658      -0.421       0.266\n",
      "category[T.Catalogs]             -0.0013      0.269     -0.005      0.996      -0.530       0.527\n",
      "category[T.Education]            -0.1485      0.120     -1.242      0.214      -0.383       0.086\n",
      "category[T.Entertainment]        -0.2643      0.112     -2.351      0.019      -0.485      -0.044\n",
      "category[T.Finance]              -0.4620      0.136     -3.399      0.001      -0.729      -0.195\n",
      "category[T.Food & Drink]         -0.2420      0.144     -1.682      0.093      -0.524       0.040\n",
      "category[T.Games]                 0.0066      0.109      0.060      0.952      -0.206       0.220\n",
      "category[T.Health & Fitness]     -0.1186      0.126     -0.938      0.348      -0.366       0.129\n",
      "category[T.Lifestyle]            -0.2706      0.128     -2.106      0.035      -0.522      -0.019\n",
      "category[T.Medical]              -0.0113      0.246     -0.046      0.963      -0.493       0.471\n",
      "category[T.Music]                -0.1744      0.124     -1.406      0.160      -0.418       0.069\n",
      "category[T.Navigation]            0.1485      0.197      0.753      0.451      -0.238       0.535\n",
      "category[T.News]                 -0.1904      0.137     -1.394      0.163      -0.458       0.077\n",
      "category[T.Photo & Video]        -0.0091      0.117     -0.078      0.938      -0.238       0.220\n",
      "category[T.Productivity]         -0.1018      0.128     -0.795      0.427      -0.353       0.149\n",
      "category[T.Reference]            -0.2199      0.164     -1.338      0.181      -0.542       0.102\n",
      "category[T.Shopping]             -0.0483      0.121     -0.398      0.691      -0.287       0.190\n",
      "category[T.Social Networking]    -0.2157      0.120     -1.798      0.072      -0.451       0.020\n",
      "category[T.Sports]               -0.4159      0.127     -3.280      0.001      -0.664      -0.167\n",
      "category[T.Travel]               -0.2464      0.136     -1.814      0.070      -0.513       0.020\n",
      "category[T.Utilities]            -0.0860      0.121     -0.708      0.479      -0.324       0.152\n",
      "category[T.Weather]              -0.1658      0.151     -1.096      0.273      -0.463       0.131\n",
      "price                          4.936e-15   7.32e-15      0.674      0.500   -9.42e-15    1.93e-14\n",
      "size                           1.734e-05    4.3e-05      0.404      0.687   -6.69e-05       0.000\n",
      "reviews                        1.715e-07   8.24e-08      2.081      0.038    9.89e-09    3.33e-07\n",
      "name_length                       0.0015      0.001      2.543      0.011       0.000       0.003\n",
      "version                           0.0002      0.000      1.137      0.256      -0.000       0.000\n",
      "current_rating                    0.5169      0.011     48.602      0.000       0.496       0.538\n",
      "current_reviews                3.524e-06   1.91e-06      1.845      0.065   -2.21e-07    7.27e-06\n",
      "sup_devs                         -0.0031      0.003     -1.048      0.295      -0.009       0.003\n",
      "languages                         0.0023      0.001      2.216      0.027       0.000       0.004\n",
      "cont_rating                       0.0053      0.002      2.319      0.020       0.001       0.010\n",
      "==============================================================================\n",
      "Omnibus:                      349.421   Durbin-Watson:                   1.904\n",
      "Prob(Omnibus):                  0.000   Jarque-Bera (JB):             1224.935\n",
      "Skew:                          -0.556   Prob(JB):                    1.02e-266\n",
      "Kurtosis:                       5.910   Cond. No.                     1.03e+16\n",
      "==============================================================================\n",
      "\n",
      "Warnings:\n",
      "[1] Standard Errors assume that the covariance matrix of the errors is correctly specified.\n",
      "[2] The smallest eigenvalue is 3.8e-19. This might indicate that there are\n",
      "strong multicollinearity problems or that the design matrix is singular.\n"
     ]
    }
   ],
   "source": [
    "dataset_free = dataset[dataset[\"not_free\"]==0]\n",
    "result = sm.ols(formula=\"rating ~ price + size + reviews + name_length + version + current_rating + current_reviews + sup_devs + languages + cont_rating + category\", data=dataset_free).fit()\n",
    "print(result.summary())"
   ]
  },
  {
   "cell_type": "code",
   "execution_count": 533,
   "metadata": {},
   "outputs": [
    {
     "name": "stdout",
     "output_type": "stream",
     "text": [
      "                            OLS Regression Results                            \n",
      "==============================================================================\n",
      "Dep. Variable:                   size   R-squared:                       0.100\n",
      "Model:                            OLS   Adj. R-squared:                  0.091\n",
      "Method:                 Least Squares   F-statistic:                     10.74\n",
      "Date:                Thu, 10 Jan 2019   Prob (F-statistic):           3.43e-49\n",
      "Time:                        16:12:25   Log-Likelihood:                -20480.\n",
      "No. Observations:                3030   AIC:                         4.102e+04\n",
      "Df Residuals:                    2998   BIC:                         4.122e+04\n",
      "Df Model:                          31                                         \n",
      "Covariance Type:            nonrobust                                         \n",
      "=================================================================================================\n",
      "                                    coef    std err          t      P>|t|      [0.025      0.975]\n",
      "-------------------------------------------------------------------------------------------------\n",
      "Intercept                       183.3119     70.452      2.602      0.009      45.173     321.451\n",
      "category[T.Business]            -29.7332     74.405     -0.400      0.689    -175.623     116.157\n",
      "category[T.Catalogs]            -19.0380    114.519     -0.166      0.868    -243.582     205.506\n",
      "category[T.Education]            84.6490     50.810      1.666      0.096     -14.976     184.274\n",
      "category[T.Entertainment]        18.7068     47.824      0.391      0.696     -75.065     112.479\n",
      "category[T.Finance]              32.7413     57.894      0.566      0.572     -80.775     146.258\n",
      "category[T.Food & Drink]          8.9127     61.193      0.146      0.884    -111.072     128.897\n",
      "category[T.Games]               128.5772     46.110      2.788      0.005      38.166     218.988\n",
      "category[T.Health & Fitness]      6.2367     53.738      0.116      0.908     -99.131     111.604\n",
      "category[T.Lifestyle]           -17.2374     54.655     -0.315      0.752    -124.403      89.928\n",
      "category[T.Medical]              77.3716    104.507      0.740      0.459    -127.542     282.285\n",
      "category[T.Music]               -15.9329     52.738     -0.302      0.763    -119.340      87.474\n",
      "category[T.Navigation]            1.2019     83.811      0.014      0.989    -163.132     165.535\n",
      "category[T.News]                -43.0654     58.097     -0.741      0.459    -156.980      70.849\n",
      "category[T.Photo & Video]       -15.6099     49.594     -0.315      0.753    -112.851      81.632\n",
      "category[T.Productivity]         32.4318     54.468      0.595      0.552     -74.367     139.231\n",
      "category[T.Reference]             5.0314     69.875      0.072      0.943    -131.976     142.039\n",
      "category[T.Shopping]             21.0403     51.643      0.407      0.684     -80.219     122.299\n",
      "category[T.Social Networking]   -34.7209     51.043     -0.680      0.496    -134.803      65.361\n",
      "category[T.Sports]               24.7497     53.991      0.458      0.647     -81.114     130.613\n",
      "category[T.Travel]               16.2700     57.769      0.282      0.778     -97.000     129.540\n",
      "category[T.Utilities]           -28.3548     51.579     -0.550      0.583    -129.489      72.780\n",
      "category[T.Weather]              -0.2610     64.342     -0.004      0.997    -126.421     125.899\n",
      "price                           6.29e-12   3.94e-12      1.595      0.111   -1.44e-12     1.4e-11\n",
      "rating                            3.1329      7.764      0.404      0.687     -12.090      18.355\n",
      "reviews                        8.208e-05    3.5e-05      2.343      0.019    1.34e-05       0.000\n",
      "name_length                       0.2240      0.255      0.879      0.380      -0.276       0.724\n",
      "version                          -0.0183      0.063     -0.288      0.774      -0.143       0.106\n",
      "current_rating                    8.9282      6.043      1.477      0.140      -2.920      20.777\n",
      "current_reviews                  -0.0001      0.001     -0.162      0.871      -0.002       0.001\n",
      "sup_devs                         -6.0490      1.261     -4.796      0.000      -8.522      -3.576\n",
      "languages                         2.3592      0.446      5.288      0.000       1.484       3.234\n",
      "cont_rating                       7.8802      0.953      8.267      0.000       6.011       9.749\n",
      "==============================================================================\n",
      "Omnibus:                     3081.226   Durbin-Watson:                   1.982\n",
      "Prob(Omnibus):                  0.000   Jarque-Bera (JB):           187136.062\n",
      "Skew:                           4.988   Prob(JB):                         0.00\n",
      "Kurtosis:                      40.186   Cond. No.                     1.03e+16\n",
      "==============================================================================\n",
      "\n",
      "Warnings:\n",
      "[1] Standard Errors assume that the covariance matrix of the errors is correctly specified.\n",
      "[2] The smallest eigenvalue is 3.8e-19. This might indicate that there are\n",
      "strong multicollinearity problems or that the design matrix is singular.\n"
     ]
    }
   ],
   "source": [
    "dataset_free = dataset[dataset[\"not_free\"]==0]\n",
    "result = sm.ols(formula=\"size ~ price + rating + reviews + name_length + version + current_rating + current_reviews + sup_devs + languages + cont_rating + category\", data=dataset_free).fit()\n",
    "print(result.summary())"
   ]
  },
  {
   "cell_type": "code",
   "execution_count": 534,
   "metadata": {},
   "outputs": [
    {
     "name": "stdout",
     "output_type": "stream",
     "text": [
      "                            OLS Regression Results                            \n",
      "==============================================================================\n",
      "Dep. Variable:                reviews   R-squared:                       0.062\n",
      "Model:                            OLS   Adj. R-squared:                  0.052\n",
      "Method:                 Least Squares   F-statistic:                     6.400\n",
      "Date:                Thu, 10 Jan 2019   Prob (F-statistic):           2.55e-25\n",
      "Time:                        16:12:25   Log-Likelihood:                -39434.\n",
      "No. Observations:                3030   AIC:                         7.893e+04\n",
      "Df Residuals:                    2998   BIC:                         7.913e+04\n",
      "Df Model:                          31                                         \n",
      "Covariance Type:            nonrobust                                         \n",
      "=================================================================================================\n",
      "                                    coef    std err          t      P>|t|      [0.025      0.975]\n",
      "-------------------------------------------------------------------------------------------------\n",
      "Intercept                     -3.412e+04   3.67e+04     -0.929      0.353   -1.06e+05    3.79e+04\n",
      "category[T.Business]           -3.36e+04   3.88e+04     -0.867      0.386    -1.1e+05    4.24e+04\n",
      "category[T.Catalogs]          -7182.3042   5.97e+04     -0.120      0.904   -1.24e+05     1.1e+05\n",
      "category[T.Education]         -2.538e+04   2.65e+04     -0.958      0.338   -7.73e+04    2.65e+04\n",
      "category[T.Entertainment]      -1.01e+04   2.49e+04     -0.405      0.685    -5.9e+04    3.87e+04\n",
      "category[T.Finance]            1.298e+04   3.02e+04      0.430      0.667   -4.62e+04    7.21e+04\n",
      "category[T.Food & Drink]       8275.9195   3.19e+04      0.260      0.795   -5.42e+04    7.08e+04\n",
      "category[T.Games]             -1.201e+04   2.41e+04     -0.499      0.617   -5.92e+04    3.51e+04\n",
      "category[T.Health & Fitness]   -493.0735    2.8e+04     -0.018      0.986   -5.54e+04    5.44e+04\n",
      "category[T.Lifestyle]         -9232.6685   2.85e+04     -0.324      0.746   -6.51e+04    4.66e+04\n",
      "category[T.Medical]           -3.051e+04   5.44e+04     -0.560      0.575   -1.37e+05    7.62e+04\n",
      "category[T.Music]              2.612e+04   2.75e+04      0.951      0.342   -2.77e+04       8e+04\n",
      "category[T.Navigation]         1.421e+04   4.37e+04      0.326      0.745   -7.14e+04    9.98e+04\n",
      "category[T.News]               7104.2118   3.03e+04      0.235      0.814   -5.22e+04    6.65e+04\n",
      "category[T.Photo & Video]     -3968.7591   2.58e+04     -0.154      0.878   -5.46e+04    4.67e+04\n",
      "category[T.Productivity]      -2.798e+04   2.84e+04     -0.986      0.324   -8.36e+04    2.76e+04\n",
      "category[T.Reference]          4.497e+04   3.64e+04      1.236      0.217   -2.64e+04    1.16e+05\n",
      "category[T.Shopping]            796.1277   2.69e+04      0.030      0.976    -5.2e+04    5.35e+04\n",
      "category[T.Social Networking]  3.936e+04   2.66e+04      1.481      0.139   -1.28e+04    9.15e+04\n",
      "category[T.Sports]             5263.3705   2.81e+04      0.187      0.852   -4.99e+04    6.04e+04\n",
      "category[T.Travel]              -19.2872   3.01e+04     -0.001      0.999    -5.9e+04     5.9e+04\n",
      "category[T.Utilities]         -2.184e+04   2.69e+04     -0.813      0.416   -7.45e+04    3.08e+04\n",
      "category[T.Weather]            2.506e+04   3.35e+04      0.748      0.455   -4.07e+04    9.08e+04\n",
      "price                           2.61e-10   8.25e-10      0.316      0.752   -1.36e-09    1.88e-09\n",
      "size                             22.2751      9.506      2.343      0.019       3.637      40.913\n",
      "rating                         8409.4888   4041.610      2.081      0.038     484.879    1.63e+04\n",
      "name_length                    -487.3938    132.493     -3.679      0.000    -747.180    -227.608\n",
      "version                          33.1514     33.074      1.002      0.316     -31.698      98.001\n",
      "current_rating                 -599.2018   3149.111     -0.190      0.849   -6773.839    5575.436\n",
      "current_reviews                   3.1187      0.419      7.436      0.000       2.296       3.941\n",
      "sup_devs                        780.8657    659.450      1.184      0.236    -512.154    2073.885\n",
      "languages                      1722.1270    231.349      7.444      0.000    1268.509    2175.745\n",
      "cont_rating                     232.3762    502.157      0.463      0.644    -752.231    1216.984\n",
      "==============================================================================\n",
      "Omnibus:                     5645.753   Durbin-Watson:                   1.826\n",
      "Prob(Omnibus):                  0.000   Jarque-Bera (JB):          9660314.490\n",
      "Skew:                          13.781   Prob(JB):                         0.00\n",
      "Kurtosis:                     278.241   Cond. No.                     1.04e+16\n",
      "==============================================================================\n",
      "\n",
      "Warnings:\n",
      "[1] Standard Errors assume that the covariance matrix of the errors is correctly specified.\n",
      "[2] The smallest eigenvalue is 6.55e-22. This might indicate that there are\n",
      "strong multicollinearity problems or that the design matrix is singular.\n"
     ]
    }
   ],
   "source": [
    "dataset_free = dataset[dataset[\"not_free\"]==0]\n",
    "result = sm.ols(formula=\"reviews ~ price + size + rating + name_length + version + current_rating + current_reviews + sup_devs + languages + cont_rating + category\", data=dataset_free).fit()\n",
    "print(result.summary())"
   ]
  },
  {
   "cell_type": "markdown",
   "metadata": {},
   "source": [
    "Regression von allen variablen auf size"
   ]
  },
  {
   "cell_type": "code",
   "execution_count": 535,
   "metadata": {},
   "outputs": [
    {
     "name": "stdout",
     "output_type": "stream",
     "text": [
      "                            OLS Regression Results                            \n",
      "==============================================================================\n",
      "Dep. Variable:                   size   R-squared:                       0.189\n",
      "Model:                            OLS   Adj. R-squared:                  0.185\n",
      "Method:                 Least Squares   F-statistic:                     41.43\n",
      "Date:                Thu, 10 Jan 2019   Prob (F-statistic):          1.27e-230\n",
      "Time:                        16:12:26   Log-Likelihood:                -41164.\n",
      "No. Observations:                5712   AIC:                         8.239e+04\n",
      "Df Residuals:                    5679   BIC:                         8.261e+04\n",
      "Df Model:                          32                                         \n",
      "Covariance Type:            nonrobust                                         \n",
      "=================================================================================================\n",
      "                                    coef    std err          t      P>|t|      [0.025      0.975]\n",
      "-------------------------------------------------------------------------------------------------\n",
      "Intercept                       653.9190     67.875      9.634      0.000     520.857     786.981\n",
      "category[T.Business]           -277.9732     66.053     -4.208      0.000    -407.463    -148.483\n",
      "category[T.Catalogs]           -243.6681    152.884     -1.594      0.111    -543.379      56.043\n",
      "category[T.Education]           -70.5882     47.773     -1.478      0.140    -164.241      23.065\n",
      "category[T.Entertainment]      -158.3331     47.217     -3.353      0.001    -250.896     -65.770\n",
      "category[T.Finance]            -137.2988     66.429     -2.067      0.039    -267.525      -7.073\n",
      "category[T.Food & Drink]       -179.4557     68.095     -2.635      0.008    -312.948     -45.963\n",
      "category[T.Games]                54.3713     44.589      1.219      0.223     -33.039     141.782\n",
      "category[T.Health & Fitness]   -204.4493     52.031     -3.929      0.000    -306.450    -102.449\n",
      "category[T.Lifestyle]          -204.6878     56.153     -3.645      0.000    -314.769     -94.606\n",
      "category[T.Medical]             -21.9357     87.938     -0.249      0.803    -194.329     150.457\n",
      "category[T.Music]              -212.8431     52.994     -4.016      0.000    -316.732    -108.955\n",
      "category[T.Navigation]         -268.1588     78.057     -3.435      0.001    -421.180    -115.138\n",
      "category[T.News]               -254.6941     65.790     -3.871      0.000    -383.667    -125.721\n",
      "category[T.Photo & Video]      -195.1846     48.271     -4.043      0.000    -289.815    -100.554\n",
      "category[T.Productivity]       -222.9013     51.397     -4.337      0.000    -323.658    -122.144\n",
      "category[T.Reference]          -178.4831     64.342     -2.774      0.006    -304.619     -52.348\n",
      "category[T.Shopping]           -134.1842     57.569     -2.331      0.020    -247.041     -21.327\n",
      "category[T.Social Networking]  -229.0275     54.687     -4.188      0.000    -336.235    -121.820\n",
      "category[T.Sports]             -177.9406     57.237     -3.109      0.002    -290.147     -65.734\n",
      "category[T.Travel]             -172.3377     62.550     -2.755      0.006    -294.960     -49.715\n",
      "category[T.Utilities]          -229.4900     50.188     -4.573      0.000    -327.877    -131.103\n",
      "category[T.Weather]            -195.7709     61.734     -3.171      0.002    -316.793     -74.749\n",
      "price                            15.0571      0.945     15.928      0.000      13.204      16.910\n",
      "rating                          -11.0418      8.919     -1.238      0.216     -28.526       6.442\n",
      "reviews                        3.997e-05   5.28e-05      0.758      0.449   -6.35e-05       0.000\n",
      "name_length                       2.0916      0.249      8.402      0.000       1.604       2.580\n",
      "version                          -0.0360      0.075     -0.477      0.633      -0.184       0.112\n",
      "current_rating                    7.2224      7.131      1.013      0.311      -6.756      21.201\n",
      "current_reviews                   0.0005      0.001      0.477      0.633      -0.001       0.002\n",
      "languages                         2.4604      0.544      4.521      0.000       1.393       3.527\n",
      "sup_devs                        -15.6205      1.123    -13.905      0.000     -17.823     -13.418\n",
      "cont_rating                      15.0596      1.118     13.467      0.000      12.867      17.252\n",
      "==============================================================================\n",
      "Omnibus:                     4804.371   Durbin-Watson:                   1.965\n",
      "Prob(Omnibus):                  0.000   Jarque-Bera (JB):           180085.504\n",
      "Skew:                           3.848   Prob(JB):                         0.00\n",
      "Kurtosis:                      29.409   Cond. No.                     4.37e+06\n",
      "==============================================================================\n",
      "\n",
      "Warnings:\n",
      "[1] Standard Errors assume that the covariance matrix of the errors is correctly specified.\n",
      "[2] The condition number is large, 4.37e+06. This might indicate that there are\n",
      "strong multicollinearity or other numerical problems.\n"
     ]
    }
   ],
   "source": [
    "result = sm.ols(formula=\"size ~ price + rating + reviews + name_length + version + category + current_rating + current_reviews + languages + sup_devs + cont_rating\", data=dataset).fit()\n",
    "print(result.summary())"
   ]
  },
  {
   "cell_type": "code",
   "execution_count": 536,
   "metadata": {},
   "outputs": [
    {
     "name": "stdout",
     "output_type": "stream",
     "text": [
      "                            OLS Regression Results                            \n",
      "==============================================================================\n",
      "Dep. Variable:                   size   R-squared:                       0.286\n",
      "Model:                            OLS   Adj. R-squared:                  0.284\n",
      "Method:                 Least Squares   F-statistic:                     129.2\n",
      "Date:                Thu, 10 Jan 2019   Prob (F-statistic):          2.48e-227\n",
      "Time:                        16:12:26   Log-Likelihood:                -23774.\n",
      "No. Observations:                3234   AIC:                         4.757e+04\n",
      "Df Residuals:                    3223   BIC:                         4.764e+04\n",
      "Df Model:                          10                                         \n",
      "Covariance Type:            nonrobust                                         \n",
      "===================================================================================\n",
      "                      coef    std err          t      P>|t|      [0.025      0.975]\n",
      "-----------------------------------------------------------------------------------\n",
      "Intercept         795.4784     88.897      8.948      0.000     621.178     969.778\n",
      "price              67.6350      2.897     23.345      0.000      61.954      73.316\n",
      "rating            -15.1292     16.519     -0.916      0.360     -47.517      17.259\n",
      "reviews             0.0001   8.91e-05      1.165      0.244    -7.1e-05       0.000\n",
      "name_length         2.3825      0.418      5.703      0.000       1.563       3.202\n",
      "version            -0.2417      0.133     -1.817      0.069      -0.503       0.019\n",
      "current_rating      7.0835     14.071      0.503      0.615     -20.505      34.672\n",
      "current_reviews     0.0015      0.001      1.086      0.278      -0.001       0.004\n",
      "languages           4.6372      1.071      4.329      0.000       2.537       6.737\n",
      "sup_devs          -21.3224      1.872    -11.388      0.000     -24.994     -17.651\n",
      "cont_rating        21.7875      1.814     12.013      0.000      18.231      25.344\n",
      "==============================================================================\n",
      "Omnibus:                     2134.529   Durbin-Watson:                   1.997\n",
      "Prob(Omnibus):                  0.000   Jarque-Bera (JB):            34271.500\n",
      "Skew:                           2.923   Prob(JB):                         0.00\n",
      "Kurtosis:                      17.838   Cond. No.                     1.05e+06\n",
      "==============================================================================\n",
      "\n",
      "Warnings:\n",
      "[1] Standard Errors assume that the covariance matrix of the errors is correctly specified.\n",
      "[2] The condition number is large, 1.05e+06. This might indicate that there are\n",
      "strong multicollinearity or other numerical problems.\n"
     ]
    }
   ],
   "source": [
    "result = sm.ols(formula=\"size ~ price + rating + reviews + name_length + version + category + current_rating + current_reviews + languages + sup_devs + cont_rating\", data=dataset_games).fit()\n",
    "print(result.summary())"
   ]
  },
  {
   "cell_type": "code",
   "execution_count": null,
   "metadata": {},
   "outputs": [],
   "source": []
  },
  {
   "cell_type": "code",
   "execution_count": 537,
   "metadata": {},
   "outputs": [
    {
     "name": "stdout",
     "output_type": "stream",
     "text": [
      "                            OLS Regression Results                            \n",
      "==============================================================================\n",
      "Dep. Variable:                reviews   R-squared:                       0.059\n",
      "Model:                            OLS   Adj. R-squared:                  0.054\n",
      "Method:                 Least Squares   F-statistic:                     11.11\n",
      "Date:                Thu, 10 Jan 2019   Prob (F-statistic):           2.44e-54\n",
      "Time:                        16:12:26   Log-Likelihood:                -72737.\n",
      "No. Observations:                5712   AIC:                         1.455e+05\n",
      "Df Residuals:                    5679   BIC:                         1.458e+05\n",
      "Df Model:                          32                                         \n",
      "Covariance Type:            nonrobust                                         \n",
      "=================================================================================================\n",
      "                                    coef    std err          t      P>|t|      [0.025      0.975]\n",
      "-------------------------------------------------------------------------------------------------\n",
      "Intercept                     -9481.1193   1.72e+04     -0.551      0.582   -4.32e+04    2.43e+04\n",
      "category[T.Business]          -1.023e+04   1.66e+04     -0.615      0.539   -4.28e+04    2.24e+04\n",
      "category[T.Catalogs]          -5662.4603   3.85e+04     -0.147      0.883   -8.11e+04    6.97e+04\n",
      "category[T.Education]          -1.28e+04    1.2e+04     -1.066      0.287   -3.64e+04    1.08e+04\n",
      "category[T.Entertainment]     -3520.9890   1.19e+04     -0.296      0.767   -2.68e+04    1.98e+04\n",
      "category[T.Finance]             1.46e+04   1.67e+04      0.873      0.382   -1.82e+04    4.74e+04\n",
      "category[T.Food & Drink]       1.024e+04   1.71e+04      0.598      0.550   -2.34e+04    4.38e+04\n",
      "category[T.Games]              -516.4301   1.12e+04     -0.046      0.963   -2.25e+04    2.15e+04\n",
      "category[T.Health & Fitness]  -1435.0081   1.31e+04     -0.110      0.913   -2.71e+04    2.43e+04\n",
      "category[T.Lifestyle]         -4435.9046   1.41e+04     -0.314      0.754   -3.22e+04    2.33e+04\n",
      "category[T.Medical]           -6727.4589   2.21e+04     -0.304      0.761   -5.01e+04    3.66e+04\n",
      "category[T.Music]              1.712e+04   1.33e+04      1.283      0.200   -9043.310    4.33e+04\n",
      "category[T.Navigation]         5774.3948   1.97e+04      0.294      0.769   -3.28e+04    4.43e+04\n",
      "category[T.News]               1.036e+04   1.66e+04      0.625      0.532   -2.21e+04    4.28e+04\n",
      "category[T.Photo & Video]     -3194.6409   1.22e+04     -0.263      0.793    -2.7e+04    2.06e+04\n",
      "category[T.Productivity]      -1.018e+04   1.29e+04     -0.786      0.432   -3.56e+04    1.52e+04\n",
      "category[T.Reference]          1.335e+04   1.62e+04      0.824      0.410   -1.84e+04    4.51e+04\n",
      "category[T.Shopping]           1.164e+04   1.45e+04      0.804      0.422   -1.68e+04       4e+04\n",
      "category[T.Social Networking]  4.347e+04   1.38e+04      3.158      0.002    1.65e+04    7.04e+04\n",
      "category[T.Sports]             8083.2492   1.44e+04      0.561      0.575   -2.02e+04    3.63e+04\n",
      "category[T.Travel]             3855.7824   1.57e+04      0.245      0.807    -2.7e+04    3.47e+04\n",
      "category[T.Utilities]         -8082.0365   1.26e+04     -0.639      0.523   -3.29e+04    1.67e+04\n",
      "category[T.Weather]            9417.4994   1.55e+04      0.606      0.545    -2.1e+04    3.99e+04\n",
      "price                          -780.6192    242.798     -3.215      0.001   -1256.596    -304.642\n",
      "rating                         5407.6132   2242.309      2.412      0.016    1011.831    9803.396\n",
      "size                              2.5284      3.337      0.758      0.449      -4.014       9.071\n",
      "name_length                    -216.4790     62.939     -3.440      0.001    -339.863     -93.095\n",
      "version                          26.4333     18.959      1.394      0.163     -10.733      63.599\n",
      "current_rating                -1293.3695   1793.552     -0.721      0.471   -4809.417    2222.678\n",
      "current_reviews                   2.9569      0.249     11.873      0.000       2.469       3.445\n",
      "languages                      1275.8154    136.079      9.376      0.000    1009.049    1542.582\n",
      "sup_devs                        124.3519    287.311      0.433      0.665    -438.887     687.591\n",
      "cont_rating                     194.4152    285.696      0.680      0.496    -365.658     754.489\n",
      "==============================================================================\n",
      "Omnibus:                    11956.651   Durbin-Watson:                   1.878\n",
      "Prob(Omnibus):                  0.000   Jarque-Bera (JB):         53091480.672\n",
      "Skew:                          17.848   Prob(JB):                         0.00\n",
      "Kurtosis:                     473.956   Cond. No.                     2.25e+05\n",
      "==============================================================================\n",
      "\n",
      "Warnings:\n",
      "[1] Standard Errors assume that the covariance matrix of the errors is correctly specified.\n",
      "[2] The condition number is large, 2.25e+05. This might indicate that there are\n",
      "strong multicollinearity or other numerical problems.\n"
     ]
    }
   ],
   "source": [
    "result = sm.ols(formula=\"reviews ~ price + rating + size + name_length + version + category + current_rating + current_reviews + languages + sup_devs + cont_rating\", data=dataset).fit()\n",
    "print(result.summary())"
   ]
  },
  {
   "cell_type": "code",
   "execution_count": 538,
   "metadata": {},
   "outputs": [
    {
     "name": "stdout",
     "output_type": "stream",
     "text": [
      "                            OLS Regression Results                            \n",
      "==============================================================================\n",
      "Dep. Variable:                reviews   R-squared:                       0.058\n",
      "Model:                            OLS   Adj. R-squared:                  0.055\n",
      "Method:                 Least Squares   F-statistic:                     19.72\n",
      "Date:                Thu, 10 Jan 2019   Prob (F-statistic):           8.79e-36\n",
      "Time:                        16:12:26   Log-Likelihood:                -40869.\n",
      "No. Observations:                3234   AIC:                         8.176e+04\n",
      "Df Residuals:                    3223   BIC:                         8.183e+04\n",
      "Df Model:                          10                                         \n",
      "Covariance Type:            nonrobust                                         \n",
      "===================================================================================\n",
      "                      coef    std err          t      P>|t|      [0.025      0.975]\n",
      "-----------------------------------------------------------------------------------\n",
      "Intercept        -760.8242   1.78e+04     -0.043      0.966   -3.56e+04    3.41e+04\n",
      "price           -2637.7950    617.094     -4.275      0.000   -3847.731   -1427.859\n",
      "rating           1.228e+04   3256.460      3.770      0.000    5893.192    1.87e+04\n",
      "size                4.0516      3.479      1.165      0.244      -2.770      10.873\n",
      "name_length      -234.2435     82.837     -2.828      0.005    -396.662     -71.825\n",
      "version             3.2858     26.294      0.125      0.901     -48.269      54.841\n",
      "current_rating  -5245.9271   2778.199     -1.888      0.059   -1.07e+04     201.289\n",
      "current_reviews     2.7760      0.274     10.134      0.000       2.239       3.313\n",
      "languages        1101.0631    211.338      5.210      0.000     686.693    1515.433\n",
      "sup_devs         -347.0427    377.198     -0.920      0.358   -1086.615     392.530\n",
      "cont_rating       232.0352    366.200      0.634      0.526    -485.973     950.043\n",
      "==============================================================================\n",
      "Omnibus:                     6074.690   Durbin-Watson:                   1.867\n",
      "Prob(Omnibus):                  0.000   Jarque-Bera (JB):         12260430.419\n",
      "Skew:                          13.979   Prob(JB):                         0.00\n",
      "Kurtosis:                     303.341   Cond. No.                     6.61e+04\n",
      "==============================================================================\n",
      "\n",
      "Warnings:\n",
      "[1] Standard Errors assume that the covariance matrix of the errors is correctly specified.\n",
      "[2] The condition number is large, 6.61e+04. This might indicate that there are\n",
      "strong multicollinearity or other numerical problems.\n"
     ]
    }
   ],
   "source": [
    "result = sm.ols(formula=\"reviews ~ price + rating + size + name_length + version + category + current_rating + current_reviews + languages + sup_devs + cont_rating\", data=dataset_games).fit()\n",
    "print(result.summary())"
   ]
  },
  {
   "cell_type": "code",
   "execution_count": null,
   "metadata": {},
   "outputs": [],
   "source": []
  },
  {
   "cell_type": "code",
   "execution_count": 539,
   "metadata": {},
   "outputs": [
    {
     "name": "stdout",
     "output_type": "stream",
     "text": [
      "                            OLS Regression Results                            \n",
      "==============================================================================\n",
      "Dep. Variable:                  price   R-squared:                       0.109\n",
      "Model:                            OLS   Adj. R-squared:                  0.104\n",
      "Method:                 Least Squares   F-statistic:                     21.64\n",
      "Date:                Thu, 10 Jan 2019   Prob (F-statistic):          2.24e-117\n",
      "Time:                        16:12:26   Log-Likelihood:                -16671.\n",
      "No. Observations:                5712   AIC:                         3.341e+04\n",
      "Df Residuals:                    5679   BIC:                         3.363e+04\n",
      "Df Model:                          32                                         \n",
      "Covariance Type:            nonrobust                                         \n",
      "=================================================================================================\n",
      "                                    coef    std err          t      P>|t|      [0.025      0.975]\n",
      "-------------------------------------------------------------------------------------------------\n",
      "Intercept                         3.8870      0.938      4.142      0.000       2.048       5.727\n",
      "category[T.Business]              3.9231      0.907      4.325      0.000       2.145       5.701\n",
      "category[T.Catalogs]             -0.6533      2.100     -0.311      0.756      -4.770       3.464\n",
      "category[T.Education]             0.9485      0.656      1.446      0.148      -0.338       2.235\n",
      "category[T.Entertainment]        -1.2766      0.649     -1.967      0.049      -2.549      -0.005\n",
      "category[T.Finance]              -1.8360      0.912     -2.012      0.044      -3.625      -0.047\n",
      "category[T.Food & Drink]         -0.2160      0.936     -0.231      0.817      -2.050       1.618\n",
      "category[T.Games]                -1.1879      0.612     -1.940      0.052      -2.388       0.012\n",
      "category[T.Health & Fitness]     -0.3273      0.716     -0.457      0.647      -1.730       1.075\n",
      "category[T.Lifestyle]            -0.8545      0.772     -1.107      0.268      -2.368       0.659\n",
      "category[T.Medical]               6.9505      1.204      5.772      0.000       4.590       9.311\n",
      "category[T.Music]                 2.6895      0.728      3.695      0.000       1.262       4.117\n",
      "category[T.Navigation]            3.4532      1.072      3.221      0.001       1.351       5.555\n",
      "category[T.News]                 -1.4486      0.905     -1.601      0.109      -3.222       0.325\n",
      "category[T.Photo & Video]        -0.5482      0.664     -0.826      0.409      -1.850       0.753\n",
      "category[T.Productivity]          1.8576      0.707      2.629      0.009       0.472       3.243\n",
      "category[T.Reference]             0.6994      0.884      0.791      0.429      -1.034       2.433\n",
      "category[T.Shopping]             -2.2246      0.790     -2.814      0.005      -3.774      -0.675\n",
      "category[T.Social Networking]    -1.3843      0.752     -1.841      0.066      -2.858       0.090\n",
      "category[T.Sports]               -1.2597      0.787     -1.602      0.109      -2.802       0.282\n",
      "category[T.Travel]               -0.7153      0.860     -0.832      0.405      -2.400       0.970\n",
      "category[T.Utilities]            -0.3641      0.691     -0.527      0.598      -1.718       0.990\n",
      "category[T.Weather]              -0.2359      0.849     -0.278      0.781      -1.899       1.428\n",
      "size                              0.0028      0.000     15.928      0.000       0.002       0.003\n",
      "rating                            0.1139      0.122      0.930      0.352      -0.126       0.354\n",
      "reviews                       -2.327e-06   7.24e-07     -3.215      0.001   -3.75e-06   -9.08e-07\n",
      "name_length                       0.0043      0.003      1.250      0.211      -0.002       0.011\n",
      "version                           0.0021      0.001      2.009      0.045    5.04e-05       0.004\n",
      "current_rating                    0.0054      0.098      0.055      0.956      -0.187       0.197\n",
      "current_reviews               -1.437e-05   1.38e-05     -1.044      0.297   -4.14e-05    1.26e-05\n",
      "languages                        -0.0289      0.007     -3.863      0.000      -0.044      -0.014\n",
      "sup_devs                         -0.0612      0.016     -3.908      0.000      -0.092      -0.031\n",
      "cont_rating                      -0.0152      0.016     -0.972      0.331      -0.046       0.015\n",
      "==============================================================================\n",
      "Omnibus:                    15103.189   Durbin-Watson:                   1.993\n",
      "Prob(Omnibus):                  0.000   Jarque-Bera (JB):        598421095.450\n",
      "Skew:                          30.832   Prob(JB):                         0.00\n",
      "Kurtosis:                    1587.478   Cond. No.                     4.38e+06\n",
      "==============================================================================\n",
      "\n",
      "Warnings:\n",
      "[1] Standard Errors assume that the covariance matrix of the errors is correctly specified.\n",
      "[2] The condition number is large, 4.38e+06. This might indicate that there are\n",
      "strong multicollinearity or other numerical problems.\n"
     ]
    }
   ],
   "source": [
    "result = sm.ols(formula=\"price ~ size + rating + reviews + name_length + version + category + current_rating + current_reviews + languages + sup_devs + cont_rating\", data=dataset).fit()\n",
    "print(result.summary())"
   ]
  },
  {
   "cell_type": "code",
   "execution_count": 540,
   "metadata": {},
   "outputs": [
    {
     "name": "stdout",
     "output_type": "stream",
     "text": [
      "                            OLS Regression Results                            \n",
      "==============================================================================\n",
      "Dep. Variable:                  price   R-squared:                       0.246\n",
      "Model:                            OLS   Adj. R-squared:                  0.244\n",
      "Method:                 Least Squares   F-statistic:                     105.4\n",
      "Date:                Thu, 10 Jan 2019   Prob (F-statistic):          8.90e-190\n",
      "Time:                        16:12:26   Log-Likelihood:                -7019.1\n",
      "No. Observations:                3234   AIC:                         1.406e+04\n",
      "Df Residuals:                    3223   BIC:                         1.413e+04\n",
      "Df Model:                          10                                         \n",
      "Covariance Type:            nonrobust                                         \n",
      "===================================================================================\n",
      "                      coef    std err          t      P>|t|      [0.025      0.975]\n",
      "-----------------------------------------------------------------------------------\n",
      "Intercept           3.2194      0.503      6.402      0.000       2.233       4.205\n",
      "size                0.0021   9.16e-05     23.345      0.000       0.002       0.002\n",
      "rating              0.0484      0.093      0.521      0.602      -0.134       0.231\n",
      "reviews         -2.137e-06      5e-07     -4.275      0.000   -3.12e-06   -1.16e-06\n",
      "name_length         0.0100      0.002      4.256      0.000       0.005       0.015\n",
      "version             0.0022      0.001      2.902      0.004       0.001       0.004\n",
      "current_rating     -0.0498      0.079     -0.629      0.529      -0.205       0.105\n",
      "current_reviews -4.175e-06   7.92e-06     -0.527      0.598   -1.97e-05    1.14e-05\n",
      "languages          -0.0345      0.006     -5.745      0.000      -0.046      -0.023\n",
      "sup_devs           -0.0732      0.011     -6.869      0.000      -0.094      -0.052\n",
      "cont_rating         0.0588      0.010      5.674      0.000       0.039       0.079\n",
      "==============================================================================\n",
      "Omnibus:                     1862.760   Durbin-Watson:                   1.802\n",
      "Prob(Omnibus):                  0.000   Jarque-Bera (JB):            34276.851\n",
      "Skew:                           2.357   Prob(JB):                         0.00\n",
      "Kurtosis:                      18.236   Cond. No.                     1.06e+06\n",
      "==============================================================================\n",
      "\n",
      "Warnings:\n",
      "[1] Standard Errors assume that the covariance matrix of the errors is correctly specified.\n",
      "[2] The condition number is large, 1.06e+06. This might indicate that there are\n",
      "strong multicollinearity or other numerical problems.\n"
     ]
    }
   ],
   "source": [
    "result = sm.ols(formula=\"price ~ size + rating + reviews + name_length + version + category + current_rating + current_reviews + languages + sup_devs + cont_rating\", data=dataset_games).fit()\n",
    "print(result.summary())"
   ]
  }
 ],
 "metadata": {
  "kernelspec": {
   "display_name": "Python 3",
   "language": "python",
   "name": "python3"
  },
  "language_info": {
   "codemirror_mode": {
    "name": "ipython",
    "version": 3
   },
   "file_extension": ".py",
   "mimetype": "text/x-python",
   "name": "python",
   "nbconvert_exporter": "python",
   "pygments_lexer": "ipython3",
   "version": "3.7.0"
  }
 },
 "nbformat": 4,
 "nbformat_minor": 2
}
