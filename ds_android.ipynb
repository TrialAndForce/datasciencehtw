{
 "cells": [
  {
   "cell_type": "code",
   "execution_count": 57,
   "metadata": {},
   "outputs": [],
   "source": [
    "import numpy as np\n",
    "import pandas as pd\n",
    "import matplotlib.pyplot as ptl\n",
    "import seaborn as sns\n",
    "import statistics as sts\n",
    "import statsmodels.formula.api as sm\n",
    "from collections import Counter\n",
    "%matplotlib inline"
   ]
  },
  {
   "cell_type": "code",
   "execution_count": 58,
   "metadata": {},
   "outputs": [],
   "source": [
    "df_android = pd.read_csv('googleplaystore.csv')"
   ]
  },
  {
   "cell_type": "code",
   "execution_count": 59,
   "metadata": {},
   "outputs": [
    {
     "data": {
      "text/html": [
       "<div>\n",
       "<style scoped>\n",
       "    .dataframe tbody tr th:only-of-type {\n",
       "        vertical-align: middle;\n",
       "    }\n",
       "\n",
       "    .dataframe tbody tr th {\n",
       "        vertical-align: top;\n",
       "    }\n",
       "\n",
       "    .dataframe thead th {\n",
       "        text-align: right;\n",
       "    }\n",
       "</style>\n",
       "<table border=\"1\" class=\"dataframe\">\n",
       "  <thead>\n",
       "    <tr style=\"text-align: right;\">\n",
       "      <th></th>\n",
       "      <th>App</th>\n",
       "      <th>Category</th>\n",
       "      <th>Rating</th>\n",
       "      <th>Reviews</th>\n",
       "      <th>Size</th>\n",
       "      <th>Installs</th>\n",
       "      <th>Type</th>\n",
       "      <th>Price</th>\n",
       "      <th>Content Rating</th>\n",
       "      <th>Genres</th>\n",
       "      <th>Last Updated</th>\n",
       "      <th>Current Ver</th>\n",
       "      <th>Android Ver</th>\n",
       "    </tr>\n",
       "  </thead>\n",
       "  <tbody>\n",
       "    <tr>\n",
       "      <th>0</th>\n",
       "      <td>Photo Editor &amp; Candy Camera &amp; Grid &amp; ScrapBook</td>\n",
       "      <td>ART_AND_DESIGN</td>\n",
       "      <td>4.1</td>\n",
       "      <td>159</td>\n",
       "      <td>19M</td>\n",
       "      <td>10,000+</td>\n",
       "      <td>Free</td>\n",
       "      <td>0</td>\n",
       "      <td>Everyone</td>\n",
       "      <td>Art &amp; Design</td>\n",
       "      <td>January 7, 2018</td>\n",
       "      <td>1.0.0</td>\n",
       "      <td>4.0.3 and up</td>\n",
       "    </tr>\n",
       "    <tr>\n",
       "      <th>1</th>\n",
       "      <td>Coloring book moana</td>\n",
       "      <td>ART_AND_DESIGN</td>\n",
       "      <td>3.9</td>\n",
       "      <td>967</td>\n",
       "      <td>14M</td>\n",
       "      <td>500,000+</td>\n",
       "      <td>Free</td>\n",
       "      <td>0</td>\n",
       "      <td>Everyone</td>\n",
       "      <td>Art &amp; Design;Pretend Play</td>\n",
       "      <td>January 15, 2018</td>\n",
       "      <td>2.0.0</td>\n",
       "      <td>4.0.3 and up</td>\n",
       "    </tr>\n",
       "    <tr>\n",
       "      <th>2</th>\n",
       "      <td>U Launcher Lite – FREE Live Cool Themes, Hide ...</td>\n",
       "      <td>ART_AND_DESIGN</td>\n",
       "      <td>4.7</td>\n",
       "      <td>87510</td>\n",
       "      <td>8.7M</td>\n",
       "      <td>5,000,000+</td>\n",
       "      <td>Free</td>\n",
       "      <td>0</td>\n",
       "      <td>Everyone</td>\n",
       "      <td>Art &amp; Design</td>\n",
       "      <td>August 1, 2018</td>\n",
       "      <td>1.2.4</td>\n",
       "      <td>4.0.3 and up</td>\n",
       "    </tr>\n",
       "    <tr>\n",
       "      <th>3</th>\n",
       "      <td>Sketch - Draw &amp; Paint</td>\n",
       "      <td>ART_AND_DESIGN</td>\n",
       "      <td>4.5</td>\n",
       "      <td>215644</td>\n",
       "      <td>25M</td>\n",
       "      <td>50,000,000+</td>\n",
       "      <td>Free</td>\n",
       "      <td>0</td>\n",
       "      <td>Teen</td>\n",
       "      <td>Art &amp; Design</td>\n",
       "      <td>June 8, 2018</td>\n",
       "      <td>Varies with device</td>\n",
       "      <td>4.2 and up</td>\n",
       "    </tr>\n",
       "    <tr>\n",
       "      <th>4</th>\n",
       "      <td>Pixel Draw - Number Art Coloring Book</td>\n",
       "      <td>ART_AND_DESIGN</td>\n",
       "      <td>4.3</td>\n",
       "      <td>967</td>\n",
       "      <td>2.8M</td>\n",
       "      <td>100,000+</td>\n",
       "      <td>Free</td>\n",
       "      <td>0</td>\n",
       "      <td>Everyone</td>\n",
       "      <td>Art &amp; Design;Creativity</td>\n",
       "      <td>June 20, 2018</td>\n",
       "      <td>1.1</td>\n",
       "      <td>4.4 and up</td>\n",
       "    </tr>\n",
       "  </tbody>\n",
       "</table>\n",
       "</div>"
      ],
      "text/plain": [
       "                                                 App        Category  Rating  \\\n",
       "0     Photo Editor & Candy Camera & Grid & ScrapBook  ART_AND_DESIGN     4.1   \n",
       "1                                Coloring book moana  ART_AND_DESIGN     3.9   \n",
       "2  U Launcher Lite – FREE Live Cool Themes, Hide ...  ART_AND_DESIGN     4.7   \n",
       "3                              Sketch - Draw & Paint  ART_AND_DESIGN     4.5   \n",
       "4              Pixel Draw - Number Art Coloring Book  ART_AND_DESIGN     4.3   \n",
       "\n",
       "  Reviews  Size     Installs  Type Price Content Rating  \\\n",
       "0     159   19M      10,000+  Free     0       Everyone   \n",
       "1     967   14M     500,000+  Free     0       Everyone   \n",
       "2   87510  8.7M   5,000,000+  Free     0       Everyone   \n",
       "3  215644   25M  50,000,000+  Free     0           Teen   \n",
       "4     967  2.8M     100,000+  Free     0       Everyone   \n",
       "\n",
       "                      Genres      Last Updated         Current Ver  \\\n",
       "0               Art & Design   January 7, 2018               1.0.0   \n",
       "1  Art & Design;Pretend Play  January 15, 2018               2.0.0   \n",
       "2               Art & Design    August 1, 2018               1.2.4   \n",
       "3               Art & Design      June 8, 2018  Varies with device   \n",
       "4    Art & Design;Creativity     June 20, 2018                 1.1   \n",
       "\n",
       "    Android Ver  \n",
       "0  4.0.3 and up  \n",
       "1  4.0.3 and up  \n",
       "2  4.0.3 and up  \n",
       "3    4.2 and up  \n",
       "4    4.4 and up  "
      ]
     },
     "execution_count": 59,
     "metadata": {},
     "output_type": "execute_result"
    }
   ],
   "source": [
    "df_android.head()"
   ]
  },
  {
   "cell_type": "markdown",
   "metadata": {},
   "source": [
    "<font size=\"5\"><b>Data cleaning</b></font><br>"
   ]
  },
  {
   "cell_type": "markdown",
   "metadata": {},
   "source": [
    "<font size=\"4\"><b>Drop unnessecary columns</b></font><br>"
   ]
  },
  {
   "cell_type": "code",
   "execution_count": 60,
   "metadata": {},
   "outputs": [
    {
     "data": {
      "text/html": [
       "<div>\n",
       "<style scoped>\n",
       "    .dataframe tbody tr th:only-of-type {\n",
       "        vertical-align: middle;\n",
       "    }\n",
       "\n",
       "    .dataframe tbody tr th {\n",
       "        vertical-align: top;\n",
       "    }\n",
       "\n",
       "    .dataframe thead th {\n",
       "        text-align: right;\n",
       "    }\n",
       "</style>\n",
       "<table border=\"1\" class=\"dataframe\">\n",
       "  <thead>\n",
       "    <tr style=\"text-align: right;\">\n",
       "      <th></th>\n",
       "      <th>App</th>\n",
       "      <th>Category</th>\n",
       "      <th>Rating</th>\n",
       "      <th>Reviews</th>\n",
       "      <th>Size</th>\n",
       "      <th>Installs</th>\n",
       "      <th>Type</th>\n",
       "      <th>Price</th>\n",
       "      <th>Content Rating</th>\n",
       "      <th>Android Ver</th>\n",
       "    </tr>\n",
       "  </thead>\n",
       "  <tbody>\n",
       "    <tr>\n",
       "      <th>0</th>\n",
       "      <td>Photo Editor &amp; Candy Camera &amp; Grid &amp; ScrapBook</td>\n",
       "      <td>ART_AND_DESIGN</td>\n",
       "      <td>4.1</td>\n",
       "      <td>159</td>\n",
       "      <td>19M</td>\n",
       "      <td>10,000+</td>\n",
       "      <td>Free</td>\n",
       "      <td>0</td>\n",
       "      <td>Everyone</td>\n",
       "      <td>4.0.3 and up</td>\n",
       "    </tr>\n",
       "    <tr>\n",
       "      <th>1</th>\n",
       "      <td>Coloring book moana</td>\n",
       "      <td>ART_AND_DESIGN</td>\n",
       "      <td>3.9</td>\n",
       "      <td>967</td>\n",
       "      <td>14M</td>\n",
       "      <td>500,000+</td>\n",
       "      <td>Free</td>\n",
       "      <td>0</td>\n",
       "      <td>Everyone</td>\n",
       "      <td>4.0.3 and up</td>\n",
       "    </tr>\n",
       "    <tr>\n",
       "      <th>2</th>\n",
       "      <td>U Launcher Lite – FREE Live Cool Themes, Hide ...</td>\n",
       "      <td>ART_AND_DESIGN</td>\n",
       "      <td>4.7</td>\n",
       "      <td>87510</td>\n",
       "      <td>8.7M</td>\n",
       "      <td>5,000,000+</td>\n",
       "      <td>Free</td>\n",
       "      <td>0</td>\n",
       "      <td>Everyone</td>\n",
       "      <td>4.0.3 and up</td>\n",
       "    </tr>\n",
       "    <tr>\n",
       "      <th>3</th>\n",
       "      <td>Sketch - Draw &amp; Paint</td>\n",
       "      <td>ART_AND_DESIGN</td>\n",
       "      <td>4.5</td>\n",
       "      <td>215644</td>\n",
       "      <td>25M</td>\n",
       "      <td>50,000,000+</td>\n",
       "      <td>Free</td>\n",
       "      <td>0</td>\n",
       "      <td>Teen</td>\n",
       "      <td>4.2 and up</td>\n",
       "    </tr>\n",
       "    <tr>\n",
       "      <th>4</th>\n",
       "      <td>Pixel Draw - Number Art Coloring Book</td>\n",
       "      <td>ART_AND_DESIGN</td>\n",
       "      <td>4.3</td>\n",
       "      <td>967</td>\n",
       "      <td>2.8M</td>\n",
       "      <td>100,000+</td>\n",
       "      <td>Free</td>\n",
       "      <td>0</td>\n",
       "      <td>Everyone</td>\n",
       "      <td>4.4 and up</td>\n",
       "    </tr>\n",
       "  </tbody>\n",
       "</table>\n",
       "</div>"
      ],
      "text/plain": [
       "                                                 App        Category  Rating  \\\n",
       "0     Photo Editor & Candy Camera & Grid & ScrapBook  ART_AND_DESIGN     4.1   \n",
       "1                                Coloring book moana  ART_AND_DESIGN     3.9   \n",
       "2  U Launcher Lite – FREE Live Cool Themes, Hide ...  ART_AND_DESIGN     4.7   \n",
       "3                              Sketch - Draw & Paint  ART_AND_DESIGN     4.5   \n",
       "4              Pixel Draw - Number Art Coloring Book  ART_AND_DESIGN     4.3   \n",
       "\n",
       "  Reviews  Size     Installs  Type Price Content Rating   Android Ver  \n",
       "0     159   19M      10,000+  Free     0       Everyone  4.0.3 and up  \n",
       "1     967   14M     500,000+  Free     0       Everyone  4.0.3 and up  \n",
       "2   87510  8.7M   5,000,000+  Free     0       Everyone  4.0.3 and up  \n",
       "3  215644   25M  50,000,000+  Free     0           Teen    4.2 and up  \n",
       "4     967  2.8M     100,000+  Free     0       Everyone    4.4 and up  "
      ]
     },
     "execution_count": 60,
     "metadata": {},
     "output_type": "execute_result"
    }
   ],
   "source": [
    "android_clean = df_android.drop(['Genres', 'Last Updated', 'Current Ver'], axis = 1)\n",
    "android_clean.head()"
   ]
  },
  {
   "cell_type": "code",
   "execution_count": 61,
   "metadata": {},
   "outputs": [
    {
     "data": {
      "text/plain": [
       "Everyone           8714\n",
       "Teen               1208\n",
       "Mature 17+          499\n",
       "Everyone 10+        414\n",
       "Adults only 18+       3\n",
       "Unrated               2\n",
       "Name: Content Rating, dtype: int64"
      ]
     },
     "execution_count": 61,
     "metadata": {},
     "output_type": "execute_result"
    }
   ],
   "source": [
    "android_clean[\"Content Rating\"].value_counts()"
   ]
  },
  {
   "cell_type": "markdown",
   "metadata": {},
   "source": [
    "<font size=\"4\"><b>Rename columns</b></font><br>"
   ]
  },
  {
   "cell_type": "code",
   "execution_count": 62,
   "metadata": {},
   "outputs": [
    {
     "data": {
      "text/html": [
       "<div>\n",
       "<style scoped>\n",
       "    .dataframe tbody tr th:only-of-type {\n",
       "        vertical-align: middle;\n",
       "    }\n",
       "\n",
       "    .dataframe tbody tr th {\n",
       "        vertical-align: top;\n",
       "    }\n",
       "\n",
       "    .dataframe thead th {\n",
       "        text-align: right;\n",
       "    }\n",
       "</style>\n",
       "<table border=\"1\" class=\"dataframe\">\n",
       "  <thead>\n",
       "    <tr style=\"text-align: right;\">\n",
       "      <th></th>\n",
       "      <th>name_length</th>\n",
       "      <th>category</th>\n",
       "      <th>rating</th>\n",
       "      <th>reviews</th>\n",
       "      <th>size</th>\n",
       "      <th>installs</th>\n",
       "      <th>not_free</th>\n",
       "      <th>price</th>\n",
       "      <th>cont_rating</th>\n",
       "      <th>aversion</th>\n",
       "    </tr>\n",
       "  </thead>\n",
       "  <tbody>\n",
       "    <tr>\n",
       "      <th>0</th>\n",
       "      <td>Photo Editor &amp; Candy Camera &amp; Grid &amp; ScrapBook</td>\n",
       "      <td>ART_AND_DESIGN</td>\n",
       "      <td>4.1</td>\n",
       "      <td>159</td>\n",
       "      <td>19M</td>\n",
       "      <td>10,000+</td>\n",
       "      <td>Free</td>\n",
       "      <td>0</td>\n",
       "      <td>Everyone</td>\n",
       "      <td>4.0.3 and up</td>\n",
       "    </tr>\n",
       "    <tr>\n",
       "      <th>1</th>\n",
       "      <td>Coloring book moana</td>\n",
       "      <td>ART_AND_DESIGN</td>\n",
       "      <td>3.9</td>\n",
       "      <td>967</td>\n",
       "      <td>14M</td>\n",
       "      <td>500,000+</td>\n",
       "      <td>Free</td>\n",
       "      <td>0</td>\n",
       "      <td>Everyone</td>\n",
       "      <td>4.0.3 and up</td>\n",
       "    </tr>\n",
       "    <tr>\n",
       "      <th>2</th>\n",
       "      <td>U Launcher Lite – FREE Live Cool Themes, Hide ...</td>\n",
       "      <td>ART_AND_DESIGN</td>\n",
       "      <td>4.7</td>\n",
       "      <td>87510</td>\n",
       "      <td>8.7M</td>\n",
       "      <td>5,000,000+</td>\n",
       "      <td>Free</td>\n",
       "      <td>0</td>\n",
       "      <td>Everyone</td>\n",
       "      <td>4.0.3 and up</td>\n",
       "    </tr>\n",
       "    <tr>\n",
       "      <th>3</th>\n",
       "      <td>Sketch - Draw &amp; Paint</td>\n",
       "      <td>ART_AND_DESIGN</td>\n",
       "      <td>4.5</td>\n",
       "      <td>215644</td>\n",
       "      <td>25M</td>\n",
       "      <td>50,000,000+</td>\n",
       "      <td>Free</td>\n",
       "      <td>0</td>\n",
       "      <td>Teen</td>\n",
       "      <td>4.2 and up</td>\n",
       "    </tr>\n",
       "    <tr>\n",
       "      <th>4</th>\n",
       "      <td>Pixel Draw - Number Art Coloring Book</td>\n",
       "      <td>ART_AND_DESIGN</td>\n",
       "      <td>4.3</td>\n",
       "      <td>967</td>\n",
       "      <td>2.8M</td>\n",
       "      <td>100,000+</td>\n",
       "      <td>Free</td>\n",
       "      <td>0</td>\n",
       "      <td>Everyone</td>\n",
       "      <td>4.4 and up</td>\n",
       "    </tr>\n",
       "  </tbody>\n",
       "</table>\n",
       "</div>"
      ],
      "text/plain": [
       "                                         name_length        category  rating  \\\n",
       "0     Photo Editor & Candy Camera & Grid & ScrapBook  ART_AND_DESIGN     4.1   \n",
       "1                                Coloring book moana  ART_AND_DESIGN     3.9   \n",
       "2  U Launcher Lite – FREE Live Cool Themes, Hide ...  ART_AND_DESIGN     4.7   \n",
       "3                              Sketch - Draw & Paint  ART_AND_DESIGN     4.5   \n",
       "4              Pixel Draw - Number Art Coloring Book  ART_AND_DESIGN     4.3   \n",
       "\n",
       "  reviews  size     installs not_free price cont_rating      aversion  \n",
       "0     159   19M      10,000+     Free     0    Everyone  4.0.3 and up  \n",
       "1     967   14M     500,000+     Free     0    Everyone  4.0.3 and up  \n",
       "2   87510  8.7M   5,000,000+     Free     0    Everyone  4.0.3 and up  \n",
       "3  215644   25M  50,000,000+     Free     0        Teen    4.2 and up  \n",
       "4     967  2.8M     100,000+     Free     0    Everyone    4.4 and up  "
      ]
     },
     "execution_count": 62,
     "metadata": {},
     "output_type": "execute_result"
    }
   ],
   "source": [
    "android_clean.rename(columns={\"App\": \"name_length\", \"Size\":\"size\", \"Price\":\"price\", \"Reviews\":\"reviews\", \"Rating\":\"rating\", \"Category\":\"category\", \"Installs\":\"installs\", \"Android Ver\":\"aversion\", \"Type\":\"not_free\", \"Content Rating\":\"cont_rating\"}, inplace=True)\n",
    "android_clean.head()"
   ]
  },
  {
   "cell_type": "markdown",
   "metadata": {},
   "source": [
    "<font size=\"4\"><b>Cleaning each column</b></font><br>"
   ]
  },
  {
   "cell_type": "code",
   "execution_count": 63,
   "metadata": {},
   "outputs": [],
   "source": [
    "#category\n",
    "android_clean = android_clean[~android_clean['category'].isin(['1.9'])]"
   ]
  },
  {
   "cell_type": "code",
   "execution_count": 64,
   "metadata": {},
   "outputs": [],
   "source": [
    "#rating\n",
    "android_clean = android_clean[~(android_clean[['rating']] > 5).any(axis=1)]"
   ]
  },
  {
   "cell_type": "code",
   "execution_count": 65,
   "metadata": {
    "scrolled": true
   },
   "outputs": [],
   "source": [
    "#reviews\n",
    "android_clean['reviews'] = android_clean['reviews'].apply(int)"
   ]
  },
  {
   "cell_type": "code",
   "execution_count": 66,
   "metadata": {},
   "outputs": [
    {
     "data": {
      "text/plain": [
       "name_length     object\n",
       "category        object\n",
       "rating         float64\n",
       "reviews          int64\n",
       "size            object\n",
       "installs        object\n",
       "not_free        object\n",
       "price           object\n",
       "cont_rating     object\n",
       "aversion        object\n",
       "dtype: object"
      ]
     },
     "execution_count": 66,
     "metadata": {},
     "output_type": "execute_result"
    }
   ],
   "source": [
    "android_clean.dtypes"
   ]
  },
  {
   "cell_type": "code",
   "execution_count": 67,
   "metadata": {},
   "outputs": [],
   "source": [
    "#size\n",
    "android_clean = android_clean[~android_clean['size'].isin(['Varies with device'])]\n",
    "\n",
    "sizes = []\n",
    "for element in android_clean[\"size\"]:\n",
    "    if('M' in str(element)):\n",
    "        removed_m = element.replace(\"M\", \"\")\n",
    "        sizes.append(float(removed_m))\n",
    "    elif('k' in str(element)):\n",
    "        removed_k = element.replace(\"k\", \"\")\n",
    "        sizes.append(float(removed_k)/1000)\n",
    "    else:\n",
    "        sizes.append(float(element))\n",
    "android_clean['size'] = sizes"
   ]
  },
  {
   "cell_type": "code",
   "execution_count": 68,
   "metadata": {},
   "outputs": [],
   "source": [
    "#installs\n",
    "installs = []\n",
    "for element in android_clean.installs:\n",
    "    if('+' in element):\n",
    "        removed_plus = element.replace('+', '')\n",
    "        if(',' in element):\n",
    "            clean_string = removed_plus.replace(',', '')\n",
    "            installs.append(int(clean_string))\n",
    "        else:\n",
    "            installs.append(int(removed_plus))\n",
    "    else:\n",
    "        installs.append(int(element))        \n",
    "android_clean['installs'] = installs"
   ]
  },
  {
   "cell_type": "code",
   "execution_count": 69,
   "metadata": {},
   "outputs": [],
   "source": [
    "#price\n",
    "android_clean = android_clean[~android_clean['price'].isin(['Everyone'])]\n",
    "\n",
    "prices = []\n",
    "for element in android_clean.price:\n",
    "    if('$' in element):\n",
    "        clean_string = element.replace('$', '')\n",
    "        prices.append(float(clean_string))\n",
    "    else:\n",
    "        prices.append(float(element))\n",
    "android_clean['price'] = prices\n",
    "\n",
    "android_clean = android_clean[android_clean['price']>=0.0]\n",
    "android_clean = android_clean[android_clean['price']<200]\n",
    "android_clean = android_clean[~android_clean['price'].isnull()]"
   ]
  },
  {
   "cell_type": "code",
   "execution_count": 70,
   "metadata": {},
   "outputs": [],
   "source": [
    "#app name\n",
    "lengths = []\n",
    "for row in android_clean.name_length:\n",
    "    lengths.append(len(str(row)))\n",
    "android_clean['name_length'] = lengths"
   ]
  },
  {
   "cell_type": "code",
   "execution_count": 71,
   "metadata": {},
   "outputs": [],
   "source": [
    "def version_transform (ver):\n",
    "    p_counter = 0\n",
    "    for char in ver:\n",
    "        if char == \".\":\n",
    "            p_counter = p_counter+1\n",
    "    if p_counter == 1:\n",
    "        return ver\n",
    "    if p_counter == 2:\n",
    "        var_splitted = ver.split(\".\")\n",
    "        var_res = var_splitted[0]+\".\"+var_splitted[1]+var_splitted[2]\n",
    "        return var_res\n",
    "    elif p_counter == 3:\n",
    "        var_splitted = ver.split(\".\")\n",
    "        var_res = var_splitted[0]+\".\"+var_splitted[1]+var_splitted[2] + var_splitted[3]\n",
    "        return var_res\n",
    "    elif p_counter == 4:\n",
    "        var_splitted = ver.split(\".\")\n",
    "        var_res = var_splitted[0]+\".\"+var_splitted[1]+var_splitted[2] + var_splitted[3] + var_splitted[4]\n",
    "        return var_res\n"
   ]
  },
  {
   "cell_type": "code",
   "execution_count": 72,
   "metadata": {},
   "outputs": [],
   "source": [
    "#android version\n",
    "android_clean = android_clean.dropna()\n",
    "android_clean = android_clean[android_clean['aversion'].str.contains('and up')]\n",
    "\n",
    "aversion = []\n",
    "for element in android_clean['aversion']:\n",
    "    if('W and up' in element):\n",
    "        clean_string = element.replace('W and up', '')\n",
    "        aversion.append(float(version_transform(clean_string)))\n",
    "    elif('and up' in element):\n",
    "        clean_string = element.replace(' and up', '')\n",
    "        aversion.append(float(version_transform(clean_string)))\n",
    "android_clean['aversion'] = aversion"
   ]
  },
  {
   "cell_type": "code",
   "execution_count": 73,
   "metadata": {},
   "outputs": [],
   "source": [
    "#age\n",
    "android_clean = android_clean[pd.notnull(android_clean['cont_rating'])]\n",
    "android_clean = android_clean[android_clean['cont_rating'] != \"Unrated\"]\n",
    "\n",
    "new_age = []\n",
    "for row in android_clean['cont_rating']:\n",
    "    if('Everyone 10+' in row):\n",
    "        new_age.append(10)\n",
    "    elif('Mature 17+' in row):\n",
    "        new_age.append(17)\n",
    "    elif('Adults only 18+' in row):\n",
    "        new_age.append(18)\n",
    "    elif('Everyone' in row):\n",
    "        new_age.append(0)\n",
    "    elif('Teen' in row):\n",
    "        new_age.append(13)\n",
    "android_clean[\"cont_rating\"] = new_age"
   ]
  },
  {
   "cell_type": "code",
   "execution_count": 74,
   "metadata": {},
   "outputs": [],
   "source": [
    "#type\n",
    "android_clean = android_clean[android_clean['not_free'] != str(0)]"
   ]
  },
  {
   "cell_type": "markdown",
   "metadata": {},
   "source": [
    "<font size=\"4\"><b>Dataset after cleaning</b></font><br>"
   ]
  },
  {
   "cell_type": "code",
   "execution_count": 75,
   "metadata": {},
   "outputs": [
    {
     "data": {
      "text/html": [
       "<div>\n",
       "<style scoped>\n",
       "    .dataframe tbody tr th:only-of-type {\n",
       "        vertical-align: middle;\n",
       "    }\n",
       "\n",
       "    .dataframe tbody tr th {\n",
       "        vertical-align: top;\n",
       "    }\n",
       "\n",
       "    .dataframe thead th {\n",
       "        text-align: right;\n",
       "    }\n",
       "</style>\n",
       "<table border=\"1\" class=\"dataframe\">\n",
       "  <thead>\n",
       "    <tr style=\"text-align: right;\">\n",
       "      <th></th>\n",
       "      <th>name_length</th>\n",
       "      <th>category</th>\n",
       "      <th>rating</th>\n",
       "      <th>reviews</th>\n",
       "      <th>size</th>\n",
       "      <th>installs</th>\n",
       "      <th>not_free</th>\n",
       "      <th>price</th>\n",
       "      <th>cont_rating</th>\n",
       "      <th>aversion</th>\n",
       "    </tr>\n",
       "  </thead>\n",
       "  <tbody>\n",
       "    <tr>\n",
       "      <th>0</th>\n",
       "      <td>46</td>\n",
       "      <td>ART_AND_DESIGN</td>\n",
       "      <td>4.1</td>\n",
       "      <td>159</td>\n",
       "      <td>19.0</td>\n",
       "      <td>10000</td>\n",
       "      <td>Free</td>\n",
       "      <td>0.0</td>\n",
       "      <td>0</td>\n",
       "      <td>4.03</td>\n",
       "    </tr>\n",
       "    <tr>\n",
       "      <th>1</th>\n",
       "      <td>19</td>\n",
       "      <td>ART_AND_DESIGN</td>\n",
       "      <td>3.9</td>\n",
       "      <td>967</td>\n",
       "      <td>14.0</td>\n",
       "      <td>500000</td>\n",
       "      <td>Free</td>\n",
       "      <td>0.0</td>\n",
       "      <td>0</td>\n",
       "      <td>4.03</td>\n",
       "    </tr>\n",
       "    <tr>\n",
       "      <th>2</th>\n",
       "      <td>50</td>\n",
       "      <td>ART_AND_DESIGN</td>\n",
       "      <td>4.7</td>\n",
       "      <td>87510</td>\n",
       "      <td>8.7</td>\n",
       "      <td>5000000</td>\n",
       "      <td>Free</td>\n",
       "      <td>0.0</td>\n",
       "      <td>0</td>\n",
       "      <td>4.03</td>\n",
       "    </tr>\n",
       "    <tr>\n",
       "      <th>3</th>\n",
       "      <td>21</td>\n",
       "      <td>ART_AND_DESIGN</td>\n",
       "      <td>4.5</td>\n",
       "      <td>215644</td>\n",
       "      <td>25.0</td>\n",
       "      <td>50000000</td>\n",
       "      <td>Free</td>\n",
       "      <td>0.0</td>\n",
       "      <td>13</td>\n",
       "      <td>4.20</td>\n",
       "    </tr>\n",
       "    <tr>\n",
       "      <th>4</th>\n",
       "      <td>37</td>\n",
       "      <td>ART_AND_DESIGN</td>\n",
       "      <td>4.3</td>\n",
       "      <td>967</td>\n",
       "      <td>2.8</td>\n",
       "      <td>100000</td>\n",
       "      <td>Free</td>\n",
       "      <td>0.0</td>\n",
       "      <td>0</td>\n",
       "      <td>4.40</td>\n",
       "    </tr>\n",
       "  </tbody>\n",
       "</table>\n",
       "</div>"
      ],
      "text/plain": [
       "   name_length        category  rating  reviews  size  installs not_free  \\\n",
       "0           46  ART_AND_DESIGN     4.1      159  19.0     10000     Free   \n",
       "1           19  ART_AND_DESIGN     3.9      967  14.0    500000     Free   \n",
       "2           50  ART_AND_DESIGN     4.7    87510   8.7   5000000     Free   \n",
       "3           21  ART_AND_DESIGN     4.5   215644  25.0  50000000     Free   \n",
       "4           37  ART_AND_DESIGN     4.3      967   2.8    100000     Free   \n",
       "\n",
       "   price  cont_rating  aversion  \n",
       "0    0.0            0      4.03  \n",
       "1    0.0            0      4.03  \n",
       "2    0.0            0      4.03  \n",
       "3    0.0           13      4.20  \n",
       "4    0.0            0      4.40  "
      ]
     },
     "execution_count": 75,
     "metadata": {},
     "output_type": "execute_result"
    }
   ],
   "source": [
    "android_clean.head()"
   ]
  },
  {
   "cell_type": "markdown",
   "metadata": {},
   "source": [
    "<font size=\"5\"><b>Descriptiv analysis</b></font><br>"
   ]
  },
  {
   "cell_type": "markdown",
   "metadata": {},
   "source": [
    "<font size=\"4\"><b>Descriptiv values dataframe</b></font><br>"
   ]
  },
  {
   "cell_type": "code",
   "execution_count": 76,
   "metadata": {},
   "outputs": [
    {
     "data": {
      "text/html": [
       "<div>\n",
       "<style scoped>\n",
       "    .dataframe tbody tr th:only-of-type {\n",
       "        vertical-align: middle;\n",
       "    }\n",
       "\n",
       "    .dataframe tbody tr th {\n",
       "        vertical-align: top;\n",
       "    }\n",
       "\n",
       "    .dataframe thead th {\n",
       "        text-align: right;\n",
       "    }\n",
       "</style>\n",
       "<table border=\"1\" class=\"dataframe\">\n",
       "  <thead>\n",
       "    <tr style=\"text-align: right;\">\n",
       "      <th></th>\n",
       "      <th>name_length</th>\n",
       "      <th>category</th>\n",
       "      <th>rating</th>\n",
       "      <th>reviews</th>\n",
       "      <th>size</th>\n",
       "      <th>installs</th>\n",
       "      <th>not_free</th>\n",
       "      <th>price</th>\n",
       "      <th>cont_rating</th>\n",
       "      <th>aversion</th>\n",
       "    </tr>\n",
       "  </thead>\n",
       "  <tbody>\n",
       "    <tr>\n",
       "      <th>Mean</th>\n",
       "      <td>22.958</td>\n",
       "      <td>NaN</td>\n",
       "      <td>4.17333</td>\n",
       "      <td>295039</td>\n",
       "      <td>23.0146</td>\n",
       "      <td>8.20133e+06</td>\n",
       "      <td>NaN</td>\n",
       "      <td>0.370031</td>\n",
       "      <td>2.68868</td>\n",
       "      <td>3.85788</td>\n",
       "    </tr>\n",
       "    <tr>\n",
       "      <th>Median</th>\n",
       "      <td>22</td>\n",
       "      <td>NaN</td>\n",
       "      <td>4.3</td>\n",
       "      <td>2277.5</td>\n",
       "      <td>14</td>\n",
       "      <td>100000</td>\n",
       "      <td>NaN</td>\n",
       "      <td>0</td>\n",
       "      <td>0</td>\n",
       "      <td>4.1</td>\n",
       "    </tr>\n",
       "    <tr>\n",
       "      <th>Std</th>\n",
       "      <td>12.21</td>\n",
       "      <td>NaN</td>\n",
       "      <td>0.545694</td>\n",
       "      <td>1.87188e+06</td>\n",
       "      <td>23.4883</td>\n",
       "      <td>4.93893e+07</td>\n",
       "      <td>NaN</td>\n",
       "      <td>2.35182</td>\n",
       "      <td>5.45663</td>\n",
       "      <td>0.848159</td>\n",
       "    </tr>\n",
       "    <tr>\n",
       "      <th>Mode</th>\n",
       "      <td>30</td>\n",
       "      <td>FAMILY</td>\n",
       "      <td>4.4</td>\n",
       "      <td>2</td>\n",
       "      <td>14</td>\n",
       "      <td>1000000</td>\n",
       "      <td>NaN</td>\n",
       "      <td>0</td>\n",
       "      <td>0</td>\n",
       "      <td>4.1</td>\n",
       "    </tr>\n",
       "  </tbody>\n",
       "</table>\n",
       "</div>"
      ],
      "text/plain": [
       "       name_length category    rating      reviews     size     installs  \\\n",
       "Mean        22.958      NaN   4.17333       295039  23.0146  8.20133e+06   \n",
       "Median          22      NaN       4.3       2277.5       14       100000   \n",
       "Std          12.21      NaN  0.545694  1.87188e+06  23.4883  4.93893e+07   \n",
       "Mode            30   FAMILY       4.4            2       14      1000000   \n",
       "\n",
       "       not_free     price cont_rating  aversion  \n",
       "Mean        NaN  0.370031     2.68868   3.85788  \n",
       "Median      NaN         0           0       4.1  \n",
       "Std         NaN   2.35182     5.45663  0.848159  \n",
       "Mode        NaN         0           0       4.1  "
      ]
     },
     "execution_count": 76,
     "metadata": {},
     "output_type": "execute_result"
    }
   ],
   "source": [
    "#dataframe with all numeric values\n",
    "df_descript = pd.DataFrame(index = ['Mean', 'Median', 'Std', 'Mode'], columns = android_clean.columns)\n",
    "for column in android_clean:\n",
    "    data = Counter(android_clean[column])\n",
    "    if(column != 'category' and column != 'content_rating' and column != 'not_free'):\n",
    "        tmp = android_clean[column].describe()\n",
    "        df_descript[column]['Mean'] = tmp[1]\n",
    "        df_descript[column]['Median'] = tmp[5]\n",
    "        df_descript[column]['Std'] = tmp[2]\n",
    "        #zipping the most_common tuple into two sublists\n",
    "        sub_list1, sub_list2 = zip(*data.most_common(1))\n",
    "        df_descript[column]['Mode'] = sub_list1[0]\n",
    "    elif(column == 'category'):\n",
    "        sub_list1, sub_list2 = zip(*data.most_common(1))\n",
    "        df_descript[column]['Mode'] = sub_list1[0]\n",
    "df_descript"
   ]
  },
  {
   "cell_type": "markdown",
   "metadata": {},
   "source": [
    "<font size=\"4\"><b>Descriptiv plots</b></font><br>"
   ]
  },
  {
   "cell_type": "code",
   "execution_count": 77,
   "metadata": {},
   "outputs": [
    {
     "data": {
      "image/png": "[encoded data removed]",
      "text/plain": [
       "<Figure size 720x720 with 1 Axes>"
      ]
     },
     "metadata": {},
     "output_type": "display_data"
    }
   ],
   "source": [
    "#category - bar chart\n",
    "android_clean[\"category\"].value_counts().plot(kind=\"barh\", figsize=(10, 10));"
   ]
  },
  {
   "cell_type": "code",
   "execution_count": 78,
   "metadata": {},
   "outputs": [
    {
     "data": {
      "image/png": "[encoded data removed]",
      "text/plain": [
       "<Figure size 432x288 with 1 Axes>"
      ]
     },
     "metadata": {},
     "output_type": "display_data"
    }
   ],
   "source": [
    "#installs - bar chart\n",
    "android_clean[\"installs\"].value_counts().plot(kind=\"bar\");"
   ]
  },
  {
   "cell_type": "code",
   "execution_count": 79,
   "metadata": {},
   "outputs": [
    {
     "data": {
      "image/png": "[encoded data removed]",
      "text/plain": [
       "<Figure size 432x288 with 1 Axes>"
      ]
     },
     "metadata": {},
     "output_type": "display_data"
    }
   ],
   "source": [
    "#android version - bar chart\n",
    "android_clean[\"aversion\"].value_counts().plot(kind=\"bar\");"
   ]
  },
  {
   "cell_type": "code",
   "execution_count": 80,
   "metadata": {},
   "outputs": [
    {
     "data": {
      "text/plain": [
       "count    7648.000000\n",
       "mean        4.173326\n",
       "std         0.545694\n",
       "min         1.000000\n",
       "25%         4.000000\n",
       "50%         4.300000\n",
       "75%         4.500000\n",
       "max         5.000000\n",
       "Name: rating, dtype: float64"
      ]
     },
     "execution_count": 80,
     "metadata": {},
     "output_type": "execute_result"
    },
    {
     "data": {
      "image/png": "[encoded data removed]",
      "text/plain": [
       "<Figure size 432x288 with 1 Axes>"
      ]
     },
     "metadata": {},
     "output_type": "display_data"
    }
   ],
   "source": [
    "#rating - boxplot\n",
    "android_clean[\"rating\"].plot(kind = 'box', showfliers = False);\n",
    "android_clean[\"rating\"].describe()"
   ]
  },
  {
   "cell_type": "code",
   "execution_count": 81,
   "metadata": {},
   "outputs": [
    {
     "data": {
      "text/plain": [
       "count    7648.000000\n",
       "mean        0.370031\n",
       "std         2.351816\n",
       "min         0.000000\n",
       "25%         0.000000\n",
       "50%         0.000000\n",
       "75%         0.000000\n",
       "max        79.990000\n",
       "Name: price, dtype: float64"
      ]
     },
     "execution_count": 81,
     "metadata": {},
     "output_type": "execute_result"
    }
   ],
   "source": [
    "android_clean[\"price\"].describe()"
   ]
  },
  {
   "cell_type": "code",
   "execution_count": 82,
   "metadata": {},
   "outputs": [
    {
     "data": {
      "text/plain": [
       "count    7.648000e+03\n",
       "mean     2.950390e+05\n",
       "std      1.871878e+06\n",
       "min      1.000000e+00\n",
       "25%      1.057500e+02\n",
       "50%      2.277500e+03\n",
       "75%      3.838600e+04\n",
       "max      4.489389e+07\n",
       "Name: reviews, dtype: float64"
      ]
     },
     "execution_count": 82,
     "metadata": {},
     "output_type": "execute_result"
    },
    {
     "data": {
      "image/png": "[encoded data removed]",
      "text/plain": [
       "<Figure size 432x288 with 1 Axes>"
      ]
     },
     "metadata": {},
     "output_type": "display_data"
    }
   ],
   "source": [
    "#reviews - boxplot\n",
    "android_clean[\"reviews\"].plot(kind = 'box', showfliers = False);\n",
    "android_clean[\"reviews\"].describe()"
   ]
  },
  {
   "cell_type": "code",
   "execution_count": 83,
   "metadata": {},
   "outputs": [
    {
     "data": {
      "text/plain": [
       "count    7648.000000\n",
       "mean       23.014574\n",
       "std        23.488269\n",
       "min         0.008500\n",
       "25%         5.300000\n",
       "50%        14.000000\n",
       "75%        33.000000\n",
       "max       100.000000\n",
       "Name: size, dtype: float64"
      ]
     },
     "execution_count": 83,
     "metadata": {},
     "output_type": "execute_result"
    },
    {
     "data": {
      "image/png": "[encoded data removed]",
      "text/plain": [
       "<Figure size 432x288 with 1 Axes>"
      ]
     },
     "metadata": {},
     "output_type": "display_data"
    }
   ],
   "source": [
    "#size - boxplot\n",
    "android_clean[\"size\"].plot(kind = 'box', showfliers = False);\n",
    "android_clean[\"size\"].describe()"
   ]
  },
  {
   "cell_type": "code",
   "execution_count": 84,
   "metadata": {},
   "outputs": [
    {
     "data": {
      "text/plain": [
       "count    7648.000000\n",
       "mean        3.857878\n",
       "std         0.848159\n",
       "min         1.000000\n",
       "25%         4.000000\n",
       "50%         4.100000\n",
       "75%         4.200000\n",
       "max         8.000000\n",
       "Name: aversion, dtype: float64"
      ]
     },
     "execution_count": 84,
     "metadata": {},
     "output_type": "execute_result"
    },
    {
     "data": {
      "image/png": "[encoded data removed]",
      "text/plain": [
       "<Figure size 432x288 with 1 Axes>"
      ]
     },
     "metadata": {},
     "output_type": "display_data"
    }
   ],
   "source": [
    "#android version - boxplot\n",
    "android_clean[\"aversion\"].plot(kind = 'box', showfliers = False);\n",
    "android_clean[\"aversion\"].describe()"
   ]
  },
  {
   "cell_type": "code",
   "execution_count": 85,
   "metadata": {},
   "outputs": [
    {
     "name": "stdout",
     "output_type": "stream",
     "text": [
      "count    7648.000000\n",
      "mean        4.173326\n",
      "std         0.545694\n",
      "min         1.000000\n",
      "25%         4.000000\n",
      "50%         4.300000\n",
      "75%         4.500000\n",
      "max         5.000000\n",
      "Name: rating, dtype: float64\n"
     ]
    },
    {
     "data": {
      "image/png": "[encoded data removed]",
      "text/plain": [
       "<Figure size 432x288 with 1 Axes>"
      ]
     },
     "metadata": {},
     "output_type": "display_data"
    }
   ],
   "source": [
    "print(android_clean.rating.describe())\n",
    "\n",
    "g = sns.boxplot(x=\"cont_rating\", y=\"rating\", data=android_clean, showfliers = False)\n",
    "g.set_title(\"Android\")\n",
    "sns.despine(offset=10, trim=True)"
   ]
  },
  {
   "cell_type": "code",
   "execution_count": 86,
   "metadata": {},
   "outputs": [
    {
     "data": {
      "text/plain": [
       "<matplotlib.axes._subplots.AxesSubplot at 0x2d2ca9fec18>"
      ]
     },
     "execution_count": 86,
     "metadata": {},
     "output_type": "execute_result"
    },
    {
     "data": {
      "image/png": "[encoded data removed]",
      "text/plain": [
       "<Figure size 432x288 with 1 Axes>"
      ]
     },
     "metadata": {},
     "output_type": "display_data"
    }
   ],
   "source": [
    "sns.kdeplot(android_clean['rating'], color=\"Blue\", shade = True)"
   ]
  },
  {
   "cell_type": "code",
   "execution_count": 87,
   "metadata": {},
   "outputs": [
    {
     "data": {
      "text/plain": [
       "<matplotlib.axes._subplots.AxesSubplot at 0x2d2caa7e320>"
      ]
     },
     "execution_count": 87,
     "metadata": {},
     "output_type": "execute_result"
    },
    {
     "data": {
      "image/png": "[encoded data removed]",
      "text/plain": [
       "<Figure size 432x288 with 1 Axes>"
      ]
     },
     "metadata": {},
     "output_type": "display_data"
    }
   ],
   "source": [
    "#distplot -> Size, App -> mehr oder weniger genormte Werte\n",
    "sns.distplot(android_clean['size'], color=\"b\")"
   ]
  },
  {
   "cell_type": "code",
   "execution_count": 88,
   "metadata": {},
   "outputs": [],
   "source": [
    "#rating cleaning -> round values\n",
    "new_ratings = []\n",
    "for row in android_clean.rating:\n",
    "    if(float(row)>=1.0 and float(row)<1.5):\n",
    "        new_ratings.append(float(1.0))\n",
    "    elif(float(row)>=1.5 and float(row)<2.0):\n",
    "        new_ratings.append(float(1.5))\n",
    "    elif(float(row)>=2.0 and float(row)<2.5):\n",
    "        new_ratings.append(float(2.0))\n",
    "    elif(float(row)>=2.5 and float(row)<3.0):\n",
    "        new_ratings.append(float(2.5))\n",
    "    elif(float(row)>=3.0 and float(row)<3.5):\n",
    "        new_ratings.append(float(3.0))\n",
    "    elif(float(row)>=3.5 and float(row)<4.0):\n",
    "        new_ratings.append(float(3.5))\n",
    "    elif(float(row)>=4.0 and float(row)<4.5):\n",
    "        new_ratings.append(float(4.0))\n",
    "    elif(float(row)>=4.5 and float(row)<5.0):\n",
    "        new_ratings.append(float(4.5))\n",
    "    elif(float(row)==5.0):\n",
    "        new_ratings.append(float(5.0))\n",
    "android_rating = android_clean.copy(deep=True)\n",
    "android_rating[\"rating\"] = new_ratings"
   ]
  },
  {
   "cell_type": "code",
   "execution_count": 89,
   "metadata": {},
   "outputs": [],
   "source": [
    "#alle zu populaeren apps rausnehmen\n",
    "# android_clean = android_clean[~(android_clean[['installs']] > 200000000).any(axis=1)]"
   ]
  },
  {
   "cell_type": "code",
   "execution_count": 90,
   "metadata": {
    "scrolled": false
   },
   "outputs": [
    {
     "data": {
      "image/png": "[encoded data removed]",
      "text/plain": [
       "<Figure size 360x360 with 1 Axes>"
      ]
     },
     "metadata": {},
     "output_type": "display_data"
    }
   ],
   "source": [
    "#catplot\n",
    "sns.catplot(x=\"rating\", y=\"size\", data=android_rating);"
   ]
  },
  {
   "cell_type": "code",
   "execution_count": 91,
   "metadata": {},
   "outputs": [
    {
     "data": {
      "image/png": "[encoded data removed]",
      "text/plain": [
       "<Figure size 360x360 with 1 Axes>"
      ]
     },
     "metadata": {},
     "output_type": "display_data"
    }
   ],
   "source": [
    "sns.catplot(x=\"rating\", y=\"reviews\", data=android_rating);"
   ]
  },
  {
   "cell_type": "code",
   "execution_count": 92,
   "metadata": {
    "scrolled": false
   },
   "outputs": [
    {
     "data": {
      "image/png": "[encoded data removed]",
      "text/plain": [
       "<Figure size 360x360 with 1 Axes>"
      ]
     },
     "metadata": {},
     "output_type": "display_data"
    }
   ],
   "source": [
    "sns.catplot(x=\"rating\", y=\"name_length\", data=android_rating);"
   ]
  },
  {
   "cell_type": "markdown",
   "metadata": {},
   "source": [
    "<font size=\"5\"><b>correlation table</b></font><br>"
   ]
  },
  {
   "cell_type": "code",
   "execution_count": 93,
   "metadata": {},
   "outputs": [
    {
     "data": {
      "text/html": [
       "<style  type=\"text/css\" >\n",
       "    #T_1146df30_13f4_11e9_9e30_98e7f4d718a1row0_col0 {\n",
       "            background-color:  #67000d;\n",
       "        }    #T_1146df30_13f4_11e9_9e30_98e7f4d718a1row0_col1 {\n",
       "            background-color:  #fee3d6;\n",
       "        }    #T_1146df30_13f4_11e9_9e30_98e7f4d718a1row0_col2 {\n",
       "            background-color:  #fff5f0;\n",
       "        }    #T_1146df30_13f4_11e9_9e30_98e7f4d718a1row0_col3 {\n",
       "            background-color:  #fff0e9;\n",
       "        }    #T_1146df30_13f4_11e9_9e30_98e7f4d718a1row0_col4 {\n",
       "            background-color:  #fff5f0;\n",
       "        }    #T_1146df30_13f4_11e9_9e30_98e7f4d718a1row0_col5 {\n",
       "            background-color:  #ffefe8;\n",
       "        }    #T_1146df30_13f4_11e9_9e30_98e7f4d718a1row0_col6 {\n",
       "            background-color:  #fee5d8;\n",
       "        }    #T_1146df30_13f4_11e9_9e30_98e7f4d718a1row0_col7 {\n",
       "            background-color:  #fedecf;\n",
       "        }    #T_1146df30_13f4_11e9_9e30_98e7f4d718a1row1_col0 {\n",
       "            background-color:  #fdd5c4;\n",
       "        }    #T_1146df30_13f4_11e9_9e30_98e7f4d718a1row1_col1 {\n",
       "            background-color:  #67000d;\n",
       "        }    #T_1146df30_13f4_11e9_9e30_98e7f4d718a1row1_col2 {\n",
       "            background-color:  #fee2d5;\n",
       "        }    #T_1146df30_13f4_11e9_9e30_98e7f4d718a1row1_col3 {\n",
       "            background-color:  #fee8dd;\n",
       "        }    #T_1146df30_13f4_11e9_9e30_98e7f4d718a1row1_col4 {\n",
       "            background-color:  #fee7db;\n",
       "        }    #T_1146df30_13f4_11e9_9e30_98e7f4d718a1row1_col5 {\n",
       "            background-color:  #ffece3;\n",
       "        }    #T_1146df30_13f4_11e9_9e30_98e7f4d718a1row1_col6 {\n",
       "            background-color:  #ffeee7;\n",
       "        }    #T_1146df30_13f4_11e9_9e30_98e7f4d718a1row1_col7 {\n",
       "            background-color:  #fee7db;\n",
       "        }    #T_1146df30_13f4_11e9_9e30_98e7f4d718a1row2_col0 {\n",
       "            background-color:  #fff5f0;\n",
       "        }    #T_1146df30_13f4_11e9_9e30_98e7f4d718a1row2_col1 {\n",
       "            background-color:  #ffebe2;\n",
       "        }    #T_1146df30_13f4_11e9_9e30_98e7f4d718a1row2_col2 {\n",
       "            background-color:  #67000d;\n",
       "        }    #T_1146df30_13f4_11e9_9e30_98e7f4d718a1row2_col3 {\n",
       "            background-color:  #fcbea5;\n",
       "        }    #T_1146df30_13f4_11e9_9e30_98e7f4d718a1row2_col4 {\n",
       "            background-color:  #e63328;\n",
       "        }    #T_1146df30_13f4_11e9_9e30_98e7f4d718a1row2_col5 {\n",
       "            background-color:  #fff2ec;\n",
       "        }    #T_1146df30_13f4_11e9_9e30_98e7f4d718a1row2_col6 {\n",
       "            background-color:  #fee8dd;\n",
       "        }    #T_1146df30_13f4_11e9_9e30_98e7f4d718a1row2_col7 {\n",
       "            background-color:  #feeae0;\n",
       "        }    #T_1146df30_13f4_11e9_9e30_98e7f4d718a1row3_col0 {\n",
       "            background-color:  #feeae0;\n",
       "        }    #T_1146df30_13f4_11e9_9e30_98e7f4d718a1row3_col1 {\n",
       "            background-color:  #ffebe2;\n",
       "        }    #T_1146df30_13f4_11e9_9e30_98e7f4d718a1row3_col2 {\n",
       "            background-color:  #fcb69b;\n",
       "        }    #T_1146df30_13f4_11e9_9e30_98e7f4d718a1row3_col3 {\n",
       "            background-color:  #67000d;\n",
       "        }    #T_1146df30_13f4_11e9_9e30_98e7f4d718a1row3_col4 {\n",
       "            background-color:  #fdccb8;\n",
       "        }    #T_1146df30_13f4_11e9_9e30_98e7f4d718a1row3_col5 {\n",
       "            background-color:  #ffefe8;\n",
       "        }    #T_1146df30_13f4_11e9_9e30_98e7f4d718a1row3_col6 {\n",
       "            background-color:  #fdc5ae;\n",
       "        }    #T_1146df30_13f4_11e9_9e30_98e7f4d718a1row3_col7 {\n",
       "            background-color:  #fdd0bc;\n",
       "        }    #T_1146df30_13f4_11e9_9e30_98e7f4d718a1row4_col0 {\n",
       "            background-color:  #fff5f0;\n",
       "        }    #T_1146df30_13f4_11e9_9e30_98e7f4d718a1row4_col1 {\n",
       "            background-color:  #fff0e9;\n",
       "        }    #T_1146df30_13f4_11e9_9e30_98e7f4d718a1row4_col2 {\n",
       "            background-color:  #e63328;\n",
       "        }    #T_1146df30_13f4_11e9_9e30_98e7f4d718a1row4_col3 {\n",
       "            background-color:  #fdd7c6;\n",
       "        }    #T_1146df30_13f4_11e9_9e30_98e7f4d718a1row4_col4 {\n",
       "            background-color:  #67000d;\n",
       "        }    #T_1146df30_13f4_11e9_9e30_98e7f4d718a1row4_col5 {\n",
       "            background-color:  #fff4ee;\n",
       "        }    #T_1146df30_13f4_11e9_9e30_98e7f4d718a1row4_col6 {\n",
       "            background-color:  #feeae0;\n",
       "        }    #T_1146df30_13f4_11e9_9e30_98e7f4d718a1row4_col7 {\n",
       "            background-color:  #fee8de;\n",
       "        }    #T_1146df30_13f4_11e9_9e30_98e7f4d718a1row5_col0 {\n",
       "            background-color:  #ffefe8;\n",
       "        }    #T_1146df30_13f4_11e9_9e30_98e7f4d718a1row5_col1 {\n",
       "            background-color:  #fff5f0;\n",
       "        }    #T_1146df30_13f4_11e9_9e30_98e7f4d718a1row5_col2 {\n",
       "            background-color:  #fff2ec;\n",
       "        }    #T_1146df30_13f4_11e9_9e30_98e7f4d718a1row5_col3 {\n",
       "            background-color:  #fff5f0;\n",
       "        }    #T_1146df30_13f4_11e9_9e30_98e7f4d718a1row5_col4 {\n",
       "            background-color:  #fff4ee;\n",
       "        }    #T_1146df30_13f4_11e9_9e30_98e7f4d718a1row5_col5 {\n",
       "            background-color:  #67000d;\n",
       "        }    #T_1146df30_13f4_11e9_9e30_98e7f4d718a1row5_col6 {\n",
       "            background-color:  #fff5f0;\n",
       "        }    #T_1146df30_13f4_11e9_9e30_98e7f4d718a1row5_col7 {\n",
       "            background-color:  #fff5f0;\n",
       "        }    #T_1146df30_13f4_11e9_9e30_98e7f4d718a1row6_col0 {\n",
       "            background-color:  #fee2d5;\n",
       "        }    #T_1146df30_13f4_11e9_9e30_98e7f4d718a1row6_col1 {\n",
       "            background-color:  #fff5f0;\n",
       "        }    #T_1146df30_13f4_11e9_9e30_98e7f4d718a1row6_col2 {\n",
       "            background-color:  #fee5d9;\n",
       "        }    #T_1146df30_13f4_11e9_9e30_98e7f4d718a1row6_col3 {\n",
       "            background-color:  #fdcab5;\n",
       "        }    #T_1146df30_13f4_11e9_9e30_98e7f4d718a1row6_col4 {\n",
       "            background-color:  #fee7db;\n",
       "        }    #T_1146df30_13f4_11e9_9e30_98e7f4d718a1row6_col5 {\n",
       "            background-color:  #fff2ec;\n",
       "        }    #T_1146df30_13f4_11e9_9e30_98e7f4d718a1row6_col6 {\n",
       "            background-color:  #67000d;\n",
       "        }    #T_1146df30_13f4_11e9_9e30_98e7f4d718a1row6_col7 {\n",
       "            background-color:  #ffefe8;\n",
       "        }    #T_1146df30_13f4_11e9_9e30_98e7f4d718a1row7_col0 {\n",
       "            background-color:  #fedecf;\n",
       "        }    #T_1146df30_13f4_11e9_9e30_98e7f4d718a1row7_col1 {\n",
       "            background-color:  #fff0e9;\n",
       "        }    #T_1146df30_13f4_11e9_9e30_98e7f4d718a1row7_col2 {\n",
       "            background-color:  #feeae0;\n",
       "        }    #T_1146df30_13f4_11e9_9e30_98e7f4d718a1row7_col3 {\n",
       "            background-color:  #fed9c9;\n",
       "        }    #T_1146df30_13f4_11e9_9e30_98e7f4d718a1row7_col4 {\n",
       "            background-color:  #fee8de;\n",
       "        }    #T_1146df30_13f4_11e9_9e30_98e7f4d718a1row7_col5 {\n",
       "            background-color:  #fff5f0;\n",
       "        }    #T_1146df30_13f4_11e9_9e30_98e7f4d718a1row7_col6 {\n",
       "            background-color:  #fff2eb;\n",
       "        }    #T_1146df30_13f4_11e9_9e30_98e7f4d718a1row7_col7 {\n",
       "            background-color:  #67000d;\n",
       "        }</style>  \n",
       "<table id=\"T_1146df30_13f4_11e9_9e30_98e7f4d718a1\" > \n",
       "<thead>    <tr> \n",
       "        <th class=\"blank level0\" ></th> \n",
       "        <th class=\"col_heading level0 col0\" >name_length</th> \n",
       "        <th class=\"col_heading level0 col1\" >rating</th> \n",
       "        <th class=\"col_heading level0 col2\" >reviews</th> \n",
       "        <th class=\"col_heading level0 col3\" >size</th> \n",
       "        <th class=\"col_heading level0 col4\" >installs</th> \n",
       "        <th class=\"col_heading level0 col5\" >price</th> \n",
       "        <th class=\"col_heading level0 col6\" >cont_rating</th> \n",
       "        <th class=\"col_heading level0 col7\" >aversion</th> \n",
       "    </tr></thead> \n",
       "<tbody>    <tr> \n",
       "        <th id=\"T_1146df30_13f4_11e9_9e30_98e7f4d718a1level0_row0\" class=\"row_heading level0 row0\" >name_length</th> \n",
       "        <td id=\"T_1146df30_13f4_11e9_9e30_98e7f4d718a1row0_col0\" class=\"data row0 col0\" >1</td> \n",
       "        <td id=\"T_1146df30_13f4_11e9_9e30_98e7f4d718a1row0_col1\" class=\"data row0 col1\" >0.13</td> \n",
       "        <td id=\"T_1146df30_13f4_11e9_9e30_98e7f4d718a1row0_col2\" class=\"data row0 col2\" >-0.04</td> \n",
       "        <td id=\"T_1146df30_13f4_11e9_9e30_98e7f4d718a1row0_col3\" class=\"data row0 col3\" >0.03</td> \n",
       "        <td id=\"T_1146df30_13f4_11e9_9e30_98e7f4d718a1row0_col4\" class=\"data row0 col4\" >-0.04</td> \n",
       "        <td id=\"T_1146df30_13f4_11e9_9e30_98e7f4d718a1row0_col5\" class=\"data row0 col5\" >0</td> \n",
       "        <td id=\"T_1146df30_13f4_11e9_9e30_98e7f4d718a1row0_col6\" class=\"data row0 col6\" >0.08</td> \n",
       "        <td id=\"T_1146df30_13f4_11e9_9e30_98e7f4d718a1row0_col7\" class=\"data row0 col7\" >0.1</td> \n",
       "    </tr>    <tr> \n",
       "        <th id=\"T_1146df30_13f4_11e9_9e30_98e7f4d718a1level0_row1\" class=\"row_heading level0 row1\" >rating</th> \n",
       "        <td id=\"T_1146df30_13f4_11e9_9e30_98e7f4d718a1row1_col0\" class=\"data row1 col0\" >0.13</td> \n",
       "        <td id=\"T_1146df30_13f4_11e9_9e30_98e7f4d718a1row1_col1\" class=\"data row1 col1\" >1</td> \n",
       "        <td id=\"T_1146df30_13f4_11e9_9e30_98e7f4d718a1row1_col2\" class=\"data row1 col2\" >0.08</td> \n",
       "        <td id=\"T_1146df30_13f4_11e9_9e30_98e7f4d718a1row1_col3\" class=\"data row1 col3\" >0.08</td> \n",
       "        <td id=\"T_1146df30_13f4_11e9_9e30_98e7f4d718a1row1_col4\" class=\"data row1 col4\" >0.05</td> \n",
       "        <td id=\"T_1146df30_13f4_11e9_9e30_98e7f4d718a1row1_col5\" class=\"data row1 col5\" >0.02</td> \n",
       "        <td id=\"T_1146df30_13f4_11e9_9e30_98e7f4d718a1row1_col6\" class=\"data row1 col6\" >0.02</td> \n",
       "        <td id=\"T_1146df30_13f4_11e9_9e30_98e7f4d718a1row1_col7\" class=\"data row1 col7\" >0.05</td> \n",
       "    </tr>    <tr> \n",
       "        <th id=\"T_1146df30_13f4_11e9_9e30_98e7f4d718a1level0_row2\" class=\"row_heading level0 row2\" >reviews</th> \n",
       "        <td id=\"T_1146df30_13f4_11e9_9e30_98e7f4d718a1row2_col0\" class=\"data row2 col0\" >-0.04</td> \n",
       "        <td id=\"T_1146df30_13f4_11e9_9e30_98e7f4d718a1row2_col1\" class=\"data row2 col1\" >0.08</td> \n",
       "        <td id=\"T_1146df30_13f4_11e9_9e30_98e7f4d718a1row2_col2\" class=\"data row2 col2\" >1</td> \n",
       "        <td id=\"T_1146df30_13f4_11e9_9e30_98e7f4d718a1row2_col3\" class=\"data row2 col3\" >0.24</td> \n",
       "        <td id=\"T_1146df30_13f4_11e9_9e30_98e7f4d718a1row2_col4\" class=\"data row2 col4\" >0.64</td> \n",
       "        <td id=\"T_1146df30_13f4_11e9_9e30_98e7f4d718a1row2_col5\" class=\"data row2 col5\" >-0.02</td> \n",
       "        <td id=\"T_1146df30_13f4_11e9_9e30_98e7f4d718a1row2_col6\" class=\"data row2 col6\" >0.06</td> \n",
       "        <td id=\"T_1146df30_13f4_11e9_9e30_98e7f4d718a1row2_col7\" class=\"data row2 col7\" >0.03</td> \n",
       "    </tr>    <tr> \n",
       "        <th id=\"T_1146df30_13f4_11e9_9e30_98e7f4d718a1level0_row3\" class=\"row_heading level0 row3\" >size</th> \n",
       "        <td id=\"T_1146df30_13f4_11e9_9e30_98e7f4d718a1row3_col0\" class=\"data row3 col0\" >0.03</td> \n",
       "        <td id=\"T_1146df30_13f4_11e9_9e30_98e7f4d718a1row3_col1\" class=\"data row3 col1\" >0.08</td> \n",
       "        <td id=\"T_1146df30_13f4_11e9_9e30_98e7f4d718a1row3_col2\" class=\"data row3 col2\" >0.24</td> \n",
       "        <td id=\"T_1146df30_13f4_11e9_9e30_98e7f4d718a1row3_col3\" class=\"data row3 col3\" >1</td> \n",
       "        <td id=\"T_1146df30_13f4_11e9_9e30_98e7f4d718a1row3_col4\" class=\"data row3 col4\" >0.16</td> \n",
       "        <td id=\"T_1146df30_13f4_11e9_9e30_98e7f4d718a1row3_col5\" class=\"data row3 col5\" >-0</td> \n",
       "        <td id=\"T_1146df30_13f4_11e9_9e30_98e7f4d718a1row3_col6\" class=\"data row3 col6\" >0.2</td> \n",
       "        <td id=\"T_1146df30_13f4_11e9_9e30_98e7f4d718a1row3_col7\" class=\"data row3 col7\" >0.15</td> \n",
       "    </tr>    <tr> \n",
       "        <th id=\"T_1146df30_13f4_11e9_9e30_98e7f4d718a1level0_row4\" class=\"row_heading level0 row4\" >installs</th> \n",
       "        <td id=\"T_1146df30_13f4_11e9_9e30_98e7f4d718a1row4_col0\" class=\"data row4 col0\" >-0.04</td> \n",
       "        <td id=\"T_1146df30_13f4_11e9_9e30_98e7f4d718a1row4_col1\" class=\"data row4 col1\" >0.05</td> \n",
       "        <td id=\"T_1146df30_13f4_11e9_9e30_98e7f4d718a1row4_col2\" class=\"data row4 col2\" >0.64</td> \n",
       "        <td id=\"T_1146df30_13f4_11e9_9e30_98e7f4d718a1row4_col3\" class=\"data row4 col3\" >0.16</td> \n",
       "        <td id=\"T_1146df30_13f4_11e9_9e30_98e7f4d718a1row4_col4\" class=\"data row4 col4\" >1</td> \n",
       "        <td id=\"T_1146df30_13f4_11e9_9e30_98e7f4d718a1row4_col5\" class=\"data row4 col5\" >-0.03</td> \n",
       "        <td id=\"T_1146df30_13f4_11e9_9e30_98e7f4d718a1row4_col6\" class=\"data row4 col6\" >0.05</td> \n",
       "        <td id=\"T_1146df30_13f4_11e9_9e30_98e7f4d718a1row4_col7\" class=\"data row4 col7\" >0.04</td> \n",
       "    </tr>    <tr> \n",
       "        <th id=\"T_1146df30_13f4_11e9_9e30_98e7f4d718a1level0_row5\" class=\"row_heading level0 row5\" >price</th> \n",
       "        <td id=\"T_1146df30_13f4_11e9_9e30_98e7f4d718a1row5_col0\" class=\"data row5 col0\" >0</td> \n",
       "        <td id=\"T_1146df30_13f4_11e9_9e30_98e7f4d718a1row5_col1\" class=\"data row5 col1\" >0.02</td> \n",
       "        <td id=\"T_1146df30_13f4_11e9_9e30_98e7f4d718a1row5_col2\" class=\"data row5 col2\" >-0.02</td> \n",
       "        <td id=\"T_1146df30_13f4_11e9_9e30_98e7f4d718a1row5_col3\" class=\"data row5 col3\" >-0</td> \n",
       "        <td id=\"T_1146df30_13f4_11e9_9e30_98e7f4d718a1row5_col4\" class=\"data row5 col4\" >-0.03</td> \n",
       "        <td id=\"T_1146df30_13f4_11e9_9e30_98e7f4d718a1row5_col5\" class=\"data row5 col5\" >1</td> \n",
       "        <td id=\"T_1146df30_13f4_11e9_9e30_98e7f4d718a1row5_col6\" class=\"data row5 col6\" >-0.02</td> \n",
       "        <td id=\"T_1146df30_13f4_11e9_9e30_98e7f4d718a1row5_col7\" class=\"data row5 col7\" >-0.04</td> \n",
       "    </tr>    <tr> \n",
       "        <th id=\"T_1146df30_13f4_11e9_9e30_98e7f4d718a1level0_row6\" class=\"row_heading level0 row6\" >cont_rating</th> \n",
       "        <td id=\"T_1146df30_13f4_11e9_9e30_98e7f4d718a1row6_col0\" class=\"data row6 col0\" >0.08</td> \n",
       "        <td id=\"T_1146df30_13f4_11e9_9e30_98e7f4d718a1row6_col1\" class=\"data row6 col1\" >0.02</td> \n",
       "        <td id=\"T_1146df30_13f4_11e9_9e30_98e7f4d718a1row6_col2\" class=\"data row6 col2\" >0.06</td> \n",
       "        <td id=\"T_1146df30_13f4_11e9_9e30_98e7f4d718a1row6_col3\" class=\"data row6 col3\" >0.2</td> \n",
       "        <td id=\"T_1146df30_13f4_11e9_9e30_98e7f4d718a1row6_col4\" class=\"data row6 col4\" >0.05</td> \n",
       "        <td id=\"T_1146df30_13f4_11e9_9e30_98e7f4d718a1row6_col5\" class=\"data row6 col5\" >-0.02</td> \n",
       "        <td id=\"T_1146df30_13f4_11e9_9e30_98e7f4d718a1row6_col6\" class=\"data row6 col6\" >1</td> \n",
       "        <td id=\"T_1146df30_13f4_11e9_9e30_98e7f4d718a1row6_col7\" class=\"data row6 col7\" >0</td> \n",
       "    </tr>    <tr> \n",
       "        <th id=\"T_1146df30_13f4_11e9_9e30_98e7f4d718a1level0_row7\" class=\"row_heading level0 row7\" >aversion</th> \n",
       "        <td id=\"T_1146df30_13f4_11e9_9e30_98e7f4d718a1row7_col0\" class=\"data row7 col0\" >0.1</td> \n",
       "        <td id=\"T_1146df30_13f4_11e9_9e30_98e7f4d718a1row7_col1\" class=\"data row7 col1\" >0.05</td> \n",
       "        <td id=\"T_1146df30_13f4_11e9_9e30_98e7f4d718a1row7_col2\" class=\"data row7 col2\" >0.03</td> \n",
       "        <td id=\"T_1146df30_13f4_11e9_9e30_98e7f4d718a1row7_col3\" class=\"data row7 col3\" >0.15</td> \n",
       "        <td id=\"T_1146df30_13f4_11e9_9e30_98e7f4d718a1row7_col4\" class=\"data row7 col4\" >0.04</td> \n",
       "        <td id=\"T_1146df30_13f4_11e9_9e30_98e7f4d718a1row7_col5\" class=\"data row7 col5\" >-0.04</td> \n",
       "        <td id=\"T_1146df30_13f4_11e9_9e30_98e7f4d718a1row7_col6\" class=\"data row7 col6\" >0</td> \n",
       "        <td id=\"T_1146df30_13f4_11e9_9e30_98e7f4d718a1row7_col7\" class=\"data row7 col7\" >1</td> \n",
       "    </tr></tbody> \n",
       "</table> "
      ],
      "text/plain": [
       "<pandas.io.formats.style.Styler at 0x2d2ca256f98>"
      ]
     },
     "execution_count": 93,
     "metadata": {},
     "output_type": "execute_result"
    }
   ],
   "source": [
    "corr = android_clean.corr().round(2)\n",
    "corr.style.background_gradient(cmap='Reds')"
   ]
  },
  {
   "cell_type": "code",
   "execution_count": 94,
   "metadata": {},
   "outputs": [
    {
     "data": {
      "image/png": "[encoded data removed]",
      "text/plain": [
       "<Figure size 432x288 with 2 Axes>"
      ]
     },
     "metadata": {},
     "output_type": "display_data"
    }
   ],
   "source": [
    "sns.heatmap(corr, mask=np.zeros_like(corr, dtype=np.bool), cmap=sns.diverging_palette(220, 10, as_cmap=True),\n",
    "            square=True);"
   ]
  },
  {
   "cell_type": "markdown",
   "metadata": {},
   "source": [
    "<font size=\"6\"><b>general regression</b></font><br>"
   ]
  },
  {
   "cell_type": "code",
   "execution_count": 96,
   "metadata": {},
   "outputs": [],
   "source": [
    "#needed sub-datasets\n",
    "android_family = android_clean[android_clean[\"category\"] == \"FAMILY\"]\n",
    "android_game = android_clean[android_clean[\"category\"] == \"GAME\"]\n",
    "android_tools = android_clean[android_clean[\"category\"] == \"TOOLS\"]\n",
    "\n",
    "#free apps\n",
    "android_free = android_clean[android_clean[\"price\"]==0]\n",
    "android_free_family = android_free[android_free[\"category\"] == \"FAMILY\"]\n",
    "android_free_game = android_free[android_free[\"category\"] == \"GAME\"]\n",
    "android_free_tools = android_free[android_free[\"category\"] == \"TOOLS\"]\n",
    "\n",
    "#paid apps\n",
    "android_paid = android_clean[android_clean[\"price\"]>0]\n",
    "android_paid_family = android_paid[android_paid[\"category\"] == \"FAMILY\"]\n",
    "android_paid_game = android_paid[android_paid[\"category\"] == \"GAME\"]\n",
    "android_paid_tools = android_paid[android_paid[\"category\"] == \"TOOLS\"]\n",
    "\n",
    "#without apps which have 20 million reviews\n",
    "android_reviews= android_clean[android_clean[\"reviews\"] < 20000000]"
   ]
  },
  {
   "cell_type": "code",
   "execution_count": 97,
   "metadata": {
    "scrolled": false
   },
   "outputs": [
    {
     "name": "stdout",
     "output_type": "stream",
     "text": [
      "                            OLS Regression Results                            \n",
      "==============================================================================\n",
      "Dep. Variable:               installs   R-squared:                       0.412\n",
      "Model:                            OLS   Adj. R-squared:                  0.409\n",
      "Method:                 Least Squares   F-statistic:                     136.9\n",
      "Date:                Wed, 09 Jan 2019   Prob (F-statistic):               0.00\n",
      "Time:                        10:51:36   Log-Likelihood:            -1.4430e+05\n",
      "No. Observations:                7648   AIC:                         2.887e+05\n",
      "Df Residuals:                    7608   BIC:                         2.890e+05\n",
      "Df Model:                          39                                         \n",
      "Covariance Type:            nonrobust                                         \n",
      "===================================================================================================\n",
      "                                      coef    std err          t      P>|t|      [0.025      0.975]\n",
      "---------------------------------------------------------------------------------------------------\n",
      "Intercept                       -2.858e+06   6.37e+06     -0.449      0.654   -1.53e+07    9.62e+06\n",
      "category[T.AUTO_AND_VEHICLES]   -1.331e+06   6.88e+06     -0.193      0.847   -1.48e+07    1.22e+07\n",
      "category[T.BEAUTY]              -1.557e+06   7.96e+06     -0.196      0.845   -1.72e+07    1.41e+07\n",
      "category[T.BOOKS_AND_REFERENCE] -1.048e+06   5.88e+06     -0.178      0.859   -1.26e+07    1.05e+07\n",
      "category[T.BUSINESS]            -2.196e+05   5.52e+06     -0.040      0.968    -1.1e+07    1.06e+07\n",
      "category[T.COMICS]              -1.653e+06   7.41e+06     -0.223      0.823   -1.62e+07    1.29e+07\n",
      "category[T.COMMUNICATION]        1.298e+07   5.61e+06      2.312      0.021    1.97e+06     2.4e+07\n",
      "category[T.DATING]              -1.907e+06   5.91e+06     -0.322      0.747   -1.35e+07    9.69e+06\n",
      "category[T.EDUCATION]           -3.114e+05   6.14e+06     -0.051      0.960   -1.23e+07    1.17e+07\n",
      "category[T.ENTERTAINMENT]        2.223e+06   6.48e+06      0.343      0.732   -1.05e+07    1.49e+07\n",
      "category[T.EVENTS]              -2.084e+06   8.03e+06     -0.259      0.795   -1.78e+07    1.37e+07\n",
      "category[T.FAMILY]               -5.24e+05   5.06e+06     -0.104      0.918   -1.04e+07     9.4e+06\n",
      "category[T.FINANCE]             -1.871e+06    5.5e+06     -0.340      0.734   -1.27e+07    8.91e+06\n",
      "category[T.FOOD_AND_DRINK]      -1.309e+06   6.47e+06     -0.202      0.840    -1.4e+07    1.14e+07\n",
      "category[T.GAME]                 5.899e+06   5.18e+06      1.139      0.255   -4.26e+06    1.61e+07\n",
      "category[T.HEALTH_AND_FITNESS]   9.795e+05   5.58e+06      0.176      0.861   -9.96e+06    1.19e+07\n",
      "category[T.HOUSE_AND_HOME]      -6.379e+05   7.09e+06     -0.090      0.928   -1.45e+07    1.33e+07\n",
      "category[T.LIBRARIES_AND_DEMO]   1.562e+05   6.93e+06      0.023      0.982   -1.34e+07    1.37e+07\n",
      "category[T.LIFESTYLE]           -9.548e+05   5.47e+06     -0.175      0.861   -1.17e+07    9.76e+06\n",
      "category[T.MAPS_AND_NAVIGATION] -8.331e+05   6.32e+06     -0.132      0.895   -1.32e+07    1.16e+07\n",
      "category[T.MEDICAL]             -1.759e+06   5.42e+06     -0.325      0.746   -1.24e+07    8.87e+06\n",
      "category[T.NEWS_AND_MAGAZINES]    2.18e+07   5.77e+06      3.776      0.000    1.05e+07    3.31e+07\n",
      "category[T.PARENTING]           -1.777e+06   7.57e+06     -0.235      0.814   -1.66e+07    1.31e+07\n",
      "category[T.PERSONALIZATION]     -2.597e+05   5.45e+06     -0.048      0.962   -1.09e+07    1.04e+07\n",
      "category[T.PHOTOGRAPHY]          3.789e+06   5.54e+06      0.684      0.494   -7.07e+06    1.46e+07\n",
      "category[T.PRODUCTIVITY]         8.111e+05   5.55e+06      0.146      0.884   -1.01e+07    1.17e+07\n",
      "category[T.SHOPPING]             1.816e+06   5.71e+06      0.318      0.751   -9.39e+06     1.3e+07\n",
      "category[T.SOCIAL]              -3.772e+04   5.77e+06     -0.007      0.995   -1.14e+07    1.13e+07\n",
      "category[T.SPORTS]              -1.058e+06   5.52e+06     -0.192      0.848   -1.19e+07    9.76e+06\n",
      "category[T.TOOLS]                1.006e+06   5.18e+06      0.194      0.846   -9.16e+06    1.12e+07\n",
      "category[T.TRAVEL_AND_LOCAL]    -9.714e+05   5.83e+06     -0.167      0.868   -1.24e+07    1.05e+07\n",
      "category[T.VIDEO_PLAYERS]        1.622e+06   6.11e+06      0.266      0.791   -1.04e+07    1.36e+07\n",
      "category[T.WEATHER]             -5.158e+05   7.34e+06     -0.070      0.944   -1.49e+07    1.39e+07\n",
      "cont_rating                      4.193e+04   9.65e+04      0.435      0.664   -1.47e+05    2.31e+05\n",
      "rating                           2.251e+05   8.19e+05      0.275      0.783   -1.38e+06    1.83e+06\n",
      "size                             1362.2338   2.19e+04      0.062      0.950   -4.16e+04    4.43e+04\n",
      "reviews                            16.4650      0.243     67.724      0.000      15.988      16.942\n",
      "aversion                          1.35e+06   5.44e+05      2.483      0.013    2.84e+05    2.42e+06\n",
      "name_length                     -6.396e+04   3.68e+04     -1.738      0.082   -1.36e+05    8182.538\n",
      "price                           -1.158e+05   1.91e+05     -0.607      0.544    -4.9e+05    2.58e+05\n",
      "==============================================================================\n",
      "Omnibus:                    12412.149   Durbin-Watson:                   1.869\n",
      "Prob(Omnibus):                  0.000   Jarque-Bera (JB):         31401287.974\n",
      "Skew:                          10.104   Prob(JB):                         0.00\n",
      "Kurtosis:                     316.259   Cond. No.                     1.25e+08\n",
      "==============================================================================\n",
      "\n",
      "Warnings:\n",
      "[1] Standard Errors assume that the covariance matrix of the errors is correctly specified.\n",
      "[2] The condition number is large, 1.25e+08. This might indicate that there are\n",
      "strong multicollinearity or other numerical problems.\n"
     ]
    }
   ],
   "source": [
    "#regression installs\n",
    "result = sm.ols(formula=\"installs ~ cont_rating + rating + size + category + reviews + aversion + name_length + price\", data=android_clean).fit()\n",
    "print(result.summary())"
   ]
  },
  {
   "cell_type": "code",
   "execution_count": 98,
   "metadata": {},
   "outputs": [
    {
     "name": "stdout",
     "output_type": "stream",
     "text": [
      "                            OLS Regression Results                            \n",
      "==============================================================================\n",
      "Dep. Variable:                reviews   R-squared:                       0.432\n",
      "Model:                            OLS   Adj. R-squared:                  0.430\n",
      "Method:                 Least Squares   F-statistic:                     148.7\n",
      "Date:                Wed, 09 Jan 2019   Prob (F-statistic):               0.00\n",
      "Time:                        10:51:37   Log-Likelihood:            -1.1914e+05\n",
      "No. Observations:                7648   AIC:                         2.384e+05\n",
      "Df Residuals:                    7608   BIC:                         2.386e+05\n",
      "Df Model:                          39                                         \n",
      "Covariance Type:            nonrobust                                         \n",
      "===================================================================================================\n",
      "                                      coef    std err          t      P>|t|      [0.025      0.975]\n",
      "---------------------------------------------------------------------------------------------------\n",
      "Intercept                       -5.913e+05   2.37e+05     -2.494      0.013   -1.06e+06   -1.27e+05\n",
      "category[T.AUTO_AND_VEHICLES]   -4.406e+04   2.56e+05     -0.172      0.864   -5.47e+05    4.58e+05\n",
      "category[T.BEAUTY]              -1.152e+04   2.97e+05     -0.039      0.969   -5.93e+05     5.7e+05\n",
      "category[T.BOOKS_AND_REFERENCE] -8176.7385   2.19e+05     -0.037      0.970   -4.37e+05    4.21e+05\n",
      "category[T.BUSINESS]             -2.12e+04   2.06e+05     -0.103      0.918   -4.24e+05    3.82e+05\n",
      "category[T.COMICS]               6.103e+04   2.76e+05      0.221      0.825    -4.8e+05    6.02e+05\n",
      "category[T.COMMUNICATION]        5.758e+04   2.09e+05      0.275      0.783   -3.52e+05    4.68e+05\n",
      "category[T.DATING]               6.018e+04    2.2e+05      0.273      0.785   -3.72e+05    4.92e+05\n",
      "category[T.EDUCATION]           -6.787e+04   2.29e+05     -0.297      0.767   -5.16e+05     3.8e+05\n",
      "category[T.ENTERTAINMENT]       -6.564e+04   2.41e+05     -0.272      0.786   -5.39e+05    4.08e+05\n",
      "category[T.EVENTS]              -2.289e+04   2.99e+05     -0.077      0.939   -6.09e+05    5.64e+05\n",
      "category[T.FAMILY]              -6.172e+04   1.89e+05     -0.327      0.743   -4.31e+05    3.08e+05\n",
      "category[T.FINANCE]             -2.076e+04   2.05e+05     -0.101      0.919   -4.22e+05    3.81e+05\n",
      "category[T.FOOD_AND_DRINK]      -7.526e+04   2.41e+05     -0.312      0.755   -5.48e+05    3.97e+05\n",
      "category[T.GAME]                 3.805e+05   1.93e+05      1.972      0.049    2227.582    7.59e+05\n",
      "category[T.HEALTH_AND_FITNESS]   -1.34e+05   2.08e+05     -0.645      0.519   -5.41e+05    2.73e+05\n",
      "category[T.HOUSE_AND_HOME]       2876.7222   2.64e+05      0.011      0.991   -5.14e+05     5.2e+05\n",
      "category[T.LIBRARIES_AND_DEMO]   -531.3089   2.58e+05     -0.002      0.998   -5.07e+05    5.06e+05\n",
      "category[T.LIFESTYLE]           -3076.0420   2.04e+05     -0.015      0.988   -4.02e+05    3.96e+05\n",
      "category[T.MAPS_AND_NAVIGATION] -9879.2771   2.35e+05     -0.042      0.967   -4.71e+05    4.52e+05\n",
      "category[T.MEDICAL]             -2.322e+04   2.02e+05     -0.115      0.908   -4.19e+05    3.73e+05\n",
      "category[T.NEWS_AND_MAGAZINES]  -4.873e+05   2.15e+05     -2.265      0.024   -9.09e+05   -6.56e+04\n",
      "category[T.PARENTING]           -6.472e+04   2.82e+05     -0.230      0.818   -6.17e+05    4.88e+05\n",
      "category[T.PERSONALIZATION]      6.918e+04   2.03e+05      0.341      0.733   -3.29e+05    4.67e+05\n",
      "category[T.PHOTOGRAPHY]          6.397e+04   2.06e+05      0.310      0.756    -3.4e+05    4.68e+05\n",
      "category[T.PRODUCTIVITY]         7.516e+04   2.07e+05      0.364      0.716    -3.3e+05     4.8e+05\n",
      "category[T.SHOPPING]             5.111e+04   2.13e+05      0.240      0.810   -3.66e+05    4.68e+05\n",
      "category[T.SOCIAL]               3.818e+04   2.15e+05      0.178      0.859   -3.83e+05     4.6e+05\n",
      "category[T.SPORTS]              -7266.5449   2.06e+05     -0.035      0.972    -4.1e+05    3.96e+05\n",
      "category[T.TOOLS]                1.271e+05   1.93e+05      0.658      0.510   -2.51e+05    5.06e+05\n",
      "category[T.TRAVEL_AND_LOCAL]    -8.157e+04   2.17e+05     -0.376      0.707   -5.07e+05    3.44e+05\n",
      "category[T.VIDEO_PLAYERS]         5.96e+04   2.28e+05      0.262      0.793   -3.86e+05    5.06e+05\n",
      "category[T.WEATHER]              3.354e+04   2.74e+05      0.123      0.902   -5.03e+05     5.7e+05\n",
      "cont_rating                     -2459.1603   3594.388     -0.684      0.494   -9505.153    4586.833\n",
      "installs                            0.0228      0.000     67.724      0.000       0.022       0.024\n",
      "rating                           1.298e+05   3.05e+04      4.258      0.000       7e+04    1.89e+05\n",
      "size                             9887.3541    807.926     12.238      0.000    8303.596    1.15e+04\n",
      "aversion                        -9915.2418   2.03e+04     -0.489      0.625   -4.96e+04    2.98e+04\n",
      "name_length                     -2566.3019   1370.683     -1.872      0.061   -5253.218     120.614\n",
      "price                           -6857.2685   7111.170     -0.964      0.335   -2.08e+04    7082.586\n",
      "==============================================================================\n",
      "Omnibus:                    14475.507   Durbin-Watson:                   1.627\n",
      "Prob(Omnibus):                  0.000   Jarque-Bera (JB):         63551032.071\n",
      "Skew:                          14.078   Prob(JB):                         0.00\n",
      "Kurtosis:                     448.685   Cond. No.                     3.31e+09\n",
      "==============================================================================\n",
      "\n",
      "Warnings:\n",
      "[1] Standard Errors assume that the covariance matrix of the errors is correctly specified.\n",
      "[2] The condition number is large, 3.31e+09. This might indicate that there are\n",
      "strong multicollinearity or other numerical problems.\n"
     ]
    }
   ],
   "source": [
    "#regression reviews\n",
    "result = sm.ols(formula=\"reviews ~ cont_rating + installs + rating + size + aversion + name_length + price + category\", data=android_clean).fit()\n",
    "print(result.summary())"
   ]
  },
  {
   "cell_type": "code",
   "execution_count": 99,
   "metadata": {
    "scrolled": false
   },
   "outputs": [
    {
     "name": "stdout",
     "output_type": "stream",
     "text": [
      "                            OLS Regression Results                            \n",
      "==============================================================================\n",
      "Dep. Variable:                 rating   R-squared:                       0.057\n",
      "Model:                            OLS   Adj. R-squared:                  0.052\n",
      "Method:                 Least Squares   F-statistic:                     11.77\n",
      "Date:                Wed, 09 Jan 2019   Prob (F-statistic):           1.11e-70\n",
      "Time:                        10:51:37   Log-Likelihood:                -5995.2\n",
      "No. Observations:                7648   AIC:                         1.207e+04\n",
      "Df Residuals:                    7608   BIC:                         1.235e+04\n",
      "Df Model:                          39                                         \n",
      "Covariance Type:            nonrobust                                         \n",
      "===================================================================================================\n",
      "                                      coef    std err          t      P>|t|      [0.025      0.975]\n",
      "---------------------------------------------------------------------------------------------------\n",
      "Intercept                           4.0566      0.076     53.352      0.000       3.908       4.206\n",
      "category[T.AUTO_AND_VEHICLES]      -0.2131      0.096     -2.213      0.027      -0.402      -0.024\n",
      "category[T.BEAUTY]                 -0.0481      0.111     -0.431      0.666      -0.267       0.170\n",
      "category[T.BOOKS_AND_REFERENCE]     0.0154      0.082      0.187      0.852      -0.146       0.177\n",
      "category[T.BUSINESS]               -0.1856      0.077     -2.404      0.016      -0.337      -0.034\n",
      "category[T.COMICS]                 -0.2022      0.104     -1.951      0.051      -0.405       0.001\n",
      "category[T.COMMUNICATION]          -0.2224      0.079     -2.831      0.005      -0.376      -0.068\n",
      "category[T.DATING]                 -0.4113      0.083     -4.976      0.000      -0.573      -0.249\n",
      "category[T.EDUCATION]               0.0513      0.086      0.597      0.551      -0.117       0.220\n",
      "category[T.ENTERTAINMENT]          -0.1851      0.091     -2.041      0.041      -0.363      -0.007\n",
      "category[T.EVENTS]                  0.1480      0.112      1.316      0.188      -0.072       0.368\n",
      "category[T.FAMILY]                 -0.1341      0.071     -1.894      0.058      -0.273       0.005\n",
      "category[T.FINANCE]                -0.1967      0.077     -2.556      0.011      -0.348      -0.046\n",
      "category[T.FOOD_AND_DRINK]         -0.2313      0.091     -2.556      0.011      -0.409      -0.054\n",
      "category[T.GAME]                   -0.0731      0.073     -1.008      0.313      -0.215       0.069\n",
      "category[T.HEALTH_AND_FITNESS]     -0.1255      0.078     -1.607      0.108      -0.279       0.028\n",
      "category[T.HOUSE_AND_HOME]         -0.2179      0.099     -2.198      0.028      -0.412      -0.024\n",
      "category[T.LIBRARIES_AND_DEMO]     -0.0707      0.097     -0.729      0.466      -0.261       0.120\n",
      "category[T.LIFESTYLE]              -0.2025      0.077     -2.647      0.008      -0.352      -0.053\n",
      "category[T.MAPS_AND_NAVIGATION]    -0.3068      0.088     -3.470      0.001      -0.480      -0.133\n",
      "category[T.MEDICAL]                -0.1503      0.076     -1.981      0.048      -0.299      -0.002\n",
      "category[T.NEWS_AND_MAGAZINES]     -0.1725      0.081     -2.134      0.033      -0.331      -0.014\n",
      "category[T.PARENTING]              -0.0057      0.106     -0.054      0.957      -0.213       0.202\n",
      "category[T.PERSONALIZATION]        -0.0074      0.076     -0.097      0.922      -0.157       0.142\n",
      "category[T.PHOTOGRAPHY]            -0.1885      0.077     -2.433      0.015      -0.340      -0.037\n",
      "category[T.PRODUCTIVITY]           -0.1812      0.078     -2.335      0.020      -0.333      -0.029\n",
      "category[T.SHOPPING]               -0.1051      0.080     -1.314      0.189      -0.262       0.052\n",
      "category[T.SOCIAL]                 -0.0794      0.081     -0.983      0.326      -0.238       0.079\n",
      "category[T.SPORTS]                 -0.1225      0.077     -1.586      0.113      -0.274       0.029\n",
      "category[T.TOOLS]                  -0.2986      0.072     -4.119      0.000      -0.441      -0.157\n",
      "category[T.TRAVEL_AND_LOCAL]       -0.3055      0.082     -3.749      0.000      -0.465      -0.146\n",
      "category[T.VIDEO_PLAYERS]          -0.2950      0.085     -3.452      0.001      -0.463      -0.128\n",
      "category[T.WEATHER]                -0.0668      0.103     -0.650      0.516      -0.268       0.135\n",
      "cont_rating                        -0.0001      0.001     -0.104      0.918      -0.003       0.003\n",
      "reviews                          1.833e-08    4.3e-09      4.258      0.000    9.89e-09    2.68e-08\n",
      "installs                          4.41e-11    1.6e-10      0.275      0.783    -2.7e-10    3.59e-10\n",
      "size                                0.0006      0.000      1.942      0.052   -5.65e-06       0.001\n",
      "aversion                            0.0304      0.008      4.001      0.000       0.016       0.045\n",
      "name_length                         0.0057      0.001     11.243      0.000       0.005       0.007\n",
      "price                               0.0054      0.003      2.036      0.042       0.000       0.011\n",
      "==============================================================================\n",
      "Omnibus:                     2594.372   Durbin-Watson:                   1.843\n",
      "Prob(Omnibus):                  0.000   Jarque-Bera (JB):            11221.374\n",
      "Skew:                          -1.615   Prob(JB):                         0.00\n",
      "Kurtosis:                       7.978   Cond. No.                     3.31e+09\n",
      "==============================================================================\n",
      "\n",
      "Warnings:\n",
      "[1] Standard Errors assume that the covariance matrix of the errors is correctly specified.\n",
      "[2] The condition number is large, 3.31e+09. This might indicate that there are\n",
      "strong multicollinearity or other numerical problems.\n"
     ]
    }
   ],
   "source": [
    "#regression rating\n",
    "result = sm.ols(formula=\"rating ~ cont_rating + reviews + installs + size + aversion + name_length + price + category\", data=android_clean).fit()\n",
    "print(result.summary())"
   ]
  },
  {
   "cell_type": "code",
   "execution_count": 100,
   "metadata": {},
   "outputs": [
    {
     "name": "stdout",
     "output_type": "stream",
     "text": [
      "                            OLS Regression Results                            \n",
      "==============================================================================\n",
      "Dep. Variable:                   size   R-squared:                       0.288\n",
      "Model:                            OLS   Adj. R-squared:                  0.285\n",
      "Method:                 Least Squares   F-statistic:                     78.99\n",
      "Date:                Wed, 09 Jan 2019   Prob (F-statistic):               0.00\n",
      "Time:                        10:51:37   Log-Likelihood:                -33692.\n",
      "No. Observations:                7648   AIC:                         6.746e+04\n",
      "Df Residuals:                    7608   BIC:                         6.774e+04\n",
      "Df Model:                          39                                         \n",
      "Covariance Type:            nonrobust                                         \n",
      "===================================================================================================\n",
      "                                      coef    std err          t      P>|t|      [0.025      0.975]\n",
      "---------------------------------------------------------------------------------------------------\n",
      "Intercept                         -12.9263      3.330     -3.882      0.000     -19.453      -6.399\n",
      "category[T.AUTO_AND_VEHICLES]       8.2181      3.601      2.282      0.023       1.159      15.278\n",
      "category[T.BEAUTY]                  2.3974      4.167      0.575      0.565      -5.772      10.567\n",
      "category[T.BOOKS_AND_REFERENCE]     3.4539      3.076      1.123      0.262      -2.576       9.484\n",
      "category[T.BUSINESS]                3.1875      2.888      1.104      0.270      -2.474       8.848\n",
      "category[T.COMICS]                 -2.9471      3.876     -0.760      0.447     -10.546       4.652\n",
      "category[T.COMMUNICATION]           0.2095      2.939      0.071      0.943      -5.553       5.972\n",
      "category[T.DATING]                 -2.9317      3.095     -0.947      0.344      -9.000       3.136\n",
      "category[T.EDUCATION]               7.8312      3.213      2.438      0.015       1.534      14.129\n",
      "category[T.ENTERTAINMENT]           3.9509      3.392      1.165      0.244      -2.698      10.600\n",
      "category[T.EVENTS]                  0.1421      4.205      0.034      0.973      -8.101       8.385\n",
      "category[T.FAMILY]                 17.5162      2.641      6.631      0.000      12.338      22.694\n",
      "category[T.FINANCE]                 5.5559      2.879      1.930      0.054      -0.087      11.199\n",
      "category[T.FOOD_AND_DRINK]          9.8227      3.384      2.903      0.004       3.189      16.456\n",
      "category[T.GAME]                   29.0980      2.692     10.811      0.000      23.822      34.374\n",
      "category[T.HEALTH_AND_FITNESS]     10.3649      2.917      3.553      0.000       4.646      16.084\n",
      "category[T.HOUSE_AND_HOME]          3.9083      3.708      1.054      0.292      -3.361      11.177\n",
      "category[T.LIBRARIES_AND_DEMO]      6.1028      3.628      1.682      0.093      -1.009      13.215\n",
      "category[T.LIFESTYLE]               3.4336      2.862      1.200      0.230      -2.176       9.044\n",
      "category[T.MAPS_AND_NAVIGATION]     5.4628      3.308      1.651      0.099      -1.022      11.947\n",
      "category[T.MEDICAL]                 6.3978      2.836      2.256      0.024       0.839      11.957\n",
      "category[T.NEWS_AND_MAGAZINES]     -2.0412      3.024     -0.675      0.500      -7.970       3.887\n",
      "category[T.PARENTING]               7.7915      3.959      1.968      0.049       0.031      15.552\n",
      "category[T.PERSONALIZATION]        -0.9929      2.854     -0.348      0.728      -6.588       4.602\n",
      "category[T.PHOTOGRAPHY]             4.8328      2.898      1.667      0.095      -0.849      10.514\n",
      "category[T.PRODUCTIVITY]            0.2147      2.903      0.074      0.941      -5.476       5.906\n",
      "category[T.SHOPPING]                2.4618      2.991      0.823      0.410      -3.401       8.325\n",
      "category[T.SOCIAL]                  2.1914      3.022      0.725      0.468      -3.732       8.115\n",
      "category[T.SPORTS]                 13.0923      2.885      4.537      0.000       7.436      18.748\n",
      "category[T.TOOLS]                  -3.0806      2.714     -1.135      0.256      -8.400       2.239\n",
      "category[T.TRAVEL_AND_LOCAL]       11.9451      3.048      3.919      0.000       5.971      17.919\n",
      "category[T.VIDEO_PLAYERS]           2.8115      3.198      0.879      0.379      -3.457       9.080\n",
      "category[T.WEATHER]                 0.7087      3.844      0.184      0.854      -6.827       8.244\n",
      "cont_rating                         0.4873      0.050      9.706      0.000       0.389       0.586\n",
      "reviews                          1.953e-06    1.6e-07     12.238      0.000    1.64e-06    2.27e-06\n",
      "installs                         3.732e-10      6e-09      0.062      0.950   -1.14e-08    1.21e-08\n",
      "rating                              0.8323      0.429      1.942      0.052      -0.008       1.672\n",
      "aversion                            5.0260      0.279     18.023      0.000       4.479       5.573\n",
      "name_length                         0.0722      0.019      3.749      0.000       0.034       0.110\n",
      "price                               0.0776      0.100      0.777      0.437      -0.118       0.274\n",
      "==============================================================================\n",
      "Omnibus:                     1444.409   Durbin-Watson:                   1.781\n",
      "Prob(Omnibus):                  0.000   Jarque-Bera (JB):             2658.286\n",
      "Skew:                           1.181   Prob(JB):                         0.00\n",
      "Kurtosis:                       4.661   Cond. No.                     3.31e+09\n",
      "==============================================================================\n",
      "\n",
      "Warnings:\n",
      "[1] Standard Errors assume that the covariance matrix of the errors is correctly specified.\n",
      "[2] The condition number is large, 3.31e+09. This might indicate that there are\n",
      "strong multicollinearity or other numerical problems.\n"
     ]
    }
   ],
   "source": [
    "#regression size\n",
    "result = sm.ols(formula=\"size ~ cont_rating + reviews + installs + rating + aversion + name_length + price + category\", data=android_clean).fit()\n",
    "print(result.summary())"
   ]
  },
  {
   "cell_type": "code",
   "execution_count": 101,
   "metadata": {},
   "outputs": [
    {
     "name": "stdout",
     "output_type": "stream",
     "text": [
      "                            OLS Regression Results                            \n",
      "==============================================================================\n",
      "Dep. Variable:                  price   R-squared:                       0.066\n",
      "Model:                            OLS   Adj. R-squared:                  0.061\n",
      "Method:                 Least Squares   F-statistic:                     13.71\n",
      "Date:                Wed, 09 Jan 2019   Prob (F-statistic):           6.15e-85\n",
      "Time:                        10:51:37   Log-Likelihood:                -17132.\n",
      "No. Observations:                7648   AIC:                         3.434e+04\n",
      "Df Residuals:                    7608   BIC:                         3.462e+04\n",
      "Df Model:                          39                                         \n",
      "Covariance Type:            nonrobust                                         \n",
      "===================================================================================================\n",
      "                                      coef    std err          t      P>|t|      [0.025      0.975]\n",
      "---------------------------------------------------------------------------------------------------\n",
      "Intercept                           0.1812      0.382      0.474      0.636      -0.568       0.931\n",
      "category[T.AUTO_AND_VEHICLES]      -0.0492      0.413     -0.119      0.905      -0.859       0.761\n",
      "category[T.BEAUTY]                 -0.0723      0.478     -0.151      0.880      -1.009       0.865\n",
      "category[T.BOOKS_AND_REFERENCE]     0.0187      0.353      0.053      0.958      -0.673       0.710\n",
      "category[T.BUSINESS]                0.1983      0.331      0.598      0.550      -0.451       0.848\n",
      "category[T.COMICS]                 -0.0911      0.445     -0.205      0.838      -0.963       0.781\n",
      "category[T.COMMUNICATION]           0.1243      0.337      0.368      0.713      -0.537       0.785\n",
      "category[T.DATING]                  0.0080      0.355      0.023      0.982      -0.688       0.704\n",
      "category[T.EDUCATION]               0.0709      0.369      0.192      0.847      -0.652       0.794\n",
      "category[T.ENTERTAINMENT]           0.0030      0.389      0.008      0.994      -0.760       0.766\n",
      "category[T.EVENTS]                 -0.0693      0.482     -0.144      0.886      -1.015       0.876\n",
      "category[T.FAMILY]                  0.2907      0.304      0.957      0.339      -0.305       0.886\n",
      "category[T.FINANCE]                 0.1463      0.330      0.443      0.658      -0.501       0.794\n",
      "category[T.FOOD_AND_DRINK]          0.0649      0.388      0.167      0.867      -0.697       0.826\n",
      "category[T.GAME]                    0.1644      0.311      0.528      0.597      -0.446       0.774\n",
      "category[T.HEALTH_AND_FITNESS]      0.1144      0.335      0.341      0.733      -0.542       0.771\n",
      "category[T.HOUSE_AND_HOME]         -0.0569      0.425     -0.134      0.894      -0.891       0.777\n",
      "category[T.LIBRARIES_AND_DEMO]     -0.2204      0.416     -0.529      0.597      -1.036       0.596\n",
      "category[T.LIFESTYLE]               0.2114      0.328      0.644      0.520      -0.432       0.855\n",
      "category[T.MAPS_AND_NAVIGATION]     0.1255      0.380      0.331      0.741      -0.619       0.870\n",
      "category[T.MEDICAL]                 3.0435      0.324      9.406      0.000       2.409       3.678\n",
      "category[T.NEWS_AND_MAGAZINES]      0.0004      0.347      0.001      0.999      -0.680       0.681\n",
      "category[T.PARENTING]               0.0536      0.454      0.118      0.906      -0.837       0.944\n",
      "category[T.PERSONALIZATION]         0.3401      0.327      1.039      0.299      -0.302       0.982\n",
      "category[T.PHOTOGRAPHY]             0.2675      0.333      0.804      0.421      -0.384       0.919\n",
      "category[T.PRODUCTIVITY]            0.1761      0.333      0.529      0.597      -0.477       0.829\n",
      "category[T.SHOPPING]               -0.0025      0.343     -0.007      0.994      -0.675       0.670\n",
      "category[T.SOCIAL]                 -0.0819      0.347     -0.236      0.813      -0.761       0.598\n",
      "category[T.SPORTS]                  0.2730      0.331      0.824      0.410      -0.377       0.923\n",
      "category[T.TOOLS]                   0.2420      0.311      0.777      0.437      -0.368       0.852\n",
      "category[T.TRAVEL_AND_LOCAL]        0.1627      0.350      0.465      0.642      -0.523       0.849\n",
      "category[T.VIDEO_PLAYERS]          -0.0364      0.367     -0.099      0.921      -0.756       0.683\n",
      "category[T.WEATHER]                 0.3958      0.441      0.898      0.369      -0.469       1.260\n",
      "cont_rating                         0.0039      0.006      0.670      0.503      -0.007       0.015\n",
      "reviews                         -1.782e-08   1.85e-08     -0.964      0.335   -5.41e-08    1.84e-08\n",
      "installs                        -4.177e-10   6.88e-10     -0.607      0.544   -1.77e-09    9.32e-10\n",
      "rating                              0.1001      0.049      2.036      0.042       0.004       0.197\n",
      "aversion                           -0.1536      0.033     -4.709      0.000      -0.218      -0.090\n",
      "name_length                         0.0019      0.002      0.874      0.382      -0.002       0.006\n",
      "size                                0.0010      0.001      0.777      0.437      -0.002       0.004\n",
      "==============================================================================\n",
      "Omnibus:                    14992.664   Durbin-Watson:                   1.694\n",
      "Prob(Omnibus):                  0.000   Jarque-Bera (JB):         51176653.300\n",
      "Skew:                          15.438   Prob(JB):                         0.00\n",
      "Kurtosis:                     402.553   Cond. No.                     3.31e+09\n",
      "==============================================================================\n",
      "\n",
      "Warnings:\n",
      "[1] Standard Errors assume that the covariance matrix of the errors is correctly specified.\n",
      "[2] The condition number is large, 3.31e+09. This might indicate that there are\n",
      "strong multicollinearity or other numerical problems.\n"
     ]
    }
   ],
   "source": [
    "#regression price\n",
    "result = sm.ols(formula=\"price ~ cont_rating + reviews + installs + rating + aversion + name_length + size + category\", data=android_clean).fit()\n",
    "print(result.summary())"
   ]
  },
  {
   "cell_type": "markdown",
   "metadata": {},
   "source": [
    "<font size=\"5\"><b>regression for the family category</b></font><br>"
   ]
  },
  {
   "cell_type": "code",
   "execution_count": 102,
   "metadata": {
    "scrolled": false
   },
   "outputs": [
    {
     "name": "stdout",
     "output_type": "stream",
     "text": [
      "                            OLS Regression Results                            \n",
      "==============================================================================\n",
      "Dep. Variable:                 rating   R-squared:                       0.024\n",
      "Model:                            OLS   Adj. R-squared:                  0.020\n",
      "Method:                 Least Squares   F-statistic:                     5.633\n",
      "Date:                Wed, 09 Jan 2019   Prob (F-statistic):           1.94e-06\n",
      "Time:                        10:51:37   Log-Likelihood:                -1193.1\n",
      "No. Observations:                1606   AIC:                             2402.\n",
      "Df Residuals:                    1598   BIC:                             2445.\n",
      "Df Model:                           7                                         \n",
      "Covariance Type:            nonrobust                                         \n",
      "===============================================================================\n",
      "                  coef    std err          t      P>|t|      [0.025      0.975]\n",
      "-------------------------------------------------------------------------------\n",
      "Intercept       3.9746      0.063     63.114      0.000       3.851       4.098\n",
      "cont_rating    -0.0021      0.002     -0.871      0.384      -0.007       0.003\n",
      "reviews      1.518e-08   1.06e-08      1.434      0.152   -5.59e-09     3.6e-08\n",
      "installs     5.114e-10   7.37e-10      0.694      0.488   -9.35e-10    1.96e-09\n",
      "size            0.0010      0.000      2.021      0.043    2.95e-05       0.002\n",
      "aversion        0.0256      0.016      1.638      0.102      -0.005       0.056\n",
      "name_length     0.0035      0.001      3.040      0.002       0.001       0.006\n",
      "price           0.0271      0.007      3.843      0.000       0.013       0.041\n",
      "==============================================================================\n",
      "Omnibus:                      543.645   Durbin-Watson:                   1.730\n",
      "Prob(Omnibus):                  0.000   Jarque-Bera (JB):             2422.614\n",
      "Skew:                          -1.558   Prob(JB):                         0.00\n",
      "Kurtosis:                       8.147   Cond. No.                     1.12e+08\n",
      "==============================================================================\n",
      "\n",
      "Warnings:\n",
      "[1] Standard Errors assume that the covariance matrix of the errors is correctly specified.\n",
      "[2] The condition number is large, 1.12e+08. This might indicate that there are\n",
      "strong multicollinearity or other numerical problems.\n"
     ]
    }
   ],
   "source": [
    "result = sm.ols(formula=\"rating ~ cont_rating + reviews + installs + size + aversion + name_length + price + category\", data=android_family).fit()\n",
    "print(result.summary())"
   ]
  },
  {
   "cell_type": "code",
   "execution_count": 103,
   "metadata": {},
   "outputs": [
    {
     "name": "stdout",
     "output_type": "stream",
     "text": [
      "                            OLS Regression Results                            \n",
      "==============================================================================\n",
      "Dep. Variable:                reviews   R-squared:                       0.368\n",
      "Model:                            OLS   Adj. R-squared:                  0.365\n",
      "Method:                 Least Squares   F-statistic:                     132.8\n",
      "Date:                Wed, 09 Jan 2019   Prob (F-statistic):          3.77e-154\n",
      "Time:                        10:51:37   Log-Likelihood:                -24760.\n",
      "No. Observations:                1606   AIC:                         4.954e+04\n",
      "Df Residuals:                    1598   BIC:                         4.958e+04\n",
      "Df Model:                           7                                         \n",
      "Covariance Type:            nonrobust                                         \n",
      "===============================================================================\n",
      "                  coef    std err          t      P>|t|      [0.025      0.975]\n",
      "-------------------------------------------------------------------------------\n",
      "Intercept   -3.896e+05   2.78e+05     -1.403      0.161   -9.34e+05    1.55e+05\n",
      "cont_rating  1.172e+04   5659.580      2.071      0.039     618.870    2.28e+04\n",
      "rating        8.46e+04    5.9e+04      1.434      0.152   -3.11e+04       2e+05\n",
      "installs        0.0405      0.001     28.650      0.000       0.038       0.043\n",
      "size         4099.5654   1175.415      3.488      0.001    1794.048    6405.083\n",
      "aversion    -8707.5694    3.7e+04     -0.236      0.814   -8.12e+04    6.38e+04\n",
      "name_length -3427.0314   2723.255     -1.258      0.208   -8768.559    1914.496\n",
      "price       -6043.6718   1.67e+04     -0.361      0.718   -3.89e+04    2.68e+04\n",
      "==============================================================================\n",
      "Omnibus:                     4005.439   Durbin-Watson:                   1.121\n",
      "Prob(Omnibus):                  0.000   Jarque-Bera (JB):         46772199.205\n",
      "Skew:                          25.797   Prob(JB):                         0.00\n",
      "Kurtosis:                     837.446   Cond. No.                     2.08e+08\n",
      "==============================================================================\n",
      "\n",
      "Warnings:\n",
      "[1] Standard Errors assume that the covariance matrix of the errors is correctly specified.\n",
      "[2] The condition number is large, 2.08e+08. This might indicate that there are\n",
      "strong multicollinearity or other numerical problems.\n"
     ]
    }
   ],
   "source": [
    "result = sm.ols(formula=\"reviews ~ cont_rating + rating + installs + size + aversion + name_length + price + category\", data=android_family).fit()\n",
    "print(result.summary())"
   ]
  },
  {
   "cell_type": "code",
   "execution_count": 104,
   "metadata": {},
   "outputs": [
    {
     "name": "stdout",
     "output_type": "stream",
     "text": [
      "                            OLS Regression Results                            \n",
      "==============================================================================\n",
      "Dep. Variable:               installs   R-squared:                       0.368\n",
      "Model:                            OLS   Adj. R-squared:                  0.365\n",
      "Method:                 Least Squares   F-statistic:                     132.9\n",
      "Date:                Wed, 09 Jan 2019   Prob (F-statistic):          2.57e-154\n",
      "Time:                        10:51:37   Log-Likelihood:                -29040.\n",
      "No. Observations:                1606   AIC:                         5.810e+04\n",
      "Df Residuals:                    1598   BIC:                         5.814e+04\n",
      "Df Model:                           7                                         \n",
      "Covariance Type:            nonrobust                                         \n",
      "===============================================================================\n",
      "                  coef    std err          t      P>|t|      [0.025      0.975]\n",
      "-------------------------------------------------------------------------------\n",
      "Intercept    1.349e+05   3.99e+06      0.034      0.973    -7.7e+06    7.97e+06\n",
      "cont_rating -9.461e+04   8.14e+04     -1.162      0.245   -2.54e+05    6.51e+04\n",
      "reviews         8.3708      0.292     28.650      0.000       7.798       8.944\n",
      "rating       5.884e+05   8.48e+05      0.694      0.488   -1.08e+06    2.25e+06\n",
      "size         5.861e+04   1.69e+04      3.470      0.001    2.55e+04    9.17e+04\n",
      "aversion     3.317e+05   5.31e+05      0.625      0.532    -7.1e+05    1.37e+06\n",
      "name_length -1.097e+05   3.91e+04     -2.808      0.005   -1.86e+05   -3.31e+04\n",
      "price       -3.179e+05   2.41e+05     -1.322      0.186    -7.9e+05    1.54e+05\n",
      "==============================================================================\n",
      "Omnibus:                     2601.209   Durbin-Watson:                   1.851\n",
      "Prob(Omnibus):                  0.000   Jarque-Bera (JB):          6081369.082\n",
      "Skew:                           9.612   Prob(JB):                         0.00\n",
      "Kurtosis:                     303.849   Cond. No.                     1.43e+07\n",
      "==============================================================================\n",
      "\n",
      "Warnings:\n",
      "[1] Standard Errors assume that the covariance matrix of the errors is correctly specified.\n",
      "[2] The condition number is large, 1.43e+07. This might indicate that there are\n",
      "strong multicollinearity or other numerical problems.\n"
     ]
    }
   ],
   "source": [
    "result = sm.ols(formula=\"installs ~ cont_rating + reviews + rating + size + aversion + name_length + price + category\", data=android_family).fit()\n",
    "print(result.summary())"
   ]
  },
  {
   "cell_type": "code",
   "execution_count": 105,
   "metadata": {},
   "outputs": [
    {
     "name": "stdout",
     "output_type": "stream",
     "text": [
      "                            OLS Regression Results                            \n",
      "==============================================================================\n",
      "Dep. Variable:                   size   R-squared:                       0.087\n",
      "Model:                            OLS   Adj. R-squared:                  0.083\n",
      "Method:                 Least Squares   F-statistic:                     21.80\n",
      "Date:                Wed, 09 Jan 2019   Prob (F-statistic):           2.89e-28\n",
      "Time:                        10:51:37   Log-Likelihood:                -7477.3\n",
      "No. Observations:                1606   AIC:                         1.497e+04\n",
      "Df Residuals:                    1598   BIC:                         1.501e+04\n",
      "Df Model:                           7                                         \n",
      "Covariance Type:            nonrobust                                         \n",
      "===============================================================================\n",
      "                  coef    std err          t      P>|t|      [0.025      0.975]\n",
      "-------------------------------------------------------------------------------\n",
      "Intercept      -6.4992      5.888     -1.104      0.270     -18.048       5.050\n",
      "cont_rating     0.5584      0.119      4.679      0.000       0.324       0.792\n",
      "reviews      1.843e-06   5.28e-07      3.488      0.001    8.06e-07    2.88e-06\n",
      "rating          2.5265      1.250      2.021      0.043       0.074       4.979\n",
      "installs     1.276e-07   3.68e-08      3.470      0.001    5.55e-08       2e-07\n",
      "aversion        5.0648      0.773      6.550      0.000       3.548       6.582\n",
      "name_length     0.2063      0.058      3.586      0.000       0.093       0.319\n",
      "price           0.2441      0.355      0.687      0.492      -0.452       0.940\n",
      "==============================================================================\n",
      "Omnibus:                      158.747   Durbin-Watson:                   1.626\n",
      "Prob(Omnibus):                  0.000   Jarque-Bera (JB):              207.838\n",
      "Skew:                           0.880   Prob(JB):                     7.39e-46\n",
      "Kurtosis:                       3.105   Cond. No.                     2.08e+08\n",
      "==============================================================================\n",
      "\n",
      "Warnings:\n",
      "[1] Standard Errors assume that the covariance matrix of the errors is correctly specified.\n",
      "[2] The condition number is large, 2.08e+08. This might indicate that there are\n",
      "strong multicollinearity or other numerical problems.\n"
     ]
    }
   ],
   "source": [
    "result = sm.ols(formula=\"size ~ cont_rating + reviews + rating + installs + aversion + name_length + price + category\", data=android_family).fit()\n",
    "print(result.summary())"
   ]
  },
  {
   "cell_type": "code",
   "execution_count": 106,
   "metadata": {},
   "outputs": [
    {
     "name": "stdout",
     "output_type": "stream",
     "text": [
      "                            OLS Regression Results                            \n",
      "==============================================================================\n",
      "Dep. Variable:                  price   R-squared:                       0.029\n",
      "Model:                            OLS   Adj. R-squared:                  0.025\n",
      "Method:                 Least Squares   F-statistic:                     6.812\n",
      "Date:                Wed, 09 Jan 2019   Prob (F-statistic):           5.43e-08\n",
      "Time:                        10:51:37   Log-Likelihood:                -3216.7\n",
      "No. Observations:                1606   AIC:                             6449.\n",
      "Df Residuals:                    1598   BIC:                             6492.\n",
      "Df Model:                           7                                         \n",
      "Covariance Type:            nonrobust                                         \n",
      "===============================================================================\n",
      "                  coef    std err          t      P>|t|      [0.025      0.975]\n",
      "-------------------------------------------------------------------------------\n",
      "Intercept      -0.0684      0.415     -0.165      0.869      -0.882       0.745\n",
      "cont_rating     0.0220      0.008      2.601      0.009       0.005       0.039\n",
      "reviews     -1.348e-08   3.74e-08     -0.361      0.718   -8.68e-08    5.98e-08\n",
      "installs    -3.434e-09    2.6e-09     -1.322      0.186   -8.53e-09    1.66e-09\n",
      "size            0.0012      0.002      0.687      0.492      -0.002       0.005\n",
      "aversion       -0.2567      0.055     -4.683      0.000      -0.364      -0.149\n",
      "name_length    -0.0031      0.004     -0.771      0.441      -0.011       0.005\n",
      "rating          0.3374      0.088      3.843      0.000       0.165       0.510\n",
      "==============================================================================\n",
      "Omnibus:                     2194.313   Durbin-Watson:                   1.654\n",
      "Prob(Omnibus):                  0.000   Jarque-Bera (JB):           455611.501\n",
      "Skew:                           7.678   Prob(JB):                         0.00\n",
      "Kurtosis:                      84.073   Cond. No.                     2.08e+08\n",
      "==============================================================================\n",
      "\n",
      "Warnings:\n",
      "[1] Standard Errors assume that the covariance matrix of the errors is correctly specified.\n",
      "[2] The condition number is large, 2.08e+08. This might indicate that there are\n",
      "strong multicollinearity or other numerical problems.\n"
     ]
    }
   ],
   "source": [
    "result = sm.ols(formula=\"price ~ cont_rating + reviews + installs + size + aversion + name_length + rating + category\", data=android_family).fit()\n",
    "print(result.summary())"
   ]
  },
  {
   "cell_type": "markdown",
   "metadata": {},
   "source": [
    "<font size=\"5\"><b>regression for the game category</b></font><br>"
   ]
  },
  {
   "cell_type": "code",
   "execution_count": 107,
   "metadata": {},
   "outputs": [
    {
     "name": "stdout",
     "output_type": "stream",
     "text": [
      "                            OLS Regression Results                            \n",
      "==============================================================================\n",
      "Dep. Variable:                 rating   R-squared:                       0.067\n",
      "Model:                            OLS   Adj. R-squared:                  0.060\n",
      "Method:                 Least Squares   F-statistic:                     9.833\n",
      "Date:                Wed, 09 Jan 2019   Prob (F-statistic):           7.00e-12\n",
      "Time:                        10:51:38   Log-Likelihood:                -396.85\n",
      "No. Observations:                 969   AIC:                             809.7\n",
      "Df Residuals:                     961   BIC:                             848.7\n",
      "Df Model:                           7                                         \n",
      "Covariance Type:            nonrobust                                         \n",
      "===============================================================================\n",
      "                  coef    std err          t      P>|t|      [0.025      0.975]\n",
      "-------------------------------------------------------------------------------\n",
      "Intercept       4.0470      0.056     72.800      0.000       3.938       4.156\n",
      "cont_rating    -0.0005      0.002     -0.258      0.797      -0.004       0.003\n",
      "reviews      9.453e-09      4e-09      2.365      0.018    1.61e-09    1.73e-08\n",
      "installs     -4.74e-11   1.68e-10     -0.283      0.777   -3.76e-10    2.81e-10\n",
      "size            0.0020      0.000      4.324      0.000       0.001       0.003\n",
      "aversion        0.0420      0.014      3.012      0.003       0.015       0.069\n",
      "name_length    -0.0020      0.001     -1.610      0.108      -0.004       0.000\n",
      "price           0.0242      0.009      2.729      0.006       0.007       0.042\n",
      "==============================================================================\n",
      "Omnibus:                      499.360   Durbin-Watson:                   1.725\n",
      "Prob(Omnibus):                  0.000   Jarque-Bera (JB):             5929.746\n",
      "Skew:                          -2.074   Prob(JB):                         0.00\n",
      "Kurtosis:                      14.387   Cond. No.                     5.15e+08\n",
      "==============================================================================\n",
      "\n",
      "Warnings:\n",
      "[1] Standard Errors assume that the covariance matrix of the errors is correctly specified.\n",
      "[2] The condition number is large, 5.15e+08. This might indicate that there are\n",
      "strong multicollinearity or other numerical problems.\n"
     ]
    }
   ],
   "source": [
    "result = sm.ols(formula=\"rating ~ cont_rating + reviews + installs + size + aversion + name_length + price + category\", data=android_game).fit()\n",
    "print(result.summary())"
   ]
  },
  {
   "cell_type": "code",
   "execution_count": 108,
   "metadata": {
    "scrolled": false
   },
   "outputs": [
    {
     "name": "stdout",
     "output_type": "stream",
     "text": [
      "                            OLS Regression Results                            \n",
      "==============================================================================\n",
      "Dep. Variable:                reviews   R-squared:                       0.554\n",
      "Model:                            OLS   Adj. R-squared:                  0.551\n",
      "Method:                 Least Squares   F-statistic:                     170.5\n",
      "Date:                Wed, 09 Jan 2019   Prob (F-statistic):          1.11e-163\n",
      "Time:                        10:51:38   Log-Likelihood:                -15805.\n",
      "No. Observations:                 969   AIC:                         3.163e+04\n",
      "Df Residuals:                     961   BIC:                         3.166e+04\n",
      "Df Model:                           7                                         \n",
      "Covariance Type:            nonrobust                                         \n",
      "===============================================================================\n",
      "                  coef    std err          t      P>|t|      [0.025      0.975]\n",
      "-------------------------------------------------------------------------------\n",
      "Intercept   -2.596e+06   1.14e+06     -2.279      0.023   -4.83e+06   -3.61e+05\n",
      "cont_rating -4478.7737   1.51e+04     -0.298      0.766    -3.4e+04    2.51e+04\n",
      "rating       6.121e+05   2.59e+05      2.365      0.018    1.04e+05    1.12e+06\n",
      "installs        0.0290      0.001     29.816      0.000       0.027       0.031\n",
      "size         2.551e+04   3758.549      6.788      0.000    1.81e+04    3.29e+04\n",
      "aversion    -1.355e+04   1.13e+05     -0.120      0.904   -2.35e+05    2.08e+05\n",
      "name_length -2.877e+04   9719.896     -2.960      0.003   -4.78e+04   -9694.937\n",
      "price       -1.464e+04   7.17e+04     -0.204      0.838   -1.55e+05    1.26e+05\n",
      "==============================================================================\n",
      "Omnibus:                     1454.815   Durbin-Watson:                   1.692\n",
      "Prob(Omnibus):                  0.000   Jarque-Bera (JB):           480721.579\n",
      "Skew:                           8.713   Prob(JB):                         0.00\n",
      "Kurtosis:                     110.716   Cond. No.                     1.31e+09\n",
      "==============================================================================\n",
      "\n",
      "Warnings:\n",
      "[1] Standard Errors assume that the covariance matrix of the errors is correctly specified.\n",
      "[2] The condition number is large, 1.31e+09. This might indicate that there are\n",
      "strong multicollinearity or other numerical problems.\n"
     ]
    }
   ],
   "source": [
    "result = sm.ols(formula=\"reviews ~ cont_rating + rating + installs + size + aversion + name_length + price + category\", data=android_game).fit()\n",
    "print(result.summary())"
   ]
  },
  {
   "cell_type": "code",
   "execution_count": 109,
   "metadata": {},
   "outputs": [
    {
     "name": "stdout",
     "output_type": "stream",
     "text": [
      "                            OLS Regression Results                            \n",
      "==============================================================================\n",
      "Dep. Variable:               installs   R-squared:                       0.528\n",
      "Model:                            OLS   Adj. R-squared:                  0.524\n",
      "Method:                 Least Squares   F-statistic:                     153.3\n",
      "Date:                Wed, 09 Jan 2019   Prob (F-statistic):          1.01e-151\n",
      "Time:                        10:51:38   Log-Likelihood:                -18881.\n",
      "No. Observations:                 969   AIC:                         3.778e+04\n",
      "Df Residuals:                     961   BIC:                         3.782e+04\n",
      "Df Model:                           7                                         \n",
      "Covariance Type:            nonrobust                                         \n",
      "===============================================================================\n",
      "                  coef    std err          t      P>|t|      [0.025      0.975]\n",
      "-------------------------------------------------------------------------------\n",
      "Intercept    1.671e+07   2.73e+07      0.612      0.541   -3.69e+07    7.03e+07\n",
      "cont_rating -5.299e+05    3.6e+05     -1.473      0.141   -1.24e+06    1.76e+05\n",
      "reviews        16.5842      0.556     29.816      0.000      15.493      17.676\n",
      "rating      -1.757e+06   6.21e+06     -0.283      0.777   -1.39e+07    1.04e+07\n",
      "size        -5.932e+04    9.2e+04     -0.645      0.519    -2.4e+05    1.21e+05\n",
      "aversion      3.96e+06   2.69e+06      1.470      0.142   -1.33e+06    9.25e+06\n",
      "name_length  -4.64e+05   2.33e+05     -1.990      0.047   -9.21e+05   -6534.763\n",
      "price       -1.289e+06   1.71e+06     -0.752      0.452   -4.65e+06    2.08e+06\n",
      "==============================================================================\n",
      "Omnibus:                      449.697   Durbin-Watson:                   1.784\n",
      "Prob(Omnibus):                  0.000   Jarque-Bera (JB):            87474.712\n",
      "Skew:                           0.967   Prob(JB):                         0.00\n",
      "Kurtosis:                      49.506   Cond. No.                     5.68e+07\n",
      "==============================================================================\n",
      "\n",
      "Warnings:\n",
      "[1] Standard Errors assume that the covariance matrix of the errors is correctly specified.\n",
      "[2] The condition number is large, 5.68e+07. This might indicate that there are\n",
      "strong multicollinearity or other numerical problems.\n"
     ]
    }
   ],
   "source": [
    "result = sm.ols(formula=\"installs ~ cont_rating + reviews + rating + size + aversion + name_length + price + category\", data=android_game).fit()\n",
    "print(result.summary())"
   ]
  },
  {
   "cell_type": "code",
   "execution_count": 110,
   "metadata": {},
   "outputs": [
    {
     "name": "stdout",
     "output_type": "stream",
     "text": [
      "                            OLS Regression Results                            \n",
      "==============================================================================\n",
      "Dep. Variable:                   size   R-squared:                       0.215\n",
      "Model:                            OLS   Adj. R-squared:                  0.209\n",
      "Method:                 Least Squares   F-statistic:                     37.53\n",
      "Date:                Wed, 09 Jan 2019   Prob (F-statistic):           1.24e-46\n",
      "Time:                        10:51:38   Log-Likelihood:                -4477.9\n",
      "No. Observations:                 969   AIC:                             8972.\n",
      "Df Residuals:                     961   BIC:                             9011.\n",
      "Df Model:                           7                                         \n",
      "Covariance Type:            nonrobust                                         \n",
      "===============================================================================\n",
      "                  coef    std err          t      P>|t|      [0.025      0.975]\n",
      "-------------------------------------------------------------------------------\n",
      "Intercept     -30.7925      9.521     -3.234      0.001     -49.477     -12.108\n",
      "cont_rating     0.7269      0.124      5.863      0.000       0.484       0.970\n",
      "reviews      1.793e-06   2.64e-07      6.788      0.000    1.27e-06    2.31e-06\n",
      "rating          9.3201      2.155      4.324      0.000       5.090      13.550\n",
      "installs    -7.285e-09   1.13e-08     -0.645      0.519   -2.95e-08    1.49e-08\n",
      "aversion        6.6051      0.921      7.176      0.000       4.799       8.412\n",
      "name_length     0.2980      0.081      3.666      0.000       0.139       0.458\n",
      "price          -2.6616      0.595     -4.475      0.000      -3.829      -1.494\n",
      "==============================================================================\n",
      "Omnibus:                       59.602   Durbin-Watson:                   1.788\n",
      "Prob(Omnibus):                  0.000   Jarque-Bera (JB):               49.708\n",
      "Skew:                           0.475   Prob(JB):                     1.61e-11\n",
      "Kurtosis:                       2.427   Cond. No.                     1.31e+09\n",
      "==============================================================================\n",
      "\n",
      "Warnings:\n",
      "[1] Standard Errors assume that the covariance matrix of the errors is correctly specified.\n",
      "[2] The condition number is large, 1.31e+09. This might indicate that there are\n",
      "strong multicollinearity or other numerical problems.\n"
     ]
    }
   ],
   "source": [
    "result = sm.ols(formula=\"size ~ cont_rating + reviews + rating + installs + aversion + name_length + price + category\", data=android_game).fit()\n",
    "print(result.summary())"
   ]
  },
  {
   "cell_type": "code",
   "execution_count": 111,
   "metadata": {},
   "outputs": [
    {
     "name": "stdout",
     "output_type": "stream",
     "text": [
      "                            OLS Regression Results                            \n",
      "==============================================================================\n",
      "Dep. Variable:                  price   R-squared:                       0.031\n",
      "Model:                            OLS   Adj. R-squared:                  0.024\n",
      "Method:                 Least Squares   F-statistic:                     4.398\n",
      "Date:                Wed, 09 Jan 2019   Prob (F-statistic):           8.08e-05\n",
      "Time:                        10:51:38   Log-Likelihood:                -1643.8\n",
      "No. Observations:                 969   AIC:                             3304.\n",
      "Df Residuals:                     961   BIC:                             3343.\n",
      "Df Model:                           7                                         \n",
      "Covariance Type:            nonrobust                                         \n",
      "===============================================================================\n",
      "                  coef    std err          t      P>|t|      [0.025      0.975]\n",
      "-------------------------------------------------------------------------------\n",
      "Intercept      -1.0754      0.513     -2.098      0.036      -2.082      -0.069\n",
      "cont_rating     0.0106      0.007      1.566      0.118      -0.003       0.024\n",
      "reviews     -2.965e-09   1.45e-08     -0.204      0.838   -3.15e-08    2.55e-08\n",
      "rating          0.3176      0.116      2.729      0.006       0.089       0.546\n",
      "installs    -4.562e-10   6.07e-10     -0.752      0.452   -1.65e-09    7.34e-10\n",
      "aversion        0.0727      0.051      1.435      0.152      -0.027       0.172\n",
      "name_length     0.0018      0.004      0.410      0.682      -0.007       0.010\n",
      "size           -0.0077      0.002     -4.475      0.000      -0.011      -0.004\n",
      "==============================================================================\n",
      "Omnibus:                     1299.690   Durbin-Watson:                   1.662\n",
      "Prob(Omnibus):                  0.000   Jarque-Bera (JB):           213661.912\n",
      "Skew:                           7.264   Prob(JB):                         0.00\n",
      "Kurtosis:                      74.280   Cond. No.                     1.31e+09\n",
      "==============================================================================\n",
      "\n",
      "Warnings:\n",
      "[1] Standard Errors assume that the covariance matrix of the errors is correctly specified.\n",
      "[2] The condition number is large, 1.31e+09. This might indicate that there are\n",
      "strong multicollinearity or other numerical problems.\n"
     ]
    }
   ],
   "source": [
    "result = sm.ols(formula=\"price ~ cont_rating + reviews + rating + installs + aversion + name_length + size + category\", data=android_game).fit()\n",
    "print(result.summary())"
   ]
  },
  {
   "cell_type": "markdown",
   "metadata": {},
   "source": [
    "<font size=\"5\"><b>regression for the tools category</b></font><br>"
   ]
  },
  {
   "cell_type": "code",
   "execution_count": 112,
   "metadata": {},
   "outputs": [
    {
     "name": "stdout",
     "output_type": "stream",
     "text": [
      "                            OLS Regression Results                            \n",
      "==============================================================================\n",
      "Dep. Variable:                 rating   R-squared:                       0.058\n",
      "Model:                            OLS   Adj. R-squared:                  0.048\n",
      "Method:                 Least Squares   F-statistic:                     5.507\n",
      "Date:                Wed, 09 Jan 2019   Prob (F-statistic):           3.69e-06\n",
      "Time:                        10:51:39   Log-Likelihood:                -592.56\n",
      "No. Observations:                 629   AIC:                             1201.\n",
      "Df Residuals:                     621   BIC:                             1237.\n",
      "Df Model:                           7                                         \n",
      "Covariance Type:            nonrobust                                         \n",
      "===============================================================================\n",
      "                  coef    std err          t      P>|t|      [0.025      0.975]\n",
      "-------------------------------------------------------------------------------\n",
      "Intercept       3.7489      0.103     36.454      0.000       3.547       3.951\n",
      "cont_rating     0.0240      0.019      1.285      0.199      -0.013       0.061\n",
      "reviews      3.477e-08   3.06e-08      1.136      0.257   -2.54e-08    9.49e-08\n",
      "installs     1.319e-09   1.04e-09      1.267      0.206   -7.26e-10    3.36e-09\n",
      "size           -0.0092      0.002     -3.822      0.000      -0.014      -0.004\n",
      "aversion        0.0481      0.025      1.914      0.056      -0.001       0.097\n",
      "name_length     0.0064      0.002      2.924      0.004       0.002       0.011\n",
      "price          -0.0035      0.020     -0.174      0.862      -0.044       0.036\n",
      "==============================================================================\n",
      "Omnibus:                      182.423   Durbin-Watson:                   1.716\n",
      "Prob(Omnibus):                  0.000   Jarque-Bera (JB):              509.823\n",
      "Skew:                          -1.431   Prob(JB):                    1.97e-111\n",
      "Kurtosis:                       6.356   Cond. No.                     1.34e+08\n",
      "==============================================================================\n",
      "\n",
      "Warnings:\n",
      "[1] Standard Errors assume that the covariance matrix of the errors is correctly specified.\n",
      "[2] The condition number is large, 1.34e+08. This might indicate that there are\n",
      "strong multicollinearity or other numerical problems.\n"
     ]
    }
   ],
   "source": [
    "result = sm.ols(formula=\"rating ~ cont_rating + reviews + installs + size + aversion + name_length + price + category\", data=android_tools).fit()\n",
    "print(result.summary())"
   ]
  },
  {
   "cell_type": "code",
   "execution_count": 113,
   "metadata": {},
   "outputs": [
    {
     "name": "stdout",
     "output_type": "stream",
     "text": [
      "                            OLS Regression Results                            \n",
      "==============================================================================\n",
      "Dep. Variable:                reviews   R-squared:                       0.440\n",
      "Model:                            OLS   Adj. R-squared:                  0.434\n",
      "Method:                 Least Squares   F-statistic:                     69.70\n",
      "Date:                Wed, 09 Jan 2019   Prob (F-statistic):           4.36e-74\n",
      "Time:                        10:51:39   Log-Likelihood:                -9451.9\n",
      "No. Observations:                 629   AIC:                         1.892e+04\n",
      "Df Residuals:                     621   BIC:                         1.896e+04\n",
      "Df Model:                           7                                         \n",
      "Covariance Type:            nonrobust                                         \n",
      "===============================================================================\n",
      "                  coef    std err          t      P>|t|      [0.025      0.975]\n",
      "-------------------------------------------------------------------------------\n",
      "Intercept   -4.206e+05   2.38e+05     -1.768      0.078   -8.88e+05    4.67e+04\n",
      "cont_rating   712.6486   2.45e+04      0.029      0.977   -4.73e+04    4.88e+04\n",
      "rating        5.96e+04   5.25e+04      1.136      0.257   -4.35e+04    1.63e+05\n",
      "installs        0.0214      0.001     20.130      0.000       0.019       0.023\n",
      "size         5818.5734   3186.905      1.826      0.068    -439.843    1.21e+04\n",
      "aversion    -3.803e+04    3.3e+04     -1.153      0.249   -1.03e+05    2.67e+04\n",
      "name_length  1.483e+04   2806.265      5.285      0.000    9319.518    2.03e+04\n",
      "price       -1.066e+04   2.67e+04     -0.399      0.690   -6.31e+04    4.17e+04\n",
      "==============================================================================\n",
      "Omnibus:                     1046.420   Durbin-Watson:                   1.491\n",
      "Prob(Omnibus):                  0.000   Jarque-Bera (JB):           436983.580\n",
      "Skew:                          10.166   Prob(JB):                         0.00\n",
      "Kurtosis:                     130.515   Cond. No.                     2.35e+08\n",
      "==============================================================================\n",
      "\n",
      "Warnings:\n",
      "[1] Standard Errors assume that the covariance matrix of the errors is correctly specified.\n",
      "[2] The condition number is large, 2.35e+08. This might indicate that there are\n",
      "strong multicollinearity or other numerical problems.\n"
     ]
    }
   ],
   "source": [
    "result = sm.ols(formula=\"reviews ~ cont_rating + rating + installs + size + aversion + name_length + price + category\", data=android_tools).fit()\n",
    "print(result.summary())"
   ]
  },
  {
   "cell_type": "code",
   "execution_count": 114,
   "metadata": {},
   "outputs": [
    {
     "name": "stdout",
     "output_type": "stream",
     "text": [
      "                            OLS Regression Results                            \n",
      "==============================================================================\n",
      "Dep. Variable:               installs   R-squared:                       0.414\n",
      "Model:                            OLS   Adj. R-squared:                  0.407\n",
      "Method:                 Least Squares   F-statistic:                     62.69\n",
      "Date:                Wed, 09 Jan 2019   Prob (F-statistic):           4.84e-68\n",
      "Time:                        10:51:39   Log-Likelihood:                -11579.\n",
      "No. Observations:                 629   AIC:                         2.317e+04\n",
      "Df Residuals:                     621   BIC:                         2.321e+04\n",
      "Df Model:                           7                                         \n",
      "Covariance Type:            nonrobust                                         \n",
      "===============================================================================\n",
      "                  coef    std err          t      P>|t|      [0.025      0.975]\n",
      "-------------------------------------------------------------------------------\n",
      "Intercept   -6.041e+06   7.01e+06     -0.862      0.389   -1.98e+07    7.72e+06\n",
      "cont_rating  1.704e+05   7.19e+05      0.237      0.813   -1.24e+06    1.58e+06\n",
      "reviews        18.4760      0.918     20.130      0.000      16.674      20.278\n",
      "rating       1.954e+06   1.54e+06      1.267      0.206   -1.08e+06    4.98e+06\n",
      "size         6.656e+04   9.39e+04      0.709      0.479   -1.18e+05    2.51e+05\n",
      "aversion     7.467e+05    9.7e+05      0.770      0.442   -1.16e+06    2.65e+06\n",
      "name_length -1.231e+05   8.42e+04     -1.462      0.144   -2.88e+05    4.23e+04\n",
      "price       -2.728e+05   7.85e+05     -0.348      0.728   -1.81e+06    1.27e+06\n",
      "==============================================================================\n",
      "Omnibus:                     1026.394   Durbin-Watson:                   1.883\n",
      "Prob(Omnibus):                  0.000   Jarque-Bera (JB):           633086.919\n",
      "Skew:                           9.535   Prob(JB):                         0.00\n",
      "Kurtosis:                     157.248   Cond. No.                     8.18e+06\n",
      "==============================================================================\n",
      "\n",
      "Warnings:\n",
      "[1] Standard Errors assume that the covariance matrix of the errors is correctly specified.\n",
      "[2] The condition number is large, 8.18e+06. This might indicate that there are\n",
      "strong multicollinearity or other numerical problems.\n"
     ]
    }
   ],
   "source": [
    "result = sm.ols(formula=\"installs ~ cont_rating + reviews + rating + size + aversion + name_length + price + category\", data=android_tools).fit()\n",
    "print(result.summary())"
   ]
  },
  {
   "cell_type": "code",
   "execution_count": 115,
   "metadata": {},
   "outputs": [
    {
     "name": "stdout",
     "output_type": "stream",
     "text": [
      "                            OLS Regression Results                            \n",
      "==============================================================================\n",
      "Dep. Variable:                   size   R-squared:                       0.071\n",
      "Model:                            OLS   Adj. R-squared:                  0.060\n",
      "Method:                 Least Squares   F-statistic:                     6.758\n",
      "Date:                Wed, 09 Jan 2019   Prob (F-statistic):           9.68e-08\n",
      "Time:                        10:51:39   Log-Likelihood:                -2353.6\n",
      "No. Observations:                 629   AIC:                             4723.\n",
      "Df Residuals:                     621   BIC:                             4759.\n",
      "Df Model:                           7                                         \n",
      "Covariance Type:            nonrobust                                         \n",
      "===============================================================================\n",
      "                  coef    std err          t      P>|t|      [0.025      0.975]\n",
      "-------------------------------------------------------------------------------\n",
      "Intercept      11.8262      2.958      3.998      0.000       6.017      17.635\n",
      "cont_rating    -0.1372      0.307     -0.447      0.655      -0.741       0.466\n",
      "reviews      9.176e-07   5.03e-07      1.826      0.068   -6.94e-08     1.9e-06\n",
      "rating         -2.4922      0.652     -3.822      0.000      -3.773      -1.212\n",
      "installs     1.214e-08   1.71e-08      0.709      0.479   -2.15e-08    4.58e-08\n",
      "aversion        1.8152      0.408      4.449      0.000       1.014       2.616\n",
      "name_length    -0.0179      0.036     -0.497      0.619      -0.089       0.053\n",
      "price          -0.6047      0.334     -1.809      0.071      -1.261       0.052\n",
      "==============================================================================\n",
      "Omnibus:                      453.323   Durbin-Watson:                   1.817\n",
      "Prob(Omnibus):                  0.000   Jarque-Bera (JB):             7123.938\n",
      "Skew:                           3.068   Prob(JB):                         0.00\n",
      "Kurtosis:                      18.302   Cond. No.                     2.33e+08\n",
      "==============================================================================\n",
      "\n",
      "Warnings:\n",
      "[1] Standard Errors assume that the covariance matrix of the errors is correctly specified.\n",
      "[2] The condition number is large, 2.33e+08. This might indicate that there are\n",
      "strong multicollinearity or other numerical problems.\n"
     ]
    }
   ],
   "source": [
    "result = sm.ols(formula=\"size ~ cont_rating + reviews + rating + installs + aversion + name_length + price + category\", data=android_tools).fit()\n",
    "print(result.summary())"
   ]
  },
  {
   "cell_type": "code",
   "execution_count": 116,
   "metadata": {},
   "outputs": [
    {
     "name": "stdout",
     "output_type": "stream",
     "text": [
      "                            OLS Regression Results                            \n",
      "==============================================================================\n",
      "Dep. Variable:                  price   R-squared:                       0.032\n",
      "Model:                            OLS   Adj. R-squared:                  0.022\n",
      "Method:                 Least Squares   F-statistic:                     2.973\n",
      "Date:                Wed, 09 Jan 2019   Prob (F-statistic):            0.00450\n",
      "Time:                        10:51:39   Log-Likelihood:                -1018.6\n",
      "No. Observations:                 629   AIC:                             2053.\n",
      "Df Residuals:                     621   BIC:                             2089.\n",
      "Df Model:                           7                                         \n",
      "Covariance Type:            nonrobust                                         \n",
      "===============================================================================\n",
      "                  coef    std err          t      P>|t|      [0.025      0.975]\n",
      "-------------------------------------------------------------------------------\n",
      "Intercept       0.9909      0.357      2.779      0.006       0.291       1.691\n",
      "cont_rating    -0.0222      0.037     -0.603      0.547      -0.094       0.050\n",
      "reviews      -2.41e-08   6.03e-08     -0.399      0.690   -1.43e-07    9.44e-08\n",
      "rating         -0.0137      0.079     -0.174      0.862      -0.169       0.141\n",
      "installs    -7.136e-10   2.05e-09     -0.348      0.728   -4.74e-09    3.32e-09\n",
      "aversion       -0.1747      0.049     -3.556      0.000      -0.271      -0.078\n",
      "name_length     0.0044      0.004      1.024      0.306      -0.004       0.013\n",
      "size           -0.0087      0.005     -1.809      0.071      -0.018       0.001\n",
      "==============================================================================\n",
      "Omnibus:                      828.491   Durbin-Watson:                   1.781\n",
      "Prob(Omnibus):                  0.000   Jarque-Bera (JB):           114952.864\n",
      "Skew:                           6.778   Prob(JB):                         0.00\n",
      "Kurtosis:                      67.825   Cond. No.                     2.35e+08\n",
      "==============================================================================\n",
      "\n",
      "Warnings:\n",
      "[1] Standard Errors assume that the covariance matrix of the errors is correctly specified.\n",
      "[2] The condition number is large, 2.35e+08. This might indicate that there are\n",
      "strong multicollinearity or other numerical problems.\n"
     ]
    }
   ],
   "source": [
    "result = sm.ols(formula=\"price ~ cont_rating + reviews + rating + installs + aversion + name_length + size + category\", data=android_tools).fit()\n",
    "print(result.summary())"
   ]
  },
  {
   "cell_type": "markdown",
   "metadata": {},
   "source": [
    "<font size=\"5\"><b>hypothesis testing</b></font><br>"
   ]
  },
  {
   "cell_type": "markdown",
   "metadata": {},
   "source": [
    "<font size=\"4\"><b>hypothesis 1: bigger apps causes better rating/installs/reviews</b></font><br>"
   ]
  },
  {
   "cell_type": "code",
   "execution_count": 117,
   "metadata": {},
   "outputs": [
    {
     "data": {
      "image/png": "[encoded data removed]",
      "text/plain": [
       "<Figure size 432x432 with 3 Axes>"
      ]
     },
     "metadata": {},
     "output_type": "display_data"
    }
   ],
   "source": [
    "g = sns.jointplot(x=\"size\", y=\"reviews\", data=android_reviews, kind='reg',\n",
    "                  joint_kws={'line_kws':{'color':'cyan'}})"
   ]
  },
  {
   "cell_type": "code",
   "execution_count": 118,
   "metadata": {},
   "outputs": [
    {
     "data": {
      "image/png": "[encoded data removed]",
      "text/plain": [
       "<Figure size 432x432 with 3 Axes>"
      ]
     },
     "metadata": {},
     "output_type": "display_data"
    }
   ],
   "source": [
    "#size on rating -> 60MB+ apps less ratings under 3.0?\n",
    "#hexaplot -> regplot als unterplot?\n",
    "g = sns.jointplot(x=\"rating\", y=\"size\", data=android_clean, kind='reg',\n",
    "                  joint_kws={'line_kws':{'color':'cyan'}})"
   ]
  },
  {
   "cell_type": "code",
   "execution_count": 119,
   "metadata": {},
   "outputs": [],
   "source": [
    "# #size on installs -> \n",
    "# tmp_installs = []\n",
    "# for element in android_clean.Installs:\n",
    "#     if(element >= 0 and element < 1000):\n",
    "#         tmp_installs.append(\"insignificant\")\n",
    "#     elif(element >= 1000 and element < 50000):\n",
    "#         tmp_installs.append(\"small\")\n",
    "#     elif(element >= 50000 and element < 500000):\n",
    "#         tmp_installs.append(\"medium\")\n",
    "#     elif(element >= 500000 and element < 10000000):\n",
    "#         tmp_installs.append(\"big\")\n",
    "#     elif(element >= 10000000 and element <= 100000000):\n",
    "#         tmp_installs.append(\"tremendous\")\n",
    "# android_tmp = android_clean\n",
    "# android_tmp[\"Installs\"] = tmp_installs\n",
    "# sns.catplot(x=\"Installs\", y=\"Size\", data=android_tmp);"
   ]
  },
  {
   "cell_type": "markdown",
   "metadata": {},
   "source": [
    "<font size=\"4\"><b>hypothesis 2: free apps are more popular at android-store than iOS-store</b></font><br>"
   ]
  },
  {
   "cell_type": "code",
   "execution_count": 120,
   "metadata": {},
   "outputs": [
    {
     "name": "stdout",
     "output_type": "stream",
     "text": [
      "                            OLS Regression Results                            \n",
      "==============================================================================\n",
      "Dep. Variable:               installs   R-squared:                       0.412\n",
      "Model:                            OLS   Adj. R-squared:                  0.409\n",
      "Method:                 Least Squares   F-statistic:                     129.8\n",
      "Date:                Wed, 09 Jan 2019   Prob (F-statistic):               0.00\n",
      "Time:                        10:51:42   Log-Likelihood:            -1.3399e+05\n",
      "No. Observations:                7087   AIC:                         2.680e+05\n",
      "Df Residuals:                    7048   BIC:                         2.683e+05\n",
      "Df Model:                          38                                         \n",
      "Covariance Type:            nonrobust                                         \n",
      "===================================================================================================\n",
      "                                      coef    std err          t      P>|t|      [0.025      0.975]\n",
      "---------------------------------------------------------------------------------------------------\n",
      "Intercept                       -3.656e+06   6.83e+06     -0.535      0.593   -1.71e+07    9.74e+06\n",
      "category[T.AUTO_AND_VEHICLES]   -1.353e+06   7.24e+06     -0.187      0.852   -1.56e+07    1.28e+07\n",
      "category[T.BEAUTY]              -1.599e+06   8.35e+06     -0.191      0.848    -1.8e+07    1.48e+07\n",
      "category[T.BOOKS_AND_REFERENCE] -1.138e+06   6.26e+06     -0.182      0.856   -1.34e+07    1.11e+07\n",
      "category[T.BUSINESS]            -2.629e+05   5.87e+06     -0.045      0.964   -1.18e+07    1.13e+07\n",
      "category[T.COMICS]              -1.669e+06   7.78e+06     -0.214      0.830   -1.69e+07    1.36e+07\n",
      "category[T.COMMUNICATION]        1.418e+07   6.01e+06      2.360      0.018     2.4e+06     2.6e+07\n",
      "category[T.DATING]              -1.927e+06   6.28e+06     -0.307      0.759   -1.42e+07    1.04e+07\n",
      "category[T.EDUCATION]           -2.776e+05   6.53e+06     -0.043      0.966   -1.31e+07    1.25e+07\n",
      "category[T.ENTERTAINMENT]         2.23e+06   6.85e+06      0.325      0.745   -1.12e+07    1.57e+07\n",
      "category[T.EVENTS]               -2.17e+06   8.43e+06     -0.257      0.797   -1.87e+07    1.43e+07\n",
      "category[T.FAMILY]               -4.65e+05   5.39e+06     -0.086      0.931    -1.1e+07    1.01e+07\n",
      "category[T.FINANCE]             -1.986e+06   5.85e+06     -0.340      0.734   -1.35e+07    9.48e+06\n",
      "category[T.FOOD_AND_DRINK]      -1.371e+06   6.84e+06     -0.201      0.841   -1.48e+07     1.2e+07\n",
      "category[T.GAME]                 6.636e+06   5.53e+06      1.201      0.230    -4.2e+06    1.75e+07\n",
      "category[T.HEALTH_AND_FITNESS]    1.04e+06   5.93e+06      0.175      0.861   -1.06e+07    1.27e+07\n",
      "category[T.HOUSE_AND_HOME]      -6.561e+05   7.45e+06     -0.088      0.930   -1.53e+07     1.4e+07\n",
      "category[T.LIBRARIES_AND_DEMO]    2.51e+05    7.3e+06      0.034      0.973   -1.41e+07    1.46e+07\n",
      "category[T.LIFESTYLE]           -9.816e+05   5.82e+06     -0.169      0.866   -1.24e+07    1.04e+07\n",
      "category[T.MAPS_AND_NAVIGATION] -8.565e+05   6.72e+06     -0.127      0.899    -1.4e+07    1.23e+07\n",
      "category[T.MEDICAL]             -2.317e+06   5.85e+06     -0.396      0.692   -1.38e+07    9.16e+06\n",
      "category[T.NEWS_AND_MAGAZINES]   2.202e+07   6.12e+06      3.599      0.000       1e+07     3.4e+07\n",
      "category[T.PARENTING]           -1.837e+06      8e+06     -0.230      0.818   -1.75e+07    1.38e+07\n",
      "category[T.PERSONALIZATION]      2.412e+05   5.93e+06      0.041      0.968   -1.14e+07    1.19e+07\n",
      "category[T.PHOTOGRAPHY]          4.137e+06   5.91e+06      0.700      0.484   -7.45e+06    1.57e+07\n",
      "category[T.PRODUCTIVITY]         8.846e+05   5.92e+06      0.150      0.881   -1.07e+07    1.25e+07\n",
      "category[T.SHOPPING]             1.814e+06   6.06e+06      0.299      0.765   -1.01e+07    1.37e+07\n",
      "category[T.SOCIAL]              -1.384e+04   6.12e+06     -0.002      0.998    -1.2e+07     1.2e+07\n",
      "category[T.SPORTS]              -1.089e+06    5.9e+06     -0.185      0.854   -1.27e+07    1.05e+07\n",
      "category[T.TOOLS]                1.161e+06   5.53e+06      0.210      0.834   -9.69e+06     1.2e+07\n",
      "category[T.TRAVEL_AND_LOCAL]     -1.01e+06    6.2e+06     -0.163      0.871   -1.32e+07    1.11e+07\n",
      "category[T.VIDEO_PLAYERS]        1.645e+06   6.46e+06      0.255      0.799    -1.1e+07    1.43e+07\n",
      "category[T.WEATHER]             -4.452e+05      8e+06     -0.056      0.956   -1.61e+07    1.52e+07\n",
      "cont_rating                      4.132e+04   1.04e+05      0.399      0.690   -1.62e+05    2.44e+05\n",
      "rating                           3.245e+05   8.86e+05      0.366      0.714   -1.41e+06    2.06e+06\n",
      "size                             -726.2262   2.37e+04     -0.031      0.976   -4.72e+04    4.58e+04\n",
      "reviews                            16.4226      0.254     64.776      0.000      15.926      16.920\n",
      "aversion                         1.482e+06   6.11e+05      2.426      0.015    2.84e+05    2.68e+06\n",
      "name_length                     -6.678e+04   3.93e+04     -1.700      0.089   -1.44e+05    1.02e+04\n",
      "==============================================================================\n",
      "Omnibus:                    11292.870   Durbin-Watson:                   1.870\n",
      "Prob(Omnibus):                  0.000   Jarque-Bera (JB):         24959836.901\n",
      "Skew:                           9.748   Prob(JB):                         0.00\n",
      "Kurtosis:                     293.079   Cond. No.                     1.29e+08\n",
      "==============================================================================\n",
      "\n",
      "Warnings:\n",
      "[1] Standard Errors assume that the covariance matrix of the errors is correctly specified.\n",
      "[2] The condition number is large, 1.29e+08. This might indicate that there are\n",
      "strong multicollinearity or other numerical problems.\n"
     ]
    }
   ],
   "source": [
    "#regression installs\n",
    "result = sm.ols(formula=\"installs ~ cont_rating + rating + size + category + reviews + aversion + name_length\", data=android_free).fit()\n",
    "print(result.summary())"
   ]
  },
  {
   "cell_type": "code",
   "execution_count": 121,
   "metadata": {},
   "outputs": [
    {
     "name": "stdout",
     "output_type": "stream",
     "text": [
      "                            OLS Regression Results                            \n",
      "==============================================================================\n",
      "Dep. Variable:                reviews   R-squared:                       0.434\n",
      "Model:                            OLS   Adj. R-squared:                  0.431\n",
      "Method:                 Least Squares   F-statistic:                     142.0\n",
      "Date:                Wed, 09 Jan 2019   Prob (F-statistic):               0.00\n",
      "Time:                        10:51:42   Log-Likelihood:            -1.1066e+05\n",
      "No. Observations:                7087   AIC:                         2.214e+05\n",
      "Df Residuals:                    7048   BIC:                         2.217e+05\n",
      "Df Model:                          38                                         \n",
      "Covariance Type:            nonrobust                                         \n",
      "===================================================================================================\n",
      "                                      coef    std err          t      P>|t|      [0.025      0.975]\n",
      "---------------------------------------------------------------------------------------------------\n",
      "Intercept                        -6.57e+05   2.54e+05     -2.585      0.010   -1.16e+06   -1.59e+05\n",
      "category[T.AUTO_AND_VEHICLES]   -4.186e+04   2.69e+05     -0.155      0.877    -5.7e+05    4.86e+05\n",
      "category[T.BEAUTY]              -8086.4293   3.11e+05     -0.026      0.979   -6.17e+05    6.01e+05\n",
      "category[T.BOOKS_AND_REFERENCE] -4692.1037   2.33e+05     -0.020      0.984   -4.61e+05    4.52e+05\n",
      "category[T.BUSINESS]            -1.933e+04   2.18e+05     -0.088      0.929   -4.48e+05    4.09e+05\n",
      "category[T.COMICS]               7.061e+04   2.89e+05      0.244      0.807   -4.97e+05    6.38e+05\n",
      "category[T.COMMUNICATION]        5.853e+04   2.24e+05      0.262      0.793    -3.8e+05    4.97e+05\n",
      "category[T.DATING]                6.88e+04   2.33e+05      0.295      0.768   -3.89e+05    5.26e+05\n",
      "category[T.EDUCATION]           -6.088e+04   2.43e+05     -0.251      0.802   -5.37e+05    4.15e+05\n",
      "category[T.ENTERTAINMENT]       -5.925e+04   2.55e+05     -0.233      0.816   -5.59e+05     4.4e+05\n",
      "category[T.EVENTS]              -2.185e+04   3.13e+05     -0.070      0.944   -6.36e+05    5.93e+05\n",
      "category[T.FAMILY]              -6.128e+04   2.01e+05     -0.305      0.760   -4.55e+05    3.32e+05\n",
      "category[T.FINANCE]             -2.533e+04   2.18e+05     -0.116      0.907   -4.52e+05    4.01e+05\n",
      "category[T.FOOD_AND_DRINK]      -7.934e+04   2.54e+05     -0.312      0.755   -5.78e+05    4.19e+05\n",
      "category[T.GAME]                 4.138e+05   2.06e+05      2.013      0.044    1.08e+04    8.17e+05\n",
      "category[T.HEALTH_AND_FITNESS]  -1.394e+05   2.21e+05     -0.631      0.528   -5.72e+05    2.93e+05\n",
      "category[T.HOUSE_AND_HOME]       8992.3895   2.77e+05      0.032      0.974   -5.34e+05    5.52e+05\n",
      "category[T.LIBRARIES_AND_DEMO]   3919.0673   2.71e+05      0.014      0.988   -5.28e+05    5.36e+05\n",
      "category[T.LIFESTYLE]            -246.1731   2.17e+05     -0.001      0.999   -4.25e+05    4.24e+05\n",
      "category[T.MAPS_AND_NAVIGATION] -7322.7222    2.5e+05     -0.029      0.977   -4.98e+05    4.83e+05\n",
      "category[T.MEDICAL]             -4.378e+04   2.18e+05     -0.201      0.841   -4.71e+05    3.83e+05\n",
      "category[T.NEWS_AND_MAGAZINES]  -4.839e+05   2.28e+05     -2.124      0.034    -9.3e+05   -3.74e+04\n",
      "category[T.PARENTING]           -6.871e+04   2.97e+05     -0.231      0.817   -6.52e+05    5.14e+05\n",
      "category[T.PERSONALIZATION]      1.126e+05   2.21e+05      0.510      0.610    -3.2e+05    5.45e+05\n",
      "category[T.PHOTOGRAPHY]          6.878e+04    2.2e+05      0.313      0.754   -3.62e+05       5e+05\n",
      "category[T.PRODUCTIVITY]         7.925e+04    2.2e+05      0.360      0.719   -3.52e+05    5.11e+05\n",
      "category[T.SHOPPING]             5.429e+04   2.25e+05      0.241      0.810   -3.88e+05    4.96e+05\n",
      "category[T.SOCIAL]               3.963e+04   2.28e+05      0.174      0.862   -4.07e+05    4.86e+05\n",
      "category[T.SPORTS]              -6815.8970   2.19e+05     -0.031      0.975   -4.37e+05    4.23e+05\n",
      "category[T.TOOLS]                1.372e+05   2.06e+05      0.667      0.505   -2.66e+05    5.41e+05\n",
      "category[T.TRAVEL_AND_LOCAL]    -8.079e+04   2.31e+05     -0.350      0.726   -5.33e+05    3.71e+05\n",
      "category[T.VIDEO_PLAYERS]        6.438e+04    2.4e+05      0.268      0.789   -4.07e+05    5.36e+05\n",
      "category[T.WEATHER]              3.639e+04   2.98e+05      0.122      0.903   -5.47e+05     6.2e+05\n",
      "cont_rating                     -2686.5815   3853.943     -0.697      0.486   -1.02e+04    4868.304\n",
      "rating                           1.443e+05   3.29e+04      4.383      0.000    7.98e+04    2.09e+05\n",
      "size                             1.056e+04    873.011     12.094      0.000    8846.416    1.23e+04\n",
      "installs                            0.0227      0.000     64.776      0.000       0.022       0.023\n",
      "aversion                         -1.02e+04   2.27e+04     -0.449      0.654   -5.47e+04    3.44e+04\n",
      "name_length                     -2908.8501   1460.831     -1.991      0.046   -5772.518     -45.182\n",
      "==============================================================================\n",
      "Omnibus:                    13181.898   Durbin-Watson:                   1.628\n",
      "Prob(Omnibus):                  0.000   Jarque-Bera (JB):         50444450.443\n",
      "Skew:                          13.564   Prob(JB):                         0.00\n",
      "Kurtosis:                     415.424   Cond. No.                     3.40e+09\n",
      "==============================================================================\n",
      "\n",
      "Warnings:\n",
      "[1] Standard Errors assume that the covariance matrix of the errors is correctly specified.\n",
      "[2] The condition number is large, 3.4e+09. This might indicate that there are\n",
      "strong multicollinearity or other numerical problems.\n"
     ]
    }
   ],
   "source": [
    "#regression reviews\n",
    "result = sm.ols(formula=\"reviews ~ cont_rating + rating + size + category + installs + aversion + name_length\", data=android_free).fit()\n",
    "print(result.summary())"
   ]
  },
  {
   "cell_type": "code",
   "execution_count": 122,
   "metadata": {},
   "outputs": [
    {
     "name": "stdout",
     "output_type": "stream",
     "text": [
      "                            OLS Regression Results                            \n",
      "==============================================================================\n",
      "Dep. Variable:                 rating   R-squared:                       0.057\n",
      "Model:                            OLS   Adj. R-squared:                  0.052\n",
      "Method:                 Least Squares   F-statistic:                     11.29\n",
      "Date:                Wed, 09 Jan 2019   Prob (F-statistic):           2.00e-65\n",
      "Time:                        10:51:42   Log-Likelihood:                -5533.6\n",
      "No. Observations:                7087   AIC:                         1.115e+04\n",
      "Df Residuals:                    7048   BIC:                         1.141e+04\n",
      "Df Model:                          38                                         \n",
      "Covariance Type:            nonrobust                                         \n",
      "===================================================================================================\n",
      "                                      coef    std err          t      P>|t|      [0.025      0.975]\n",
      "---------------------------------------------------------------------------------------------------\n",
      "Intercept                           4.0370      0.078     51.573      0.000       3.884       4.190\n",
      "category[T.AUTO_AND_VEHICLES]      -0.1987      0.097     -2.041      0.041      -0.390      -0.008\n",
      "category[T.BEAUTY]                 -0.0326      0.112     -0.290      0.772      -0.253       0.187\n",
      "category[T.BOOKS_AND_REFERENCE]     0.0356      0.084      0.423      0.672      -0.129       0.201\n",
      "category[T.BUSINESS]               -0.1736      0.079     -2.200      0.028      -0.328      -0.019\n",
      "category[T.COMICS]                 -0.1831      0.105     -1.751      0.080      -0.388       0.022\n",
      "category[T.COMMUNICATION]          -0.1999      0.081     -2.476      0.013      -0.358      -0.042\n",
      "category[T.DATING]                 -0.3744      0.084     -4.445      0.000      -0.540      -0.209\n",
      "category[T.EDUCATION]               0.0542      0.088      0.618      0.537      -0.118       0.226\n",
      "category[T.ENTERTAINMENT]          -0.1678      0.092     -1.823      0.068      -0.348       0.013\n",
      "category[T.EVENTS]                  0.1647      0.113      1.454      0.146      -0.057       0.387\n",
      "category[T.FAMILY]                 -0.1261      0.072     -1.740      0.082      -0.268       0.016\n",
      "category[T.FINANCE]                -0.1681      0.079     -2.139      0.032      -0.322      -0.014\n",
      "category[T.FOOD_AND_DRINK]         -0.2141      0.092     -2.331      0.020      -0.394      -0.034\n",
      "category[T.GAME]                   -0.0618      0.074     -0.832      0.406      -0.207       0.084\n",
      "category[T.HEALTH_AND_FITNESS]     -0.1133      0.080     -1.421      0.156      -0.270       0.043\n",
      "category[T.HOUSE_AND_HOME]         -0.2048      0.100     -2.045      0.041      -0.401      -0.008\n",
      "category[T.LIBRARIES_AND_DEMO]     -0.0554      0.098     -0.565      0.572      -0.248       0.137\n",
      "category[T.LIFESTYLE]              -0.1983      0.078     -2.535      0.011      -0.352      -0.045\n",
      "category[T.MAPS_AND_NAVIGATION]    -0.2746      0.090     -3.041      0.002      -0.452      -0.098\n",
      "category[T.MEDICAL]                -0.1399      0.079     -1.778      0.075      -0.294       0.014\n",
      "category[T.NEWS_AND_MAGAZINES]     -0.1597      0.082     -1.940      0.052      -0.321       0.002\n",
      "category[T.PARENTING]               0.0016      0.107      0.015      0.988      -0.209       0.212\n",
      "category[T.PERSONALIZATION]        -0.0220      0.080     -0.276      0.783      -0.178       0.134\n",
      "category[T.PHOTOGRAPHY]            -0.1672      0.079     -2.106      0.035      -0.323      -0.012\n",
      "category[T.PRODUCTIVITY]           -0.1651      0.079     -2.076      0.038      -0.321      -0.009\n",
      "category[T.SHOPPING]               -0.0915      0.081     -1.124      0.261      -0.251       0.068\n",
      "category[T.SOCIAL]                 -0.0507      0.082     -0.616      0.538      -0.212       0.111\n",
      "category[T.SPORTS]                 -0.1126      0.079     -1.420      0.156      -0.268       0.043\n",
      "category[T.TOOLS]                  -0.2921      0.074     -3.931      0.000      -0.438      -0.146\n",
      "category[T.TRAVEL_AND_LOCAL]       -0.2871      0.083     -3.448      0.001      -0.450      -0.124\n",
      "category[T.VIDEO_PLAYERS]          -0.2701      0.087     -3.112      0.002      -0.440      -0.100\n",
      "category[T.WEATHER]                -0.0573      0.108     -0.533      0.594      -0.268       0.153\n",
      "cont_rating                        -0.0009      0.001     -0.657      0.511      -0.004       0.002\n",
      "reviews                          1.884e-08    4.3e-09      4.383      0.000    1.04e-08    2.73e-08\n",
      "size                                0.0006      0.000      1.775      0.076   -5.89e-05       0.001\n",
      "installs                         5.861e-11    1.6e-10      0.366      0.714   -2.55e-10    3.72e-10\n",
      "aversion                            0.0298      0.008      3.633      0.000       0.014       0.046\n",
      "name_length                         0.0060      0.001     11.556      0.000       0.005       0.007\n",
      "==============================================================================\n",
      "Omnibus:                     2394.854   Durbin-Watson:                   1.835\n",
      "Prob(Omnibus):                  0.000   Jarque-Bera (JB):            10358.999\n",
      "Skew:                          -1.607   Prob(JB):                         0.00\n",
      "Kurtosis:                       7.975   Cond. No.                     3.40e+09\n",
      "==============================================================================\n",
      "\n",
      "Warnings:\n",
      "[1] Standard Errors assume that the covariance matrix of the errors is correctly specified.\n",
      "[2] The condition number is large, 3.4e+09. This might indicate that there are\n",
      "strong multicollinearity or other numerical problems.\n"
     ]
    }
   ],
   "source": [
    "#regression rating\n",
    "result = sm.ols(formula=\"rating ~ cont_rating + reviews + size + category + installs + aversion + name_length\", data=android_free).fit()\n",
    "print(result.summary())"
   ]
  },
  {
   "cell_type": "code",
   "execution_count": 123,
   "metadata": {},
   "outputs": [
    {
     "name": "stdout",
     "output_type": "stream",
     "text": [
      "                            OLS Regression Results                            \n",
      "==============================================================================\n",
      "Dep. Variable:                   size   R-squared:                       0.296\n",
      "Model:                            OLS   Adj. R-squared:                  0.292\n",
      "Method:                 Least Squares   F-statistic:                     77.94\n",
      "Date:                Wed, 09 Jan 2019   Prob (F-statistic):               0.00\n",
      "Time:                        10:51:42   Log-Likelihood:                -31196.\n",
      "No. Observations:                7087   AIC:                         6.247e+04\n",
      "Df Residuals:                    7048   BIC:                         6.274e+04\n",
      "Df Model:                          38                                         \n",
      "Covariance Type:            nonrobust                                         \n",
      "===================================================================================================\n",
      "                                      coef    std err          t      P>|t|      [0.025      0.975]\n",
      "---------------------------------------------------------------------------------------------------\n",
      "Intercept                         -13.3436      3.430     -3.890      0.000     -20.067      -6.620\n",
      "category[T.AUTO_AND_VEHICLES]       7.6210      3.638      2.095      0.036       0.489      14.753\n",
      "category[T.BEAUTY]                  1.8481      4.195      0.440      0.660      -6.376      10.073\n",
      "category[T.BOOKS_AND_REFERENCE]     2.5355      3.144      0.806      0.420      -3.628       8.700\n",
      "category[T.BUSINESS]                2.5735      2.950      0.872      0.383      -3.210       8.357\n",
      "category[T.COMICS]                 -3.5117      3.909     -0.898      0.369     -11.175       4.152\n",
      "category[T.COMMUNICATION]          -0.0550      3.019     -0.018      0.985      -5.973       5.863\n",
      "category[T.DATING]                 -3.5278      3.153     -1.119      0.263      -9.708       2.652\n",
      "category[T.EDUCATION]               6.6741      3.277      2.036      0.042       0.250      13.099\n",
      "category[T.ENTERTAINMENT]           3.0321      3.441      0.881      0.378      -3.713       9.777\n",
      "category[T.EVENTS]                 -0.4127      4.233     -0.097      0.922      -8.710       7.885\n",
      "category[T.FAMILY]                 16.9430      2.702      6.269      0.000      11.645      22.241\n",
      "category[T.FINANCE]                 5.2104      2.937      1.774      0.076      -0.547      10.968\n",
      "category[T.FOOD_AND_DRINK]          9.4546      3.433      2.754      0.006       2.725      16.184\n",
      "category[T.GAME]                   29.3261      2.755     10.645      0.000      23.926      34.727\n",
      "category[T.HEALTH_AND_FITNESS]      9.9399      2.979      3.337      0.001       4.100      15.780\n",
      "category[T.HOUSE_AND_HOME]          3.2909      3.744      0.879      0.379      -4.048      10.630\n",
      "category[T.LIBRARIES_AND_DEMO]      5.8624      3.665      1.599      0.110      -1.323      13.048\n",
      "category[T.LIFESTYLE]               3.0879      2.924      1.056      0.291      -2.643       8.819\n",
      "category[T.MAPS_AND_NAVIGATION]     4.7120      3.377      1.395      0.163      -1.908      11.332\n",
      "category[T.MEDICAL]                 5.9394      2.940      2.020      0.043       0.176      11.703\n",
      "category[T.NEWS_AND_MAGAZINES]     -2.5299      3.077     -0.822      0.411      -8.561       3.502\n",
      "category[T.PARENTING]               7.5058      4.016      1.869      0.062      -0.367      15.378\n",
      "category[T.PERSONALIZATION]        -3.3953      2.979     -1.140      0.254      -9.234       2.444\n",
      "category[T.PHOTOGRAPHY]             4.4936      2.968      1.514      0.130      -1.324      10.311\n",
      "category[T.PRODUCTIVITY]           -0.0781      2.972     -0.026      0.979      -5.904       5.748\n",
      "category[T.SHOPPING]                2.0407      3.044      0.671      0.503      -3.926       8.007\n",
      "category[T.SOCIAL]                  1.8603      3.076      0.605      0.545      -4.169       7.890\n",
      "category[T.SPORTS]                 12.6580      2.960      4.276      0.000       6.855      18.461\n",
      "category[T.TOOLS]                  -3.3435      2.779     -1.203      0.229      -8.792       2.105\n",
      "category[T.TRAVEL_AND_LOCAL]       11.0080      3.112      3.538      0.000       4.908      17.108\n",
      "category[T.VIDEO_PLAYERS]           2.4041      3.246      0.741      0.459      -3.959       8.767\n",
      "category[T.WEATHER]                 0.3135      4.018      0.078      0.938      -7.564       8.191\n",
      "cont_rating                         0.4863      0.052      9.403      0.000       0.385       0.588\n",
      "rating                              0.7902      0.445      1.775      0.076      -0.082       1.663\n",
      "installs                        -1.833e-10   5.98e-09     -0.031      0.976   -1.19e-08    1.15e-08\n",
      "reviews                          1.926e-06   1.59e-07     12.094      0.000    1.61e-06    2.24e-06\n",
      "aversion                            5.2697      0.300     17.540      0.000       4.681       5.859\n",
      "name_length                         0.0789      0.020      4.003      0.000       0.040       0.118\n",
      "==============================================================================\n",
      "Omnibus:                     1352.694   Durbin-Watson:                   1.788\n",
      "Prob(Omnibus):                  0.000   Jarque-Bera (JB):             2517.094\n",
      "Skew:                           1.186   Prob(JB):                         0.00\n",
      "Kurtosis:                       4.702   Cond. No.                     3.40e+09\n",
      "==============================================================================\n",
      "\n",
      "Warnings:\n",
      "[1] Standard Errors assume that the covariance matrix of the errors is correctly specified.\n",
      "[2] The condition number is large, 3.4e+09. This might indicate that there are\n",
      "strong multicollinearity or other numerical problems.\n"
     ]
    }
   ],
   "source": [
    "#regression size\n",
    "result = sm.ols(formula=\"size ~ cont_rating + rating + installs + category + reviews + aversion + name_length\", data=android_free).fit()\n",
    "print(result.summary())"
   ]
  },
  {
   "cell_type": "markdown",
   "metadata": {},
   "source": [
    "<font size=\"4\"><b>regression for free FAMILY apps</b></font><br>"
   ]
  },
  {
   "cell_type": "code",
   "execution_count": 124,
   "metadata": {},
   "outputs": [
    {
     "name": "stdout",
     "output_type": "stream",
     "text": [
      "                            OLS Regression Results                            \n",
      "==============================================================================\n",
      "Dep. Variable:                 rating   R-squared:                       0.020\n",
      "Model:                            OLS   Adj. R-squared:                  0.016\n",
      "Method:                 Least Squares   F-statistic:                     5.054\n",
      "Date:                Wed, 09 Jan 2019   Prob (F-statistic):           3.84e-05\n",
      "Time:                        10:51:42   Log-Likelihood:                -1061.5\n",
      "No. Observations:                1461   AIC:                             2137.\n",
      "Df Residuals:                    1454   BIC:                             2174.\n",
      "Df Model:                           6                                         \n",
      "Covariance Type:            nonrobust                                         \n",
      "===============================================================================\n",
      "                  coef    std err          t      P>|t|      [0.025      0.975]\n",
      "-------------------------------------------------------------------------------\n",
      "Intercept       3.9715      0.066     59.757      0.000       3.841       4.102\n",
      "cont_rating    -0.0029      0.002     -1.167      0.244      -0.008       0.002\n",
      "reviews      1.521e-08   1.04e-08      1.459      0.145   -5.24e-09    3.57e-08\n",
      "size            0.0011      0.001      2.146      0.032    9.41e-05       0.002\n",
      "installs     5.262e-10   7.26e-10      0.725      0.469   -8.98e-10    1.95e-09\n",
      "aversion        0.0233      0.017      1.413      0.158      -0.009       0.056\n",
      "name_length     0.0039      0.001      3.391      0.001       0.002       0.006\n",
      "==============================================================================\n",
      "Omnibus:                      406.280   Durbin-Watson:                   1.672\n",
      "Prob(Omnibus):                  0.000   Jarque-Bera (JB):             1384.379\n",
      "Skew:                          -1.348   Prob(JB):                    2.43e-301\n",
      "Kurtosis:                       6.934   Cond. No.                     1.20e+08\n",
      "==============================================================================\n",
      "\n",
      "Warnings:\n",
      "[1] Standard Errors assume that the covariance matrix of the errors is correctly specified.\n",
      "[2] The condition number is large, 1.2e+08. This might indicate that there are\n",
      "strong multicollinearity or other numerical problems.\n"
     ]
    }
   ],
   "source": [
    "result = sm.ols(formula=\"rating ~ cont_rating + reviews + size + installs + aversion + name_length\", data=android_free_family).fit()\n",
    "print(result.summary())"
   ]
  },
  {
   "cell_type": "code",
   "execution_count": 125,
   "metadata": {},
   "outputs": [
    {
     "name": "stdout",
     "output_type": "stream",
     "text": [
      "                            OLS Regression Results                            \n",
      "==============================================================================\n",
      "Dep. Variable:                reviews   R-squared:                       0.368\n",
      "Model:                            OLS   Adj. R-squared:                  0.365\n",
      "Method:                 Least Squares   F-statistic:                     140.9\n",
      "Date:                Wed, 09 Jan 2019   Prob (F-statistic):          7.73e-141\n",
      "Time:                        10:51:42   Log-Likelihood:                -22593.\n",
      "No. Observations:                1461   AIC:                         4.520e+04\n",
      "Df Residuals:                    1454   BIC:                         4.524e+04\n",
      "Df Model:                           6                                         \n",
      "Covariance Type:            nonrobust                                         \n",
      "===============================================================================\n",
      "                  coef    std err          t      P>|t|      [0.025      0.975]\n",
      "-------------------------------------------------------------------------------\n",
      "Intercept   -4.511e+05    3.1e+05     -1.453      0.146   -1.06e+06    1.58e+05\n",
      "cont_rating  1.274e+04   6221.275      2.048      0.041     539.204    2.49e+04\n",
      "installs        0.0405      0.001     27.211      0.000       0.038       0.043\n",
      "size         4376.6864   1280.685      3.417      0.001    1864.499    6888.873\n",
      "rating       9.615e+04   6.59e+04      1.459      0.145   -3.31e+04    2.25e+05\n",
      "aversion    -6327.6815   4.16e+04     -0.152      0.879   -8.79e+04    7.53e+04\n",
      "name_length -3730.6836   2927.761     -1.274      0.203   -9473.771    2012.404\n",
      "==============================================================================\n",
      "Omnibus:                     3580.860   Durbin-Watson:                   1.118\n",
      "Prob(Omnibus):                  0.000   Jarque-Bera (JB):         35162059.130\n",
      "Skew:                          24.596   Prob(JB):                         0.00\n",
      "Kurtosis:                     761.414   Cond. No.                     2.22e+08\n",
      "==============================================================================\n",
      "\n",
      "Warnings:\n",
      "[1] Standard Errors assume that the covariance matrix of the errors is correctly specified.\n",
      "[2] The condition number is large, 2.22e+08. This might indicate that there are\n",
      "strong multicollinearity or other numerical problems.\n"
     ]
    }
   ],
   "source": [
    "result = sm.ols(formula=\"reviews ~ cont_rating + installs + size + rating + aversion + name_length\", data=android_free_family).fit()\n",
    "print(result.summary())"
   ]
  },
  {
   "cell_type": "code",
   "execution_count": 126,
   "metadata": {},
   "outputs": [
    {
     "name": "stdout",
     "output_type": "stream",
     "text": [
      "                            OLS Regression Results                            \n",
      "==============================================================================\n",
      "Dep. Variable:               installs   R-squared:                       0.367\n",
      "Model:                            OLS   Adj. R-squared:                  0.365\n",
      "Method:                 Least Squares   F-statistic:                     140.7\n",
      "Date:                Wed, 09 Jan 2019   Prob (F-statistic):          1.12e-140\n",
      "Time:                        10:51:42   Log-Likelihood:                -26486.\n",
      "No. Observations:                1461   AIC:                         5.299e+04\n",
      "Df Residuals:                    1454   BIC:                         5.302e+04\n",
      "Df Model:                           6                                         \n",
      "Covariance Type:            nonrobust                                         \n",
      "===============================================================================\n",
      "                  coef    std err          t      P>|t|      [0.025      0.975]\n",
      "-------------------------------------------------------------------------------\n",
      "Intercept    8.311e+04   4.46e+06      0.019      0.985   -8.67e+06    8.83e+06\n",
      "cont_rating -1.111e+05   8.94e+04     -1.243      0.214   -2.87e+05    6.43e+04\n",
      "reviews         8.3414      0.307     27.211      0.000       7.740       8.943\n",
      "size         6.416e+04   1.84e+04      3.489      0.000    2.81e+04       1e+05\n",
      "rating       6.859e+05   9.47e+05      0.725      0.469   -1.17e+06    2.54e+06\n",
      "aversion      2.98e+05   5.97e+05      0.499      0.618   -8.73e+05    1.47e+06\n",
      "name_length -1.188e+05    4.2e+04     -2.833      0.005   -2.01e+05   -3.65e+04\n",
      "==============================================================================\n",
      "Omnibus:                     2320.295   Durbin-Watson:                   1.834\n",
      "Prob(Omnibus):                  0.000   Jarque-Bera (JB):          4600654.859\n",
      "Skew:                           9.216   Prob(JB):                         0.00\n",
      "Kurtosis:                     277.291   Cond. No.                     1.53e+07\n",
      "==============================================================================\n",
      "\n",
      "Warnings:\n",
      "[1] Standard Errors assume that the covariance matrix of the errors is correctly specified.\n",
      "[2] The condition number is large, 1.53e+07. This might indicate that there are\n",
      "strong multicollinearity or other numerical problems.\n"
     ]
    }
   ],
   "source": [
    "result = sm.ols(formula=\"installs ~ cont_rating + reviews + size + rating + aversion + name_length\", data=android_free_family).fit()\n",
    "print(result.summary())"
   ]
  },
  {
   "cell_type": "code",
   "execution_count": 127,
   "metadata": {},
   "outputs": [
    {
     "name": "stdout",
     "output_type": "stream",
     "text": [
      "                            OLS Regression Results                            \n",
      "==============================================================================\n",
      "Dep. Variable:                   size   R-squared:                       0.091\n",
      "Model:                            OLS   Adj. R-squared:                  0.087\n",
      "Method:                 Least Squares   F-statistic:                     24.22\n",
      "Date:                Wed, 09 Jan 2019   Prob (F-statistic):           1.90e-27\n",
      "Time:                        10:51:42   Log-Likelihood:                -6813.9\n",
      "No. Observations:                1461   AIC:                         1.364e+04\n",
      "Df Residuals:                    1454   BIC:                         1.368e+04\n",
      "Df Model:                           6                                         \n",
      "Covariance Type:            nonrobust                                         \n",
      "===============================================================================\n",
      "                  coef    std err          t      P>|t|      [0.025      0.975]\n",
      "-------------------------------------------------------------------------------\n",
      "Intercept      -8.0925      6.332     -1.278      0.201     -20.514       4.329\n",
      "cont_rating     0.6104      0.126      4.843      0.000       0.363       0.858\n",
      "reviews      1.821e-06   5.33e-07      3.417      0.001    7.76e-07    2.87e-06\n",
      "installs     1.294e-07   3.71e-08      3.489      0.000    5.67e-08    2.02e-07\n",
      "rating          2.8814      1.343      2.146      0.032       0.248       5.515\n",
      "aversion        4.9264      0.838      5.876      0.000       3.282       6.571\n",
      "name_length     0.2235      0.059      3.759      0.000       0.107       0.340\n",
      "==============================================================================\n",
      "Omnibus:                      145.147   Durbin-Watson:                   1.589\n",
      "Prob(Omnibus):                  0.000   Jarque-Bera (JB):              189.855\n",
      "Skew:                           0.881   Prob(JB):                     5.94e-42\n",
      "Kurtosis:                       3.120   Cond. No.                     2.22e+08\n",
      "==============================================================================\n",
      "\n",
      "Warnings:\n",
      "[1] Standard Errors assume that the covariance matrix of the errors is correctly specified.\n",
      "[2] The condition number is large, 2.22e+08. This might indicate that there are\n",
      "strong multicollinearity or other numerical problems.\n"
     ]
    }
   ],
   "source": [
    "result = sm.ols(formula=\"size ~ cont_rating + reviews + installs + rating + aversion + name_length\", data=android_free_family).fit()\n",
    "print(result.summary())"
   ]
  },
  {
   "cell_type": "markdown",
   "metadata": {},
   "source": [
    "<font size=\"4\"><b>regression for free GAME apps</b></font><br>"
   ]
  },
  {
   "cell_type": "code",
   "execution_count": 128,
   "metadata": {},
   "outputs": [
    {
     "name": "stdout",
     "output_type": "stream",
     "text": [
      "                            OLS Regression Results                            \n",
      "==============================================================================\n",
      "Dep. Variable:                 rating   R-squared:                       0.073\n",
      "Model:                            OLS   Adj. R-squared:                  0.067\n",
      "Method:                 Least Squares   F-statistic:                     11.71\n",
      "Date:                Wed, 09 Jan 2019   Prob (F-statistic):           1.18e-12\n",
      "Time:                        10:51:42   Log-Likelihood:                -364.42\n",
      "No. Observations:                 894   AIC:                             742.8\n",
      "Df Residuals:                     887   BIC:                             776.4\n",
      "Df Model:                           6                                         \n",
      "Covariance Type:            nonrobust                                         \n",
      "===============================================================================\n",
      "                  coef    std err          t      P>|t|      [0.025      0.975]\n",
      "-------------------------------------------------------------------------------\n",
      "Intercept       3.9863      0.059     67.355      0.000       3.870       4.102\n",
      "cont_rating    -0.0009      0.002     -0.451      0.652      -0.005       0.003\n",
      "reviews      9.585e-09      4e-09      2.397      0.017    1.74e-09    1.74e-08\n",
      "size            0.0021      0.000      4.195      0.000       0.001       0.003\n",
      "installs    -4.094e-11   1.67e-10     -0.245      0.807   -3.69e-10    2.87e-10\n",
      "aversion        0.0538      0.015      3.587      0.000       0.024       0.083\n",
      "name_length    -0.0013      0.001     -1.008      0.314      -0.004       0.001\n",
      "==============================================================================\n",
      "Omnibus:                      491.224   Durbin-Watson:                   1.677\n",
      "Prob(Omnibus):                  0.000   Jarque-Bera (JB):             6429.607\n",
      "Skew:                          -2.212   Prob(JB):                         0.00\n",
      "Kurtosis:                      15.371   Cond. No.                     5.50e+08\n",
      "==============================================================================\n",
      "\n",
      "Warnings:\n",
      "[1] Standard Errors assume that the covariance matrix of the errors is correctly specified.\n",
      "[2] The condition number is large, 5.5e+08. This might indicate that there are\n",
      "strong multicollinearity or other numerical problems.\n"
     ]
    }
   ],
   "source": [
    "result = sm.ols(formula=\"rating ~ cont_rating + reviews + size + installs + aversion + name_length\", data=android_free_game).fit()\n",
    "print(result.summary())"
   ]
  },
  {
   "cell_type": "code",
   "execution_count": 129,
   "metadata": {},
   "outputs": [
    {
     "name": "stdout",
     "output_type": "stream",
     "text": [
      "                            OLS Regression Results                            \n",
      "==============================================================================\n",
      "Dep. Variable:                reviews   R-squared:                       0.553\n",
      "Model:                            OLS   Adj. R-squared:                  0.550\n",
      "Method:                 Least Squares   F-statistic:                     182.9\n",
      "Date:                Wed, 09 Jan 2019   Prob (F-statistic):          2.39e-151\n",
      "Time:                        10:51:42   Log-Likelihood:                -14615.\n",
      "No. Observations:                 894   AIC:                         2.924e+04\n",
      "Df Residuals:                     887   BIC:                         2.928e+04\n",
      "Df Model:                           6                                         \n",
      "Covariance Type:            nonrobust                                         \n",
      "===============================================================================\n",
      "                  coef    std err          t      P>|t|      [0.025      0.975]\n",
      "-------------------------------------------------------------------------------\n",
      "Intercept    -2.78e+06   1.22e+06     -2.276      0.023   -5.18e+06   -3.83e+05\n",
      "cont_rating -4851.9423   1.62e+04     -0.299      0.765   -3.67e+04     2.7e+04\n",
      "rating       6.713e+05    2.8e+05      2.397      0.017    1.22e+05    1.22e+06\n",
      "size          2.74e+04   4061.844      6.745      0.000    1.94e+04    3.54e+04\n",
      "installs        0.0288      0.001     28.411      0.000       0.027       0.031\n",
      "aversion     -3.72e+04   1.26e+05     -0.295      0.768   -2.85e+05    2.11e+05\n",
      "name_length -3.073e+04   1.04e+04     -2.947      0.003   -5.12e+04   -1.03e+04\n",
      "==============================================================================\n",
      "Omnibus:                     1314.048   Durbin-Watson:                   1.689\n",
      "Prob(Omnibus):                  0.000   Jarque-Bera (JB):           375520.676\n",
      "Skew:                           8.350   Prob(JB):                         0.00\n",
      "Kurtosis:                     102.006   Cond. No.                     1.36e+09\n",
      "==============================================================================\n",
      "\n",
      "Warnings:\n",
      "[1] Standard Errors assume that the covariance matrix of the errors is correctly specified.\n",
      "[2] The condition number is large, 1.36e+09. This might indicate that there are\n",
      "strong multicollinearity or other numerical problems.\n"
     ]
    }
   ],
   "source": [
    "result = sm.ols(formula=\"reviews ~ cont_rating + rating + size + installs + aversion + name_length\", data=android_free_game).fit()\n",
    "print(result.summary())"
   ]
  },
  {
   "cell_type": "code",
   "execution_count": 130,
   "metadata": {},
   "outputs": [
    {
     "name": "stdout",
     "output_type": "stream",
     "text": [
      "                            OLS Regression Results                            \n",
      "==============================================================================\n",
      "Dep. Variable:               installs   R-squared:                       0.525\n",
      "Model:                            OLS   Adj. R-squared:                  0.521\n",
      "Method:                 Least Squares   F-statistic:                     163.2\n",
      "Date:                Wed, 09 Jan 2019   Prob (F-statistic):          1.49e-139\n",
      "Time:                        10:51:42   Log-Likelihood:                -17455.\n",
      "No. Observations:                 894   AIC:                         3.492e+04\n",
      "Df Residuals:                     887   BIC:                         3.496e+04\n",
      "Df Model:                           6                                         \n",
      "Covariance Type:            nonrobust                                         \n",
      "===============================================================================\n",
      "                  coef    std err          t      P>|t|      [0.025      0.975]\n",
      "-------------------------------------------------------------------------------\n",
      "Intercept    1.638e+07   2.94e+07      0.558      0.577   -4.12e+07     7.4e+07\n",
      "cont_rating   -5.8e+05   3.89e+05     -1.491      0.136   -1.34e+06    1.84e+05\n",
      "reviews        16.5513      0.583     28.411      0.000      15.408      17.695\n",
      "size        -6.818e+04   9.98e+04     -0.683      0.495   -2.64e+05    1.28e+05\n",
      "rating      -1.649e+06   6.74e+06     -0.245      0.807   -1.49e+07    1.16e+07\n",
      "aversion     4.389e+06   3.03e+06      1.451      0.147   -1.55e+06    1.03e+07\n",
      "name_length -4.954e+05   2.51e+05     -1.976      0.048   -9.88e+05   -3376.867\n",
      "==============================================================================\n",
      "Omnibus:                      405.952   Durbin-Watson:                   1.787\n",
      "Prob(Omnibus):                  0.000   Jarque-Bera (JB):            67940.370\n",
      "Skew:                           0.946   Prob(JB):                         0.00\n",
      "Kurtosis:                      45.665   Cond. No.                     5.87e+07\n",
      "==============================================================================\n",
      "\n",
      "Warnings:\n",
      "[1] Standard Errors assume that the covariance matrix of the errors is correctly specified.\n",
      "[2] The condition number is large, 5.87e+07. This might indicate that there are\n",
      "strong multicollinearity or other numerical problems.\n"
     ]
    }
   ],
   "source": [
    "result = sm.ols(formula=\"installs ~ cont_rating + reviews + size + rating + aversion + name_length\", data=android_free_game).fit()\n",
    "print(result.summary())"
   ]
  },
  {
   "cell_type": "code",
   "execution_count": 131,
   "metadata": {},
   "outputs": [
    {
     "name": "stdout",
     "output_type": "stream",
     "text": [
      "                            OLS Regression Results                            \n",
      "==============================================================================\n",
      "Dep. Variable:                   size   R-squared:                       0.212\n",
      "Model:                            OLS   Adj. R-squared:                  0.206\n",
      "Method:                 Least Squares   F-statistic:                     39.67\n",
      "Date:                Wed, 09 Jan 2019   Prob (F-statistic):           7.41e-43\n",
      "Time:                        10:51:42   Log-Likelihood:                -4129.7\n",
      "No. Observations:                 894   AIC:                             8273.\n",
      "Df Residuals:                     887   BIC:                             8307.\n",
      "Df Model:                           6                                         \n",
      "Covariance Type:            nonrobust                                         \n",
      "===============================================================================\n",
      "                  coef    std err          t      P>|t|      [0.025      0.975]\n",
      "-------------------------------------------------------------------------------\n",
      "Intercept     -33.1631      9.811     -3.380      0.001     -52.419     -13.907\n",
      "cont_rating     0.7234      0.129      5.621      0.000       0.471       0.976\n",
      "reviews      1.781e-06   2.64e-07      6.745      0.000    1.26e-06     2.3e-06\n",
      "installs    -7.707e-09   1.13e-08     -0.683      0.495   -2.99e-08    1.44e-08\n",
      "rating          9.4113      2.243      4.195      0.000       5.008      13.814\n",
      "aversion        7.2562      0.989      7.339      0.000       5.316       9.197\n",
      "name_length     0.2773      0.084      3.302      0.001       0.112       0.442\n",
      "==============================================================================\n",
      "Omnibus:                       55.941   Durbin-Watson:                   1.783\n",
      "Prob(Omnibus):                  0.000   Jarque-Bera (JB):               44.233\n",
      "Skew:                           0.456   Prob(JB):                     2.48e-10\n",
      "Kurtosis:                       2.402   Cond. No.                     1.35e+09\n",
      "==============================================================================\n",
      "\n",
      "Warnings:\n",
      "[1] Standard Errors assume that the covariance matrix of the errors is correctly specified.\n",
      "[2] The condition number is large, 1.35e+09. This might indicate that there are\n",
      "strong multicollinearity or other numerical problems.\n"
     ]
    }
   ],
   "source": [
    "result = sm.ols(formula=\"size ~ cont_rating + reviews + installs + rating + aversion + name_length\", data=android_free_game).fit()\n",
    "print(result.summary())"
   ]
  },
  {
   "cell_type": "markdown",
   "metadata": {},
   "source": [
    "<font size=\"4\"><b>regression for free TOOLS apps</b></font><br>"
   ]
  },
  {
   "cell_type": "code",
   "execution_count": 132,
   "metadata": {},
   "outputs": [
    {
     "name": "stdout",
     "output_type": "stream",
     "text": [
      "                            OLS Regression Results                            \n",
      "==============================================================================\n",
      "Dep. Variable:                 rating   R-squared:                       0.061\n",
      "Model:                            OLS   Adj. R-squared:                  0.051\n",
      "Method:                 Least Squares   F-statistic:                     6.159\n",
      "Date:                Wed, 09 Jan 2019   Prob (F-statistic):           2.85e-06\n",
      "Time:                        10:51:42   Log-Likelihood:                -537.92\n",
      "No. Observations:                 574   AIC:                             1090.\n",
      "Df Residuals:                     567   BIC:                             1120.\n",
      "Df Model:                           6                                         \n",
      "Covariance Type:            nonrobust                                         \n",
      "===============================================================================\n",
      "                  coef    std err          t      P>|t|      [0.025      0.975]\n",
      "-------------------------------------------------------------------------------\n",
      "Intercept       3.7854      0.109     34.762      0.000       3.572       3.999\n",
      "cont_rating     0.0245      0.019      1.321      0.187      -0.012       0.061\n",
      "reviews      3.488e-08   3.05e-08      1.143      0.254   -2.51e-08    9.48e-08\n",
      "size           -0.0093      0.002     -3.789      0.000      -0.014      -0.004\n",
      "installs      1.38e-09   1.04e-09      1.332      0.183   -6.55e-10    3.42e-09\n",
      "aversion        0.0354      0.027      1.326      0.186      -0.017       0.088\n",
      "name_length     0.0065      0.002      2.893      0.004       0.002       0.011\n",
      "==============================================================================\n",
      "Omnibus:                      173.123   Durbin-Watson:                   1.720\n",
      "Prob(Omnibus):                  0.000   Jarque-Bera (JB):              506.673\n",
      "Skew:                          -1.459   Prob(JB):                    9.49e-111\n",
      "Kurtosis:                       6.560   Cond. No.                     1.42e+08\n",
      "==============================================================================\n",
      "\n",
      "Warnings:\n",
      "[1] Standard Errors assume that the covariance matrix of the errors is correctly specified.\n",
      "[2] The condition number is large, 1.42e+08. This might indicate that there are\n",
      "strong multicollinearity or other numerical problems.\n"
     ]
    }
   ],
   "source": [
    "result = sm.ols(formula=\"rating ~ cont_rating + reviews + size + installs + aversion + name_length\", data=android_free_tools).fit()\n",
    "print(result.summary())"
   ]
  },
  {
   "cell_type": "code",
   "execution_count": 133,
   "metadata": {},
   "outputs": [
    {
     "name": "stdout",
     "output_type": "stream",
     "text": [
      "                            OLS Regression Results                            \n",
      "==============================================================================\n",
      "Dep. Variable:                reviews   R-squared:                       0.441\n",
      "Model:                            OLS   Adj. R-squared:                  0.435\n",
      "Method:                 Least Squares   F-statistic:                     74.51\n",
      "Date:                Wed, 09 Jan 2019   Prob (F-statistic):           2.12e-68\n",
      "Time:                        10:51:42   Log-Likelihood:                -8650.7\n",
      "No. Observations:                 574   AIC:                         1.732e+04\n",
      "Df Residuals:                     567   BIC:                         1.735e+04\n",
      "Df Model:                           6                                         \n",
      "Covariance Type:            nonrobust                                         \n",
      "===============================================================================\n",
      "                  coef    std err          t      P>|t|      [0.025      0.975]\n",
      "-------------------------------------------------------------------------------\n",
      "Intercept   -4.619e+05   2.64e+05     -1.748      0.081   -9.81e+05     5.7e+04\n",
      "cont_rating   827.3767   2.56e+04      0.032      0.974   -4.94e+04    5.11e+04\n",
      "rating        6.59e+04   5.77e+04      1.143      0.254   -4.74e+04    1.79e+05\n",
      "size         5940.5664   3401.952      1.746      0.081    -741.399    1.26e+04\n",
      "installs        0.0213      0.001     19.173      0.000       0.019       0.023\n",
      "aversion    -3.956e+04   3.67e+04     -1.078      0.281   -1.12e+05    3.25e+04\n",
      "name_length  1.585e+04   3037.639      5.219      0.000    9888.430    2.18e+04\n",
      "==============================================================================\n",
      "Omnibus:                      935.086   Durbin-Watson:                   1.492\n",
      "Prob(Omnibus):                  0.000   Jarque-Bera (JB):           329181.838\n",
      "Skew:                           9.684   Prob(JB):                         0.00\n",
      "Kurtosis:                     118.709   Cond. No.                     2.50e+08\n",
      "==============================================================================\n",
      "\n",
      "Warnings:\n",
      "[1] Standard Errors assume that the covariance matrix of the errors is correctly specified.\n",
      "[2] The condition number is large, 2.5e+08. This might indicate that there are\n",
      "strong multicollinearity or other numerical problems.\n"
     ]
    }
   ],
   "source": [
    "result = sm.ols(formula=\"reviews ~ cont_rating + rating + size + installs + aversion + name_length\", data=android_free_tools).fit()\n",
    "print(result.summary())"
   ]
  },
  {
   "cell_type": "code",
   "execution_count": 134,
   "metadata": {},
   "outputs": [
    {
     "name": "stdout",
     "output_type": "stream",
     "text": [
      "                            OLS Regression Results                            \n",
      "==============================================================================\n",
      "Dep. Variable:               installs   R-squared:                       0.413\n",
      "Model:                            OLS   Adj. R-squared:                  0.407\n",
      "Method:                 Least Squares   F-statistic:                     66.50\n",
      "Date:                Wed, 09 Jan 2019   Prob (F-statistic):           1.75e-62\n",
      "Time:                        10:51:42   Log-Likelihood:                -10592.\n",
      "No. Observations:                 574   AIC:                         2.120e+04\n",
      "Df Residuals:                     567   BIC:                         2.123e+04\n",
      "Df Model:                           6                                         \n",
      "Covariance Type:            nonrobust                                         \n",
      "===============================================================================\n",
      "                  coef    std err          t      P>|t|      [0.025      0.975]\n",
      "-------------------------------------------------------------------------------\n",
      "Intercept    -7.41e+06   7.79e+06     -0.951      0.342   -2.27e+07    7.89e+06\n",
      "cont_rating  1.538e+05   7.53e+05      0.204      0.838   -1.33e+06    1.63e+06\n",
      "reviews        18.4632      0.963     19.173      0.000      16.572      20.355\n",
      "size         6.845e+04      1e+05      0.682      0.496   -1.29e+05    2.66e+05\n",
      "rating        2.26e+06    1.7e+06      1.332      0.183   -1.07e+06    5.59e+06\n",
      "aversion     8.677e+05   1.08e+06      0.803      0.422   -1.25e+06    2.99e+06\n",
      "name_length -1.334e+05   9.14e+04     -1.460      0.145   -3.13e+05    4.61e+04\n",
      "==============================================================================\n",
      "Omnibus:                      918.714   Durbin-Watson:                   1.884\n",
      "Prob(Omnibus):                  0.000   Jarque-Bera (JB):           480034.074\n",
      "Skew:                           9.108   Prob(JB):                         0.00\n",
      "Kurtosis:                     143.497   Cond. No.                     8.69e+06\n",
      "==============================================================================\n",
      "\n",
      "Warnings:\n",
      "[1] Standard Errors assume that the covariance matrix of the errors is correctly specified.\n",
      "[2] The condition number is large, 8.69e+06. This might indicate that there are\n",
      "strong multicollinearity or other numerical problems.\n"
     ]
    }
   ],
   "source": [
    "result = sm.ols(formula=\"installs ~ cont_rating + reviews + size + rating + aversion + name_length\", data=android_free_tools).fit()\n",
    "print(result.summary())"
   ]
  },
  {
   "cell_type": "code",
   "execution_count": 135,
   "metadata": {},
   "outputs": [
    {
     "name": "stdout",
     "output_type": "stream",
     "text": [
      "                            OLS Regression Results                            \n",
      "==============================================================================\n",
      "Dep. Variable:                   size   R-squared:                       0.060\n",
      "Model:                            OLS   Adj. R-squared:                  0.050\n",
      "Method:                 Least Squares   F-statistic:                     6.021\n",
      "Date:                Wed, 09 Jan 2019   Prob (F-statistic):           4.04e-06\n",
      "Time:                        10:51:42   Log-Likelihood:                -2161.6\n",
      "No. Observations:                 574   AIC:                             4337.\n",
      "Df Residuals:                     567   BIC:                             4368.\n",
      "Df Model:                           6                                         \n",
      "Covariance Type:            nonrobust                                         \n",
      "===============================================================================\n",
      "                  coef    std err          t      P>|t|      [0.025      0.975]\n",
      "-------------------------------------------------------------------------------\n",
      "Intercept      12.7359      3.217      3.959      0.000       6.417      19.054\n",
      "cont_rating    -0.1428      0.315     -0.454      0.650      -0.761       0.476\n",
      "reviews      9.004e-07   5.16e-07      1.746      0.081   -1.12e-07    1.91e-06\n",
      "installs     1.197e-08   1.76e-08      0.682      0.496   -2.25e-08    4.65e-08\n",
      "rating         -2.6597      0.702     -3.789      0.000      -4.038      -1.281\n",
      "aversion        1.7690      0.446      3.966      0.000       0.893       2.645\n",
      "name_length    -0.0140      0.038     -0.365      0.716      -0.089       0.061\n",
      "==============================================================================\n",
      "Omnibus:                      409.153   Durbin-Watson:                   1.818\n",
      "Prob(Omnibus):                  0.000   Jarque-Bera (JB):             6108.154\n",
      "Skew:                           3.013   Prob(JB):                         0.00\n",
      "Kurtosis:                      17.802   Cond. No.                     2.47e+08\n",
      "==============================================================================\n",
      "\n",
      "Warnings:\n",
      "[1] Standard Errors assume that the covariance matrix of the errors is correctly specified.\n",
      "[2] The condition number is large, 2.47e+08. This might indicate that there are\n",
      "strong multicollinearity or other numerical problems.\n"
     ]
    }
   ],
   "source": [
    "result = sm.ols(formula=\"size ~ cont_rating + reviews + installs + rating + aversion + name_length\", data=android_free_tools).fit()\n",
    "print(result.summary())"
   ]
  },
  {
   "cell_type": "markdown",
   "metadata": {},
   "source": [
    "<font size=\"4\"><b>hypothesis 3: paid apps are more popular at iOS-store than android-store</b></font><br>"
   ]
  },
  {
   "cell_type": "code",
   "execution_count": 136,
   "metadata": {},
   "outputs": [
    {
     "name": "stdout",
     "output_type": "stream",
     "text": [
      "                            OLS Regression Results                            \n",
      "==============================================================================\n",
      "Dep. Variable:               installs   R-squared:                       0.626\n",
      "Model:                            OLS   Adj. R-squared:                  0.603\n",
      "Method:                 Least Squares   F-statistic:                     26.74\n",
      "Date:                Wed, 09 Jan 2019   Prob (F-statistic):           1.95e-91\n",
      "Time:                        10:51:43   Log-Likelihood:                -7841.5\n",
      "No. Observations:                 561   AIC:                         1.575e+04\n",
      "Df Residuals:                     527   BIC:                         1.590e+04\n",
      "Df Model:                          33                                         \n",
      "Covariance Type:            nonrobust                                         \n",
      "===================================================================================================\n",
      "                                      coef    std err          t      P>|t|      [0.025      0.975]\n",
      "---------------------------------------------------------------------------------------------------\n",
      "Intercept                        3.964e+04   2.14e+05      0.185      0.853   -3.81e+05     4.6e+05\n",
      "category[T.BOOKS_AND_REFERENCE]  9985.9005   2.06e+05      0.048      0.961   -3.95e+05    4.15e+05\n",
      "category[T.BUSINESS]            -7986.2353   1.96e+05     -0.041      0.968   -3.93e+05    3.78e+05\n",
      "category[T.COMMUNICATION]        7646.3184   1.86e+05      0.041      0.967   -3.59e+05    3.74e+05\n",
      "category[T.DATING]              -2.504e+04   2.74e+05     -0.091      0.927   -5.63e+05    5.13e+05\n",
      "category[T.EDUCATION]            5.326e+04   2.28e+05      0.234      0.815   -3.94e+05       5e+05\n",
      "category[T.ENTERTAINMENT]        3.621e+04   3.47e+05      0.104      0.917   -6.46e+05    7.18e+05\n",
      "category[T.FAMILY]              -2.994e+04   1.76e+05     -0.170      0.865   -3.76e+05    3.16e+05\n",
      "category[T.FINANCE]              -2.07e+04   2.06e+05     -0.100      0.920   -4.26e+05    3.85e+05\n",
      "category[T.FOOD_AND_DRINK]       2.918e+04   3.41e+05      0.086      0.932   -6.41e+05    6.99e+05\n",
      "category[T.GAME]                 1.575e+04   1.79e+05      0.088      0.930   -3.35e+05    3.67e+05\n",
      "category[T.HEALTH_AND_FITNESS]  -4178.2099   2.03e+05     -0.021      0.984   -4.03e+05    3.94e+05\n",
      "category[T.LIFESTYLE]            6.169e+04   1.94e+05      0.318      0.750   -3.19e+05    4.42e+05\n",
      "category[T.MAPS_AND_NAVIGATION] -1680.6206   2.28e+05     -0.007      0.994   -4.49e+05    4.45e+05\n",
      "category[T.MEDICAL]              2.054e+04   1.77e+05      0.116      0.908   -3.28e+05    3.69e+05\n",
      "category[T.NEWS_AND_MAGAZINES]  -1.021e+04    2.7e+05     -0.038      0.970    -5.4e+05     5.2e+05\n",
      "category[T.PARENTING]           -4.891e+04    3.4e+05     -0.144      0.886   -7.17e+05    6.19e+05\n",
      "category[T.PERSONALIZATION]      -265.2071   1.77e+05     -0.002      0.999   -3.47e+05    3.47e+05\n",
      "category[T.PHOTOGRAPHY]          8.702e+04    1.9e+05      0.457      0.648   -2.87e+05    4.61e+05\n",
      "category[T.PRODUCTIVITY]        -2.001e+04    1.9e+05     -0.105      0.916   -3.93e+05    3.53e+05\n",
      "category[T.SHOPPING]            -2262.7298   2.71e+05     -0.008      0.993   -5.36e+05    5.31e+05\n",
      "category[T.SOCIAL]               -2.55e+04   2.72e+05     -0.094      0.925   -5.61e+05     5.1e+05\n",
      "category[T.SPORTS]              -2.522e+04   1.86e+05     -0.136      0.892    -3.9e+05     3.4e+05\n",
      "category[T.TOOLS]               -1.403e+04   1.78e+05     -0.079      0.937   -3.63e+05    3.35e+05\n",
      "category[T.TRAVEL_AND_LOCAL]     1.164e+04   2.11e+05      0.055      0.956   -4.02e+05    4.26e+05\n",
      "category[T.VIDEO_PLAYERS]       -2.562e+04   3.43e+05     -0.075      0.941      -7e+05    6.49e+05\n",
      "category[T.WEATHER]             -7.083e+04   2.09e+05     -0.338      0.735   -4.82e+05    3.41e+05\n",
      "cont_rating                      1575.6221   3111.911      0.506      0.613   -4537.652    7688.896\n",
      "reviews                            12.4726      0.442     28.187      0.000      11.603      13.342\n",
      "size                             -260.2691    626.021     -0.416      0.678   -1490.072     969.534\n",
      "rating                          -1.331e+04   2.38e+04     -0.559      0.576      -6e+04    3.34e+04\n",
      "aversion                         7734.5858   1.21e+04      0.640      0.523    -1.6e+04    3.15e+04\n",
      "name_length                      -166.4237   1314.634     -0.127      0.899   -2748.990    2416.143\n",
      "price                           -1354.3590   1944.832     -0.696      0.486   -5174.934    2466.216\n",
      "==============================================================================\n",
      "Omnibus:                      731.326   Durbin-Watson:                   1.991\n",
      "Prob(Omnibus):                  0.000   Jarque-Bera (JB):           819836.556\n",
      "Skew:                           5.630   Prob(JB):                         0.00\n",
      "Kurtosis:                     189.940   Cond. No.                     2.24e+06\n",
      "==============================================================================\n",
      "\n",
      "Warnings:\n",
      "[1] Standard Errors assume that the covariance matrix of the errors is correctly specified.\n",
      "[2] The condition number is large, 2.24e+06. This might indicate that there are\n",
      "strong multicollinearity or other numerical problems.\n"
     ]
    }
   ],
   "source": [
    "result = sm.ols(formula=\"installs ~ cont_rating + reviews + size + category + rating + aversion + name_length + price\", data=android_paid).fit()\n",
    "print(result.summary())"
   ]
  },
  {
   "cell_type": "code",
   "execution_count": 137,
   "metadata": {},
   "outputs": [
    {
     "name": "stdout",
     "output_type": "stream",
     "text": [
      "                            OLS Regression Results                            \n",
      "==============================================================================\n",
      "Dep. Variable:                reviews   R-squared:                       0.637\n",
      "Model:                            OLS   Adj. R-squared:                  0.614\n",
      "Method:                 Least Squares   F-statistic:                     28.04\n",
      "Date:                Wed, 09 Jan 2019   Prob (F-statistic):           9.96e-95\n",
      "Time:                        10:51:43   Log-Likelihood:                -6283.0\n",
      "No. Observations:                 561   AIC:                         1.263e+04\n",
      "Df Residuals:                     527   BIC:                         1.278e+04\n",
      "Df Model:                          33                                         \n",
      "Covariance Type:            nonrobust                                         \n",
      "===================================================================================================\n",
      "                                      coef    std err          t      P>|t|      [0.025      0.975]\n",
      "---------------------------------------------------------------------------------------------------\n",
      "Intercept                       -3344.7708   1.33e+04     -0.251      0.802   -2.95e+04    2.28e+04\n",
      "category[T.BOOKS_AND_REFERENCE] -2947.6885   1.28e+04     -0.230      0.818   -2.81e+04    2.22e+04\n",
      "category[T.BUSINESS]              413.6338   1.22e+04      0.034      0.973   -2.36e+04    2.44e+04\n",
      "category[T.COMMUNICATION]       -1395.3900   1.16e+04     -0.120      0.904   -2.42e+04    2.14e+04\n",
      "category[T.DATING]              -1500.8208    1.7e+04     -0.088      0.930   -3.49e+04    3.19e+04\n",
      "category[T.EDUCATION]           -2616.3635   1.42e+04     -0.185      0.853   -3.04e+04    2.52e+04\n",
      "category[T.ENTERTAINMENT]       -1.214e+04   2.16e+04     -0.562      0.574   -5.45e+04    3.03e+04\n",
      "category[T.FAMILY]                625.2715    1.1e+04      0.057      0.954   -2.09e+04    2.21e+04\n",
      "category[T.FINANCE]              1537.0130   1.28e+04      0.120      0.905   -2.37e+04    2.67e+04\n",
      "category[T.FOOD_AND_DRINK]      -1647.7191   2.12e+04     -0.078      0.938   -4.33e+04       4e+04\n",
      "category[T.GAME]                 1850.5574   1.11e+04      0.167      0.868      -2e+04    2.37e+04\n",
      "category[T.HEALTH_AND_FITNESS]   -914.0528   1.26e+04     -0.073      0.942   -2.57e+04    2.39e+04\n",
      "category[T.LIFESTYLE]           -4580.0710    1.2e+04     -0.380      0.704   -2.82e+04    1.91e+04\n",
      "category[T.MAPS_AND_NAVIGATION]  -996.9223   1.41e+04     -0.070      0.944   -2.88e+04    2.68e+04\n",
      "category[T.MEDICAL]             -2791.4703    1.1e+04     -0.253      0.800   -2.45e+04    1.89e+04\n",
      "category[T.NEWS_AND_MAGAZINES]  -4421.2970   1.68e+04     -0.263      0.792   -3.74e+04    2.85e+04\n",
      "category[T.PARENTING]            4088.6774   2.11e+04      0.193      0.847   -3.75e+04    4.56e+04\n",
      "category[T.PERSONALIZATION]       447.1772    1.1e+04      0.041      0.968   -2.11e+04     2.2e+04\n",
      "category[T.PHOTOGRAPHY]          -628.8135   1.18e+04     -0.053      0.958   -2.39e+04    2.26e+04\n",
      "category[T.PRODUCTIVITY]         2527.1811   1.18e+04      0.214      0.831   -2.07e+04    2.57e+04\n",
      "category[T.SHOPPING]            -1627.7006   1.69e+04     -0.096      0.923   -3.48e+04    3.15e+04\n",
      "category[T.SOCIAL]               1520.8595   1.69e+04      0.090      0.928   -3.18e+04    3.48e+04\n",
      "category[T.SPORTS]               1477.1165   1.16e+04      0.128      0.898   -2.12e+04    2.42e+04\n",
      "category[T.TOOLS]                 101.4181   1.11e+04      0.009      0.993   -2.16e+04    2.18e+04\n",
      "category[T.TRAVEL_AND_LOCAL]    -2483.0192   1.31e+04     -0.190      0.850   -2.82e+04    2.33e+04\n",
      "category[T.VIDEO_PLAYERS]        1615.9904   2.13e+04      0.076      0.940   -4.03e+04    4.36e+04\n",
      "category[T.WEATHER]              5990.9036    1.3e+04      0.460      0.646   -1.96e+04    3.16e+04\n",
      "cont_rating                       344.2790    192.923      1.785      0.075     -34.713     723.271\n",
      "rating                           2055.5815   1476.515      1.392      0.164    -844.997    4956.160\n",
      "size                               66.9428     38.815      1.725      0.085      -9.308     143.193\n",
      "installs                            0.0482      0.002     28.187      0.000       0.045       0.052\n",
      "aversion                         -905.8972    751.107     -1.206      0.228   -2381.429     569.635\n",
      "name_length                       -53.8451     81.694     -0.659      0.510    -214.331     106.641\n",
      "price                              15.3659    120.958      0.127      0.899    -222.253     252.984\n",
      "==============================================================================\n",
      "Omnibus:                      921.593   Durbin-Watson:                   2.034\n",
      "Prob(Omnibus):                  0.000   Jarque-Bera (JB):           463920.451\n",
      "Skew:                           9.618   Prob(JB):                         0.00\n",
      "Kurtosis:                     142.559   Cond. No.                     3.50e+07\n",
      "==============================================================================\n",
      "\n",
      "Warnings:\n",
      "[1] Standard Errors assume that the covariance matrix of the errors is correctly specified.\n",
      "[2] The condition number is large, 3.5e+07. This might indicate that there are\n",
      "strong multicollinearity or other numerical problems.\n"
     ]
    }
   ],
   "source": [
    "result = sm.ols(formula=\"reviews ~ cont_rating + rating + size + category + installs + aversion + name_length + price\", data=android_paid).fit()\n",
    "print(result.summary())"
   ]
  },
  {
   "cell_type": "code",
   "execution_count": 138,
   "metadata": {
    "scrolled": false
   },
   "outputs": [
    {
     "name": "stdout",
     "output_type": "stream",
     "text": [
      "                            OLS Regression Results                            \n",
      "==============================================================================\n",
      "Dep. Variable:                 rating   R-squared:                       0.125\n",
      "Model:                            OLS   Adj. R-squared:                  0.070\n",
      "Method:                 Least Squares   F-statistic:                     2.282\n",
      "Date:                Wed, 09 Jan 2019   Prob (F-statistic):           8.90e-05\n",
      "Time:                        10:51:43   Log-Likelihood:                -430.20\n",
      "No. Observations:                 561   AIC:                             928.4\n",
      "Df Residuals:                     527   BIC:                             1076.\n",
      "Df Model:                          33                                         \n",
      "Covariance Type:            nonrobust                                         \n",
      "===================================================================================================\n",
      "                                      coef    std err          t      P>|t|      [0.025      0.975]\n",
      "---------------------------------------------------------------------------------------------------\n",
      "Intercept                           4.5305      0.339     13.373      0.000       3.865       5.196\n",
      "category[T.BOOKS_AND_REFERENCE]    -0.4169      0.377     -1.107      0.269      -1.157       0.323\n",
      "category[T.BUSINESS]               -0.4327      0.359     -1.206      0.228      -1.137       0.272\n",
      "category[T.COMMUNICATION]          -0.6425      0.340     -1.889      0.059      -1.311       0.026\n",
      "category[T.DATING]                 -1.7501      0.495     -3.532      0.000      -2.724      -0.777\n",
      "category[T.EDUCATION]              -0.0190      0.417     -0.046      0.964      -0.838       0.800\n",
      "category[T.ENTERTAINMENT]          -0.3128      0.636     -0.492      0.623      -1.562       0.936\n",
      "category[T.FAMILY]                 -0.4561      0.322     -1.417      0.157      -1.088       0.176\n",
      "category[T.FINANCE]                -0.9788      0.376     -2.607      0.009      -1.716      -0.241\n",
      "category[T.FOOD_AND_DRINK]         -0.6282      0.624     -1.007      0.314      -1.854       0.597\n",
      "category[T.GAME]                   -0.4356      0.327     -1.334      0.183      -1.077       0.206\n",
      "category[T.HEALTH_AND_FITNESS]     -0.4264      0.371     -1.150      0.251      -1.155       0.302\n",
      "category[T.LIFESTYLE]              -0.2636      0.355     -0.743      0.458      -0.960       0.433\n",
      "category[T.MAPS_AND_NAVIGATION]    -1.0239      0.414     -2.472      0.014      -1.838      -0.210\n",
      "category[T.MEDICAL]                -0.4639      0.324     -1.430      0.153      -1.101       0.173\n",
      "category[T.NEWS_AND_MAGAZINES]     -0.0367      0.494     -0.074      0.941      -1.007       0.934\n",
      "category[T.PARENTING]              -0.0443      0.623     -0.071      0.943      -1.268       1.179\n",
      "category[T.PERSONALIZATION]        -0.3191      0.323     -0.987      0.324      -0.954       0.316\n",
      "category[T.PHOTOGRAPHY]            -0.6859      0.347     -1.976      0.049      -1.368      -0.004\n",
      "category[T.PRODUCTIVITY]           -0.5866      0.347     -1.692      0.091      -1.268       0.094\n",
      "category[T.SHOPPING]               -0.2392      0.497     -0.481      0.630      -1.215       0.737\n",
      "category[T.SOCIAL]                 -1.1169      0.496     -2.250      0.025      -2.092      -0.142\n",
      "category[T.SPORTS]                 -0.4445      0.340     -1.309      0.191      -1.112       0.223\n",
      "category[T.TOOLS]                  -0.5949      0.325     -1.833      0.067      -1.232       0.043\n",
      "category[T.TRAVEL_AND_LOCAL]       -0.7172      0.385     -1.865      0.063      -1.473       0.038\n",
      "category[T.VIDEO_PLAYERS]          -1.6363      0.625     -2.620      0.009      -2.863      -0.409\n",
      "category[T.WEATHER]                -0.3924      0.383     -1.024      0.306      -1.145       0.360\n",
      "cont_rating                         0.0085      0.006      1.503      0.134      -0.003       0.020\n",
      "reviews                          1.783e-06   1.28e-06      1.392      0.164   -7.33e-07     4.3e-06\n",
      "size                                0.0005      0.001      0.463      0.643      -0.002       0.003\n",
      "installs                        -4.459e-08   7.97e-08     -0.559      0.576   -2.01e-07    1.12e-07\n",
      "aversion                            0.0524      0.022      2.376      0.018       0.009       0.096\n",
      "name_length                        -0.0003      0.002     -0.111      0.912      -0.005       0.004\n",
      "price                              -0.0014      0.004     -0.397      0.692      -0.008       0.006\n",
      "==============================================================================\n",
      "Omnibus:                      226.634   Durbin-Watson:                   1.853\n",
      "Prob(Omnibus):                  0.000   Jarque-Bera (JB):             1118.955\n",
      "Skew:                          -1.751   Prob(JB):                    1.05e-243\n",
      "Kurtosis:                       8.967   Cond. No.                     3.49e+07\n",
      "==============================================================================\n",
      "\n",
      "Warnings:\n",
      "[1] Standard Errors assume that the covariance matrix of the errors is correctly specified.\n",
      "[2] The condition number is large, 3.49e+07. This might indicate that there are\n",
      "strong multicollinearity or other numerical problems.\n"
     ]
    }
   ],
   "source": [
    "result = sm.ols(formula=\"rating ~ cont_rating + reviews + size + category + installs + aversion + name_length + price\", data=android_paid).fit()\n",
    "print(result.summary())"
   ]
  },
  {
   "cell_type": "code",
   "execution_count": 139,
   "metadata": {},
   "outputs": [
    {
     "name": "stdout",
     "output_type": "stream",
     "text": [
      "                            OLS Regression Results                            \n",
      "==============================================================================\n",
      "Dep. Variable:                   size   R-squared:                       0.248\n",
      "Model:                            OLS   Adj. R-squared:                  0.201\n",
      "Method:                 Least Squares   F-statistic:                     5.272\n",
      "Date:                Wed, 09 Jan 2019   Prob (F-statistic):           1.18e-17\n",
      "Time:                        10:51:43   Log-Likelihood:                -2470.9\n",
      "No. Observations:                 561   AIC:                             5010.\n",
      "Df Residuals:                     527   BIC:                             5157.\n",
      "Df Model:                          33                                         \n",
      "Covariance Type:            nonrobust                                         \n",
      "===================================================================================================\n",
      "                                      coef    std err          t      P>|t|      [0.025      0.975]\n",
      "---------------------------------------------------------------------------------------------------\n",
      "Intercept                         -10.7297     14.892     -0.720      0.472     -39.985      18.526\n",
      "category[T.BOOKS_AND_REFERENCE]    17.6212     14.311      1.231      0.219     -10.492      45.735\n",
      "category[T.BUSINESS]               11.1738     13.643      0.819      0.413     -15.628      37.976\n",
      "category[T.COMMUNICATION]           3.2749     12.969      0.253      0.801     -22.202      28.751\n",
      "category[T.DATING]                  2.8637     19.051      0.150      0.881     -34.562      40.289\n",
      "category[T.EDUCATION]              31.6911     15.778      2.009      0.045       0.696      62.686\n",
      "category[T.ENTERTAINMENT]          39.2387     24.103      1.628      0.104      -8.111      86.588\n",
      "category[T.FAMILY]                 23.8576     12.212      1.954      0.051      -0.133      47.848\n",
      "category[T.FINANCE]                 3.1581     14.361      0.220      0.826     -25.055      31.371\n",
      "category[T.FOOD_AND_DRINK]         -3.1456     23.732     -0.133      0.895     -49.766      43.475\n",
      "category[T.GAME]                   27.1809     12.373      2.197      0.028       2.874      51.488\n",
      "category[T.HEALTH_AND_FITNESS]     12.8849     14.098      0.914      0.361     -14.811      40.581\n",
      "category[T.LIFESTYLE]               7.2242     13.478      0.536      0.592     -19.252      33.701\n",
      "category[T.MAPS_AND_NAVIGATION]    17.7712     15.814      1.124      0.262     -13.294      48.837\n",
      "category[T.MEDICAL]                12.0548     12.336      0.977      0.329     -12.179      36.288\n",
      "category[T.NEWS_AND_MAGAZINES]      4.2249     18.778      0.225      0.822     -32.665      41.115\n",
      "category[T.PARENTING]               1.8054     23.668      0.076      0.939     -44.690      48.301\n",
      "category[T.PERSONALIZATION]        12.9245     12.283      1.052      0.293     -11.205      37.054\n",
      "category[T.PHOTOGRAPHY]             8.2179     13.235      0.621      0.535     -17.783      34.218\n",
      "category[T.PRODUCTIVITY]            2.7566     13.209      0.209      0.835     -23.193      28.706\n",
      "category[T.SHOPPING]               -2.3543     18.887     -0.125      0.901     -39.457      34.748\n",
      "category[T.SOCIAL]                 -3.7845     18.955     -0.200      0.842     -41.021      33.452\n",
      "category[T.SPORTS]                 17.4781     12.907      1.354      0.176      -7.877      42.833\n",
      "category[T.TOOLS]                   0.5812     12.372      0.047      0.963     -23.724      24.887\n",
      "category[T.TRAVEL_AND_LOCAL]       27.7905     14.611      1.902      0.058      -0.913      56.494\n",
      "category[T.VIDEO_PLAYERS]          -2.0746     23.889     -0.087      0.931     -49.004      44.855\n",
      "category[T.WEATHER]                 7.1245     14.572      0.489      0.625     -21.502      35.751\n",
      "cont_rating                         0.4517      0.216      2.095      0.037       0.028       0.875\n",
      "reviews                          8.384e-05   4.86e-05      1.725      0.085   -1.17e-05       0.000\n",
      "installs                         -1.26e-06   3.03e-06     -0.416      0.678   -7.21e-06    4.69e-06\n",
      "rating                              0.7665      1.655      0.463      0.643      -2.485       4.018\n",
      "aversion                            3.1285      0.831      3.766      0.000       1.497       4.760\n",
      "name_length                        -0.0196      0.091     -0.214      0.830      -0.199       0.160\n",
      "price                               0.1817      0.135      1.344      0.179      -0.084       0.447\n",
      "==============================================================================\n",
      "Omnibus:                      105.611   Durbin-Watson:                   1.799\n",
      "Prob(Omnibus):                  0.000   Jarque-Bera (JB):              176.143\n",
      "Skew:                           1.151   Prob(JB):                     5.64e-39\n",
      "Kurtosis:                       4.495   Cond. No.                     3.50e+07\n",
      "==============================================================================\n",
      "\n",
      "Warnings:\n",
      "[1] Standard Errors assume that the covariance matrix of the errors is correctly specified.\n",
      "[2] The condition number is large, 3.5e+07. This might indicate that there are\n",
      "strong multicollinearity or other numerical problems.\n"
     ]
    }
   ],
   "source": [
    "result = sm.ols(formula=\"size ~ cont_rating + reviews + installs + category + rating + aversion + name_length + price\", data=android_paid).fit()\n",
    "print(result.summary())"
   ]
  },
  {
   "cell_type": "code",
   "execution_count": 140,
   "metadata": {},
   "outputs": [
    {
     "name": "stdout",
     "output_type": "stream",
     "text": [
      "                            OLS Regression Results                            \n",
      "==============================================================================\n",
      "Dep. Variable:                  price   R-squared:                       0.217\n",
      "Model:                            OLS   Adj. R-squared:                  0.168\n",
      "Method:                 Least Squares   F-statistic:                     4.417\n",
      "Date:                Wed, 09 Jan 2019   Prob (F-statistic):           7.53e-14\n",
      "Time:                        10:51:43   Log-Likelihood:                -1834.8\n",
      "No. Observations:                 561   AIC:                             3738.\n",
      "Df Residuals:                     527   BIC:                             3885.\n",
      "Df Model:                          33                                         \n",
      "Covariance Type:            nonrobust                                         \n",
      "===================================================================================================\n",
      "                                      coef    std err          t      P>|t|      [0.025      0.975]\n",
      "---------------------------------------------------------------------------------------------------\n",
      "Intercept                           1.8220      4.794      0.380      0.704      -7.596      11.240\n",
      "category[T.BOOKS_AND_REFERENCE]     1.0749      4.612      0.233      0.816      -7.984      10.134\n",
      "category[T.BUSINESS]                4.1571      4.389      0.947      0.344      -4.466      12.780\n",
      "category[T.COMMUNICATION]           0.6352      4.173      0.152      0.879      -7.563       8.834\n",
      "category[T.DATING]                  4.3889      6.128      0.716      0.474      -7.649      16.427\n",
      "category[T.EDUCATION]               1.9416      5.096      0.381      0.703      -8.069      11.952\n",
      "category[T.ENTERTAINMENT]          -1.1875      7.775     -0.153      0.879     -16.462      14.087\n",
      "category[T.FAMILY]                  1.9068      3.943      0.484      0.629      -5.839       9.653\n",
      "category[T.FINANCE]                 3.7206      4.619      0.806      0.421      -5.353      12.794\n",
      "category[T.FOOD_AND_DRINK]          2.9956      7.636      0.392      0.695     -12.005      17.996\n",
      "category[T.GAME]                    0.8546      4.000      0.214      0.831      -7.003       8.712\n",
      "category[T.HEALTH_AND_FITNESS]      2.0498      4.539      0.452      0.652      -6.868      10.968\n",
      "category[T.LIFESTYLE]               4.3966      4.334      1.014      0.311      -4.117      12.911\n",
      "category[T.MAPS_AND_NAVIGATION]     1.3391      5.095      0.263      0.793      -8.669      11.347\n",
      "category[T.MEDICAL]                10.4868      3.947      2.657      0.008       2.733      18.240\n",
      "category[T.NEWS_AND_MAGAZINES]     -0.9460      6.043     -0.157      0.876     -12.817      10.925\n",
      "category[T.PARENTING]               2.9840      7.615      0.392      0.695     -11.976      17.944\n",
      "category[T.PERSONALIZATION]        -0.3640      3.957     -0.092      0.927      -8.137       7.409\n",
      "category[T.PHOTOGRAPHY]             3.1854      4.258      0.748      0.455      -5.180      11.551\n",
      "category[T.PRODUCTIVITY]            1.7649      4.250      0.415      0.678      -6.584      10.114\n",
      "category[T.SHOPPING]                0.7609      6.078      0.125      0.900     -11.179      12.700\n",
      "category[T.SOCIAL]                 -1.5686      6.099     -0.257      0.797     -13.551      10.414\n",
      "category[T.SPORTS]                  1.8311      4.160      0.440      0.660      -6.341      10.003\n",
      "category[T.TOOLS]                   1.4581      3.981      0.366      0.714      -6.362       9.278\n",
      "category[T.TRAVEL_AND_LOCAL]        1.8591      4.717      0.394      0.694      -7.408      11.126\n",
      "category[T.VIDEO_PLAYERS]          -1.2463      7.687     -0.162      0.871     -16.348      13.855\n",
      "category[T.WEATHER]                 1.7796      4.690      0.379      0.704      -7.433      10.992\n",
      "cont_rating                         0.0791      0.070      1.137      0.256      -0.058       0.216\n",
      "reviews                          1.993e-06   1.57e-05      0.127      0.899   -2.88e-05    3.28e-05\n",
      "installs                        -6.788e-07   9.75e-07     -0.696      0.486   -2.59e-06    1.24e-06\n",
      "rating                             -0.2113      0.533     -0.397      0.692      -1.258       0.835\n",
      "aversion                            0.2524      0.271      0.933      0.351      -0.279       0.784\n",
      "name_length                         0.0008      0.029      0.027      0.979      -0.057       0.059\n",
      "size                                0.0188      0.014      1.344      0.179      -0.009       0.046\n",
      "==============================================================================\n",
      "Omnibus:                      621.634   Durbin-Watson:                   1.954\n",
      "Prob(Omnibus):                  0.000   Jarque-Bera (JB):            49350.134\n",
      "Skew:                           5.062   Prob(JB):                         0.00\n",
      "Kurtosis:                      47.819   Cond. No.                     3.51e+07\n",
      "==============================================================================\n",
      "\n",
      "Warnings:\n",
      "[1] Standard Errors assume that the covariance matrix of the errors is correctly specified.\n",
      "[2] The condition number is large, 3.51e+07. This might indicate that there are\n",
      "strong multicollinearity or other numerical problems.\n"
     ]
    }
   ],
   "source": [
    "result = sm.ols(formula=\"price ~ cont_rating + reviews + installs + category + rating + aversion + name_length + size\", data=android_paid).fit()\n",
    "print(result.summary())"
   ]
  },
  {
   "cell_type": "markdown",
   "metadata": {},
   "source": [
    "<font size=\"4\"><b>regression for paid FAMILY apps</b></font><br>"
   ]
  },
  {
   "cell_type": "code",
   "execution_count": 141,
   "metadata": {},
   "outputs": [
    {
     "name": "stdout",
     "output_type": "stream",
     "text": [
      "                            OLS Regression Results                            \n",
      "==============================================================================\n",
      "Dep. Variable:                 rating   R-squared:                       0.065\n",
      "Model:                            OLS   Adj. R-squared:                  0.018\n",
      "Method:                 Least Squares   F-statistic:                     1.369\n",
      "Date:                Wed, 09 Jan 2019   Prob (F-statistic):              0.223\n",
      "Time:                        10:51:43   Log-Likelihood:                -124.69\n",
      "No. Observations:                 145   AIC:                             265.4\n",
      "Df Residuals:                     137   BIC:                             289.2\n",
      "Df Model:                           7                                         \n",
      "Covariance Type:            nonrobust                                         \n",
      "===============================================================================\n",
      "                  coef    std err          t      P>|t|      [0.025      0.975]\n",
      "-------------------------------------------------------------------------------\n",
      "Intercept       4.0807      0.226     18.026      0.000       3.633       4.528\n",
      "cont_rating     0.0054      0.009      0.570      0.570      -0.013       0.024\n",
      "reviews      2.709e-06   3.49e-06      0.776      0.439   -4.19e-06    9.61e-06\n",
      "size           -0.0011      0.002     -0.515      0.607      -0.005       0.003\n",
      "installs     5.089e-08   4.76e-07      0.107      0.915   -8.91e-07    9.93e-07\n",
      "aversion        0.0596      0.054      1.110      0.269      -0.047       0.166\n",
      "name_length    -0.0050      0.006     -0.795      0.428      -0.017       0.007\n",
      "price           0.0247      0.012      2.101      0.038       0.001       0.048\n",
      "==============================================================================\n",
      "Omnibus:                      112.816   Durbin-Watson:                   2.168\n",
      "Prob(Omnibus):                  0.000   Jarque-Bera (JB):             1010.714\n",
      "Skew:                          -2.787   Prob(JB):                    3.36e-220\n",
      "Kurtosis:                      14.671   Cond. No.                     1.00e+06\n",
      "==============================================================================\n",
      "\n",
      "Warnings:\n",
      "[1] Standard Errors assume that the covariance matrix of the errors is correctly specified.\n",
      "[2] The condition number is large,  1e+06. This might indicate that there are\n",
      "strong multicollinearity or other numerical problems.\n"
     ]
    }
   ],
   "source": [
    "result = sm.ols(formula=\"rating ~ cont_rating + reviews + size + installs + aversion + name_length + price\", data=android_paid_family).fit()\n",
    "print(result.summary())"
   ]
  },
  {
   "cell_type": "code",
   "execution_count": 142,
   "metadata": {},
   "outputs": [
    {
     "name": "stdout",
     "output_type": "stream",
     "text": [
      "                            OLS Regression Results                            \n",
      "==============================================================================\n",
      "Dep. Variable:                reviews   R-squared:                       0.737\n",
      "Model:                            OLS   Adj. R-squared:                  0.724\n",
      "Method:                 Least Squares   F-statistic:                     54.95\n",
      "Date:                Wed, 09 Jan 2019   Prob (F-statistic):           9.87e-37\n",
      "Time:                        10:51:43   Log-Likelihood:                -1589.7\n",
      "No. Observations:                 145   AIC:                             3195.\n",
      "Df Residuals:                     137   BIC:                             3219.\n",
      "Df Model:                           7                                         \n",
      "Covariance Type:            nonrobust                                         \n",
      "===============================================================================\n",
      "                  coef    std err          t      P>|t|      [0.025      0.975]\n",
      "-------------------------------------------------------------------------------\n",
      "Intercept   -3447.1382   1.01e+04     -0.340      0.735   -2.35e+04    1.66e+04\n",
      "cont_rating    35.8730    229.930      0.156      0.876    -418.799     490.545\n",
      "rating       1615.9118   2082.078      0.776      0.439   -2501.254    5733.078\n",
      "size           81.7926     53.150      1.539      0.126     -23.308     186.893\n",
      "installs        0.1146      0.006     18.244      0.000       0.102       0.127\n",
      "aversion    -1141.7607   1312.971     -0.870      0.386   -3738.071    1454.549\n",
      "name_length   -98.2141    153.883     -0.638      0.524    -402.507     206.079\n",
      "price           6.9391    292.259      0.024      0.981    -570.983     584.861\n",
      "==============================================================================\n",
      "Omnibus:                       68.165   Durbin-Watson:                   2.212\n",
      "Prob(Omnibus):                  0.000   Jarque-Bera (JB):             3216.349\n",
      "Skew:                          -0.728   Prob(JB):                         0.00\n",
      "Kurtosis:                      26.027   Cond. No.                     1.83e+06\n",
      "==============================================================================\n",
      "\n",
      "Warnings:\n",
      "[1] Standard Errors assume that the covariance matrix of the errors is correctly specified.\n",
      "[2] The condition number is large, 1.83e+06. This might indicate that there are\n",
      "strong multicollinearity or other numerical problems.\n"
     ]
    }
   ],
   "source": [
    "result = sm.ols(formula=\"reviews ~ cont_rating + rating + size + installs + aversion + name_length + price\", data=android_paid_family).fit()\n",
    "print(result.summary())"
   ]
  },
  {
   "cell_type": "code",
   "execution_count": 143,
   "metadata": {},
   "outputs": [
    {
     "name": "stdout",
     "output_type": "stream",
     "text": [
      "                            OLS Regression Results                            \n",
      "==============================================================================\n",
      "Dep. Variable:               installs   R-squared:                       0.733\n",
      "Model:                            OLS   Adj. R-squared:                  0.719\n",
      "Method:                 Least Squares   F-statistic:                     53.65\n",
      "Date:                Wed, 09 Jan 2019   Prob (F-statistic):           3.25e-36\n",
      "Time:                        10:51:43   Log-Likelihood:                -1878.7\n",
      "No. Observations:                 145   AIC:                             3773.\n",
      "Df Residuals:                     137   BIC:                             3797.\n",
      "Df Model:                           7                                         \n",
      "Covariance Type:            nonrobust                                         \n",
      "===============================================================================\n",
      "                  coef    std err          t      P>|t|      [0.025      0.975]\n",
      "-------------------------------------------------------------------------------\n",
      "Intercept    2.022e+04   7.45e+04      0.271      0.787   -1.27e+05    1.68e+05\n",
      "cont_rating   983.0870   1686.063      0.583      0.561   -2350.987    4317.161\n",
      "reviews         6.1790      0.339     18.244      0.000       5.509       6.849\n",
      "size          -62.0332    393.515     -0.158      0.875    -840.183     716.116\n",
      "rating       1636.0561   1.53e+04      0.107      0.915   -2.87e+04    3.19e+04\n",
      "aversion     1409.8335   9664.819      0.146      0.884   -1.77e+04    2.05e+04\n",
      "name_length  -124.8978   1131.341     -0.110      0.912   -2362.046    2112.250\n",
      "price       -2214.1368   2137.231     -1.036      0.302   -6440.363    2012.090\n",
      "==============================================================================\n",
      "Omnibus:                      190.281   Durbin-Watson:                   2.104\n",
      "Prob(Omnibus):                  0.000   Jarque-Bera (JB):             8547.390\n",
      "Skew:                           5.112   Prob(JB):                         0.00\n",
      "Kurtosis:                      39.197   Cond. No.                     2.47e+05\n",
      "==============================================================================\n",
      "\n",
      "Warnings:\n",
      "[1] Standard Errors assume that the covariance matrix of the errors is correctly specified.\n",
      "[2] The condition number is large, 2.47e+05. This might indicate that there are\n",
      "strong multicollinearity or other numerical problems.\n"
     ]
    }
   ],
   "source": [
    "result = sm.ols(formula=\"installs ~ cont_rating + reviews + size + rating + aversion + name_length + price\", data=android_paid_family).fit()\n",
    "print(result.summary())"
   ]
  },
  {
   "cell_type": "code",
   "execution_count": 144,
   "metadata": {},
   "outputs": [
    {
     "name": "stdout",
     "output_type": "stream",
     "text": [
      "                            OLS Regression Results                            \n",
      "==============================================================================\n",
      "Dep. Variable:                   size   R-squared:                       0.121\n",
      "Model:                            OLS   Adj. R-squared:                  0.076\n",
      "Method:                 Least Squares   F-statistic:                     2.691\n",
      "Date:                Wed, 09 Jan 2019   Prob (F-statistic):             0.0121\n",
      "Time:                        10:51:44   Log-Likelihood:                -655.63\n",
      "No. Observations:                 145   AIC:                             1327.\n",
      "Df Residuals:                     137   BIC:                             1351.\n",
      "Df Model:                           7                                         \n",
      "Covariance Type:            nonrobust                                         \n",
      "===============================================================================\n",
      "                  coef    std err          t      P>|t|      [0.025      0.975]\n",
      "-------------------------------------------------------------------------------\n",
      "Intercept      11.7736     16.149      0.729      0.467     -20.160      43.707\n",
      "cont_rating    -0.0011      0.366     -0.003      0.998      -0.726       0.724\n",
      "reviews         0.0002      0.000      1.539      0.126   -5.92e-05       0.000\n",
      "installs    -2.923e-06   1.85e-05     -0.158      0.875   -3.96e-05    3.37e-05\n",
      "rating         -1.7124      3.322     -0.515      0.607      -8.282       4.857\n",
      "aversion        6.9820      2.012      3.471      0.001       3.004      10.960\n",
      "name_length    -0.0712      0.246     -0.290      0.772      -0.557       0.414\n",
      "price           0.4176      0.464      0.899      0.370      -0.501       1.336\n",
      "==============================================================================\n",
      "Omnibus:                       12.612   Durbin-Watson:                   2.049\n",
      "Prob(Omnibus):                  0.002   Jarque-Bera (JB):               14.189\n",
      "Skew:                           0.756   Prob(JB):                     0.000830\n",
      "Kurtosis:                       2.746   Cond. No.                     1.84e+06\n",
      "==============================================================================\n",
      "\n",
      "Warnings:\n",
      "[1] Standard Errors assume that the covariance matrix of the errors is correctly specified.\n",
      "[2] The condition number is large, 1.84e+06. This might indicate that there are\n",
      "strong multicollinearity or other numerical problems.\n"
     ]
    }
   ],
   "source": [
    "result = sm.ols(formula=\"size ~ cont_rating + reviews + installs + rating + aversion + name_length + price\", data=android_paid_family).fit()\n",
    "print(result.summary())"
   ]
  },
  {
   "cell_type": "code",
   "execution_count": 145,
   "metadata": {},
   "outputs": [
    {
     "name": "stdout",
     "output_type": "stream",
     "text": [
      "                            OLS Regression Results                            \n",
      "==============================================================================\n",
      "Dep. Variable:                  price   R-squared:                       0.112\n",
      "Model:                            OLS   Adj. R-squared:                  0.067\n",
      "Method:                 Least Squares   F-statistic:                     2.466\n",
      "Date:                Wed, 09 Jan 2019   Prob (F-statistic):             0.0206\n",
      "Time:                        10:51:44   Log-Likelihood:                -409.71\n",
      "No. Observations:                 145   AIC:                             835.4\n",
      "Df Residuals:                     137   BIC:                             859.2\n",
      "Df Model:                           7                                         \n",
      "Covariance Type:            nonrobust                                         \n",
      "===============================================================================\n",
      "                  coef    std err          t      P>|t|      [0.025      0.975]\n",
      "-------------------------------------------------------------------------------\n",
      "Intercept      -1.5613      2.965     -0.527      0.599      -7.424       4.302\n",
      "cont_rating     0.1919      0.065      2.944      0.004       0.063       0.321\n",
      "reviews       5.93e-07    2.5e-05      0.024      0.981   -4.88e-05       5e-05\n",
      "installs    -3.511e-06   3.39e-06     -1.036      0.302   -1.02e-05    3.19e-06\n",
      "rating          1.2611      0.600      2.101      0.038       0.074       2.448\n",
      "aversion       -0.1277      0.385     -0.332      0.740      -0.888       0.633\n",
      "name_length     0.0104      0.045      0.232      0.817      -0.079       0.100\n",
      "size            0.0141      0.016      0.899      0.370      -0.017       0.045\n",
      "==============================================================================\n",
      "Omnibus:                       87.748   Durbin-Watson:                   1.481\n",
      "Prob(Omnibus):                  0.000   Jarque-Bera (JB):              398.492\n",
      "Skew:                           2.300   Prob(JB):                     2.94e-87\n",
      "Kurtosis:                       9.693   Cond. No.                     1.84e+06\n",
      "==============================================================================\n",
      "\n",
      "Warnings:\n",
      "[1] Standard Errors assume that the covariance matrix of the errors is correctly specified.\n",
      "[2] The condition number is large, 1.84e+06. This might indicate that there are\n",
      "strong multicollinearity or other numerical problems.\n"
     ]
    }
   ],
   "source": [
    "result = sm.ols(formula=\"price ~ cont_rating + reviews + installs + rating + aversion + name_length + size\", data=android_paid_family).fit()\n",
    "print(result.summary())"
   ]
  },
  {
   "cell_type": "markdown",
   "metadata": {},
   "source": [
    "<font size=\"4\"><b>regression for paid GAME apps</b></font><br>"
   ]
  },
  {
   "cell_type": "code",
   "execution_count": 146,
   "metadata": {},
   "outputs": [
    {
     "name": "stdout",
     "output_type": "stream",
     "text": [
      "                            OLS Regression Results                            \n",
      "==============================================================================\n",
      "Dep. Variable:                 rating   R-squared:                       0.111\n",
      "Model:                            OLS   Adj. R-squared:                  0.019\n",
      "Method:                 Least Squares   F-statistic:                     1.199\n",
      "Date:                Wed, 09 Jan 2019   Prob (F-statistic):              0.315\n",
      "Time:                        10:51:44   Log-Likelihood:                -24.550\n",
      "No. Observations:                  75   AIC:                             65.10\n",
      "Df Residuals:                      67   BIC:                             83.64\n",
      "Df Model:                           7                                         \n",
      "Covariance Type:            nonrobust                                         \n",
      "===============================================================================\n",
      "                  coef    std err          t      P>|t|      [0.025      0.975]\n",
      "-------------------------------------------------------------------------------\n",
      "Intercept       4.5972      0.166     27.705      0.000       4.266       4.928\n",
      "cont_rating     0.0093      0.007      1.285      0.203      -0.005       0.024\n",
      "reviews      2.245e-07   1.15e-06      0.196      0.846   -2.07e-06    2.52e-06\n",
      "size            0.0008      0.002      0.457      0.649      -0.003       0.004\n",
      "installs     3.284e-09   6.11e-08      0.054      0.957   -1.19e-07    1.25e-07\n",
      "aversion       -0.0271      0.037     -0.726      0.470      -0.102       0.047\n",
      "name_length    -0.0114      0.005     -2.475      0.016      -0.021      -0.002\n",
      "price           0.0048      0.014      0.344      0.732      -0.023       0.033\n",
      "==============================================================================\n",
      "Omnibus:                       14.114   Durbin-Watson:                   2.212\n",
      "Prob(Omnibus):                  0.001   Jarque-Bera (JB):               15.585\n",
      "Skew:                          -0.968   Prob(JB):                     0.000413\n",
      "Kurtosis:                       4.112   Cond. No.                     4.93e+06\n",
      "==============================================================================\n",
      "\n",
      "Warnings:\n",
      "[1] Standard Errors assume that the covariance matrix of the errors is correctly specified.\n",
      "[2] The condition number is large, 4.93e+06. This might indicate that there are\n",
      "strong multicollinearity or other numerical problems.\n"
     ]
    }
   ],
   "source": [
    "result = sm.ols(formula=\"rating ~ cont_rating + reviews + size + installs + aversion + name_length + price\", data=android_paid_game).fit()\n",
    "print(result.summary())"
   ]
  },
  {
   "cell_type": "code",
   "execution_count": 147,
   "metadata": {},
   "outputs": [
    {
     "name": "stdout",
     "output_type": "stream",
     "text": [
      "                            OLS Regression Results                            \n",
      "==============================================================================\n",
      "Dep. Variable:                reviews   R-squared:                       0.674\n",
      "Model:                            OLS   Adj. R-squared:                  0.640\n",
      "Method:                 Least Squares   F-statistic:                     19.82\n",
      "Date:                Wed, 09 Jan 2019   Prob (F-statistic):           4.09e-14\n",
      "Time:                        10:51:45   Log-Likelihood:                -892.65\n",
      "No. Observations:                  75   AIC:                             1801.\n",
      "Df Residuals:                      67   BIC:                             1820.\n",
      "Df Model:                           7                                         \n",
      "Covariance Type:            nonrobust                                         \n",
      "===============================================================================\n",
      "                  coef    std err          t      P>|t|      [0.025      0.975]\n",
      "-------------------------------------------------------------------------------\n",
      "Intercept   -1366.3896   6.23e+04     -0.022      0.983   -1.26e+05    1.23e+05\n",
      "cont_rating   990.7733    767.410      1.291      0.201    -540.983    2522.530\n",
      "rating       2540.1863    1.3e+04      0.196      0.846   -2.34e+04    2.85e+04\n",
      "size          -31.0672    179.575     -0.173      0.863    -389.501     327.367\n",
      "installs        0.0425      0.004     10.834      0.000       0.035       0.050\n",
      "aversion    -3127.0786   3973.136     -0.787      0.434   -1.11e+04    4803.335\n",
      "name_length    40.0105    509.720      0.078      0.938    -977.395    1057.416\n",
      "price        1351.5482   1476.759      0.915      0.363   -1596.075    4299.172\n",
      "==============================================================================\n",
      "Omnibus:                      137.546   Durbin-Watson:                   2.071\n",
      "Prob(Omnibus):                  0.000   Jarque-Bera (JB):             7462.104\n",
      "Skew:                           6.379   Prob(JB):                         0.00\n",
      "Kurtosis:                      50.171   Cond. No.                     1.75e+07\n",
      "==============================================================================\n",
      "\n",
      "Warnings:\n",
      "[1] Standard Errors assume that the covariance matrix of the errors is correctly specified.\n",
      "[2] The condition number is large, 1.75e+07. This might indicate that there are\n",
      "strong multicollinearity or other numerical problems.\n"
     ]
    }
   ],
   "source": [
    "result = sm.ols(formula=\"reviews ~ cont_rating + rating + size + installs + aversion + name_length + price\", data=android_paid_game).fit()\n",
    "print(result.summary())"
   ]
  },
  {
   "cell_type": "code",
   "execution_count": 148,
   "metadata": {},
   "outputs": [
    {
     "name": "stdout",
     "output_type": "stream",
     "text": [
      "                            OLS Regression Results                            \n",
      "==============================================================================\n",
      "Dep. Variable:               installs   R-squared:                       0.671\n",
      "Model:                            OLS   Adj. R-squared:                  0.637\n",
      "Method:                 Least Squares   F-statistic:                     19.52\n",
      "Date:                Wed, 09 Jan 2019   Prob (F-statistic):           5.70e-14\n",
      "Time:                        10:51:45   Log-Likelihood:                -1112.7\n",
      "No. Observations:                  75   AIC:                             2241.\n",
      "Df Residuals:                      67   BIC:                             2260.\n",
      "Df Model:                           7                                         \n",
      "Covariance Type:            nonrobust                                         \n",
      "===============================================================================\n",
      "                  coef    std err          t      P>|t|      [0.025      0.975]\n",
      "-------------------------------------------------------------------------------\n",
      "Intercept    -4.68e+04   1.17e+06     -0.040      0.968   -2.38e+06    2.29e+06\n",
      "cont_rating  4047.6135   1.46e+04      0.277      0.782   -2.51e+04    3.32e+04\n",
      "reviews        14.9956      1.384     10.834      0.000      12.233      17.758\n",
      "size         -157.3151   3375.687     -0.047      0.963   -6895.215    6580.585\n",
      "rating       1.312e+04   2.44e+05      0.054      0.957   -4.74e+05    5.01e+05\n",
      "aversion     5.088e+04   7.48e+04      0.681      0.498   -9.83e+04       2e+05\n",
      "name_length -3834.6916   9568.800     -0.401      0.690   -2.29e+04    1.53e+04\n",
      "price       -4.522e+04   2.74e+04     -1.652      0.103   -9.99e+04    9421.969\n",
      "==============================================================================\n",
      "Omnibus:                       46.168   Durbin-Watson:                   1.840\n",
      "Prob(Omnibus):                  0.000   Jarque-Bera (JB):             2219.544\n",
      "Skew:                          -0.641   Prob(JB):                         0.00\n",
      "Kurtosis:                      29.620   Cond. No.                     9.61e+05\n",
      "==============================================================================\n",
      "\n",
      "Warnings:\n",
      "[1] Standard Errors assume that the covariance matrix of the errors is correctly specified.\n",
      "[2] The condition number is large, 9.61e+05. This might indicate that there are\n",
      "strong multicollinearity or other numerical problems.\n"
     ]
    }
   ],
   "source": [
    "result = sm.ols(formula=\"installs ~ cont_rating + reviews + size + rating + aversion + name_length + price\", data=android_paid_game).fit()\n",
    "print(result.summary())"
   ]
  },
  {
   "cell_type": "code",
   "execution_count": 149,
   "metadata": {},
   "outputs": [
    {
     "name": "stdout",
     "output_type": "stream",
     "text": [
      "                            OLS Regression Results                            \n",
      "==============================================================================\n",
      "Dep. Variable:                   size   R-squared:                       0.191\n",
      "Model:                            OLS   Adj. R-squared:                  0.106\n",
      "Method:                 Least Squares   F-statistic:                     2.260\n",
      "Date:                Wed, 09 Jan 2019   Prob (F-statistic):             0.0398\n",
      "Time:                        10:51:45   Log-Likelihood:                -345.66\n",
      "No. Observations:                  75   AIC:                             707.3\n",
      "Df Residuals:                      67   BIC:                             725.9\n",
      "Df Model:                           7                                         \n",
      "Covariance Type:            nonrobust                                         \n",
      "===============================================================================\n",
      "                  coef    std err          t      P>|t|      [0.025      0.975]\n",
      "-------------------------------------------------------------------------------\n",
      "Intercept       5.0401     42.365      0.119      0.906     -79.520      89.600\n",
      "cont_rating     1.0046      0.514      1.955      0.055      -0.021       2.031\n",
      "reviews     -1.437e-05   8.31e-05     -0.173      0.863      -0.000       0.000\n",
      "installs     -2.06e-07   4.42e-06     -0.047      0.963   -9.03e-06    8.62e-06\n",
      "rating          4.0304      8.825      0.457      0.649     -13.584      21.645\n",
      "aversion        1.9135      2.705      0.707      0.482      -3.485       7.312\n",
      "name_length     0.4978      0.341      1.458      0.149      -0.184       1.179\n",
      "price          -2.8275      0.950     -2.977      0.004      -4.723      -0.932\n",
      "==============================================================================\n",
      "Omnibus:                        4.682   Durbin-Watson:                   2.019\n",
      "Prob(Omnibus):                  0.096   Jarque-Bera (JB):                4.622\n",
      "Skew:                           0.568   Prob(JB):                       0.0992\n",
      "Kurtosis:                       2.567   Cond. No.                     1.75e+07\n",
      "==============================================================================\n",
      "\n",
      "Warnings:\n",
      "[1] Standard Errors assume that the covariance matrix of the errors is correctly specified.\n",
      "[2] The condition number is large, 1.75e+07. This might indicate that there are\n",
      "strong multicollinearity or other numerical problems.\n"
     ]
    }
   ],
   "source": [
    "result = sm.ols(formula=\"size ~ cont_rating + reviews + installs + rating + aversion + name_length + price\", data=android_paid_game).fit()\n",
    "print(result.summary())"
   ]
  },
  {
   "cell_type": "code",
   "execution_count": 150,
   "metadata": {},
   "outputs": [
    {
     "name": "stdout",
     "output_type": "stream",
     "text": [
      "                            OLS Regression Results                            \n",
      "==============================================================================\n",
      "Dep. Variable:                  price   R-squared:                       0.208\n",
      "Model:                            OLS   Adj. R-squared:                  0.125\n",
      "Method:                 Least Squares   F-statistic:                     2.512\n",
      "Date:                Wed, 09 Jan 2019   Prob (F-statistic):             0.0235\n",
      "Time:                        10:51:45   Log-Likelihood:                -187.18\n",
      "No. Observations:                  75   AIC:                             390.4\n",
      "Df Residuals:                      67   BIC:                             408.9\n",
      "Df Model:                           7                                         \n",
      "Covariance Type:            nonrobust                                         \n",
      "===============================================================================\n",
      "                  coef    std err          t      P>|t|      [0.025      0.975]\n",
      "-------------------------------------------------------------------------------\n",
      "Intercept       0.9484      5.120      0.185      0.854      -9.271      11.168\n",
      "cont_rating     0.1316      0.062      2.128      0.037       0.008       0.255\n",
      "reviews      9.136e-06   9.98e-06      0.915      0.363   -1.08e-05    2.91e-05\n",
      "installs    -8.653e-07   5.24e-07     -1.652      0.103   -1.91e-06     1.8e-07\n",
      "rating          0.3677      1.067      0.344      0.732      -1.763       2.498\n",
      "aversion        0.4582      0.323      1.417      0.161      -0.187       1.104\n",
      "name_length     0.0092      0.042      0.220      0.826      -0.074       0.093\n",
      "size           -0.0413      0.014     -2.977      0.004      -0.069      -0.014\n",
      "==============================================================================\n",
      "Omnibus:                       44.071   Durbin-Watson:                   1.603\n",
      "Prob(Omnibus):                  0.000   Jarque-Bera (JB):              134.518\n",
      "Skew:                           1.897   Prob(JB):                     6.16e-30\n",
      "Kurtosis:                       8.353   Cond. No.                     1.75e+07\n",
      "==============================================================================\n",
      "\n",
      "Warnings:\n",
      "[1] Standard Errors assume that the covariance matrix of the errors is correctly specified.\n",
      "[2] The condition number is large, 1.75e+07. This might indicate that there are\n",
      "strong multicollinearity or other numerical problems.\n"
     ]
    }
   ],
   "source": [
    "result = sm.ols(formula=\"price ~ cont_rating + reviews + installs + rating + aversion + name_length + size\", data=android_paid_game).fit()\n",
    "print(result.summary())"
   ]
  },
  {
   "cell_type": "markdown",
   "metadata": {},
   "source": [
    "<font size=\"4\"><b>regression for paid TOOLS apps</b></font><br>"
   ]
  },
  {
   "cell_type": "code",
   "execution_count": 151,
   "metadata": {},
   "outputs": [
    {
     "name": "stdout",
     "output_type": "stream",
     "text": [
      "                            OLS Regression Results                            \n",
      "==============================================================================\n",
      "Dep. Variable:                 rating   R-squared:                       0.139\n",
      "Model:                            OLS   Adj. R-squared:                  0.032\n",
      "Method:                 Least Squares   F-statistic:                     1.296\n",
      "Date:                Wed, 09 Jan 2019   Prob (F-statistic):              0.277\n",
      "Time:                        10:51:46   Log-Likelihood:                -50.644\n",
      "No. Observations:                  55   AIC:                             115.3\n",
      "Df Residuals:                      48   BIC:                             129.3\n",
      "Df Model:                           6                                         \n",
      "Covariance Type:            nonrobust                                         \n",
      "===============================================================================\n",
      "                  coef    std err          t      P>|t|      [0.025      0.975]\n",
      "-------------------------------------------------------------------------------\n",
      "Intercept       3.7317      0.331     11.272      0.000       3.066       4.397\n",
      "cont_rating -5.241e-13   4.63e-14    -11.309      0.000   -6.17e-13   -4.31e-13\n",
      "reviews      -2.65e-07   2.28e-05     -0.012      0.991   -4.61e-05    4.56e-05\n",
      "size           -0.0033      0.018     -0.181      0.857      -0.040       0.033\n",
      "installs     5.452e-06   8.13e-06      0.670      0.506   -1.09e-05    2.18e-05\n",
      "aversion        0.1250      0.079      1.580      0.121      -0.034       0.284\n",
      "name_length     0.0025      0.009      0.282      0.779      -0.015       0.020\n",
      "price          -0.0396      0.033     -1.193      0.239      -0.106       0.027\n",
      "==============================================================================\n",
      "Omnibus:                       22.056   Durbin-Watson:                   1.857\n",
      "Prob(Omnibus):                  0.000   Jarque-Bera (JB):               33.309\n",
      "Skew:                          -1.392   Prob(JB):                     5.85e-08\n",
      "Kurtosis:                       5.604   Cond. No.                     1.05e+18\n",
      "==============================================================================\n",
      "\n",
      "Warnings:\n",
      "[1] Standard Errors assume that the covariance matrix of the errors is correctly specified.\n",
      "[2] The smallest eigenvalue is 2.38e-26. This might indicate that there are\n",
      "strong multicollinearity problems or that the design matrix is singular.\n"
     ]
    }
   ],
   "source": [
    "result = sm.ols(formula=\"rating ~ cont_rating + reviews + size + installs + aversion + name_length + price\", data=android_paid_tools).fit()\n",
    "print(result.summary())"
   ]
  },
  {
   "cell_type": "code",
   "execution_count": 152,
   "metadata": {},
   "outputs": [
    {
     "name": "stdout",
     "output_type": "stream",
     "text": [
      "                            OLS Regression Results                            \n",
      "==============================================================================\n",
      "Dep. Variable:                reviews   R-squared:                       0.755\n",
      "Model:                            OLS   Adj. R-squared:                  0.724\n",
      "Method:                 Least Squares   F-statistic:                     24.65\n",
      "Date:                Wed, 09 Jan 2019   Prob (F-statistic):           4.18e-13\n",
      "Time:                        10:51:46   Log-Likelihood:                -532.09\n",
      "No. Observations:                  55   AIC:                             1078.\n",
      "Df Residuals:                      48   BIC:                             1092.\n",
      "Df Model:                           6                                         \n",
      "Covariance Type:            nonrobust                                         \n",
      "===============================================================================\n",
      "                  coef    std err          t      P>|t|      [0.025      0.975]\n",
      "-------------------------------------------------------------------------------\n",
      "Intercept     166.2802   4004.154      0.042      0.967   -7884.612    8217.172\n",
      "cont_rating  1.849e-10   5.21e-09      0.035      0.972   -1.03e-08    1.07e-08\n",
      "rating        -10.6315    914.148     -0.012      0.991   -1848.650    1827.387\n",
      "size          412.9786     97.425      4.239      0.000     217.092     608.865\n",
      "installs        0.2688      0.034      7.853      0.000       0.200       0.338\n",
      "aversion     -684.7530    504.234     -1.358      0.181   -1698.583     329.077\n",
      "name_length     2.4321     56.163      0.043      0.966    -110.492     115.356\n",
      "price          13.6976    213.130      0.064      0.949    -414.829     442.224\n",
      "==============================================================================\n",
      "Omnibus:                       25.692   Durbin-Watson:                   1.816\n",
      "Prob(Omnibus):                  0.000   Jarque-Bera (JB):              334.250\n",
      "Skew:                           0.294   Prob(JB):                     2.62e-73\n",
      "Kurtosis:                      15.063   Cond. No.                     9.11e+17\n",
      "==============================================================================\n",
      "\n",
      "Warnings:\n",
      "[1] Standard Errors assume that the covariance matrix of the errors is correctly specified.\n",
      "[2] The smallest eigenvalue is 2.9e-26. This might indicate that there are\n",
      "strong multicollinearity problems or that the design matrix is singular.\n"
     ]
    }
   ],
   "source": [
    "result = sm.ols(formula=\"reviews ~ cont_rating + rating + size + installs + aversion + name_length + price\", data=android_paid_tools).fit()\n",
    "print(result.summary())"
   ]
  },
  {
   "cell_type": "code",
   "execution_count": 153,
   "metadata": {},
   "outputs": [
    {
     "name": "stdout",
     "output_type": "stream",
     "text": [
      "                            OLS Regression Results                            \n",
      "==============================================================================\n",
      "Dep. Variable:               installs   R-squared:                       0.690\n",
      "Model:                            OLS   Adj. R-squared:                  0.651\n",
      "Method:                 Least Squares   F-statistic:                     17.81\n",
      "Date:                Wed, 09 Jan 2019   Prob (F-statistic):           9.96e-11\n",
      "Time:                        10:51:47   Log-Likelihood:                -588.52\n",
      "No. Observations:                  55   AIC:                             1191.\n",
      "Df Residuals:                      48   BIC:                             1205.\n",
      "Df Model:                           6                                         \n",
      "Covariance Type:            nonrobust                                         \n",
      "===============================================================================\n",
      "                  coef    std err          t      P>|t|      [0.025      0.975]\n",
      "-------------------------------------------------------------------------------\n",
      "Intercept   -1.053e+04   1.11e+04     -0.951      0.346   -3.28e+04    1.17e+04\n",
      "cont_rating  4.033e-09   4.24e-09      0.951      0.347    -4.5e-09    1.26e-08\n",
      "reviews         2.0920      0.266      7.853      0.000       1.556       2.628\n",
      "size         -293.0684    315.804     -0.928      0.358    -928.036     341.899\n",
      "rating       1701.9005   2538.361      0.670      0.506   -3401.817    6805.618\n",
      "aversion     1473.1578   1417.579      1.039      0.304   -1377.076    4323.391\n",
      "name_length   176.0637    154.608      1.139      0.260    -134.797     486.924\n",
      "price         119.9968    594.346      0.202      0.841   -1075.016    1315.009\n",
      "==============================================================================\n",
      "Omnibus:                       83.678   Durbin-Watson:                   1.314\n",
      "Prob(Omnibus):                  0.000   Jarque-Bera (JB):             1313.452\n",
      "Skew:                           4.201   Prob(JB):                    6.13e-286\n",
      "Kurtosis:                      25.417   Cond. No.                     1.21e+18\n",
      "==============================================================================\n",
      "\n",
      "Warnings:\n",
      "[1] Standard Errors assume that the covariance matrix of the errors is correctly specified.\n",
      "[2] The smallest eigenvalue is 2.37e-27. This might indicate that there are\n",
      "strong multicollinearity problems or that the design matrix is singular.\n"
     ]
    }
   ],
   "source": [
    "result = sm.ols(formula=\"installs ~ cont_rating + reviews + size + rating+ aversion + name_length + price\", data=android_paid_tools).fit()\n",
    "print(result.summary())"
   ]
  },
  {
   "cell_type": "code",
   "execution_count": 154,
   "metadata": {},
   "outputs": [
    {
     "name": "stdout",
     "output_type": "stream",
     "text": [
      "                            OLS Regression Results                            \n",
      "==============================================================================\n",
      "Dep. Variable:                   size   R-squared:                       0.478\n",
      "Model:                            OLS   Adj. R-squared:                  0.413\n",
      "Method:                 Least Squares   F-statistic:                     7.336\n",
      "Date:                Wed, 09 Jan 2019   Prob (F-statistic):           1.34e-05\n",
      "Time:                        10:51:47   Log-Likelihood:                -165.04\n",
      "No. Observations:                  55   AIC:                             344.1\n",
      "Df Residuals:                      48   BIC:                             358.1\n",
      "Df Model:                           6                                         \n",
      "Covariance Type:            nonrobust                                         \n",
      "===============================================================================\n",
      "                  coef    std err          t      P>|t|      [0.025      0.975]\n",
      "-------------------------------------------------------------------------------\n",
      "Intercept       1.0274      5.058      0.203      0.840      -9.143      11.198\n",
      "cont_rating  2.098e-12   1.04e-11      0.202      0.841   -1.88e-11     2.3e-11\n",
      "reviews         0.0007      0.000      4.239      0.000       0.000       0.001\n",
      "installs    -6.014e-05   6.48e-05     -0.928      0.358      -0.000    7.02e-05\n",
      "rating         -0.2089      1.155     -0.181      0.857      -2.531       2.113\n",
      "aversion        1.3883      0.618      2.248      0.029       0.146       2.630\n",
      "name_length    -0.0856      0.070     -1.225      0.226      -0.226       0.055\n",
      "price           0.0722      0.269      0.268      0.790      -0.469       0.613\n",
      "==============================================================================\n",
      "Omnibus:                       81.116   Durbin-Watson:                   1.952\n",
      "Prob(Omnibus):                  0.000   Jarque-Bera (JB):             1030.542\n",
      "Skew:                           4.142   Prob(JB):                    1.66e-224\n",
      "Kurtosis:                      22.521   Cond. No.                     4.13e+17\n",
      "==============================================================================\n",
      "\n",
      "Warnings:\n",
      "[1] Standard Errors assume that the covariance matrix of the errors is correctly specified.\n",
      "[2] The smallest eigenvalue is 1.55e-25. This might indicate that there are\n",
      "strong multicollinearity problems or that the design matrix is singular.\n"
     ]
    }
   ],
   "source": [
    "result = sm.ols(formula=\"size ~ cont_rating + reviews + installs + rating+ aversion + name_length + price\", data=android_paid_tools).fit()\n",
    "print(result.summary())"
   ]
  },
  {
   "cell_type": "code",
   "execution_count": 155,
   "metadata": {},
   "outputs": [
    {
     "name": "stdout",
     "output_type": "stream",
     "text": [
      "                            OLS Regression Results                            \n",
      "==============================================================================\n",
      "Dep. Variable:                  price   R-squared:                       0.092\n",
      "Model:                            OLS   Adj. R-squared:                 -0.022\n",
      "Method:                 Least Squares   F-statistic:                    0.8086\n",
      "Date:                Wed, 09 Jan 2019   Prob (F-statistic):              0.568\n",
      "Time:                        10:51:47   Log-Likelihood:                -130.73\n",
      "No. Observations:                  55   AIC:                             275.5\n",
      "Df Residuals:                      48   BIC:                             289.5\n",
      "Df Model:                           6                                         \n",
      "Covariance Type:            nonrobust                                         \n",
      "===============================================================================\n",
      "                  coef    std err          t      P>|t|      [0.025      0.975]\n",
      "-------------------------------------------------------------------------------\n",
      "Intercept       7.2070      2.504      2.878      0.006       2.172      12.242\n",
      "cont_rating  1.157e-12   4.07e-13      2.845      0.007    3.39e-13    1.98e-12\n",
      "reviews      6.282e-06   9.77e-05      0.064      0.949      -0.000       0.000\n",
      "installs     7.071e-06    3.5e-05      0.202      0.841   -6.33e-05    7.75e-05\n",
      "rating         -0.7279      0.610     -1.193      0.239      -1.955       0.499\n",
      "aversion       -0.4720      0.341     -1.383      0.173      -1.158       0.214\n",
      "name_length     0.0241      0.038      0.637      0.527      -0.052       0.100\n",
      "size            0.0207      0.077      0.268      0.790      -0.135       0.176\n",
      "==============================================================================\n",
      "Omnibus:                       61.971   Durbin-Watson:                   2.188\n",
      "Prob(Omnibus):                  0.000   Jarque-Bera (JB):              403.454\n",
      "Skew:                           3.096   Prob(JB):                     2.46e-88\n",
      "Kurtosis:                      14.735   Cond. No.                     2.98e+17\n",
      "==============================================================================\n",
      "\n",
      "Warnings:\n",
      "[1] Standard Errors assume that the covariance matrix of the errors is correctly specified.\n",
      "[2] The smallest eigenvalue is 2.98e-25. This might indicate that there are\n",
      "strong multicollinearity problems or that the design matrix is singular.\n"
     ]
    }
   ],
   "source": [
    "result = sm.ols(formula=\"price ~ cont_rating + reviews + installs + rating+ aversion + name_length + size\", data=android_paid_tools).fit()\n",
    "print(result.summary())"
   ]
  },
  {
   "cell_type": "markdown",
   "metadata": {},
   "source": [
    "<font size=\"4\"><b>hypothesis 4: impact of age rating on popularity</b></font><br>"
   ]
  },
  {
   "cell_type": "code",
   "execution_count": 156,
   "metadata": {},
   "outputs": [
    {
     "data": {
      "text/plain": [
       "<seaborn.axisgrid.FacetGrid at 0x2d2ca8c3898>"
      ]
     },
     "execution_count": 156,
     "metadata": {},
     "output_type": "execute_result"
    },
    {
     "data": {
      "image/png": "[encoded data removed]",
      "text/plain": [
       "<Figure size 360x360 with 1 Axes>"
      ]
     },
     "metadata": {},
     "output_type": "display_data"
    }
   ],
   "source": [
    "#Reviews on content_rating -> Adults give less Reviews\n",
    "sns.catplot(x='cont_rating', y='reviews', data=android_reviews)"
   ]
  },
  {
   "cell_type": "code",
   "execution_count": 157,
   "metadata": {},
   "outputs": [
    {
     "ename": "SyntaxError",
     "evalue": "invalid syntax (<ipython-input-157-1989cbbc0086>, line 2)",
     "output_type": "error",
     "traceback": [
      "\u001b[1;36m  File \u001b[1;32m\"<ipython-input-157-1989cbbc0086>\"\u001b[1;36m, line \u001b[1;32m2\u001b[0m\n\u001b[1;33m    g = sns.catplot(x=\"cont_rating\", y=\"rating\", data=android_clean, kind='box':{showfliers= False})\u001b[0m\n\u001b[1;37m                                                                               ^\u001b[0m\n\u001b[1;31mSyntaxError\u001b[0m\u001b[1;31m:\u001b[0m invalid syntax\n"
     ]
    }
   ],
   "source": [
    "#Rating on content rating -> teens are giving better ratings\n",
    "g = sns.catplot(x=\"cont_rating\", y=\"rating\", data=android_clean, kind='box':{showfliers= False})"
   ]
  },
  {
   "cell_type": "markdown",
   "metadata": {},
   "source": [
    "<font size=\"4\"><b>hypothesis 5: correlation between needed android version and popularity</b></font><br>"
   ]
  },
  {
   "cell_type": "code",
   "execution_count": null,
   "metadata": {},
   "outputs": [],
   "source": [
    "g = sns.jointplot(x=\"aversion\", y=\"rating\", data=android_clean, kind='reg',\n",
    "                  joint_kws={'line_kws':{'color':'cyan'}})"
   ]
  },
  {
   "cell_type": "code",
   "execution_count": null,
   "metadata": {},
   "outputs": [],
   "source": [
    "g = sns.jointplot(x=\"aversion\", y=\"reviews\", data=android_reviews, kind='reg',\n",
    "                  joint_kws={'line_kws':{'color':'cyan'}})"
   ]
  },
  {
   "cell_type": "markdown",
   "metadata": {},
   "source": [
    "<font size=\"4\"><b>hypothesis 6: correlation between the length of the app name and popularity of the app</b></font><br>"
   ]
  },
  {
   "cell_type": "code",
   "execution_count": null,
   "metadata": {},
   "outputs": [],
   "source": [
    "#apps with names longer than 50 chars are less reviewed\n",
    "g = sns.jointplot(x=\"name_length\", y=\"reviews\", data=android_reviews, kind='reg',\n",
    "                  joint_kws={'line_kws':{'color':'cyan'}})"
   ]
  },
  {
   "cell_type": "code",
   "execution_count": null,
   "metadata": {},
   "outputs": [],
   "source": [
    "#better rated apps got longer names (Siehe 50iger und ca. 30iger Kante)\n",
    "g = sns.jointplot(x=\"name_length\", y=\"rating\", data=android_clean, kind='reg',\n",
    "                  joint_kws={'line_kws':{'color':'cyan'}})"
   ]
  },
  {
   "cell_type": "code",
   "execution_count": null,
   "metadata": {},
   "outputs": [],
   "source": [
    "N = 5\n",
    "appFree = (1461, 894, 574, 245, 211)\n",
    "appPaid = (145, 75, 55, 78, 63)\n",
    "\n",
    "ind = np.arange(N)    # the x locations for the groups\n",
    "width = 0.35       # the width of the bars: can also be len(x) sequence\n",
    "\n",
    "fig, ax = ptl.subplots(figsize=(20, 10))\n",
    "p1 = ptl.bar(ind, appFree, width)\n",
    "p2 = ptl.bar(ind, appPaid, width,\n",
    "             bottom=appFree)\n",
    "ptl.ylabel('Amount')\n",
    "ptl.title('Amount of free/paid Apps for top 5 categories')\n",
    "ptl.xticks(ind, ('FAMILY', 'GAME', 'TOOLS', 'MEDICAL', 'PERSONALIZATION'))\n",
    "ptl.legend((p1[0], p2[0]), ('Free', 'Paid'))\n",
    "\n",
    "\n",
    "ptl.show()"
   ]
  },
  {
   "cell_type": "code",
   "execution_count": null,
   "metadata": {},
   "outputs": [],
   "source": []
  }
 ],
 "metadata": {
  "kernelspec": {
   "display_name": "Python 3",
   "language": "python",
   "name": "python3"
  },
  "language_info": {
   "codemirror_mode": {
    "name": "ipython",
    "version": 3
   },
   "file_extension": ".py",
   "mimetype": "text/x-python",
   "name": "python",
   "nbconvert_exporter": "python",
   "pygments_lexer": "ipython3",
   "version": "3.6.5"
  }
 },
 "nbformat": 4,
 "nbformat_minor": 2
}
